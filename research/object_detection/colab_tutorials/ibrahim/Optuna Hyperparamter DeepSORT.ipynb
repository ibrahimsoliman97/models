{
 "cells": [
  {
   "cell_type": "markdown",
   "id": "d63da86e",
   "metadata": {},
   "source": [
    "### Optuna Hyperparamter DeepSORT"
   ]
  },
  {
   "cell_type": "code",
   "execution_count": 1,
   "id": "71004eda",
   "metadata": {
    "collapsed": true
   },
   "outputs": [
    {
     "name": "stdout",
     "output_type": "stream",
     "text": [
      "Collecting optuna\n",
      "  Downloading optuna-2.10.0-py3-none-any.whl (308 kB)\n",
      "     |████████████████████████████████| 308 kB 1.4 MB/s            \n",
      "\u001b[?25hRequirement already satisfied: PyYAML in /home/ubuntu/ibrahim/master/models/env/lib/python3.7/site-packages (from optuna) (6.0)\n",
      "Collecting sqlalchemy>=1.1.0\n",
      "  Downloading SQLAlchemy-1.4.31-cp37-cp37m-manylinux_2_5_x86_64.manylinux1_x86_64.manylinux_2_17_x86_64.manylinux2014_x86_64.whl (1.6 MB)\n",
      "     |████████████████████████████████| 1.6 MB 2.0 MB/s            \n",
      "\u001b[?25hRequirement already satisfied: scipy!=1.4.0 in /home/ubuntu/ibrahim/master/models/env/lib/python3.7/site-packages (from optuna) (1.4.1)\n",
      "Collecting cmaes>=0.8.2\n",
      "  Downloading cmaes-0.8.2-py3-none-any.whl (15 kB)\n",
      "Collecting alembic\n",
      "  Downloading alembic-1.7.6-py3-none-any.whl (210 kB)\n",
      "     |████████████████████████████████| 210 kB 1.7 MB/s            \n",
      "\u001b[?25hRequirement already satisfied: tqdm in /home/ubuntu/ibrahim/master/models/env/lib/python3.7/site-packages (from optuna) (4.62.3)\n",
      "Collecting cliff\n",
      "  Downloading cliff-3.10.0-py3-none-any.whl (80 kB)\n",
      "     |████████████████████████████████| 80 kB 559 kB/s             \n",
      "\u001b[?25hCollecting colorlog\n",
      "  Downloading colorlog-6.6.0-py2.py3-none-any.whl (11 kB)\n",
      "Requirement already satisfied: numpy in /home/ubuntu/ibrahim/master/models/env/lib/python3.7/site-packages (from optuna) (1.21.5)\n",
      "Requirement already satisfied: packaging>=20.0 in /home/ubuntu/ibrahim/master/models/env/lib/python3.7/site-packages (from optuna) (21.3)\n",
      "Requirement already satisfied: pyparsing!=3.0.5,>=2.0.2 in /home/ubuntu/ibrahim/master/models/env/lib/python3.7/site-packages (from packaging>=20.0->optuna) (2.4.7)\n",
      "Collecting greenlet!=0.4.17\n",
      "  Downloading greenlet-1.1.2-cp37-cp37m-manylinux_2_17_x86_64.manylinux2014_x86_64.whl (150 kB)\n",
      "     |████████████████████████████████| 150 kB 1.4 MB/s            \n",
      "\u001b[?25hRequirement already satisfied: importlib-metadata in /home/ubuntu/ibrahim/master/models/env/lib/python3.7/site-packages (from sqlalchemy>=1.1.0->optuna) (4.2.0)\n",
      "Collecting Mako\n",
      "  Downloading Mako-1.1.6-py2.py3-none-any.whl (75 kB)\n",
      "     |████████████████████████████████| 75 kB 231 kB/s            \n",
      "\u001b[?25hRequirement already satisfied: importlib-resources in /home/ubuntu/ibrahim/master/models/env/lib/python3.7/site-packages (from alembic->optuna) (5.4.0)\n",
      "Collecting autopage>=0.4.0\n",
      "  Downloading autopage-0.5.0-py3-none-any.whl (29 kB)\n",
      "Collecting PrettyTable>=0.7.2\n",
      "  Downloading prettytable-3.0.0-py3-none-any.whl (24 kB)\n",
      "Collecting stevedore>=2.0.1\n",
      "  Downloading stevedore-3.5.0-py3-none-any.whl (49 kB)\n",
      "     |████████████████████████████████| 49 kB 749 kB/s            \n",
      "\u001b[?25hCollecting pbr!=2.1.0,>=2.0.0\n",
      "  Downloading pbr-5.8.0-py2.py3-none-any.whl (112 kB)\n",
      "     |████████████████████████████████| 112 kB 1.9 MB/s            \n",
      "\u001b[?25hCollecting cmd2>=1.0.0\n",
      "  Downloading cmd2-2.3.3-py3-none-any.whl (149 kB)\n",
      "     |████████████████████████████████| 149 kB 1.6 MB/s            \n",
      "\u001b[?25hRequirement already satisfied: attrs>=16.3.0 in /home/ubuntu/ibrahim/master/models/env/lib/python3.7/site-packages (from cmd2>=1.0.0->cliff->optuna) (21.2.0)\n",
      "Requirement already satisfied: typing-extensions in /home/ubuntu/ibrahim/master/models/env/lib/python3.7/site-packages (from cmd2>=1.0.0->cliff->optuna) (3.7.4.3)\n",
      "Collecting pyperclip>=1.6\n",
      "  Downloading pyperclip-1.8.2.tar.gz (20 kB)\n",
      "  Preparing metadata (setup.py) ... \u001b[?25ldone\n",
      "\u001b[?25hRequirement already satisfied: wcwidth>=0.1.7 in /home/ubuntu/ibrahim/master/models/env/lib/python3.7/site-packages (from cmd2>=1.0.0->cliff->optuna) (0.2.5)\n",
      "Requirement already satisfied: zipp>=0.5 in /home/ubuntu/ibrahim/master/models/env/lib/python3.7/site-packages (from importlib-metadata->sqlalchemy>=1.1.0->optuna) (3.6.0)\n",
      "Requirement already satisfied: MarkupSafe>=0.9.2 in /home/ubuntu/ibrahim/master/models/env/lib/python3.7/site-packages (from Mako->alembic->optuna) (2.0.1)\n",
      "Building wheels for collected packages: pyperclip\n",
      "  Building wheel for pyperclip (setup.py) ... \u001b[?25ldone\n",
      "\u001b[?25h  Created wheel for pyperclip: filename=pyperclip-1.8.2-py3-none-any.whl size=11106 sha256=e01e86e3a0b2111109aa4c06de62a4b02d576e782eb6a6e11417c8833f7b721d\n",
      "  Stored in directory: /home/ubuntu/.cache/pip/wheels/9f/18/84/8f69f8b08169c7bae2dde6bd7daf0c19fca8c8e500ee620a28\n",
      "Successfully built pyperclip\n",
      "Installing collected packages: pyperclip, pbr, greenlet, stevedore, sqlalchemy, PrettyTable, Mako, cmd2, autopage, colorlog, cmaes, cliff, alembic, optuna\n",
      "Successfully installed Mako-1.1.6 PrettyTable-3.0.0 alembic-1.7.6 autopage-0.5.0 cliff-3.10.0 cmaes-0.8.2 cmd2-2.3.3 colorlog-6.6.0 greenlet-1.1.2 optuna-2.10.0 pbr-5.8.0 pyperclip-1.8.2 sqlalchemy-1.4.31 stevedore-3.5.0\n"
     ]
    }
   ],
   "source": [
    "!pip install optuna"
   ]
  },
  {
   "cell_type": "code",
   "execution_count": 1,
   "id": "70e0a279",
   "metadata": {},
   "outputs": [],
   "source": [
    "import sys\n",
    "import os\n",
    "import argparse\n",
    "import numpy as np\n",
    "import optuna\n",
    "import importlib"
   ]
  },
  {
   "cell_type": "code",
   "execution_count": 2,
   "id": "4d9dd09b",
   "metadata": {},
   "outputs": [],
   "source": [
    "os.chdir(os.path.abspath('/home/ubuntu/ibrahim/master/models/research/object_detection/tracking/TrackEval/'))\n",
    "import trackeval "
   ]
  },
  {
   "cell_type": "code",
   "execution_count": 14,
   "id": "d428ae4f",
   "metadata": {},
   "outputs": [],
   "source": [
    "dataset_config = trackeval.datasets.MotChallenge2DBox.get_default_dataset_config()\n",
    "dataset_config['GT_FOLDER'] = '/home/ubuntu/ibrahim/master/datasets/MOT_GT/'\n",
    "dataset_config['TRACKERS_FOLDER'] = '/home/ubuntu/ibrahim/master/results/ssd_final_embeddings/'\n",
    "dataset_config['CLASSES_TO_EVAL'] = ['vehicle']\n",
    "dataset_config['DO_PREPROC'] = False"
   ]
  },
  {
   "cell_type": "code",
   "execution_count": 4,
   "id": "804c31e3",
   "metadata": {},
   "outputs": [],
   "source": [
    "seq = 'MVI_39031'\n",
    "tracker = 'data'\n",
    "class_list = ['vehicle']\n",
    "metrics_list = [trackeval.metrics.HOTA({'METRICS': ['HOTA'], 'THRESHOLD': 0.5})]\n",
    "metric_names = ['HOTA']"
   ]
  },
  {
   "cell_type": "code",
   "execution_count": 5,
   "id": "d36ea62e",
   "metadata": {},
   "outputs": [],
   "source": [
    "os.chdir(os.path.abspath('/home/ubuntu/ibrahim/master/models/research/'))\n",
    "from research.object_detection.tracking.deep_sort.deep_sort import nn_matching\n",
    "from research.object_detection.tracking.deep_sort.deep_sort.detection import Detection\n",
    "import research.object_detection.tracking.deep_sort.deep_sort.tracker\n",
    "from research.object_detection.tracking.deep_sort.deep_sort.tracker import Tracker"
   ]
  },
  {
   "cell_type": "code",
   "execution_count": 15,
   "id": "e60d5b70",
   "metadata": {},
   "outputs": [],
   "source": [
    "def objective(trial):\n",
    "    importlib.reload(research.object_detection.tracking.deep_sort.deep_sort.tracker)\n",
    "    #matching_metric = trial.suggest_categorical(\"matching_metric\", [\"euclidean\", \"cosine\"])\n",
    "    matching_threshold = trial.suggest_float(\"matching_threshold\", 0.1, 0.9)\n",
    "    matching_budget = trial.suggest_int(\"matching_budget\", 0, 10)\n",
    "    tracker_max_iou_distance = trial.suggest_float(\"tracker_max_iou_distance\", 0.3, 0.9)\n",
    "    tracker_max_age = trial.suggest_int(\"tracker_max_age\", 1, 50)\n",
    "    tracker_n_init = trial.suggest_int(\"tracker_n_init\", 1, 10)\n",
    "    std_weight_position = trial.suggest_int(\"std_weight_position\", 1, 200)\n",
    "    std_weight_velocity = trial.suggest_int(\"std_weight_velocity\", 1, 400)\n",
    "\n",
    "    matching = nn_matching.NearestNeighborDistanceMetric(\"cosine\", matching_threshold, matching_budget)\n",
    "    deep_tracker = Tracker(matching, tracker_max_iou_distance, tracker_max_age, tracker_n_init, std_weight_position, std_weight_velocity)\n",
    "    \n",
    "    prediticon_file = open(os.path.join('/home/ubuntu/ibrahim/master/results/ssd_final_optuna/MOT17-train/data/data/', seq + \".txt\"), \"w\")\n",
    "    \n",
    "    with open(os.path.join('/home/ubuntu/ibrahim/master/results/ssd_final_embeddings/MOT17-train/data/data/', seq + \".npy\"), \"rb\") as prediticon_np:\n",
    "        i=1\n",
    "        while True:\n",
    "            try:\n",
    "                detections = np.load(prediticon_np, allow_pickle=True)\n",
    "            except:\n",
    "                break\n",
    "            deep_tracker.predict()\n",
    "            deep_tracker.update(detections)\n",
    "            track_bbs_ids = []\n",
    "            for track in deep_tracker.tracks:\n",
    "                if not track.is_confirmed() or track.time_since_update > 1:\n",
    "                    continue\n",
    "                track_bbs_ids.append([*track.to_tlbr(), track.track_id])\n",
    "            for track_pred in track_bbs_ids:\n",
    "                bb_w = track_pred[2] - track_pred[0]\n",
    "                bb_h = track_pred[3] - track_pred[1]\n",
    "                prediticon_file.write(f'{i}, {int(track_pred[4])}, {track_pred[0]:.2f}, {track_pred[1]:.2f}, {bb_w:.2f}, {bb_h:.2f}, 1, -1, -1, -1 \\n')\n",
    "            i+=1\n",
    "    prediticon_file.close()\n",
    "    dataset = trackeval.datasets.MotChallenge2DBox(dataset_config)\n",
    "    res = trackeval.eval.eval_sequence(seq, dataset, tracker, class_list, metrics_list, metric_names)\n",
    "    return np.average(res['vehicle']['HOTA']['HOTA'])"
   ]
  },
  {
   "cell_type": "code",
   "execution_count": 16,
   "id": "2d1cdab6",
   "metadata": {},
   "outputs": [
    {
     "name": "stderr",
     "output_type": "stream",
     "text": [
      "\u001b[32m[I 2022-02-13 00:13:32,583]\u001b[0m A new study created in memory with name: no-name-11d52b7e-c661-4d57-b0f2-74f6ce381695\u001b[0m\n"
     ]
    },
    {
     "name": "stdout",
     "output_type": "stream",
     "text": [
      "\n",
      "MotChallenge2DBox Config:\n",
      "GT_FOLDER            : /home/ubuntu/ibrahim/master/datasets/MOT_GT/\n",
      "TRACKERS_FOLDER      : /home/ubuntu/ibrahim/master/results/ssd_final_embeddings/\n",
      "OUTPUT_FOLDER        : None                          \n",
      "TRACKERS_TO_EVAL     : None                          \n",
      "CLASSES_TO_EVAL      : ['vehicle']                   \n",
      "BENCHMARK            : MOT17                         \n",
      "SPLIT_TO_EVAL        : train                         \n",
      "INPUT_AS_ZIP         : False                         \n",
      "PRINT_CONFIG         : True                          \n",
      "DO_PREPROC           : False                         \n",
      "TRACKER_SUB_FOLDER   : data                          \n",
      "OUTPUT_SUB_FOLDER    :                               \n",
      "TRACKER_DISPLAY_NAMES : None                          \n",
      "SEQMAP_FOLDER        : None                          \n",
      "SEQMAP_FILE          : None                          \n",
      "SEQ_INFO             : None                          \n",
      "GT_LOC_FORMAT        : {gt_folder}/{seq}/gt/gt.txt   \n",
      "SKIP_SPLIT_FOL       : False                         \n"
     ]
    },
    {
     "name": "stderr",
     "output_type": "stream",
     "text": [
      "\u001b[32m[I 2022-02-13 00:13:44,675]\u001b[0m Trial 0 finished with value: 0.4381057919699379 and parameters: {'matching_threshold': 0.6700425654131404, 'matching_budget': 4, 'tracker_max_iou_distance': 0.6896927487725686, 'tracker_max_age': 43, 'tracker_n_init': 9, 'std_weight_position': 139, 'std_weight_velocity': 165}. Best is trial 0 with value: 0.4381057919699379.\u001b[0m\n"
     ]
    },
    {
     "name": "stdout",
     "output_type": "stream",
     "text": [
      "\n",
      "MotChallenge2DBox Config:\n",
      "GT_FOLDER            : /home/ubuntu/ibrahim/master/datasets/MOT_GT/\n",
      "TRACKERS_FOLDER      : /home/ubuntu/ibrahim/master/results/ssd_final_embeddings/\n",
      "OUTPUT_FOLDER        : None                          \n",
      "TRACKERS_TO_EVAL     : None                          \n",
      "CLASSES_TO_EVAL      : ['vehicle']                   \n",
      "BENCHMARK            : MOT17                         \n",
      "SPLIT_TO_EVAL        : train                         \n",
      "INPUT_AS_ZIP         : False                         \n",
      "PRINT_CONFIG         : True                          \n",
      "DO_PREPROC           : False                         \n",
      "TRACKER_SUB_FOLDER   : data                          \n",
      "OUTPUT_SUB_FOLDER    :                               \n",
      "TRACKER_DISPLAY_NAMES : None                          \n",
      "SEQMAP_FOLDER        : None                          \n",
      "SEQMAP_FILE          : None                          \n",
      "SEQ_INFO             : None                          \n",
      "GT_LOC_FORMAT        : {gt_folder}/{seq}/gt/gt.txt   \n",
      "SKIP_SPLIT_FOL       : False                         \n"
     ]
    },
    {
     "name": "stderr",
     "output_type": "stream",
     "text": [
      "\u001b[32m[I 2022-02-13 00:13:53,849]\u001b[0m Trial 1 finished with value: 0.4381057919699379 and parameters: {'matching_threshold': 0.25868821238916506, 'matching_budget': 6, 'tracker_max_iou_distance': 0.5895740704302668, 'tracker_max_age': 50, 'tracker_n_init': 9, 'std_weight_position': 29, 'std_weight_velocity': 47}. Best is trial 0 with value: 0.4381057919699379.\u001b[0m\n"
     ]
    },
    {
     "name": "stdout",
     "output_type": "stream",
     "text": [
      "\n",
      "MotChallenge2DBox Config:\n",
      "GT_FOLDER            : /home/ubuntu/ibrahim/master/datasets/MOT_GT/\n",
      "TRACKERS_FOLDER      : /home/ubuntu/ibrahim/master/results/ssd_final_embeddings/\n",
      "OUTPUT_FOLDER        : None                          \n",
      "TRACKERS_TO_EVAL     : None                          \n",
      "CLASSES_TO_EVAL      : ['vehicle']                   \n",
      "BENCHMARK            : MOT17                         \n",
      "SPLIT_TO_EVAL        : train                         \n",
      "INPUT_AS_ZIP         : False                         \n",
      "PRINT_CONFIG         : True                          \n",
      "DO_PREPROC           : False                         \n",
      "TRACKER_SUB_FOLDER   : data                          \n",
      "OUTPUT_SUB_FOLDER    :                               \n",
      "TRACKER_DISPLAY_NAMES : None                          \n",
      "SEQMAP_FOLDER        : None                          \n",
      "SEQMAP_FILE          : None                          \n",
      "SEQ_INFO             : None                          \n",
      "GT_LOC_FORMAT        : {gt_folder}/{seq}/gt/gt.txt   \n",
      "SKIP_SPLIT_FOL       : False                         \n"
     ]
    },
    {
     "name": "stderr",
     "output_type": "stream",
     "text": [
      "\u001b[32m[I 2022-02-13 00:14:04,751]\u001b[0m Trial 2 finished with value: 0.4381057919699379 and parameters: {'matching_threshold': 0.2325404497055514, 'matching_budget': 10, 'tracker_max_iou_distance': 0.7301793658054918, 'tracker_max_age': 24, 'tracker_n_init': 8, 'std_weight_position': 179, 'std_weight_velocity': 51}. Best is trial 0 with value: 0.4381057919699379.\u001b[0m\n"
     ]
    },
    {
     "name": "stdout",
     "output_type": "stream",
     "text": [
      "\n",
      "MotChallenge2DBox Config:\n",
      "GT_FOLDER            : /home/ubuntu/ibrahim/master/datasets/MOT_GT/\n",
      "TRACKERS_FOLDER      : /home/ubuntu/ibrahim/master/results/ssd_final_embeddings/\n",
      "OUTPUT_FOLDER        : None                          \n",
      "TRACKERS_TO_EVAL     : None                          \n",
      "CLASSES_TO_EVAL      : ['vehicle']                   \n",
      "BENCHMARK            : MOT17                         \n",
      "SPLIT_TO_EVAL        : train                         \n",
      "INPUT_AS_ZIP         : False                         \n",
      "PRINT_CONFIG         : True                          \n",
      "DO_PREPROC           : False                         \n",
      "TRACKER_SUB_FOLDER   : data                          \n",
      "OUTPUT_SUB_FOLDER    :                               \n",
      "TRACKER_DISPLAY_NAMES : None                          \n",
      "SEQMAP_FOLDER        : None                          \n",
      "SEQMAP_FILE          : None                          \n",
      "SEQ_INFO             : None                          \n",
      "GT_LOC_FORMAT        : {gt_folder}/{seq}/gt/gt.txt   \n",
      "SKIP_SPLIT_FOL       : False                         \n"
     ]
    },
    {
     "name": "stderr",
     "output_type": "stream",
     "text": [
      "\u001b[32m[I 2022-02-13 00:14:46,558]\u001b[0m Trial 3 finished with value: 0.4381057919699379 and parameters: {'matching_threshold': 0.6516390081610265, 'matching_budget': 0, 'tracker_max_iou_distance': 0.5581775145188248, 'tracker_max_age': 28, 'tracker_n_init': 2, 'std_weight_position': 92, 'std_weight_velocity': 368}. Best is trial 0 with value: 0.4381057919699379.\u001b[0m\n"
     ]
    },
    {
     "name": "stdout",
     "output_type": "stream",
     "text": [
      "\n",
      "MotChallenge2DBox Config:\n",
      "GT_FOLDER            : /home/ubuntu/ibrahim/master/datasets/MOT_GT/\n",
      "TRACKERS_FOLDER      : /home/ubuntu/ibrahim/master/results/ssd_final_embeddings/\n",
      "OUTPUT_FOLDER        : None                          \n",
      "TRACKERS_TO_EVAL     : None                          \n",
      "CLASSES_TO_EVAL      : ['vehicle']                   \n",
      "BENCHMARK            : MOT17                         \n",
      "SPLIT_TO_EVAL        : train                         \n",
      "INPUT_AS_ZIP         : False                         \n",
      "PRINT_CONFIG         : True                          \n",
      "DO_PREPROC           : False                         \n",
      "TRACKER_SUB_FOLDER   : data                          \n",
      "OUTPUT_SUB_FOLDER    :                               \n",
      "TRACKER_DISPLAY_NAMES : None                          \n",
      "SEQMAP_FOLDER        : None                          \n",
      "SEQMAP_FILE          : None                          \n",
      "SEQ_INFO             : None                          \n",
      "GT_LOC_FORMAT        : {gt_folder}/{seq}/gt/gt.txt   \n",
      "SKIP_SPLIT_FOL       : False                         \n"
     ]
    },
    {
     "name": "stderr",
     "output_type": "stream",
     "text": [
      "\u001b[32m[I 2022-02-13 00:15:38,129]\u001b[0m Trial 4 finished with value: 0.4381057919699379 and parameters: {'matching_threshold': 0.884822469967136, 'matching_budget': 0, 'tracker_max_iou_distance': 0.7124510821317604, 'tracker_max_age': 33, 'tracker_n_init': 2, 'std_weight_position': 159, 'std_weight_velocity': 96}. Best is trial 0 with value: 0.4381057919699379.\u001b[0m\n"
     ]
    },
    {
     "name": "stdout",
     "output_type": "stream",
     "text": [
      "\n",
      "MotChallenge2DBox Config:\n",
      "GT_FOLDER            : /home/ubuntu/ibrahim/master/datasets/MOT_GT/\n",
      "TRACKERS_FOLDER      : /home/ubuntu/ibrahim/master/results/ssd_final_embeddings/\n",
      "OUTPUT_FOLDER        : None                          \n",
      "TRACKERS_TO_EVAL     : None                          \n",
      "CLASSES_TO_EVAL      : ['vehicle']                   \n",
      "BENCHMARK            : MOT17                         \n",
      "SPLIT_TO_EVAL        : train                         \n",
      "INPUT_AS_ZIP         : False                         \n",
      "PRINT_CONFIG         : True                          \n",
      "DO_PREPROC           : False                         \n",
      "TRACKER_SUB_FOLDER   : data                          \n",
      "OUTPUT_SUB_FOLDER    :                               \n",
      "TRACKER_DISPLAY_NAMES : None                          \n",
      "SEQMAP_FOLDER        : None                          \n",
      "SEQMAP_FILE          : None                          \n",
      "SEQ_INFO             : None                          \n",
      "GT_LOC_FORMAT        : {gt_folder}/{seq}/gt/gt.txt   \n",
      "SKIP_SPLIT_FOL       : False                         \n"
     ]
    },
    {
     "name": "stderr",
     "output_type": "stream",
     "text": [
      "\u001b[32m[I 2022-02-13 00:15:51,027]\u001b[0m Trial 5 finished with value: 0.4381057919699379 and parameters: {'matching_threshold': 0.693743045133515, 'matching_budget': 2, 'tracker_max_iou_distance': 0.8649336714933913, 'tracker_max_age': 48, 'tracker_n_init': 7, 'std_weight_position': 113, 'std_weight_velocity': 284}. Best is trial 0 with value: 0.4381057919699379.\u001b[0m\n"
     ]
    },
    {
     "name": "stdout",
     "output_type": "stream",
     "text": [
      "\n",
      "MotChallenge2DBox Config:\n",
      "GT_FOLDER            : /home/ubuntu/ibrahim/master/datasets/MOT_GT/\n",
      "TRACKERS_FOLDER      : /home/ubuntu/ibrahim/master/results/ssd_final_embeddings/\n",
      "OUTPUT_FOLDER        : None                          \n",
      "TRACKERS_TO_EVAL     : None                          \n",
      "CLASSES_TO_EVAL      : ['vehicle']                   \n",
      "BENCHMARK            : MOT17                         \n",
      "SPLIT_TO_EVAL        : train                         \n",
      "INPUT_AS_ZIP         : False                         \n",
      "PRINT_CONFIG         : True                          \n",
      "DO_PREPROC           : False                         \n",
      "TRACKER_SUB_FOLDER   : data                          \n",
      "OUTPUT_SUB_FOLDER    :                               \n",
      "TRACKER_DISPLAY_NAMES : None                          \n",
      "SEQMAP_FOLDER        : None                          \n",
      "SEQMAP_FILE          : None                          \n",
      "SEQ_INFO             : None                          \n",
      "GT_LOC_FORMAT        : {gt_folder}/{seq}/gt/gt.txt   \n",
      "SKIP_SPLIT_FOL       : False                         \n"
     ]
    },
    {
     "name": "stderr",
     "output_type": "stream",
     "text": [
      "\u001b[32m[I 2022-02-13 00:16:28,886]\u001b[0m Trial 6 finished with value: 0.4381057919699379 and parameters: {'matching_threshold': 0.8505936906879995, 'matching_budget': 0, 'tracker_max_iou_distance': 0.6464964684569052, 'tracker_max_age': 25, 'tracker_n_init': 6, 'std_weight_position': 101, 'std_weight_velocity': 337}. Best is trial 0 with value: 0.4381057919699379.\u001b[0m\n"
     ]
    },
    {
     "name": "stdout",
     "output_type": "stream",
     "text": [
      "\n",
      "MotChallenge2DBox Config:\n",
      "GT_FOLDER            : /home/ubuntu/ibrahim/master/datasets/MOT_GT/\n",
      "TRACKERS_FOLDER      : /home/ubuntu/ibrahim/master/results/ssd_final_embeddings/\n",
      "OUTPUT_FOLDER        : None                          \n",
      "TRACKERS_TO_EVAL     : None                          \n",
      "CLASSES_TO_EVAL      : ['vehicle']                   \n",
      "BENCHMARK            : MOT17                         \n",
      "SPLIT_TO_EVAL        : train                         \n",
      "INPUT_AS_ZIP         : False                         \n",
      "PRINT_CONFIG         : True                          \n",
      "DO_PREPROC           : False                         \n",
      "TRACKER_SUB_FOLDER   : data                          \n",
      "OUTPUT_SUB_FOLDER    :                               \n",
      "TRACKER_DISPLAY_NAMES : None                          \n",
      "SEQMAP_FOLDER        : None                          \n",
      "SEQMAP_FILE          : None                          \n",
      "SEQ_INFO             : None                          \n",
      "GT_LOC_FORMAT        : {gt_folder}/{seq}/gt/gt.txt   \n",
      "SKIP_SPLIT_FOL       : False                         \n"
     ]
    },
    {
     "name": "stderr",
     "output_type": "stream",
     "text": [
      "\u001b[32m[I 2022-02-13 00:16:39,053]\u001b[0m Trial 7 finished with value: 0.4381057919699379 and parameters: {'matching_threshold': 0.333315438295762, 'matching_budget': 1, 'tracker_max_iou_distance': 0.6739947300576873, 'tracker_max_age': 33, 'tracker_n_init': 7, 'std_weight_position': 185, 'std_weight_velocity': 39}. Best is trial 0 with value: 0.4381057919699379.\u001b[0m\n"
     ]
    },
    {
     "name": "stdout",
     "output_type": "stream",
     "text": [
      "\n",
      "MotChallenge2DBox Config:\n",
      "GT_FOLDER            : /home/ubuntu/ibrahim/master/datasets/MOT_GT/\n",
      "TRACKERS_FOLDER      : /home/ubuntu/ibrahim/master/results/ssd_final_embeddings/\n",
      "OUTPUT_FOLDER        : None                          \n",
      "TRACKERS_TO_EVAL     : None                          \n",
      "CLASSES_TO_EVAL      : ['vehicle']                   \n",
      "BENCHMARK            : MOT17                         \n",
      "SPLIT_TO_EVAL        : train                         \n",
      "INPUT_AS_ZIP         : False                         \n",
      "PRINT_CONFIG         : True                          \n",
      "DO_PREPROC           : False                         \n",
      "TRACKER_SUB_FOLDER   : data                          \n",
      "OUTPUT_SUB_FOLDER    :                               \n",
      "TRACKER_DISPLAY_NAMES : None                          \n",
      "SEQMAP_FOLDER        : None                          \n",
      "SEQMAP_FILE          : None                          \n",
      "SEQ_INFO             : None                          \n",
      "GT_LOC_FORMAT        : {gt_folder}/{seq}/gt/gt.txt   \n",
      "SKIP_SPLIT_FOL       : False                         \n"
     ]
    },
    {
     "name": "stderr",
     "output_type": "stream",
     "text": [
      "\u001b[32m[I 2022-02-13 00:16:47,818]\u001b[0m Trial 8 finished with value: 0.4381057919699379 and parameters: {'matching_threshold': 0.5190318365116839, 'matching_budget': 9, 'tracker_max_iou_distance': 0.8756500920125501, 'tracker_max_age': 3, 'tracker_n_init': 2, 'std_weight_position': 90, 'std_weight_velocity': 69}. Best is trial 0 with value: 0.4381057919699379.\u001b[0m\n"
     ]
    },
    {
     "name": "stdout",
     "output_type": "stream",
     "text": [
      "\n",
      "MotChallenge2DBox Config:\n",
      "GT_FOLDER            : /home/ubuntu/ibrahim/master/datasets/MOT_GT/\n",
      "TRACKERS_FOLDER      : /home/ubuntu/ibrahim/master/results/ssd_final_embeddings/\n",
      "OUTPUT_FOLDER        : None                          \n",
      "TRACKERS_TO_EVAL     : None                          \n",
      "CLASSES_TO_EVAL      : ['vehicle']                   \n",
      "BENCHMARK            : MOT17                         \n",
      "SPLIT_TO_EVAL        : train                         \n",
      "INPUT_AS_ZIP         : False                         \n",
      "PRINT_CONFIG         : True                          \n",
      "DO_PREPROC           : False                         \n",
      "TRACKER_SUB_FOLDER   : data                          \n",
      "OUTPUT_SUB_FOLDER    :                               \n",
      "TRACKER_DISPLAY_NAMES : None                          \n",
      "SEQMAP_FOLDER        : None                          \n",
      "SEQMAP_FILE          : None                          \n",
      "SEQ_INFO             : None                          \n",
      "GT_LOC_FORMAT        : {gt_folder}/{seq}/gt/gt.txt   \n",
      "SKIP_SPLIT_FOL       : False                         \n"
     ]
    },
    {
     "name": "stderr",
     "output_type": "stream",
     "text": [
      "\u001b[32m[I 2022-02-13 00:16:58,255]\u001b[0m Trial 9 finished with value: 0.4381057919699379 and parameters: {'matching_threshold': 0.1324262619582265, 'matching_budget': 6, 'tracker_max_iou_distance': 0.3098756933762209, 'tracker_max_age': 32, 'tracker_n_init': 9, 'std_weight_position': 79, 'std_weight_velocity': 177}. Best is trial 0 with value: 0.4381057919699379.\u001b[0m\n"
     ]
    },
    {
     "name": "stdout",
     "output_type": "stream",
     "text": [
      "\n",
      "MotChallenge2DBox Config:\n",
      "GT_FOLDER            : /home/ubuntu/ibrahim/master/datasets/MOT_GT/\n",
      "TRACKERS_FOLDER      : /home/ubuntu/ibrahim/master/results/ssd_final_embeddings/\n",
      "OUTPUT_FOLDER        : None                          \n",
      "TRACKERS_TO_EVAL     : None                          \n",
      "CLASSES_TO_EVAL      : ['vehicle']                   \n",
      "BENCHMARK            : MOT17                         \n",
      "SPLIT_TO_EVAL        : train                         \n",
      "INPUT_AS_ZIP         : False                         \n",
      "PRINT_CONFIG         : True                          \n",
      "DO_PREPROC           : False                         \n",
      "TRACKER_SUB_FOLDER   : data                          \n",
      "OUTPUT_SUB_FOLDER    :                               \n",
      "TRACKER_DISPLAY_NAMES : None                          \n",
      "SEQMAP_FOLDER        : None                          \n",
      "SEQMAP_FILE          : None                          \n",
      "SEQ_INFO             : None                          \n",
      "GT_LOC_FORMAT        : {gt_folder}/{seq}/gt/gt.txt   \n",
      "SKIP_SPLIT_FOL       : False                         \n"
     ]
    },
    {
     "name": "stderr",
     "output_type": "stream",
     "text": [
      "\u001b[32m[I 2022-02-13 00:17:13,772]\u001b[0m Trial 10 finished with value: 0.4381057919699379 and parameters: {'matching_threshold': 0.4862737300838278, 'matching_budget': 4, 'tracker_max_iou_distance': 0.4609234741623259, 'tracker_max_age': 43, 'tracker_n_init': 4, 'std_weight_position': 148, 'std_weight_velocity': 191}. Best is trial 0 with value: 0.4381057919699379.\u001b[0m\n"
     ]
    },
    {
     "name": "stdout",
     "output_type": "stream",
     "text": [
      "\n",
      "MotChallenge2DBox Config:\n",
      "GT_FOLDER            : /home/ubuntu/ibrahim/master/datasets/MOT_GT/\n",
      "TRACKERS_FOLDER      : /home/ubuntu/ibrahim/master/results/ssd_final_embeddings/\n",
      "OUTPUT_FOLDER        : None                          \n",
      "TRACKERS_TO_EVAL     : None                          \n",
      "CLASSES_TO_EVAL      : ['vehicle']                   \n",
      "BENCHMARK            : MOT17                         \n",
      "SPLIT_TO_EVAL        : train                         \n",
      "INPUT_AS_ZIP         : False                         \n",
      "PRINT_CONFIG         : True                          \n",
      "DO_PREPROC           : False                         \n",
      "TRACKER_SUB_FOLDER   : data                          \n",
      "OUTPUT_SUB_FOLDER    :                               \n",
      "TRACKER_DISPLAY_NAMES : None                          \n",
      "SEQMAP_FOLDER        : None                          \n",
      "SEQMAP_FILE          : None                          \n",
      "SEQ_INFO             : None                          \n",
      "GT_LOC_FORMAT        : {gt_folder}/{seq}/gt/gt.txt   \n",
      "SKIP_SPLIT_FOL       : False                         \n"
     ]
    },
    {
     "name": "stderr",
     "output_type": "stream",
     "text": [
      "\u001b[32m[I 2022-02-13 00:17:22,477]\u001b[0m Trial 11 finished with value: 0.4381057919699379 and parameters: {'matching_threshold': 0.4064646152393146, 'matching_budget': 6, 'tracker_max_iou_distance': 0.5204634164993559, 'tracker_max_age': 50, 'tracker_n_init': 10, 'std_weight_position': 11, 'std_weight_velocity': 143}. Best is trial 0 with value: 0.4381057919699379.\u001b[0m\n"
     ]
    },
    {
     "name": "stdout",
     "output_type": "stream",
     "text": [
      "\n",
      "MotChallenge2DBox Config:\n",
      "GT_FOLDER            : /home/ubuntu/ibrahim/master/datasets/MOT_GT/\n",
      "TRACKERS_FOLDER      : /home/ubuntu/ibrahim/master/results/ssd_final_embeddings/\n",
      "OUTPUT_FOLDER        : None                          \n",
      "TRACKERS_TO_EVAL     : None                          \n",
      "CLASSES_TO_EVAL      : ['vehicle']                   \n",
      "BENCHMARK            : MOT17                         \n",
      "SPLIT_TO_EVAL        : train                         \n",
      "INPUT_AS_ZIP         : False                         \n",
      "PRINT_CONFIG         : True                          \n",
      "DO_PREPROC           : False                         \n",
      "TRACKER_SUB_FOLDER   : data                          \n",
      "OUTPUT_SUB_FOLDER    :                               \n",
      "TRACKER_DISPLAY_NAMES : None                          \n",
      "SEQMAP_FOLDER        : None                          \n",
      "SEQMAP_FILE          : None                          \n",
      "SEQ_INFO             : None                          \n",
      "GT_LOC_FORMAT        : {gt_folder}/{seq}/gt/gt.txt   \n",
      "SKIP_SPLIT_FOL       : False                         \n"
     ]
    },
    {
     "name": "stderr",
     "output_type": "stream",
     "text": [
      "\u001b[32m[I 2022-02-13 00:17:31,184]\u001b[0m Trial 12 finished with value: 0.4381057919699379 and parameters: {'matching_threshold': 0.6107579163238778, 'matching_budget': 4, 'tracker_max_iou_distance': 0.78335104727318, 'tracker_max_age': 41, 'tracker_n_init': 10, 'std_weight_position': 16, 'std_weight_velocity': 260}. Best is trial 0 with value: 0.4381057919699379.\u001b[0m\n"
     ]
    },
    {
     "name": "stdout",
     "output_type": "stream",
     "text": [
      "\n",
      "MotChallenge2DBox Config:\n",
      "GT_FOLDER            : /home/ubuntu/ibrahim/master/datasets/MOT_GT/\n",
      "TRACKERS_FOLDER      : /home/ubuntu/ibrahim/master/results/ssd_final_embeddings/\n",
      "OUTPUT_FOLDER        : None                          \n",
      "TRACKERS_TO_EVAL     : None                          \n",
      "CLASSES_TO_EVAL      : ['vehicle']                   \n",
      "BENCHMARK            : MOT17                         \n",
      "SPLIT_TO_EVAL        : train                         \n",
      "INPUT_AS_ZIP         : False                         \n",
      "PRINT_CONFIG         : True                          \n",
      "DO_PREPROC           : False                         \n",
      "TRACKER_SUB_FOLDER   : data                          \n",
      "OUTPUT_SUB_FOLDER    :                               \n",
      "TRACKER_DISPLAY_NAMES : None                          \n",
      "SEQMAP_FOLDER        : None                          \n",
      "SEQMAP_FILE          : None                          \n",
      "SEQ_INFO             : None                          \n",
      "GT_LOC_FORMAT        : {gt_folder}/{seq}/gt/gt.txt   \n",
      "SKIP_SPLIT_FOL       : False                         \n"
     ]
    },
    {
     "name": "stderr",
     "output_type": "stream",
     "text": [
      "\u001b[32m[I 2022-02-13 00:17:40,322]\u001b[0m Trial 13 finished with value: 0.4381057919699379 and parameters: {'matching_threshold': 0.273687528386161, 'matching_budget': 8, 'tracker_max_iou_distance': 0.42532608584692455, 'tracker_max_age': 16, 'tracker_n_init': 5, 'std_weight_position': 53, 'std_weight_velocity': 124}. Best is trial 0 with value: 0.4381057919699379.\u001b[0m\n"
     ]
    },
    {
     "name": "stdout",
     "output_type": "stream",
     "text": [
      "\n",
      "MotChallenge2DBox Config:\n",
      "GT_FOLDER            : /home/ubuntu/ibrahim/master/datasets/MOT_GT/\n",
      "TRACKERS_FOLDER      : /home/ubuntu/ibrahim/master/results/ssd_final_embeddings/\n",
      "OUTPUT_FOLDER        : None                          \n",
      "TRACKERS_TO_EVAL     : None                          \n",
      "CLASSES_TO_EVAL      : ['vehicle']                   \n",
      "BENCHMARK            : MOT17                         \n",
      "SPLIT_TO_EVAL        : train                         \n",
      "INPUT_AS_ZIP         : False                         \n",
      "PRINT_CONFIG         : True                          \n",
      "DO_PREPROC           : False                         \n",
      "TRACKER_SUB_FOLDER   : data                          \n",
      "OUTPUT_SUB_FOLDER    :                               \n",
      "TRACKER_DISPLAY_NAMES : None                          \n",
      "SEQMAP_FOLDER        : None                          \n",
      "SEQMAP_FILE          : None                          \n",
      "SEQ_INFO             : None                          \n",
      "GT_LOC_FORMAT        : {gt_folder}/{seq}/gt/gt.txt   \n",
      "SKIP_SPLIT_FOL       : False                         \n"
     ]
    },
    {
     "name": "stderr",
     "output_type": "stream",
     "text": [
      "\u001b[32m[I 2022-02-13 00:17:48,621]\u001b[0m Trial 14 finished with value: 0.4381057919699379 and parameters: {'matching_threshold': 0.7234185288968982, 'matching_budget': 7, 'tracker_max_iou_distance': 0.60415816743821, 'tracker_max_age': 41, 'tracker_n_init': 8, 'std_weight_position': 133, 'std_weight_velocity': 4}. Best is trial 0 with value: 0.4381057919699379.\u001b[0m\n"
     ]
    },
    {
     "name": "stdout",
     "output_type": "stream",
     "text": [
      "\n",
      "MotChallenge2DBox Config:\n",
      "GT_FOLDER            : /home/ubuntu/ibrahim/master/datasets/MOT_GT/\n",
      "TRACKERS_FOLDER      : /home/ubuntu/ibrahim/master/results/ssd_final_embeddings/\n",
      "OUTPUT_FOLDER        : None                          \n",
      "TRACKERS_TO_EVAL     : None                          \n",
      "CLASSES_TO_EVAL      : ['vehicle']                   \n",
      "BENCHMARK            : MOT17                         \n",
      "SPLIT_TO_EVAL        : train                         \n",
      "INPUT_AS_ZIP         : False                         \n",
      "PRINT_CONFIG         : True                          \n",
      "DO_PREPROC           : False                         \n",
      "TRACKER_SUB_FOLDER   : data                          \n",
      "OUTPUT_SUB_FOLDER    :                               \n",
      "TRACKER_DISPLAY_NAMES : None                          \n",
      "SEQMAP_FOLDER        : None                          \n",
      "SEQMAP_FILE          : None                          \n",
      "SEQ_INFO             : None                          \n",
      "GT_LOC_FORMAT        : {gt_folder}/{seq}/gt/gt.txt   \n",
      "SKIP_SPLIT_FOL       : False                         \n"
     ]
    },
    {
     "name": "stderr",
     "output_type": "stream",
     "text": [
      "\u001b[32m[I 2022-02-13 00:17:57,311]\u001b[0m Trial 15 finished with value: 0.4381057919699379 and parameters: {'matching_threshold': 0.14239718484261482, 'matching_budget': 3, 'tracker_max_iou_distance': 0.7895316521634226, 'tracker_max_age': 44, 'tracker_n_init': 9, 'std_weight_position': 27, 'std_weight_velocity': 240}. Best is trial 0 with value: 0.4381057919699379.\u001b[0m\n"
     ]
    },
    {
     "name": "stdout",
     "output_type": "stream",
     "text": [
      "\n",
      "MotChallenge2DBox Config:\n",
      "GT_FOLDER            : /home/ubuntu/ibrahim/master/datasets/MOT_GT/\n",
      "TRACKERS_FOLDER      : /home/ubuntu/ibrahim/master/results/ssd_final_embeddings/\n",
      "OUTPUT_FOLDER        : None                          \n",
      "TRACKERS_TO_EVAL     : None                          \n",
      "CLASSES_TO_EVAL      : ['vehicle']                   \n",
      "BENCHMARK            : MOT17                         \n",
      "SPLIT_TO_EVAL        : train                         \n",
      "INPUT_AS_ZIP         : False                         \n",
      "PRINT_CONFIG         : True                          \n",
      "DO_PREPROC           : False                         \n",
      "TRACKER_SUB_FOLDER   : data                          \n",
      "OUTPUT_SUB_FOLDER    :                               \n",
      "TRACKER_DISPLAY_NAMES : None                          \n",
      "SEQMAP_FOLDER        : None                          \n",
      "SEQMAP_FILE          : None                          \n",
      "SEQ_INFO             : None                          \n",
      "GT_LOC_FORMAT        : {gt_folder}/{seq}/gt/gt.txt   \n",
      "SKIP_SPLIT_FOL       : False                         \n"
     ]
    },
    {
     "name": "stderr",
     "output_type": "stream",
     "text": [
      "\u001b[32m[I 2022-02-13 00:18:07,735]\u001b[0m Trial 16 finished with value: 0.4381057919699379 and parameters: {'matching_threshold': 0.5243861422381038, 'matching_budget': 5, 'tracker_max_iou_distance': 0.5047320677079706, 'tracker_max_age': 38, 'tracker_n_init': 4, 'std_weight_position': 56, 'std_weight_velocity': 144}. Best is trial 0 with value: 0.4381057919699379.\u001b[0m\n"
     ]
    },
    {
     "name": "stdout",
     "output_type": "stream",
     "text": [
      "\n",
      "MotChallenge2DBox Config:\n",
      "GT_FOLDER            : /home/ubuntu/ibrahim/master/datasets/MOT_GT/\n",
      "TRACKERS_FOLDER      : /home/ubuntu/ibrahim/master/results/ssd_final_embeddings/\n",
      "OUTPUT_FOLDER        : None                          \n",
      "TRACKERS_TO_EVAL     : None                          \n",
      "CLASSES_TO_EVAL      : ['vehicle']                   \n",
      "BENCHMARK            : MOT17                         \n",
      "SPLIT_TO_EVAL        : train                         \n",
      "INPUT_AS_ZIP         : False                         \n",
      "PRINT_CONFIG         : True                          \n",
      "DO_PREPROC           : False                         \n",
      "TRACKER_SUB_FOLDER   : data                          \n",
      "OUTPUT_SUB_FOLDER    :                               \n",
      "TRACKER_DISPLAY_NAMES : None                          \n",
      "SEQMAP_FOLDER        : None                          \n",
      "SEQMAP_FILE          : None                          \n",
      "SEQ_INFO             : None                          \n",
      "GT_LOC_FORMAT        : {gt_folder}/{seq}/gt/gt.txt   \n",
      "SKIP_SPLIT_FOL       : False                         \n"
     ]
    },
    {
     "name": "stderr",
     "output_type": "stream",
     "text": [
      "\u001b[32m[I 2022-02-13 00:18:16,390]\u001b[0m Trial 17 finished with value: 0.4381057919699379 and parameters: {'matching_threshold': 0.7520414953814788, 'matching_budget': 8, 'tracker_max_iou_distance': 0.6331341145154846, 'tracker_max_age': 13, 'tracker_n_init': 8, 'std_weight_position': 128, 'std_weight_velocity': 20}. Best is trial 0 with value: 0.4381057919699379.\u001b[0m\n"
     ]
    },
    {
     "name": "stdout",
     "output_type": "stream",
     "text": [
      "\n",
      "MotChallenge2DBox Config:\n",
      "GT_FOLDER            : /home/ubuntu/ibrahim/master/datasets/MOT_GT/\n",
      "TRACKERS_FOLDER      : /home/ubuntu/ibrahim/master/results/ssd_final_embeddings/\n",
      "OUTPUT_FOLDER        : None                          \n",
      "TRACKERS_TO_EVAL     : None                          \n",
      "CLASSES_TO_EVAL      : ['vehicle']                   \n",
      "BENCHMARK            : MOT17                         \n",
      "SPLIT_TO_EVAL        : train                         \n",
      "INPUT_AS_ZIP         : False                         \n",
      "PRINT_CONFIG         : True                          \n",
      "DO_PREPROC           : False                         \n",
      "TRACKER_SUB_FOLDER   : data                          \n",
      "OUTPUT_SUB_FOLDER    :                               \n",
      "TRACKER_DISPLAY_NAMES : None                          \n",
      "SEQMAP_FOLDER        : None                          \n",
      "SEQMAP_FILE          : None                          \n",
      "SEQ_INFO             : None                          \n",
      "GT_LOC_FORMAT        : {gt_folder}/{seq}/gt/gt.txt   \n",
      "SKIP_SPLIT_FOL       : False                         \n"
     ]
    },
    {
     "name": "stderr",
     "output_type": "stream",
     "text": [
      "\u001b[32m[I 2022-02-13 00:18:26,988]\u001b[0m Trial 18 finished with value: 0.4381057919699379 and parameters: {'matching_threshold': 0.1208108697197261, 'matching_budget': 3, 'tracker_max_iou_distance': 0.7892422392793855, 'tracker_max_age': 45, 'tracker_n_init': 10, 'std_weight_position': 63, 'std_weight_velocity': 236}. Best is trial 0 with value: 0.4381057919699379.\u001b[0m\n"
     ]
    },
    {
     "name": "stdout",
     "output_type": "stream",
     "text": [
      "\n",
      "MotChallenge2DBox Config:\n",
      "GT_FOLDER            : /home/ubuntu/ibrahim/master/datasets/MOT_GT/\n",
      "TRACKERS_FOLDER      : /home/ubuntu/ibrahim/master/results/ssd_final_embeddings/\n",
      "OUTPUT_FOLDER        : None                          \n",
      "TRACKERS_TO_EVAL     : None                          \n",
      "CLASSES_TO_EVAL      : ['vehicle']                   \n",
      "BENCHMARK            : MOT17                         \n",
      "SPLIT_TO_EVAL        : train                         \n",
      "INPUT_AS_ZIP         : False                         \n",
      "PRINT_CONFIG         : True                          \n",
      "DO_PREPROC           : False                         \n",
      "TRACKER_SUB_FOLDER   : data                          \n",
      "OUTPUT_SUB_FOLDER    :                               \n",
      "TRACKER_DISPLAY_NAMES : None                          \n",
      "SEQMAP_FOLDER        : None                          \n",
      "SEQMAP_FILE          : None                          \n",
      "SEQ_INFO             : None                          \n",
      "GT_LOC_FORMAT        : {gt_folder}/{seq}/gt/gt.txt   \n",
      "SKIP_SPLIT_FOL       : False                         \n"
     ]
    },
    {
     "name": "stderr",
     "output_type": "stream",
     "text": [
      "\u001b[32m[I 2022-02-13 00:18:38,399]\u001b[0m Trial 19 finished with value: 0.4381057919699379 and parameters: {'matching_threshold': 0.5561543301836066, 'matching_budget': 5, 'tracker_max_iou_distance': 0.37581961754562315, 'tracker_max_age': 37, 'tracker_n_init': 4, 'std_weight_position': 55, 'std_weight_velocity': 144}. Best is trial 0 with value: 0.4381057919699379.\u001b[0m\n"
     ]
    },
    {
     "name": "stdout",
     "output_type": "stream",
     "text": [
      "\n",
      "MotChallenge2DBox Config:\n",
      "GT_FOLDER            : /home/ubuntu/ibrahim/master/datasets/MOT_GT/\n",
      "TRACKERS_FOLDER      : /home/ubuntu/ibrahim/master/results/ssd_final_embeddings/\n",
      "OUTPUT_FOLDER        : None                          \n",
      "TRACKERS_TO_EVAL     : None                          \n",
      "CLASSES_TO_EVAL      : ['vehicle']                   \n",
      "BENCHMARK            : MOT17                         \n",
      "SPLIT_TO_EVAL        : train                         \n",
      "INPUT_AS_ZIP         : False                         \n",
      "PRINT_CONFIG         : True                          \n",
      "DO_PREPROC           : False                         \n",
      "TRACKER_SUB_FOLDER   : data                          \n",
      "OUTPUT_SUB_FOLDER    :                               \n",
      "TRACKER_DISPLAY_NAMES : None                          \n",
      "SEQMAP_FOLDER        : None                          \n",
      "SEQMAP_FILE          : None                          \n",
      "SEQ_INFO             : None                          \n",
      "GT_LOC_FORMAT        : {gt_folder}/{seq}/gt/gt.txt   \n",
      "SKIP_SPLIT_FOL       : False                         \n"
     ]
    },
    {
     "name": "stderr",
     "output_type": "stream",
     "text": [
      "\u001b[32m[I 2022-02-13 00:18:46,490]\u001b[0m Trial 20 finished with value: 0.4381057919699379 and parameters: {'matching_threshold': 0.7767977740633869, 'matching_budget': 8, 'tracker_max_iou_distance': 0.6715294231992893, 'tracker_max_age': 13, 'tracker_n_init': 7, 'std_weight_position': 123, 'std_weight_velocity': 10}. Best is trial 0 with value: 0.4381057919699379.\u001b[0m\n"
     ]
    },
    {
     "name": "stdout",
     "output_type": "stream",
     "text": [
      "\n",
      "MotChallenge2DBox Config:\n",
      "GT_FOLDER            : /home/ubuntu/ibrahim/master/datasets/MOT_GT/\n",
      "TRACKERS_FOLDER      : /home/ubuntu/ibrahim/master/results/ssd_final_embeddings/\n",
      "OUTPUT_FOLDER        : None                          \n",
      "TRACKERS_TO_EVAL     : None                          \n",
      "CLASSES_TO_EVAL      : ['vehicle']                   \n",
      "BENCHMARK            : MOT17                         \n",
      "SPLIT_TO_EVAL        : train                         \n",
      "INPUT_AS_ZIP         : False                         \n",
      "PRINT_CONFIG         : True                          \n",
      "DO_PREPROC           : False                         \n",
      "TRACKER_SUB_FOLDER   : data                          \n",
      "OUTPUT_SUB_FOLDER    :                               \n",
      "TRACKER_DISPLAY_NAMES : None                          \n",
      "SEQMAP_FOLDER        : None                          \n",
      "SEQMAP_FILE          : None                          \n",
      "SEQ_INFO             : None                          \n",
      "GT_LOC_FORMAT        : {gt_folder}/{seq}/gt/gt.txt   \n",
      "SKIP_SPLIT_FOL       : False                         \n"
     ]
    },
    {
     "name": "stderr",
     "output_type": "stream",
     "text": [
      "\u001b[32m[I 2022-02-13 00:18:55,753]\u001b[0m Trial 21 finished with value: 0.4381057919699379 and parameters: {'matching_threshold': 0.7630549149942749, 'matching_budget': 3, 'tracker_max_iou_distance': 0.7953172108135471, 'tracker_max_age': 17, 'tracker_n_init': 10, 'std_weight_position': 159, 'std_weight_velocity': 294}. Best is trial 0 with value: 0.4381057919699379.\u001b[0m\n"
     ]
    },
    {
     "name": "stdout",
     "output_type": "stream",
     "text": [
      "\n",
      "MotChallenge2DBox Config:\n",
      "GT_FOLDER            : /home/ubuntu/ibrahim/master/datasets/MOT_GT/\n",
      "TRACKERS_FOLDER      : /home/ubuntu/ibrahim/master/results/ssd_final_embeddings/\n",
      "OUTPUT_FOLDER        : None                          \n",
      "TRACKERS_TO_EVAL     : None                          \n",
      "CLASSES_TO_EVAL      : ['vehicle']                   \n",
      "BENCHMARK            : MOT17                         \n",
      "SPLIT_TO_EVAL        : train                         \n",
      "INPUT_AS_ZIP         : False                         \n",
      "PRINT_CONFIG         : True                          \n",
      "DO_PREPROC           : False                         \n",
      "TRACKER_SUB_FOLDER   : data                          \n",
      "OUTPUT_SUB_FOLDER    :                               \n",
      "TRACKER_DISPLAY_NAMES : None                          \n",
      "SEQMAP_FOLDER        : None                          \n",
      "SEQMAP_FILE          : None                          \n",
      "SEQ_INFO             : None                          \n",
      "GT_LOC_FORMAT        : {gt_folder}/{seq}/gt/gt.txt   \n",
      "SKIP_SPLIT_FOL       : False                         \n"
     ]
    },
    {
     "name": "stderr",
     "output_type": "stream",
     "text": [
      "\u001b[32m[I 2022-02-13 00:19:07,863]\u001b[0m Trial 22 finished with value: 0.4381057919699379 and parameters: {'matching_threshold': 0.5855796557916254, 'matching_budget': 3, 'tracker_max_iou_distance': 0.30367575830971855, 'tracker_max_age': 36, 'tracker_n_init': 4, 'std_weight_position': 65, 'std_weight_velocity': 217}. Best is trial 0 with value: 0.4381057919699379.\u001b[0m\n"
     ]
    },
    {
     "name": "stdout",
     "output_type": "stream",
     "text": [
      "\n",
      "MotChallenge2DBox Config:\n",
      "GT_FOLDER            : /home/ubuntu/ibrahim/master/datasets/MOT_GT/\n",
      "TRACKERS_FOLDER      : /home/ubuntu/ibrahim/master/results/ssd_final_embeddings/\n",
      "OUTPUT_FOLDER        : None                          \n",
      "TRACKERS_TO_EVAL     : None                          \n",
      "CLASSES_TO_EVAL      : ['vehicle']                   \n",
      "BENCHMARK            : MOT17                         \n",
      "SPLIT_TO_EVAL        : train                         \n",
      "INPUT_AS_ZIP         : False                         \n",
      "PRINT_CONFIG         : True                          \n",
      "DO_PREPROC           : False                         \n",
      "TRACKER_SUB_FOLDER   : data                          \n",
      "OUTPUT_SUB_FOLDER    :                               \n",
      "TRACKER_DISPLAY_NAMES : None                          \n",
      "SEQMAP_FOLDER        : None                          \n",
      "SEQMAP_FILE          : None                          \n",
      "SEQ_INFO             : None                          \n",
      "GT_LOC_FORMAT        : {gt_folder}/{seq}/gt/gt.txt   \n",
      "SKIP_SPLIT_FOL       : False                         \n"
     ]
    },
    {
     "name": "stderr",
     "output_type": "stream",
     "text": [
      "\u001b[32m[I 2022-02-13 00:19:15,715]\u001b[0m Trial 23 finished with value: 0.4381057919699379 and parameters: {'matching_threshold': 0.7894974815026087, 'matching_budget': 5, 'tracker_max_iou_distance': 0.37026903494315105, 'tracker_max_age': 2, 'tracker_n_init': 6, 'std_weight_position': 121, 'std_weight_velocity': 101}. Best is trial 0 with value: 0.4381057919699379.\u001b[0m\n"
     ]
    },
    {
     "name": "stdout",
     "output_type": "stream",
     "text": [
      "\n",
      "MotChallenge2DBox Config:\n",
      "GT_FOLDER            : /home/ubuntu/ibrahim/master/datasets/MOT_GT/\n",
      "TRACKERS_FOLDER      : /home/ubuntu/ibrahim/master/results/ssd_final_embeddings/\n",
      "OUTPUT_FOLDER        : None                          \n",
      "TRACKERS_TO_EVAL     : None                          \n",
      "CLASSES_TO_EVAL      : ['vehicle']                   \n",
      "BENCHMARK            : MOT17                         \n",
      "SPLIT_TO_EVAL        : train                         \n",
      "INPUT_AS_ZIP         : False                         \n",
      "PRINT_CONFIG         : True                          \n",
      "DO_PREPROC           : False                         \n",
      "TRACKER_SUB_FOLDER   : data                          \n",
      "OUTPUT_SUB_FOLDER    :                               \n",
      "TRACKER_DISPLAY_NAMES : None                          \n",
      "SEQMAP_FOLDER        : None                          \n",
      "SEQMAP_FILE          : None                          \n",
      "SEQ_INFO             : None                          \n",
      "GT_LOC_FORMAT        : {gt_folder}/{seq}/gt/gt.txt   \n",
      "SKIP_SPLIT_FOL       : False                         \n"
     ]
    },
    {
     "name": "stderr",
     "output_type": "stream",
     "text": [
      "\u001b[32m[I 2022-02-13 00:19:25,520]\u001b[0m Trial 24 finished with value: 0.4381057919699379 and parameters: {'matching_threshold': 0.8215234029612554, 'matching_budget': 2, 'tracker_max_iou_distance': 0.7196473839861591, 'tracker_max_age': 15, 'tracker_n_init': 7, 'std_weight_position': 200, 'std_weight_velocity': 300}. Best is trial 0 with value: 0.4381057919699379.\u001b[0m\n"
     ]
    },
    {
     "name": "stdout",
     "output_type": "stream",
     "text": [
      "\n",
      "MotChallenge2DBox Config:\n",
      "GT_FOLDER            : /home/ubuntu/ibrahim/master/datasets/MOT_GT/\n",
      "TRACKERS_FOLDER      : /home/ubuntu/ibrahim/master/results/ssd_final_embeddings/\n",
      "OUTPUT_FOLDER        : None                          \n",
      "TRACKERS_TO_EVAL     : None                          \n",
      "CLASSES_TO_EVAL      : ['vehicle']                   \n",
      "BENCHMARK            : MOT17                         \n",
      "SPLIT_TO_EVAL        : train                         \n",
      "INPUT_AS_ZIP         : False                         \n",
      "PRINT_CONFIG         : True                          \n",
      "DO_PREPROC           : False                         \n",
      "TRACKER_SUB_FOLDER   : data                          \n",
      "OUTPUT_SUB_FOLDER    :                               \n",
      "TRACKER_DISPLAY_NAMES : None                          \n",
      "SEQMAP_FOLDER        : None                          \n",
      "SEQMAP_FILE          : None                          \n",
      "SEQ_INFO             : None                          \n",
      "GT_LOC_FORMAT        : {gt_folder}/{seq}/gt/gt.txt   \n",
      "SKIP_SPLIT_FOL       : False                         \n"
     ]
    },
    {
     "name": "stderr",
     "output_type": "stream",
     "text": [
      "\u001b[32m[I 2022-02-13 00:19:38,818]\u001b[0m Trial 25 finished with value: 0.4381057919699379 and parameters: {'matching_threshold': 0.6128188058006346, 'matching_budget': 3, 'tracker_max_iou_distance': 0.7546836256931768, 'tracker_max_age': 20, 'tracker_n_init': 1, 'std_weight_position': 150, 'std_weight_velocity': 212}. Best is trial 0 with value: 0.4381057919699379.\u001b[0m\n"
     ]
    },
    {
     "name": "stdout",
     "output_type": "stream",
     "text": [
      "\n",
      "MotChallenge2DBox Config:\n",
      "GT_FOLDER            : /home/ubuntu/ibrahim/master/datasets/MOT_GT/\n",
      "TRACKERS_FOLDER      : /home/ubuntu/ibrahim/master/results/ssd_final_embeddings/\n",
      "OUTPUT_FOLDER        : None                          \n",
      "TRACKERS_TO_EVAL     : None                          \n",
      "CLASSES_TO_EVAL      : ['vehicle']                   \n",
      "BENCHMARK            : MOT17                         \n",
      "SPLIT_TO_EVAL        : train                         \n",
      "INPUT_AS_ZIP         : False                         \n",
      "PRINT_CONFIG         : True                          \n",
      "DO_PREPROC           : False                         \n",
      "TRACKER_SUB_FOLDER   : data                          \n",
      "OUTPUT_SUB_FOLDER    :                               \n",
      "TRACKER_DISPLAY_NAMES : None                          \n",
      "SEQMAP_FOLDER        : None                          \n",
      "SEQMAP_FILE          : None                          \n",
      "SEQ_INFO             : None                          \n",
      "GT_LOC_FORMAT        : {gt_folder}/{seq}/gt/gt.txt   \n",
      "SKIP_SPLIT_FOL       : False                         \n"
     ]
    },
    {
     "name": "stderr",
     "output_type": "stream",
     "text": [
      "\u001b[32m[I 2022-02-13 00:19:47,955]\u001b[0m Trial 26 finished with value: 0.4381057919699379 and parameters: {'matching_threshold': 0.664951192818339, 'matching_budget': 4, 'tracker_max_iou_distance': 0.3018179243522277, 'tracker_max_age': 8, 'tracker_n_init': 5, 'std_weight_position': 110, 'std_weight_velocity': 111}. Best is trial 0 with value: 0.4381057919699379.\u001b[0m\n"
     ]
    },
    {
     "name": "stdout",
     "output_type": "stream",
     "text": [
      "\n",
      "MotChallenge2DBox Config:\n",
      "GT_FOLDER            : /home/ubuntu/ibrahim/master/datasets/MOT_GT/\n",
      "TRACKERS_FOLDER      : /home/ubuntu/ibrahim/master/results/ssd_final_embeddings/\n",
      "OUTPUT_FOLDER        : None                          \n",
      "TRACKERS_TO_EVAL     : None                          \n",
      "CLASSES_TO_EVAL      : ['vehicle']                   \n",
      "BENCHMARK            : MOT17                         \n",
      "SPLIT_TO_EVAL        : train                         \n",
      "INPUT_AS_ZIP         : False                         \n",
      "PRINT_CONFIG         : True                          \n",
      "DO_PREPROC           : False                         \n",
      "TRACKER_SUB_FOLDER   : data                          \n",
      "OUTPUT_SUB_FOLDER    :                               \n",
      "TRACKER_DISPLAY_NAMES : None                          \n",
      "SEQMAP_FOLDER        : None                          \n",
      "SEQMAP_FILE          : None                          \n",
      "SEQ_INFO             : None                          \n",
      "GT_LOC_FORMAT        : {gt_folder}/{seq}/gt/gt.txt   \n",
      "SKIP_SPLIT_FOL       : False                         \n"
     ]
    },
    {
     "name": "stderr",
     "output_type": "stream",
     "text": [
      "\u001b[32m[I 2022-02-13 00:19:56,979]\u001b[0m Trial 27 finished with value: 0.4381057919699379 and parameters: {'matching_threshold': 0.818160183762342, 'matching_budget': 2, 'tracker_max_iou_distance': 0.7093255715583351, 'tracker_max_age': 5, 'tracker_n_init': 6, 'std_weight_position': 197, 'std_weight_velocity': 174}. Best is trial 0 with value: 0.4381057919699379.\u001b[0m\n"
     ]
    },
    {
     "name": "stdout",
     "output_type": "stream",
     "text": [
      "\n",
      "MotChallenge2DBox Config:\n",
      "GT_FOLDER            : /home/ubuntu/ibrahim/master/datasets/MOT_GT/\n",
      "TRACKERS_FOLDER      : /home/ubuntu/ibrahim/master/results/ssd_final_embeddings/\n",
      "OUTPUT_FOLDER        : None                          \n",
      "TRACKERS_TO_EVAL     : None                          \n",
      "CLASSES_TO_EVAL      : ['vehicle']                   \n",
      "BENCHMARK            : MOT17                         \n",
      "SPLIT_TO_EVAL        : train                         \n",
      "INPUT_AS_ZIP         : False                         \n",
      "PRINT_CONFIG         : True                          \n",
      "DO_PREPROC           : False                         \n",
      "TRACKER_SUB_FOLDER   : data                          \n",
      "OUTPUT_SUB_FOLDER    :                               \n",
      "TRACKER_DISPLAY_NAMES : None                          \n",
      "SEQMAP_FOLDER        : None                          \n",
      "SEQMAP_FILE          : None                          \n",
      "SEQ_INFO             : None                          \n",
      "GT_LOC_FORMAT        : {gt_folder}/{seq}/gt/gt.txt   \n",
      "SKIP_SPLIT_FOL       : False                         \n"
     ]
    },
    {
     "name": "stderr",
     "output_type": "stream",
     "text": [
      "\u001b[32m[I 2022-02-13 00:20:09,065]\u001b[0m Trial 28 finished with value: 0.4381057919699379 and parameters: {'matching_threshold': 0.44745813183155475, 'matching_budget': 2, 'tracker_max_iou_distance': 0.7445149419524325, 'tracker_max_age': 19, 'tracker_n_init': 1, 'std_weight_position': 144, 'std_weight_velocity': 323}. Best is trial 0 with value: 0.4381057919699379.\u001b[0m\n"
     ]
    },
    {
     "name": "stdout",
     "output_type": "stream",
     "text": [
      "\n",
      "MotChallenge2DBox Config:\n",
      "GT_FOLDER            : /home/ubuntu/ibrahim/master/datasets/MOT_GT/\n",
      "TRACKERS_FOLDER      : /home/ubuntu/ibrahim/master/results/ssd_final_embeddings/\n",
      "OUTPUT_FOLDER        : None                          \n",
      "TRACKERS_TO_EVAL     : None                          \n",
      "CLASSES_TO_EVAL      : ['vehicle']                   \n",
      "BENCHMARK            : MOT17                         \n",
      "SPLIT_TO_EVAL        : train                         \n",
      "INPUT_AS_ZIP         : False                         \n",
      "PRINT_CONFIG         : True                          \n",
      "DO_PREPROC           : False                         \n",
      "TRACKER_SUB_FOLDER   : data                          \n",
      "OUTPUT_SUB_FOLDER    :                               \n",
      "TRACKER_DISPLAY_NAMES : None                          \n",
      "SEQMAP_FOLDER        : None                          \n",
      "SEQMAP_FILE          : None                          \n",
      "SEQ_INFO             : None                          \n",
      "GT_LOC_FORMAT        : {gt_folder}/{seq}/gt/gt.txt   \n",
      "SKIP_SPLIT_FOL       : False                         \n"
     ]
    },
    {
     "name": "stderr",
     "output_type": "stream",
     "text": [
      "\u001b[32m[I 2022-02-13 00:20:18,584]\u001b[0m Trial 29 finished with value: 0.4381057919699379 and parameters: {'matching_threshold': 0.6710242946768635, 'matching_budget': 4, 'tracker_max_iou_distance': 0.8396340243466962, 'tracker_max_age': 8, 'tracker_n_init': 3, 'std_weight_position': 165, 'std_weight_velocity': 206}. Best is trial 0 with value: 0.4381057919699379.\u001b[0m\n"
     ]
    },
    {
     "name": "stdout",
     "output_type": "stream",
     "text": [
      "\n",
      "MotChallenge2DBox Config:\n",
      "GT_FOLDER            : /home/ubuntu/ibrahim/master/datasets/MOT_GT/\n",
      "TRACKERS_FOLDER      : /home/ubuntu/ibrahim/master/results/ssd_final_embeddings/\n",
      "OUTPUT_FOLDER        : None                          \n",
      "TRACKERS_TO_EVAL     : None                          \n",
      "CLASSES_TO_EVAL      : ['vehicle']                   \n",
      "BENCHMARK            : MOT17                         \n",
      "SPLIT_TO_EVAL        : train                         \n",
      "INPUT_AS_ZIP         : False                         \n",
      "PRINT_CONFIG         : True                          \n",
      "DO_PREPROC           : False                         \n",
      "TRACKER_SUB_FOLDER   : data                          \n",
      "OUTPUT_SUB_FOLDER    :                               \n",
      "TRACKER_DISPLAY_NAMES : None                          \n",
      "SEQMAP_FOLDER        : None                          \n",
      "SEQMAP_FILE          : None                          \n",
      "SEQ_INFO             : None                          \n",
      "GT_LOC_FORMAT        : {gt_folder}/{seq}/gt/gt.txt   \n",
      "SKIP_SPLIT_FOL       : False                         \n"
     ]
    },
    {
     "name": "stderr",
     "output_type": "stream",
     "text": [
      "\u001b[32m[I 2022-02-13 00:20:27,390]\u001b[0m Trial 30 finished with value: 0.4381057919699379 and parameters: {'matching_threshold': 0.8923381341457006, 'matching_budget': 1, 'tracker_max_iou_distance': 0.5699558205853937, 'tracker_max_age': 7, 'tracker_n_init': 5, 'std_weight_position': 180, 'std_weight_velocity': 168}. Best is trial 0 with value: 0.4381057919699379.\u001b[0m\n"
     ]
    },
    {
     "name": "stdout",
     "output_type": "stream",
     "text": [
      "\n",
      "MotChallenge2DBox Config:\n",
      "GT_FOLDER            : /home/ubuntu/ibrahim/master/datasets/MOT_GT/\n",
      "TRACKERS_FOLDER      : /home/ubuntu/ibrahim/master/results/ssd_final_embeddings/\n",
      "OUTPUT_FOLDER        : None                          \n",
      "TRACKERS_TO_EVAL     : None                          \n",
      "CLASSES_TO_EVAL      : ['vehicle']                   \n",
      "BENCHMARK            : MOT17                         \n",
      "SPLIT_TO_EVAL        : train                         \n",
      "INPUT_AS_ZIP         : False                         \n",
      "PRINT_CONFIG         : True                          \n",
      "DO_PREPROC           : False                         \n",
      "TRACKER_SUB_FOLDER   : data                          \n",
      "OUTPUT_SUB_FOLDER    :                               \n",
      "TRACKER_DISPLAY_NAMES : None                          \n",
      "SEQMAP_FOLDER        : None                          \n",
      "SEQMAP_FILE          : None                          \n",
      "SEQ_INFO             : None                          \n",
      "GT_LOC_FORMAT        : {gt_folder}/{seq}/gt/gt.txt   \n",
      "SKIP_SPLIT_FOL       : False                         \n"
     ]
    },
    {
     "name": "stderr",
     "output_type": "stream",
     "text": [
      "\u001b[32m[I 2022-02-13 00:20:36,872]\u001b[0m Trial 31 finished with value: 0.4381057919699379 and parameters: {'matching_threshold': 0.4130257123956011, 'matching_budget': 2, 'tracker_max_iou_distance': 0.6982373474261507, 'tracker_max_age': 9, 'tracker_n_init': 3, 'std_weight_position': 140, 'std_weight_velocity': 398}. Best is trial 0 with value: 0.4381057919699379.\u001b[0m\n"
     ]
    },
    {
     "name": "stdout",
     "output_type": "stream",
     "text": [
      "\n",
      "MotChallenge2DBox Config:\n",
      "GT_FOLDER            : /home/ubuntu/ibrahim/master/datasets/MOT_GT/\n",
      "TRACKERS_FOLDER      : /home/ubuntu/ibrahim/master/results/ssd_final_embeddings/\n",
      "OUTPUT_FOLDER        : None                          \n",
      "TRACKERS_TO_EVAL     : None                          \n",
      "CLASSES_TO_EVAL      : ['vehicle']                   \n",
      "BENCHMARK            : MOT17                         \n",
      "SPLIT_TO_EVAL        : train                         \n",
      "INPUT_AS_ZIP         : False                         \n",
      "PRINT_CONFIG         : True                          \n",
      "DO_PREPROC           : False                         \n",
      "TRACKER_SUB_FOLDER   : data                          \n",
      "OUTPUT_SUB_FOLDER    :                               \n",
      "TRACKER_DISPLAY_NAMES : None                          \n",
      "SEQMAP_FOLDER        : None                          \n",
      "SEQMAP_FILE          : None                          \n",
      "SEQ_INFO             : None                          \n",
      "GT_LOC_FORMAT        : {gt_folder}/{seq}/gt/gt.txt   \n",
      "SKIP_SPLIT_FOL       : False                         \n"
     ]
    },
    {
     "name": "stderr",
     "output_type": "stream",
     "text": [
      "\u001b[32m[I 2022-02-13 00:20:49,829]\u001b[0m Trial 32 finished with value: 0.4381057919699379 and parameters: {'matching_threshold': 0.4496690864417225, 'matching_budget': 1, 'tracker_max_iou_distance': 0.8321773569449702, 'tracker_max_age': 21, 'tracker_n_init': 1, 'std_weight_position': 171, 'std_weight_velocity': 170}. Best is trial 0 with value: 0.4381057919699379.\u001b[0m\n"
     ]
    },
    {
     "name": "stdout",
     "output_type": "stream",
     "text": [
      "\n",
      "MotChallenge2DBox Config:\n",
      "GT_FOLDER            : /home/ubuntu/ibrahim/master/datasets/MOT_GT/\n",
      "TRACKERS_FOLDER      : /home/ubuntu/ibrahim/master/results/ssd_final_embeddings/\n",
      "OUTPUT_FOLDER        : None                          \n",
      "TRACKERS_TO_EVAL     : None                          \n",
      "CLASSES_TO_EVAL      : ['vehicle']                   \n",
      "BENCHMARK            : MOT17                         \n",
      "SPLIT_TO_EVAL        : train                         \n",
      "INPUT_AS_ZIP         : False                         \n",
      "PRINT_CONFIG         : True                          \n",
      "DO_PREPROC           : False                         \n",
      "TRACKER_SUB_FOLDER   : data                          \n",
      "OUTPUT_SUB_FOLDER    :                               \n",
      "TRACKER_DISPLAY_NAMES : None                          \n",
      "SEQMAP_FOLDER        : None                          \n",
      "SEQMAP_FILE          : None                          \n",
      "SEQ_INFO             : None                          \n",
      "GT_LOC_FORMAT        : {gt_folder}/{seq}/gt/gt.txt   \n",
      "SKIP_SPLIT_FOL       : False                         \n"
     ]
    },
    {
     "name": "stderr",
     "output_type": "stream",
     "text": [
      "\u001b[32m[I 2022-02-13 00:20:59,580]\u001b[0m Trial 33 finished with value: 0.4381057919699379 and parameters: {'matching_threshold': 0.35764594665781535, 'matching_budget': 1, 'tracker_max_iou_distance': 0.5699585648403976, 'tracker_max_age': 9, 'tracker_n_init': 3, 'std_weight_position': 172, 'std_weight_velocity': 323}. Best is trial 0 with value: 0.4381057919699379.\u001b[0m\n"
     ]
    },
    {
     "name": "stdout",
     "output_type": "stream",
     "text": [
      "\n",
      "MotChallenge2DBox Config:\n",
      "GT_FOLDER            : /home/ubuntu/ibrahim/master/datasets/MOT_GT/\n",
      "TRACKERS_FOLDER      : /home/ubuntu/ibrahim/master/results/ssd_final_embeddings/\n",
      "OUTPUT_FOLDER        : None                          \n",
      "TRACKERS_TO_EVAL     : None                          \n",
      "CLASSES_TO_EVAL      : ['vehicle']                   \n",
      "BENCHMARK            : MOT17                         \n",
      "SPLIT_TO_EVAL        : train                         \n",
      "INPUT_AS_ZIP         : False                         \n",
      "PRINT_CONFIG         : True                          \n",
      "DO_PREPROC           : False                         \n",
      "TRACKER_SUB_FOLDER   : data                          \n",
      "OUTPUT_SUB_FOLDER    :                               \n",
      "TRACKER_DISPLAY_NAMES : None                          \n",
      "SEQMAP_FOLDER        : None                          \n",
      "SEQMAP_FILE          : None                          \n",
      "SEQ_INFO             : None                          \n",
      "GT_LOC_FORMAT        : {gt_folder}/{seq}/gt/gt.txt   \n",
      "SKIP_SPLIT_FOL       : False                         \n"
     ]
    },
    {
     "name": "stderr",
     "output_type": "stream",
     "text": [
      "\u001b[32m[I 2022-02-13 00:21:09,035]\u001b[0m Trial 34 finished with value: 0.4381057919699379 and parameters: {'matching_threshold': 0.8996132831918016, 'matching_budget': 1, 'tracker_max_iou_distance': 0.6228193534972659, 'tracker_max_age': 8, 'tracker_n_init': 3, 'std_weight_position': 184, 'std_weight_velocity': 400}. Best is trial 0 with value: 0.4381057919699379.\u001b[0m\n"
     ]
    },
    {
     "name": "stdout",
     "output_type": "stream",
     "text": [
      "\n",
      "MotChallenge2DBox Config:\n",
      "GT_FOLDER            : /home/ubuntu/ibrahim/master/datasets/MOT_GT/\n",
      "TRACKERS_FOLDER      : /home/ubuntu/ibrahim/master/results/ssd_final_embeddings/\n",
      "OUTPUT_FOLDER        : None                          \n",
      "TRACKERS_TO_EVAL     : None                          \n",
      "CLASSES_TO_EVAL      : ['vehicle']                   \n",
      "BENCHMARK            : MOT17                         \n",
      "SPLIT_TO_EVAL        : train                         \n",
      "INPUT_AS_ZIP         : False                         \n",
      "PRINT_CONFIG         : True                          \n",
      "DO_PREPROC           : False                         \n",
      "TRACKER_SUB_FOLDER   : data                          \n",
      "OUTPUT_SUB_FOLDER    :                               \n",
      "TRACKER_DISPLAY_NAMES : None                          \n",
      "SEQMAP_FOLDER        : None                          \n",
      "SEQMAP_FILE          : None                          \n",
      "SEQ_INFO             : None                          \n",
      "GT_LOC_FORMAT        : {gt_folder}/{seq}/gt/gt.txt   \n",
      "SKIP_SPLIT_FOL       : False                         \n"
     ]
    },
    {
     "name": "stderr",
     "output_type": "stream",
     "text": [
      "\u001b[32m[I 2022-02-13 00:21:17,938]\u001b[0m Trial 35 finished with value: 0.4381057919699379 and parameters: {'matching_threshold': 0.7522048604848157, 'matching_budget': 10, 'tracker_max_iou_distance': 0.6659703265491567, 'tracker_max_age': 28, 'tracker_n_init': 8, 'std_weight_position': 37, 'std_weight_velocity': 57}. Best is trial 0 with value: 0.4381057919699379.\u001b[0m\n"
     ]
    },
    {
     "name": "stdout",
     "output_type": "stream",
     "text": [
      "\n",
      "MotChallenge2DBox Config:\n",
      "GT_FOLDER            : /home/ubuntu/ibrahim/master/datasets/MOT_GT/\n",
      "TRACKERS_FOLDER      : /home/ubuntu/ibrahim/master/results/ssd_final_embeddings/\n",
      "OUTPUT_FOLDER        : None                          \n",
      "TRACKERS_TO_EVAL     : None                          \n",
      "CLASSES_TO_EVAL      : ['vehicle']                   \n",
      "BENCHMARK            : MOT17                         \n",
      "SPLIT_TO_EVAL        : train                         \n",
      "INPUT_AS_ZIP         : False                         \n",
      "PRINT_CONFIG         : True                          \n",
      "DO_PREPROC           : False                         \n",
      "TRACKER_SUB_FOLDER   : data                          \n",
      "OUTPUT_SUB_FOLDER    :                               \n",
      "TRACKER_DISPLAY_NAMES : None                          \n",
      "SEQMAP_FOLDER        : None                          \n",
      "SEQMAP_FILE          : None                          \n",
      "SEQ_INFO             : None                          \n",
      "GT_LOC_FORMAT        : {gt_folder}/{seq}/gt/gt.txt   \n",
      "SKIP_SPLIT_FOL       : False                         \n"
     ]
    },
    {
     "name": "stderr",
     "output_type": "stream",
     "text": [
      "\u001b[32m[I 2022-02-13 00:21:26,613]\u001b[0m Trial 36 finished with value: 0.4381057919699379 and parameters: {'matching_threshold': 0.6008611589111313, 'matching_budget': 7, 'tracker_max_iou_distance': 0.8252779879024491, 'tracker_max_age': 13, 'tracker_n_init': 9, 'std_weight_position': 77, 'std_weight_velocity': 282}. Best is trial 0 with value: 0.4381057919699379.\u001b[0m\n"
     ]
    },
    {
     "name": "stdout",
     "output_type": "stream",
     "text": [
      "\n",
      "MotChallenge2DBox Config:\n",
      "GT_FOLDER            : /home/ubuntu/ibrahim/master/datasets/MOT_GT/\n",
      "TRACKERS_FOLDER      : /home/ubuntu/ibrahim/master/results/ssd_final_embeddings/\n",
      "OUTPUT_FOLDER        : None                          \n",
      "TRACKERS_TO_EVAL     : None                          \n",
      "CLASSES_TO_EVAL      : ['vehicle']                   \n",
      "BENCHMARK            : MOT17                         \n",
      "SPLIT_TO_EVAL        : train                         \n",
      "INPUT_AS_ZIP         : False                         \n",
      "PRINT_CONFIG         : True                          \n",
      "DO_PREPROC           : False                         \n",
      "TRACKER_SUB_FOLDER   : data                          \n",
      "OUTPUT_SUB_FOLDER    :                               \n",
      "TRACKER_DISPLAY_NAMES : None                          \n",
      "SEQMAP_FOLDER        : None                          \n",
      "SEQMAP_FILE          : None                          \n",
      "SEQ_INFO             : None                          \n",
      "GT_LOC_FORMAT        : {gt_folder}/{seq}/gt/gt.txt   \n",
      "SKIP_SPLIT_FOL       : False                         \n"
     ]
    },
    {
     "name": "stderr",
     "output_type": "stream",
     "text": [
      "\u001b[32m[I 2022-02-13 00:21:37,233]\u001b[0m Trial 37 finished with value: 0.4381057919699379 and parameters: {'matching_threshold': 0.7130271585729577, 'matching_budget': 3, 'tracker_max_iou_distance': 0.674899524161456, 'tracker_max_age': 30, 'tracker_n_init': 10, 'std_weight_position': 114, 'std_weight_velocity': 233}. Best is trial 0 with value: 0.4381057919699379.\u001b[0m\n"
     ]
    },
    {
     "name": "stdout",
     "output_type": "stream",
     "text": [
      "\n",
      "MotChallenge2DBox Config:\n",
      "GT_FOLDER            : /home/ubuntu/ibrahim/master/datasets/MOT_GT/\n",
      "TRACKERS_FOLDER      : /home/ubuntu/ibrahim/master/results/ssd_final_embeddings/\n",
      "OUTPUT_FOLDER        : None                          \n",
      "TRACKERS_TO_EVAL     : None                          \n",
      "CLASSES_TO_EVAL      : ['vehicle']                   \n",
      "BENCHMARK            : MOT17                         \n",
      "SPLIT_TO_EVAL        : train                         \n",
      "INPUT_AS_ZIP         : False                         \n",
      "PRINT_CONFIG         : True                          \n",
      "DO_PREPROC           : False                         \n",
      "TRACKER_SUB_FOLDER   : data                          \n",
      "OUTPUT_SUB_FOLDER    :                               \n",
      "TRACKER_DISPLAY_NAMES : None                          \n",
      "SEQMAP_FOLDER        : None                          \n",
      "SEQMAP_FILE          : None                          \n",
      "SEQ_INFO             : None                          \n",
      "GT_LOC_FORMAT        : {gt_folder}/{seq}/gt/gt.txt   \n",
      "SKIP_SPLIT_FOL       : False                         \n"
     ]
    },
    {
     "name": "stderr",
     "output_type": "stream",
     "text": [
      "\u001b[32m[I 2022-02-13 00:21:49,219]\u001b[0m Trial 38 finished with value: 0.4381057919699379 and parameters: {'matching_threshold': 0.5724588645381266, 'matching_budget': 5, 'tracker_max_iou_distance': 0.35753831060988495, 'tracker_max_age': 36, 'tracker_n_init': 6, 'std_weight_position': 157, 'std_weight_velocity': 75}. Best is trial 0 with value: 0.4381057919699379.\u001b[0m\n"
     ]
    },
    {
     "name": "stdout",
     "output_type": "stream",
     "text": [
      "\n",
      "MotChallenge2DBox Config:\n",
      "GT_FOLDER            : /home/ubuntu/ibrahim/master/datasets/MOT_GT/\n",
      "TRACKERS_FOLDER      : /home/ubuntu/ibrahim/master/results/ssd_final_embeddings/\n",
      "OUTPUT_FOLDER        : None                          \n",
      "TRACKERS_TO_EVAL     : None                          \n",
      "CLASSES_TO_EVAL      : ['vehicle']                   \n",
      "BENCHMARK            : MOT17                         \n",
      "SPLIT_TO_EVAL        : train                         \n",
      "INPUT_AS_ZIP         : False                         \n",
      "PRINT_CONFIG         : True                          \n",
      "DO_PREPROC           : False                         \n",
      "TRACKER_SUB_FOLDER   : data                          \n",
      "OUTPUT_SUB_FOLDER    :                               \n",
      "TRACKER_DISPLAY_NAMES : None                          \n",
      "SEQMAP_FOLDER        : None                          \n",
      "SEQMAP_FILE          : None                          \n",
      "SEQ_INFO             : None                          \n",
      "GT_LOC_FORMAT        : {gt_folder}/{seq}/gt/gt.txt   \n",
      "SKIP_SPLIT_FOL       : False                         \n"
     ]
    },
    {
     "name": "stderr",
     "output_type": "stream",
     "text": [
      "\u001b[32m[I 2022-02-13 00:21:59,215]\u001b[0m Trial 39 finished with value: 0.4381057919699379 and parameters: {'matching_threshold': 0.7986336770536084, 'matching_budget': 4, 'tracker_max_iou_distance': 0.3408962467423131, 'tracker_max_age': 27, 'tracker_n_init': 9, 'std_weight_position': 98, 'std_weight_velocity': 93}. Best is trial 0 with value: 0.4381057919699379.\u001b[0m\n"
     ]
    },
    {
     "name": "stdout",
     "output_type": "stream",
     "text": [
      "\n",
      "MotChallenge2DBox Config:\n",
      "GT_FOLDER            : /home/ubuntu/ibrahim/master/datasets/MOT_GT/\n",
      "TRACKERS_FOLDER      : /home/ubuntu/ibrahim/master/results/ssd_final_embeddings/\n",
      "OUTPUT_FOLDER        : None                          \n",
      "TRACKERS_TO_EVAL     : None                          \n",
      "CLASSES_TO_EVAL      : ['vehicle']                   \n",
      "BENCHMARK            : MOT17                         \n",
      "SPLIT_TO_EVAL        : train                         \n",
      "INPUT_AS_ZIP         : False                         \n",
      "PRINT_CONFIG         : True                          \n",
      "DO_PREPROC           : False                         \n",
      "TRACKER_SUB_FOLDER   : data                          \n",
      "OUTPUT_SUB_FOLDER    :                               \n",
      "TRACKER_DISPLAY_NAMES : None                          \n",
      "SEQMAP_FOLDER        : None                          \n",
      "SEQMAP_FILE          : None                          \n",
      "SEQ_INFO             : None                          \n",
      "GT_LOC_FORMAT        : {gt_folder}/{seq}/gt/gt.txt   \n",
      "SKIP_SPLIT_FOL       : False                         \n"
     ]
    },
    {
     "name": "stderr",
     "output_type": "stream",
     "text": [
      "\u001b[32m[I 2022-02-13 00:22:11,829]\u001b[0m Trial 40 finished with value: 0.4381057919699379 and parameters: {'matching_threshold': 0.8422792676152371, 'matching_budget': 5, 'tracker_max_iou_distance': 0.4148622455200692, 'tracker_max_age': 35, 'tracker_n_init': 7, 'std_weight_position': 200, 'std_weight_velocity': 262}. Best is trial 0 with value: 0.4381057919699379.\u001b[0m\n"
     ]
    },
    {
     "name": "stdout",
     "output_type": "stream",
     "text": [
      "\n",
      "MotChallenge2DBox Config:\n",
      "GT_FOLDER            : /home/ubuntu/ibrahim/master/datasets/MOT_GT/\n",
      "TRACKERS_FOLDER      : /home/ubuntu/ibrahim/master/results/ssd_final_embeddings/\n",
      "OUTPUT_FOLDER        : None                          \n",
      "TRACKERS_TO_EVAL     : None                          \n",
      "CLASSES_TO_EVAL      : ['vehicle']                   \n",
      "BENCHMARK            : MOT17                         \n",
      "SPLIT_TO_EVAL        : train                         \n",
      "INPUT_AS_ZIP         : False                         \n",
      "PRINT_CONFIG         : True                          \n",
      "DO_PREPROC           : False                         \n",
      "TRACKER_SUB_FOLDER   : data                          \n",
      "OUTPUT_SUB_FOLDER    :                               \n",
      "TRACKER_DISPLAY_NAMES : None                          \n",
      "SEQMAP_FOLDER        : None                          \n",
      "SEQMAP_FILE          : None                          \n",
      "SEQ_INFO             : None                          \n",
      "GT_LOC_FORMAT        : {gt_folder}/{seq}/gt/gt.txt   \n",
      "SKIP_SPLIT_FOL       : False                         \n"
     ]
    },
    {
     "name": "stderr",
     "output_type": "stream",
     "text": [
      "\u001b[32m[I 2022-02-13 00:22:19,834]\u001b[0m Trial 41 finished with value: 0.4381057919699379 and parameters: {'matching_threshold': 0.6230153932833147, 'matching_budget': 2, 'tracker_max_iou_distance': 0.7447175323131084, 'tracker_max_age': 1, 'tracker_n_init': 6, 'std_weight_position': 118, 'std_weight_velocity': 208}. Best is trial 0 with value: 0.4381057919699379.\u001b[0m\n"
     ]
    },
    {
     "name": "stdout",
     "output_type": "stream",
     "text": [
      "\n",
      "MotChallenge2DBox Config:\n",
      "GT_FOLDER            : /home/ubuntu/ibrahim/master/datasets/MOT_GT/\n",
      "TRACKERS_FOLDER      : /home/ubuntu/ibrahim/master/results/ssd_final_embeddings/\n",
      "OUTPUT_FOLDER        : None                          \n",
      "TRACKERS_TO_EVAL     : None                          \n",
      "CLASSES_TO_EVAL      : ['vehicle']                   \n",
      "BENCHMARK            : MOT17                         \n",
      "SPLIT_TO_EVAL        : train                         \n",
      "INPUT_AS_ZIP         : False                         \n",
      "PRINT_CONFIG         : True                          \n",
      "DO_PREPROC           : False                         \n",
      "TRACKER_SUB_FOLDER   : data                          \n",
      "OUTPUT_SUB_FOLDER    :                               \n",
      "TRACKER_DISPLAY_NAMES : None                          \n",
      "SEQMAP_FOLDER        : None                          \n",
      "SEQMAP_FILE          : None                          \n",
      "SEQ_INFO             : None                          \n",
      "GT_LOC_FORMAT        : {gt_folder}/{seq}/gt/gt.txt   \n",
      "SKIP_SPLIT_FOL       : False                         \n"
     ]
    },
    {
     "name": "stderr",
     "output_type": "stream",
     "text": [
      "\u001b[32m[I 2022-02-13 00:22:30,423]\u001b[0m Trial 42 finished with value: 0.4381057919699379 and parameters: {'matching_threshold': 0.6574630751264338, 'matching_budget': 4, 'tracker_max_iou_distance': 0.7556529390984565, 'tracker_max_age': 23, 'tracker_n_init': 5, 'std_weight_position': 109, 'std_weight_velocity': 121}. Best is trial 0 with value: 0.4381057919699379.\u001b[0m\n"
     ]
    },
    {
     "name": "stdout",
     "output_type": "stream",
     "text": [
      "\n",
      "MotChallenge2DBox Config:\n",
      "GT_FOLDER            : /home/ubuntu/ibrahim/master/datasets/MOT_GT/\n",
      "TRACKERS_FOLDER      : /home/ubuntu/ibrahim/master/results/ssd_final_embeddings/\n",
      "OUTPUT_FOLDER        : None                          \n",
      "TRACKERS_TO_EVAL     : None                          \n",
      "CLASSES_TO_EVAL      : ['vehicle']                   \n",
      "BENCHMARK            : MOT17                         \n",
      "SPLIT_TO_EVAL        : train                         \n",
      "INPUT_AS_ZIP         : False                         \n",
      "PRINT_CONFIG         : True                          \n",
      "DO_PREPROC           : False                         \n",
      "TRACKER_SUB_FOLDER   : data                          \n",
      "OUTPUT_SUB_FOLDER    :                               \n",
      "TRACKER_DISPLAY_NAMES : None                          \n",
      "SEQMAP_FOLDER        : None                          \n",
      "SEQMAP_FILE          : None                          \n",
      "SEQ_INFO             : None                          \n",
      "GT_LOC_FORMAT        : {gt_folder}/{seq}/gt/gt.txt   \n",
      "SKIP_SPLIT_FOL       : False                         \n"
     ]
    },
    {
     "name": "stderr",
     "output_type": "stream",
     "text": [
      "\u001b[32m[I 2022-02-13 00:22:38,443]\u001b[0m Trial 43 finished with value: 0.4381057919699379 and parameters: {'matching_threshold': 0.6874568960551166, 'matching_budget': 6, 'tracker_max_iou_distance': 0.3949356198051539, 'tracker_max_age': 1, 'tracker_n_init': 7, 'std_weight_position': 133, 'std_weight_velocity': 98}. Best is trial 0 with value: 0.4381057919699379.\u001b[0m\n"
     ]
    },
    {
     "name": "stdout",
     "output_type": "stream",
     "text": [
      "\n",
      "MotChallenge2DBox Config:\n",
      "GT_FOLDER            : /home/ubuntu/ibrahim/master/datasets/MOT_GT/\n",
      "TRACKERS_FOLDER      : /home/ubuntu/ibrahim/master/results/ssd_final_embeddings/\n",
      "OUTPUT_FOLDER        : None                          \n",
      "TRACKERS_TO_EVAL     : None                          \n",
      "CLASSES_TO_EVAL      : ['vehicle']                   \n",
      "BENCHMARK            : MOT17                         \n",
      "SPLIT_TO_EVAL        : train                         \n",
      "INPUT_AS_ZIP         : False                         \n",
      "PRINT_CONFIG         : True                          \n",
      "DO_PREPROC           : False                         \n",
      "TRACKER_SUB_FOLDER   : data                          \n",
      "OUTPUT_SUB_FOLDER    :                               \n",
      "TRACKER_DISPLAY_NAMES : None                          \n",
      "SEQMAP_FOLDER        : None                          \n",
      "SEQMAP_FILE          : None                          \n",
      "SEQ_INFO             : None                          \n",
      "GT_LOC_FORMAT        : {gt_folder}/{seq}/gt/gt.txt   \n",
      "SKIP_SPLIT_FOL       : False                         \n"
     ]
    },
    {
     "name": "stderr",
     "output_type": "stream",
     "text": [
      "\u001b[32m[I 2022-02-13 00:23:04,253]\u001b[0m Trial 44 finished with value: 0.4381057919699379 and parameters: {'matching_threshold': 0.8400010973945441, 'matching_budget': 0, 'tracker_max_iou_distance': 0.7122567165563456, 'tracker_max_age': 5, 'tracker_n_init': 6, 'std_weight_position': 187, 'std_weight_velocity': 169}. Best is trial 0 with value: 0.4381057919699379.\u001b[0m\n"
     ]
    },
    {
     "name": "stdout",
     "output_type": "stream",
     "text": [
      "\n",
      "MotChallenge2DBox Config:\n",
      "GT_FOLDER            : /home/ubuntu/ibrahim/master/datasets/MOT_GT/\n",
      "TRACKERS_FOLDER      : /home/ubuntu/ibrahim/master/results/ssd_final_embeddings/\n",
      "OUTPUT_FOLDER        : None                          \n",
      "TRACKERS_TO_EVAL     : None                          \n",
      "CLASSES_TO_EVAL      : ['vehicle']                   \n",
      "BENCHMARK            : MOT17                         \n",
      "SPLIT_TO_EVAL        : train                         \n",
      "INPUT_AS_ZIP         : False                         \n",
      "PRINT_CONFIG         : True                          \n",
      "DO_PREPROC           : False                         \n",
      "TRACKER_SUB_FOLDER   : data                          \n",
      "OUTPUT_SUB_FOLDER    :                               \n",
      "TRACKER_DISPLAY_NAMES : None                          \n",
      "SEQMAP_FOLDER        : None                          \n",
      "SEQMAP_FILE          : None                          \n",
      "SEQ_INFO             : None                          \n",
      "GT_LOC_FORMAT        : {gt_folder}/{seq}/gt/gt.txt   \n",
      "SKIP_SPLIT_FOL       : False                         \n"
     ]
    },
    {
     "name": "stderr",
     "output_type": "stream",
     "text": [
      "\u001b[32m[I 2022-02-13 00:23:13,720]\u001b[0m Trial 45 finished with value: 0.4381057919699379 and parameters: {'matching_threshold': 0.8226130093515303, 'matching_budget': 2, 'tracker_max_iou_distance': 0.7003855604024356, 'tracker_max_age': 11, 'tracker_n_init': 8, 'std_weight_position': 197, 'std_weight_velocity': 186}. Best is trial 0 with value: 0.4381057919699379.\u001b[0m\n"
     ]
    },
    {
     "name": "stdout",
     "output_type": "stream",
     "text": [
      "\n",
      "MotChallenge2DBox Config:\n",
      "GT_FOLDER            : /home/ubuntu/ibrahim/master/datasets/MOT_GT/\n",
      "TRACKERS_FOLDER      : /home/ubuntu/ibrahim/master/results/ssd_final_embeddings/\n",
      "OUTPUT_FOLDER        : None                          \n",
      "TRACKERS_TO_EVAL     : None                          \n",
      "CLASSES_TO_EVAL      : ['vehicle']                   \n",
      "BENCHMARK            : MOT17                         \n",
      "SPLIT_TO_EVAL        : train                         \n",
      "INPUT_AS_ZIP         : False                         \n",
      "PRINT_CONFIG         : True                          \n",
      "DO_PREPROC           : False                         \n",
      "TRACKER_SUB_FOLDER   : data                          \n",
      "OUTPUT_SUB_FOLDER    :                               \n",
      "TRACKER_DISPLAY_NAMES : None                          \n",
      "SEQMAP_FOLDER        : None                          \n",
      "SEQMAP_FILE          : None                          \n",
      "SEQ_INFO             : None                          \n",
      "GT_LOC_FORMAT        : {gt_folder}/{seq}/gt/gt.txt   \n",
      "SKIP_SPLIT_FOL       : False                         \n"
     ]
    },
    {
     "name": "stderr",
     "output_type": "stream",
     "text": [
      "\u001b[32m[I 2022-02-13 00:23:26,708]\u001b[0m Trial 46 finished with value: 0.4381057919699379 and parameters: {'matching_threshold': 0.4758134027278269, 'matching_budget': 3, 'tracker_max_iou_distance': 0.7640180992505726, 'tracker_max_age': 19, 'tracker_n_init': 1, 'std_weight_position': 146, 'std_weight_velocity': 123}. Best is trial 0 with value: 0.4381057919699379.\u001b[0m\n"
     ]
    },
    {
     "name": "stdout",
     "output_type": "stream",
     "text": [
      "\n",
      "MotChallenge2DBox Config:\n",
      "GT_FOLDER            : /home/ubuntu/ibrahim/master/datasets/MOT_GT/\n",
      "TRACKERS_FOLDER      : /home/ubuntu/ibrahim/master/results/ssd_final_embeddings/\n",
      "OUTPUT_FOLDER        : None                          \n",
      "TRACKERS_TO_EVAL     : None                          \n",
      "CLASSES_TO_EVAL      : ['vehicle']                   \n",
      "BENCHMARK            : MOT17                         \n",
      "SPLIT_TO_EVAL        : train                         \n",
      "INPUT_AS_ZIP         : False                         \n",
      "PRINT_CONFIG         : True                          \n",
      "DO_PREPROC           : False                         \n",
      "TRACKER_SUB_FOLDER   : data                          \n",
      "OUTPUT_SUB_FOLDER    :                               \n",
      "TRACKER_DISPLAY_NAMES : None                          \n",
      "SEQMAP_FOLDER        : None                          \n",
      "SEQMAP_FILE          : None                          \n",
      "SEQ_INFO             : None                          \n",
      "GT_LOC_FORMAT        : {gt_folder}/{seq}/gt/gt.txt   \n",
      "SKIP_SPLIT_FOL       : False                         \n"
     ]
    },
    {
     "name": "stderr",
     "output_type": "stream",
     "text": [
      "\u001b[32m[I 2022-02-13 00:23:41,573]\u001b[0m Trial 47 finished with value: 0.4381057919699379 and parameters: {'matching_threshold': 0.6264692353659466, 'matching_budget': 2, 'tracker_max_iou_distance': 0.5250171838489242, 'tracker_max_age': 24, 'tracker_n_init': 2, 'std_weight_position': 149, 'std_weight_velocity': 344}. Best is trial 0 with value: 0.4381057919699379.\u001b[0m\n"
     ]
    },
    {
     "name": "stdout",
     "output_type": "stream",
     "text": [
      "\n",
      "MotChallenge2DBox Config:\n",
      "GT_FOLDER            : /home/ubuntu/ibrahim/master/datasets/MOT_GT/\n",
      "TRACKERS_FOLDER      : /home/ubuntu/ibrahim/master/results/ssd_final_embeddings/\n",
      "OUTPUT_FOLDER        : None                          \n",
      "TRACKERS_TO_EVAL     : None                          \n",
      "CLASSES_TO_EVAL      : ['vehicle']                   \n",
      "BENCHMARK            : MOT17                         \n",
      "SPLIT_TO_EVAL        : train                         \n",
      "INPUT_AS_ZIP         : False                         \n",
      "PRINT_CONFIG         : True                          \n",
      "DO_PREPROC           : False                         \n",
      "TRACKER_SUB_FOLDER   : data                          \n",
      "OUTPUT_SUB_FOLDER    :                               \n",
      "TRACKER_DISPLAY_NAMES : None                          \n",
      "SEQMAP_FOLDER        : None                          \n",
      "SEQMAP_FILE          : None                          \n",
      "SEQ_INFO             : None                          \n",
      "GT_LOC_FORMAT        : {gt_folder}/{seq}/gt/gt.txt   \n",
      "SKIP_SPLIT_FOL       : False                         \n"
     ]
    },
    {
     "name": "stderr",
     "output_type": "stream",
     "text": [
      "\u001b[32m[I 2022-02-13 00:23:50,998]\u001b[0m Trial 48 finished with value: 0.4381057919699379 and parameters: {'matching_threshold': 0.6704299041638381, 'matching_budget': 4, 'tracker_max_iou_distance': 0.888152320433908, 'tracker_max_age': 4, 'tracker_n_init': 2, 'std_weight_position': 163, 'std_weight_velocity': 192}. Best is trial 0 with value: 0.4381057919699379.\u001b[0m\n"
     ]
    },
    {
     "name": "stdout",
     "output_type": "stream",
     "text": [
      "\n",
      "MotChallenge2DBox Config:\n",
      "GT_FOLDER            : /home/ubuntu/ibrahim/master/datasets/MOT_GT/\n",
      "TRACKERS_FOLDER      : /home/ubuntu/ibrahim/master/results/ssd_final_embeddings/\n",
      "OUTPUT_FOLDER        : None                          \n",
      "TRACKERS_TO_EVAL     : None                          \n",
      "CLASSES_TO_EVAL      : ['vehicle']                   \n",
      "BENCHMARK            : MOT17                         \n",
      "SPLIT_TO_EVAL        : train                         \n",
      "INPUT_AS_ZIP         : False                         \n",
      "PRINT_CONFIG         : True                          \n",
      "DO_PREPROC           : False                         \n",
      "TRACKER_SUB_FOLDER   : data                          \n",
      "OUTPUT_SUB_FOLDER    :                               \n",
      "TRACKER_DISPLAY_NAMES : None                          \n",
      "SEQMAP_FOLDER        : None                          \n",
      "SEQMAP_FILE          : None                          \n",
      "SEQ_INFO             : None                          \n",
      "GT_LOC_FORMAT        : {gt_folder}/{seq}/gt/gt.txt   \n",
      "SKIP_SPLIT_FOL       : False                         \n"
     ]
    },
    {
     "name": "stderr",
     "output_type": "stream",
     "text": [
      "\u001b[32m[I 2022-02-13 00:24:00,896]\u001b[0m Trial 49 finished with value: 0.4381057919699379 and parameters: {'matching_threshold': 0.5348648440752686, 'matching_budget': 4, 'tracker_max_iou_distance': 0.8490602122576987, 'tracker_max_age': 6, 'tracker_n_init': 2, 'std_weight_position': 167, 'std_weight_velocity': 148}. Best is trial 0 with value: 0.4381057919699379.\u001b[0m\n"
     ]
    },
    {
     "name": "stdout",
     "output_type": "stream",
     "text": [
      "\n",
      "MotChallenge2DBox Config:\n",
      "GT_FOLDER            : /home/ubuntu/ibrahim/master/datasets/MOT_GT/\n",
      "TRACKERS_FOLDER      : /home/ubuntu/ibrahim/master/results/ssd_final_embeddings/\n",
      "OUTPUT_FOLDER        : None                          \n",
      "TRACKERS_TO_EVAL     : None                          \n",
      "CLASSES_TO_EVAL      : ['vehicle']                   \n",
      "BENCHMARK            : MOT17                         \n",
      "SPLIT_TO_EVAL        : train                         \n",
      "INPUT_AS_ZIP         : False                         \n",
      "PRINT_CONFIG         : True                          \n",
      "DO_PREPROC           : False                         \n",
      "TRACKER_SUB_FOLDER   : data                          \n",
      "OUTPUT_SUB_FOLDER    :                               \n",
      "TRACKER_DISPLAY_NAMES : None                          \n",
      "SEQMAP_FOLDER        : None                          \n",
      "SEQMAP_FILE          : None                          \n",
      "SEQ_INFO             : None                          \n",
      "GT_LOC_FORMAT        : {gt_folder}/{seq}/gt/gt.txt   \n",
      "SKIP_SPLIT_FOL       : False                         \n"
     ]
    },
    {
     "name": "stderr",
     "output_type": "stream",
     "text": [
      "\u001b[32m[I 2022-02-13 00:24:29,565]\u001b[0m Trial 50 finished with value: 0.4381057919699379 and parameters: {'matching_threshold': 0.8731307732062511, 'matching_budget': 0, 'tracker_max_iou_distance': 0.5738704351761874, 'tracker_max_age': 11, 'tracker_n_init': 3, 'std_weight_position': 178, 'std_weight_velocity': 161}. Best is trial 0 with value: 0.4381057919699379.\u001b[0m\n"
     ]
    },
    {
     "name": "stdout",
     "output_type": "stream",
     "text": [
      "\n",
      "MotChallenge2DBox Config:\n",
      "GT_FOLDER            : /home/ubuntu/ibrahim/master/datasets/MOT_GT/\n",
      "TRACKERS_FOLDER      : /home/ubuntu/ibrahim/master/results/ssd_final_embeddings/\n",
      "OUTPUT_FOLDER        : None                          \n",
      "TRACKERS_TO_EVAL     : None                          \n",
      "CLASSES_TO_EVAL      : ['vehicle']                   \n",
      "BENCHMARK            : MOT17                         \n",
      "SPLIT_TO_EVAL        : train                         \n",
      "INPUT_AS_ZIP         : False                         \n",
      "PRINT_CONFIG         : True                          \n",
      "DO_PREPROC           : False                         \n",
      "TRACKER_SUB_FOLDER   : data                          \n",
      "OUTPUT_SUB_FOLDER    :                               \n",
      "TRACKER_DISPLAY_NAMES : None                          \n",
      "SEQMAP_FOLDER        : None                          \n",
      "SEQMAP_FILE          : None                          \n",
      "SEQ_INFO             : None                          \n",
      "GT_LOC_FORMAT        : {gt_folder}/{seq}/gt/gt.txt   \n",
      "SKIP_SPLIT_FOL       : False                         \n"
     ]
    },
    {
     "name": "stderr",
     "output_type": "stream",
     "text": [
      "\u001b[32m[I 2022-02-13 00:24:38,634]\u001b[0m Trial 51 finished with value: 0.4381057919699379 and parameters: {'matching_threshold': 0.4080510719637076, 'matching_budget': 1, 'tracker_max_iou_distance': 0.6954022536486232, 'tracker_max_age': 6, 'tracker_n_init': 3, 'std_weight_position': 139, 'std_weight_velocity': 393}. Best is trial 0 with value: 0.4381057919699379.\u001b[0m\n"
     ]
    },
    {
     "name": "stdout",
     "output_type": "stream",
     "text": [
      "\n",
      "MotChallenge2DBox Config:\n",
      "GT_FOLDER            : /home/ubuntu/ibrahim/master/datasets/MOT_GT/\n",
      "TRACKERS_FOLDER      : /home/ubuntu/ibrahim/master/results/ssd_final_embeddings/\n",
      "OUTPUT_FOLDER        : None                          \n",
      "TRACKERS_TO_EVAL     : None                          \n",
      "CLASSES_TO_EVAL      : ['vehicle']                   \n",
      "BENCHMARK            : MOT17                         \n",
      "SPLIT_TO_EVAL        : train                         \n",
      "INPUT_AS_ZIP         : False                         \n",
      "PRINT_CONFIG         : True                          \n",
      "DO_PREPROC           : False                         \n",
      "TRACKER_SUB_FOLDER   : data                          \n",
      "OUTPUT_SUB_FOLDER    :                               \n",
      "TRACKER_DISPLAY_NAMES : None                          \n",
      "SEQMAP_FOLDER        : None                          \n",
      "SEQMAP_FILE          : None                          \n",
      "SEQ_INFO             : None                          \n",
      "GT_LOC_FORMAT        : {gt_folder}/{seq}/gt/gt.txt   \n",
      "SKIP_SPLIT_FOL       : False                         \n"
     ]
    },
    {
     "name": "stderr",
     "output_type": "stream",
     "text": [
      "\u001b[32m[I 2022-02-13 00:24:50,939]\u001b[0m Trial 52 finished with value: 0.4381057919699379 and parameters: {'matching_threshold': 0.45566570559499503, 'matching_budget': 1, 'tracker_max_iou_distance': 0.821873255257643, 'tracker_max_age': 21, 'tracker_n_init': 1, 'std_weight_position': 173, 'std_weight_velocity': 370}. Best is trial 0 with value: 0.4381057919699379.\u001b[0m\n"
     ]
    },
    {
     "name": "stdout",
     "output_type": "stream",
     "text": [
      "\n",
      "MotChallenge2DBox Config:\n",
      "GT_FOLDER            : /home/ubuntu/ibrahim/master/datasets/MOT_GT/\n",
      "TRACKERS_FOLDER      : /home/ubuntu/ibrahim/master/results/ssd_final_embeddings/\n",
      "OUTPUT_FOLDER        : None                          \n",
      "TRACKERS_TO_EVAL     : None                          \n",
      "CLASSES_TO_EVAL      : ['vehicle']                   \n",
      "BENCHMARK            : MOT17                         \n",
      "SPLIT_TO_EVAL        : train                         \n",
      "INPUT_AS_ZIP         : False                         \n",
      "PRINT_CONFIG         : True                          \n",
      "DO_PREPROC           : False                         \n",
      "TRACKER_SUB_FOLDER   : data                          \n",
      "OUTPUT_SUB_FOLDER    :                               \n",
      "TRACKER_DISPLAY_NAMES : None                          \n",
      "SEQMAP_FOLDER        : None                          \n",
      "SEQMAP_FILE          : None                          \n",
      "SEQ_INFO             : None                          \n",
      "GT_LOC_FORMAT        : {gt_folder}/{seq}/gt/gt.txt   \n",
      "SKIP_SPLIT_FOL       : False                         \n"
     ]
    },
    {
     "name": "stderr",
     "output_type": "stream",
     "text": [
      "\u001b[32m[I 2022-02-13 00:25:24,845]\u001b[0m Trial 53 finished with value: 0.4381057919699379 and parameters: {'matching_threshold': 0.4232519715412047, 'matching_budget': 0, 'tracker_max_iou_distance': 0.8548498005240542, 'tracker_max_age': 18, 'tracker_n_init': 1, 'std_weight_position': 140, 'std_weight_velocity': 367}. Best is trial 0 with value: 0.4381057919699379.\u001b[0m\n"
     ]
    },
    {
     "name": "stdout",
     "output_type": "stream",
     "text": [
      "\n",
      "MotChallenge2DBox Config:\n",
      "GT_FOLDER            : /home/ubuntu/ibrahim/master/datasets/MOT_GT/\n",
      "TRACKERS_FOLDER      : /home/ubuntu/ibrahim/master/results/ssd_final_embeddings/\n",
      "OUTPUT_FOLDER        : None                          \n",
      "TRACKERS_TO_EVAL     : None                          \n",
      "CLASSES_TO_EVAL      : ['vehicle']                   \n",
      "BENCHMARK            : MOT17                         \n",
      "SPLIT_TO_EVAL        : train                         \n",
      "INPUT_AS_ZIP         : False                         \n",
      "PRINT_CONFIG         : True                          \n",
      "DO_PREPROC           : False                         \n",
      "TRACKER_SUB_FOLDER   : data                          \n",
      "OUTPUT_SUB_FOLDER    :                               \n",
      "TRACKER_DISPLAY_NAMES : None                          \n",
      "SEQMAP_FOLDER        : None                          \n",
      "SEQMAP_FILE          : None                          \n",
      "SEQ_INFO             : None                          \n",
      "GT_LOC_FORMAT        : {gt_folder}/{seq}/gt/gt.txt   \n",
      "SKIP_SPLIT_FOL       : False                         \n"
     ]
    },
    {
     "name": "stderr",
     "output_type": "stream",
     "text": [
      "\u001b[32m[I 2022-02-13 00:25:34,568]\u001b[0m Trial 54 finished with value: 0.4381057919699379 and parameters: {'matching_threshold': 0.3435528306161986, 'matching_budget': 1, 'tracker_max_iou_distance': 0.5496055307350558, 'tracker_max_age': 10, 'tracker_n_init': 3, 'std_weight_position': 170, 'std_weight_velocity': 156}. Best is trial 0 with value: 0.4381057919699379.\u001b[0m\n"
     ]
    },
    {
     "name": "stdout",
     "output_type": "stream",
     "text": [
      "\n",
      "MotChallenge2DBox Config:\n",
      "GT_FOLDER            : /home/ubuntu/ibrahim/master/datasets/MOT_GT/\n",
      "TRACKERS_FOLDER      : /home/ubuntu/ibrahim/master/results/ssd_final_embeddings/\n",
      "OUTPUT_FOLDER        : None                          \n",
      "TRACKERS_TO_EVAL     : None                          \n",
      "CLASSES_TO_EVAL      : ['vehicle']                   \n",
      "BENCHMARK            : MOT17                         \n",
      "SPLIT_TO_EVAL        : train                         \n",
      "INPUT_AS_ZIP         : False                         \n",
      "PRINT_CONFIG         : True                          \n",
      "DO_PREPROC           : False                         \n",
      "TRACKER_SUB_FOLDER   : data                          \n",
      "OUTPUT_SUB_FOLDER    :                               \n",
      "TRACKER_DISPLAY_NAMES : None                          \n",
      "SEQMAP_FOLDER        : None                          \n",
      "SEQMAP_FILE          : None                          \n",
      "SEQ_INFO             : None                          \n",
      "GT_LOC_FORMAT        : {gt_folder}/{seq}/gt/gt.txt   \n",
      "SKIP_SPLIT_FOL       : False                         \n"
     ]
    },
    {
     "name": "stderr",
     "output_type": "stream",
     "text": [
      "\u001b[32m[I 2022-02-13 00:25:43,679]\u001b[0m Trial 55 finished with value: 0.4381057919699379 and parameters: {'matching_threshold': 0.36919170894143705, 'matching_budget': 1, 'tracker_max_iou_distance': 0.4848849121888435, 'tracker_max_age': 8, 'tracker_n_init': 4, 'std_weight_position': 156, 'std_weight_velocity': 318}. Best is trial 0 with value: 0.4381057919699379.\u001b[0m\n"
     ]
    },
    {
     "name": "stdout",
     "output_type": "stream",
     "text": [
      "\n",
      "MotChallenge2DBox Config:\n",
      "GT_FOLDER            : /home/ubuntu/ibrahim/master/datasets/MOT_GT/\n",
      "TRACKERS_FOLDER      : /home/ubuntu/ibrahim/master/results/ssd_final_embeddings/\n",
      "OUTPUT_FOLDER        : None                          \n",
      "TRACKERS_TO_EVAL     : None                          \n",
      "CLASSES_TO_EVAL      : ['vehicle']                   \n",
      "BENCHMARK            : MOT17                         \n",
      "SPLIT_TO_EVAL        : train                         \n",
      "INPUT_AS_ZIP         : False                         \n",
      "PRINT_CONFIG         : True                          \n",
      "DO_PREPROC           : False                         \n",
      "TRACKER_SUB_FOLDER   : data                          \n",
      "OUTPUT_SUB_FOLDER    :                               \n",
      "TRACKER_DISPLAY_NAMES : None                          \n",
      "SEQMAP_FOLDER        : None                          \n",
      "SEQMAP_FILE          : None                          \n",
      "SEQ_INFO             : None                          \n",
      "GT_LOC_FORMAT        : {gt_folder}/{seq}/gt/gt.txt   \n",
      "SKIP_SPLIT_FOL       : False                         \n"
     ]
    },
    {
     "name": "stderr",
     "output_type": "stream",
     "text": [
      "\u001b[32m[I 2022-02-13 00:25:54,160]\u001b[0m Trial 56 finished with value: 0.4381057919699379 and parameters: {'matching_threshold': 0.26130591267537173, 'matching_budget': 1, 'tracker_max_iou_distance': 0.6147207791427689, 'tracker_max_age': 15, 'tracker_n_init': 3, 'std_weight_position': 188, 'std_weight_velocity': 394}. Best is trial 0 with value: 0.4381057919699379.\u001b[0m\n"
     ]
    },
    {
     "name": "stdout",
     "output_type": "stream",
     "text": [
      "\n",
      "MotChallenge2DBox Config:\n",
      "GT_FOLDER            : /home/ubuntu/ibrahim/master/datasets/MOT_GT/\n",
      "TRACKERS_FOLDER      : /home/ubuntu/ibrahim/master/results/ssd_final_embeddings/\n",
      "OUTPUT_FOLDER        : None                          \n",
      "TRACKERS_TO_EVAL     : None                          \n",
      "CLASSES_TO_EVAL      : ['vehicle']                   \n",
      "BENCHMARK            : MOT17                         \n",
      "SPLIT_TO_EVAL        : train                         \n",
      "INPUT_AS_ZIP         : False                         \n",
      "PRINT_CONFIG         : True                          \n",
      "DO_PREPROC           : False                         \n",
      "TRACKER_SUB_FOLDER   : data                          \n",
      "OUTPUT_SUB_FOLDER    :                               \n",
      "TRACKER_DISPLAY_NAMES : None                          \n",
      "SEQMAP_FOLDER        : None                          \n",
      "SEQMAP_FILE          : None                          \n",
      "SEQ_INFO             : None                          \n",
      "GT_LOC_FORMAT        : {gt_folder}/{seq}/gt/gt.txt   \n",
      "SKIP_SPLIT_FOL       : False                         \n"
     ]
    },
    {
     "name": "stderr",
     "output_type": "stream",
     "text": [
      "\u001b[32m[I 2022-02-13 00:26:22,701]\u001b[0m Trial 57 finished with value: 0.4381057919699379 and parameters: {'matching_threshold': 0.8974161536813478, 'matching_budget': 0, 'tracker_max_iou_distance': 0.6314588716164569, 'tracker_max_age': 10, 'tracker_n_init': 2, 'std_weight_position': 179, 'std_weight_velocity': 374}. Best is trial 0 with value: 0.4381057919699379.\u001b[0m\n"
     ]
    },
    {
     "name": "stdout",
     "output_type": "stream",
     "text": [
      "\n",
      "MotChallenge2DBox Config:\n",
      "GT_FOLDER            : /home/ubuntu/ibrahim/master/datasets/MOT_GT/\n",
      "TRACKERS_FOLDER      : /home/ubuntu/ibrahim/master/results/ssd_final_embeddings/\n",
      "OUTPUT_FOLDER        : None                          \n",
      "TRACKERS_TO_EVAL     : None                          \n",
      "CLASSES_TO_EVAL      : ['vehicle']                   \n",
      "BENCHMARK            : MOT17                         \n",
      "SPLIT_TO_EVAL        : train                         \n",
      "INPUT_AS_ZIP         : False                         \n",
      "PRINT_CONFIG         : True                          \n",
      "DO_PREPROC           : False                         \n",
      "TRACKER_SUB_FOLDER   : data                          \n",
      "OUTPUT_SUB_FOLDER    :                               \n",
      "TRACKER_DISPLAY_NAMES : None                          \n",
      "SEQMAP_FOLDER        : None                          \n",
      "SEQMAP_FILE          : None                          \n",
      "SEQ_INFO             : None                          \n",
      "GT_LOC_FORMAT        : {gt_folder}/{seq}/gt/gt.txt   \n",
      "SKIP_SPLIT_FOL       : False                         \n"
     ]
    },
    {
     "name": "stderr",
     "output_type": "stream",
     "text": [
      "\u001b[32m[I 2022-02-13 00:26:32,677]\u001b[0m Trial 58 finished with value: 0.4381057919699379 and parameters: {'matching_threshold': 0.36013885981369387, 'matching_budget': 10, 'tracker_max_iou_distance': 0.6562108150639503, 'tracker_max_age': 47, 'tracker_n_init': 8, 'std_weight_position': 37, 'std_weight_velocity': 351}. Best is trial 0 with value: 0.4381057919699379.\u001b[0m\n"
     ]
    },
    {
     "name": "stdout",
     "output_type": "stream",
     "text": [
      "\n",
      "MotChallenge2DBox Config:\n",
      "GT_FOLDER            : /home/ubuntu/ibrahim/master/datasets/MOT_GT/\n",
      "TRACKERS_FOLDER      : /home/ubuntu/ibrahim/master/results/ssd_final_embeddings/\n",
      "OUTPUT_FOLDER        : None                          \n",
      "TRACKERS_TO_EVAL     : None                          \n",
      "CLASSES_TO_EVAL      : ['vehicle']                   \n",
      "BENCHMARK            : MOT17                         \n",
      "SPLIT_TO_EVAL        : train                         \n",
      "INPUT_AS_ZIP         : False                         \n",
      "PRINT_CONFIG         : True                          \n",
      "DO_PREPROC           : False                         \n",
      "TRACKER_SUB_FOLDER   : data                          \n",
      "OUTPUT_SUB_FOLDER    :                               \n",
      "TRACKER_DISPLAY_NAMES : None                          \n",
      "SEQMAP_FOLDER        : None                          \n",
      "SEQMAP_FILE          : None                          \n",
      "SEQ_INFO             : None                          \n",
      "GT_LOC_FORMAT        : {gt_folder}/{seq}/gt/gt.txt   \n",
      "SKIP_SPLIT_FOL       : False                         \n"
     ]
    },
    {
     "name": "stderr",
     "output_type": "stream",
     "text": [
      "\u001b[32m[I 2022-02-13 00:26:45,417]\u001b[0m Trial 59 finished with value: 0.4381057919699379 and parameters: {'matching_threshold': 0.3032893869958622, 'matching_budget': 7, 'tracker_max_iou_distance': 0.5958574103708795, 'tracker_max_age': 39, 'tracker_n_init': 9, 'std_weight_position': 189, 'std_weight_velocity': 399}. Best is trial 0 with value: 0.4381057919699379.\u001b[0m\n"
     ]
    },
    {
     "name": "stdout",
     "output_type": "stream",
     "text": [
      "\n",
      "MotChallenge2DBox Config:\n",
      "GT_FOLDER            : /home/ubuntu/ibrahim/master/datasets/MOT_GT/\n",
      "TRACKERS_FOLDER      : /home/ubuntu/ibrahim/master/results/ssd_final_embeddings/\n",
      "OUTPUT_FOLDER        : None                          \n",
      "TRACKERS_TO_EVAL     : None                          \n",
      "CLASSES_TO_EVAL      : ['vehicle']                   \n",
      "BENCHMARK            : MOT17                         \n",
      "SPLIT_TO_EVAL        : train                         \n",
      "INPUT_AS_ZIP         : False                         \n",
      "PRINT_CONFIG         : True                          \n",
      "DO_PREPROC           : False                         \n",
      "TRACKER_SUB_FOLDER   : data                          \n",
      "OUTPUT_SUB_FOLDER    :                               \n",
      "TRACKER_DISPLAY_NAMES : None                          \n",
      "SEQMAP_FOLDER        : None                          \n",
      "SEQMAP_FILE          : None                          \n",
      "SEQ_INFO             : None                          \n",
      "GT_LOC_FORMAT        : {gt_folder}/{seq}/gt/gt.txt   \n",
      "SKIP_SPLIT_FOL       : False                         \n"
     ]
    },
    {
     "name": "stderr",
     "output_type": "stream",
     "text": [
      "\u001b[32m[I 2022-02-13 00:26:54,448]\u001b[0m Trial 60 finished with value: 0.4381057919699379 and parameters: {'matching_threshold': 0.734567882027022, 'matching_budget': 7, 'tracker_max_iou_distance': 0.812304072002345, 'tracker_max_age': 13, 'tracker_n_init': 9, 'std_weight_position': 78, 'std_weight_velocity': 273}. Best is trial 0 with value: 0.4381057919699379.\u001b[0m\n"
     ]
    },
    {
     "name": "stdout",
     "output_type": "stream",
     "text": [
      "\n",
      "MotChallenge2DBox Config:\n",
      "GT_FOLDER            : /home/ubuntu/ibrahim/master/datasets/MOT_GT/\n",
      "TRACKERS_FOLDER      : /home/ubuntu/ibrahim/master/results/ssd_final_embeddings/\n",
      "OUTPUT_FOLDER        : None                          \n",
      "TRACKERS_TO_EVAL     : None                          \n",
      "CLASSES_TO_EVAL      : ['vehicle']                   \n",
      "BENCHMARK            : MOT17                         \n",
      "SPLIT_TO_EVAL        : train                         \n",
      "INPUT_AS_ZIP         : False                         \n",
      "PRINT_CONFIG         : True                          \n",
      "DO_PREPROC           : False                         \n",
      "TRACKER_SUB_FOLDER   : data                          \n",
      "OUTPUT_SUB_FOLDER    :                               \n",
      "TRACKER_DISPLAY_NAMES : None                          \n",
      "SEQMAP_FOLDER        : None                          \n",
      "SEQMAP_FILE          : None                          \n",
      "SEQ_INFO             : None                          \n",
      "GT_LOC_FORMAT        : {gt_folder}/{seq}/gt/gt.txt   \n",
      "SKIP_SPLIT_FOL       : False                         \n"
     ]
    },
    {
     "name": "stderr",
     "output_type": "stream",
     "text": [
      "\u001b[32m[I 2022-02-13 00:27:03,724]\u001b[0m Trial 61 finished with value: 0.4381057919699379 and parameters: {'matching_threshold': 0.7022528817705759, 'matching_budget': 9, 'tracker_max_iou_distance': 0.6612378117830895, 'tracker_max_age': 26, 'tracker_n_init': 10, 'std_weight_position': 46, 'std_weight_velocity': 250}. Best is trial 0 with value: 0.4381057919699379.\u001b[0m\n"
     ]
    },
    {
     "name": "stdout",
     "output_type": "stream",
     "text": [
      "\n",
      "MotChallenge2DBox Config:\n",
      "GT_FOLDER            : /home/ubuntu/ibrahim/master/datasets/MOT_GT/\n",
      "TRACKERS_FOLDER      : /home/ubuntu/ibrahim/master/results/ssd_final_embeddings/\n",
      "OUTPUT_FOLDER        : None                          \n",
      "TRACKERS_TO_EVAL     : None                          \n",
      "CLASSES_TO_EVAL      : ['vehicle']                   \n",
      "BENCHMARK            : MOT17                         \n",
      "SPLIT_TO_EVAL        : train                         \n",
      "INPUT_AS_ZIP         : False                         \n",
      "PRINT_CONFIG         : True                          \n",
      "DO_PREPROC           : False                         \n",
      "TRACKER_SUB_FOLDER   : data                          \n",
      "OUTPUT_SUB_FOLDER    :                               \n",
      "TRACKER_DISPLAY_NAMES : None                          \n",
      "SEQMAP_FOLDER        : None                          \n",
      "SEQMAP_FILE          : None                          \n",
      "SEQ_INFO             : None                          \n",
      "GT_LOC_FORMAT        : {gt_folder}/{seq}/gt/gt.txt   \n",
      "SKIP_SPLIT_FOL       : False                         \n"
     ]
    },
    {
     "name": "stderr",
     "output_type": "stream",
     "text": [
      "\u001b[32m[I 2022-02-13 00:27:13,329]\u001b[0m Trial 62 finished with value: 0.4381057919699379 and parameters: {'matching_threshold': 0.5794304004633275, 'matching_budget': 6, 'tracker_max_iou_distance': 0.6371938449694063, 'tracker_max_age': 30, 'tracker_n_init': 10, 'std_weight_position': 81, 'std_weight_velocity': 50}. Best is trial 0 with value: 0.4381057919699379.\u001b[0m\n"
     ]
    },
    {
     "name": "stdout",
     "output_type": "stream",
     "text": [
      "\n",
      "MotChallenge2DBox Config:\n",
      "GT_FOLDER            : /home/ubuntu/ibrahim/master/datasets/MOT_GT/\n",
      "TRACKERS_FOLDER      : /home/ubuntu/ibrahim/master/results/ssd_final_embeddings/\n",
      "OUTPUT_FOLDER        : None                          \n",
      "TRACKERS_TO_EVAL     : None                          \n",
      "CLASSES_TO_EVAL      : ['vehicle']                   \n",
      "BENCHMARK            : MOT17                         \n",
      "SPLIT_TO_EVAL        : train                         \n",
      "INPUT_AS_ZIP         : False                         \n",
      "PRINT_CONFIG         : True                          \n",
      "DO_PREPROC           : False                         \n",
      "TRACKER_SUB_FOLDER   : data                          \n",
      "OUTPUT_SUB_FOLDER    :                               \n",
      "TRACKER_DISPLAY_NAMES : None                          \n",
      "SEQMAP_FOLDER        : None                          \n",
      "SEQMAP_FILE          : None                          \n",
      "SEQ_INFO             : None                          \n",
      "GT_LOC_FORMAT        : {gt_folder}/{seq}/gt/gt.txt   \n",
      "SKIP_SPLIT_FOL       : False                         \n"
     ]
    },
    {
     "name": "stderr",
     "output_type": "stream",
     "text": [
      "\u001b[32m[I 2022-02-13 00:27:22,319]\u001b[0m Trial 63 finished with value: 0.4381057919699379 and parameters: {'matching_threshold': 0.7188287878418708, 'matching_budget': 9, 'tracker_max_iou_distance': 0.6814783573215217, 'tracker_max_age': 30, 'tracker_n_init': 9, 'std_weight_position': 21, 'std_weight_velocity': 65}. Best is trial 0 with value: 0.4381057919699379.\u001b[0m\n"
     ]
    },
    {
     "name": "stdout",
     "output_type": "stream",
     "text": [
      "\n",
      "MotChallenge2DBox Config:\n",
      "GT_FOLDER            : /home/ubuntu/ibrahim/master/datasets/MOT_GT/\n",
      "TRACKERS_FOLDER      : /home/ubuntu/ibrahim/master/results/ssd_final_embeddings/\n",
      "OUTPUT_FOLDER        : None                          \n",
      "TRACKERS_TO_EVAL     : None                          \n",
      "CLASSES_TO_EVAL      : ['vehicle']                   \n",
      "BENCHMARK            : MOT17                         \n",
      "SPLIT_TO_EVAL        : train                         \n",
      "INPUT_AS_ZIP         : False                         \n",
      "PRINT_CONFIG         : True                          \n",
      "DO_PREPROC           : False                         \n",
      "TRACKER_SUB_FOLDER   : data                          \n",
      "OUTPUT_SUB_FOLDER    :                               \n",
      "TRACKER_DISPLAY_NAMES : None                          \n",
      "SEQMAP_FOLDER        : None                          \n",
      "SEQMAP_FILE          : None                          \n",
      "SEQ_INFO             : None                          \n",
      "GT_LOC_FORMAT        : {gt_folder}/{seq}/gt/gt.txt   \n",
      "SKIP_SPLIT_FOL       : False                         \n"
     ]
    },
    {
     "name": "stderr",
     "output_type": "stream",
     "text": [
      "\u001b[32m[I 2022-02-13 00:27:32,657]\u001b[0m Trial 64 finished with value: 0.4381057919699379 and parameters: {'matching_threshold': 0.7563480352368976, 'matching_budget': 5, 'tracker_max_iou_distance': 0.3575360682298573, 'tracker_max_age': 27, 'tracker_n_init': 8, 'std_weight_position': 88, 'std_weight_velocity': 78}. Best is trial 0 with value: 0.4381057919699379.\u001b[0m\n"
     ]
    },
    {
     "name": "stdout",
     "output_type": "stream",
     "text": [
      "\n",
      "MotChallenge2DBox Config:\n",
      "GT_FOLDER            : /home/ubuntu/ibrahim/master/datasets/MOT_GT/\n",
      "TRACKERS_FOLDER      : /home/ubuntu/ibrahim/master/results/ssd_final_embeddings/\n",
      "OUTPUT_FOLDER        : None                          \n",
      "TRACKERS_TO_EVAL     : None                          \n",
      "CLASSES_TO_EVAL      : ['vehicle']                   \n",
      "BENCHMARK            : MOT17                         \n",
      "SPLIT_TO_EVAL        : train                         \n",
      "INPUT_AS_ZIP         : False                         \n",
      "PRINT_CONFIG         : True                          \n",
      "DO_PREPROC           : False                         \n",
      "TRACKER_SUB_FOLDER   : data                          \n",
      "OUTPUT_SUB_FOLDER    :                               \n",
      "TRACKER_DISPLAY_NAMES : None                          \n",
      "SEQMAP_FOLDER        : None                          \n",
      "SEQMAP_FILE          : None                          \n",
      "SEQ_INFO             : None                          \n",
      "GT_LOC_FORMAT        : {gt_folder}/{seq}/gt/gt.txt   \n",
      "SKIP_SPLIT_FOL       : False                         \n"
     ]
    },
    {
     "name": "stderr",
     "output_type": "stream",
     "text": [
      "\u001b[32m[I 2022-02-13 00:27:43,105]\u001b[0m Trial 65 finished with value: 0.4381057919699379 and parameters: {'matching_threshold': 0.7946314093651807, 'matching_budget': 6, 'tracker_max_iou_distance': 0.6224415670868341, 'tracker_max_age': 33, 'tracker_n_init': 9, 'std_weight_position': 96, 'std_weight_velocity': 85}. Best is trial 0 with value: 0.4381057919699379.\u001b[0m\n"
     ]
    },
    {
     "name": "stdout",
     "output_type": "stream",
     "text": [
      "\n",
      "MotChallenge2DBox Config:\n",
      "GT_FOLDER            : /home/ubuntu/ibrahim/master/datasets/MOT_GT/\n",
      "TRACKERS_FOLDER      : /home/ubuntu/ibrahim/master/results/ssd_final_embeddings/\n",
      "OUTPUT_FOLDER        : None                          \n",
      "TRACKERS_TO_EVAL     : None                          \n",
      "CLASSES_TO_EVAL      : ['vehicle']                   \n",
      "BENCHMARK            : MOT17                         \n",
      "SPLIT_TO_EVAL        : train                         \n",
      "INPUT_AS_ZIP         : False                         \n",
      "PRINT_CONFIG         : True                          \n",
      "DO_PREPROC           : False                         \n",
      "TRACKER_SUB_FOLDER   : data                          \n",
      "OUTPUT_SUB_FOLDER    :                               \n",
      "TRACKER_DISPLAY_NAMES : None                          \n",
      "SEQMAP_FOLDER        : None                          \n",
      "SEQMAP_FILE          : None                          \n",
      "SEQ_INFO             : None                          \n",
      "GT_LOC_FORMAT        : {gt_folder}/{seq}/gt/gt.txt   \n",
      "SKIP_SPLIT_FOL       : False                         \n"
     ]
    },
    {
     "name": "stderr",
     "output_type": "stream",
     "text": [
      "\u001b[32m[I 2022-02-13 00:27:53,286]\u001b[0m Trial 66 finished with value: 0.4381057919699379 and parameters: {'matching_threshold': 0.5800331339981073, 'matching_budget': 5, 'tracker_max_iou_distance': 0.3316027923464149, 'tracker_max_age': 34, 'tracker_n_init': 8, 'std_weight_position': 103, 'std_weight_velocity': 37}. Best is trial 0 with value: 0.4381057919699379.\u001b[0m\n"
     ]
    },
    {
     "name": "stdout",
     "output_type": "stream",
     "text": [
      "\n",
      "MotChallenge2DBox Config:\n",
      "GT_FOLDER            : /home/ubuntu/ibrahim/master/datasets/MOT_GT/\n",
      "TRACKERS_FOLDER      : /home/ubuntu/ibrahim/master/results/ssd_final_embeddings/\n",
      "OUTPUT_FOLDER        : None                          \n",
      "TRACKERS_TO_EVAL     : None                          \n",
      "CLASSES_TO_EVAL      : ['vehicle']                   \n",
      "BENCHMARK            : MOT17                         \n",
      "SPLIT_TO_EVAL        : train                         \n",
      "INPUT_AS_ZIP         : False                         \n",
      "PRINT_CONFIG         : True                          \n",
      "DO_PREPROC           : False                         \n",
      "TRACKER_SUB_FOLDER   : data                          \n",
      "OUTPUT_SUB_FOLDER    :                               \n",
      "TRACKER_DISPLAY_NAMES : None                          \n",
      "SEQMAP_FOLDER        : None                          \n",
      "SEQMAP_FILE          : None                          \n",
      "SEQ_INFO             : None                          \n",
      "GT_LOC_FORMAT        : {gt_folder}/{seq}/gt/gt.txt   \n",
      "SKIP_SPLIT_FOL       : False                         \n"
     ]
    },
    {
     "name": "stderr",
     "output_type": "stream",
     "text": [
      "\u001b[32m[I 2022-02-13 00:28:04,065]\u001b[0m Trial 67 finished with value: 0.4381057919699379 and parameters: {'matching_threshold': 0.8578508141454223, 'matching_budget': 5, 'tracker_max_iou_distance': 0.4337076185093264, 'tracker_max_age': 29, 'tracker_n_init': 7, 'std_weight_position': 74, 'std_weight_velocity': 228}. Best is trial 0 with value: 0.4381057919699379.\u001b[0m\n"
     ]
    },
    {
     "name": "stdout",
     "output_type": "stream",
     "text": [
      "\n",
      "MotChallenge2DBox Config:\n",
      "GT_FOLDER            : /home/ubuntu/ibrahim/master/datasets/MOT_GT/\n",
      "TRACKERS_FOLDER      : /home/ubuntu/ibrahim/master/results/ssd_final_embeddings/\n",
      "OUTPUT_FOLDER        : None                          \n",
      "TRACKERS_TO_EVAL     : None                          \n",
      "CLASSES_TO_EVAL      : ['vehicle']                   \n",
      "BENCHMARK            : MOT17                         \n",
      "SPLIT_TO_EVAL        : train                         \n",
      "INPUT_AS_ZIP         : False                         \n",
      "PRINT_CONFIG         : True                          \n",
      "DO_PREPROC           : False                         \n",
      "TRACKER_SUB_FOLDER   : data                          \n",
      "OUTPUT_SUB_FOLDER    :                               \n",
      "TRACKER_DISPLAY_NAMES : None                          \n",
      "SEQMAP_FOLDER        : None                          \n",
      "SEQMAP_FILE          : None                          \n",
      "SEQ_INFO             : None                          \n",
      "GT_LOC_FORMAT        : {gt_folder}/{seq}/gt/gt.txt   \n",
      "SKIP_SPLIT_FOL       : False                         \n"
     ]
    },
    {
     "name": "stderr",
     "output_type": "stream",
     "text": [
      "\u001b[32m[I 2022-02-13 00:28:17,636]\u001b[0m Trial 68 finished with value: 0.4381057919699379 and parameters: {'matching_threshold': 0.6347481911383984, 'matching_budget': 4, 'tracker_max_iou_distance': 0.35270189050323103, 'tracker_max_age': 42, 'tracker_n_init': 6, 'std_weight_position': 121, 'std_weight_velocity': 267}. Best is trial 0 with value: 0.4381057919699379.\u001b[0m\n"
     ]
    },
    {
     "name": "stdout",
     "output_type": "stream",
     "text": [
      "\n",
      "MotChallenge2DBox Config:\n",
      "GT_FOLDER            : /home/ubuntu/ibrahim/master/datasets/MOT_GT/\n",
      "TRACKERS_FOLDER      : /home/ubuntu/ibrahim/master/results/ssd_final_embeddings/\n",
      "OUTPUT_FOLDER        : None                          \n",
      "TRACKERS_TO_EVAL     : None                          \n",
      "CLASSES_TO_EVAL      : ['vehicle']                   \n",
      "BENCHMARK            : MOT17                         \n",
      "SPLIT_TO_EVAL        : train                         \n",
      "INPUT_AS_ZIP         : False                         \n",
      "PRINT_CONFIG         : True                          \n",
      "DO_PREPROC           : False                         \n",
      "TRACKER_SUB_FOLDER   : data                          \n",
      "OUTPUT_SUB_FOLDER    :                               \n",
      "TRACKER_DISPLAY_NAMES : None                          \n",
      "SEQMAP_FOLDER        : None                          \n",
      "SEQMAP_FILE          : None                          \n",
      "SEQ_INFO             : None                          \n",
      "GT_LOC_FORMAT        : {gt_folder}/{seq}/gt/gt.txt   \n",
      "SKIP_SPLIT_FOL       : False                         \n"
     ]
    },
    {
     "name": "stderr",
     "output_type": "stream",
     "text": [
      "\u001b[32m[I 2022-02-13 00:28:29,081]\u001b[0m Trial 69 finished with value: 0.4381057919699379 and parameters: {'matching_threshold': 0.5418462618084936, 'matching_budget': 3, 'tracker_max_iou_distance': 0.4027391861943728, 'tracker_max_age': 39, 'tracker_n_init': 10, 'std_weight_position': 127, 'std_weight_velocity': 226}. Best is trial 0 with value: 0.4381057919699379.\u001b[0m\n"
     ]
    },
    {
     "name": "stdout",
     "output_type": "stream",
     "text": [
      "\n",
      "MotChallenge2DBox Config:\n",
      "GT_FOLDER            : /home/ubuntu/ibrahim/master/datasets/MOT_GT/\n",
      "TRACKERS_FOLDER      : /home/ubuntu/ibrahim/master/results/ssd_final_embeddings/\n",
      "OUTPUT_FOLDER        : None                          \n",
      "TRACKERS_TO_EVAL     : None                          \n",
      "CLASSES_TO_EVAL      : ['vehicle']                   \n",
      "BENCHMARK            : MOT17                         \n",
      "SPLIT_TO_EVAL        : train                         \n",
      "INPUT_AS_ZIP         : False                         \n",
      "PRINT_CONFIG         : True                          \n",
      "DO_PREPROC           : False                         \n",
      "TRACKER_SUB_FOLDER   : data                          \n",
      "OUTPUT_SUB_FOLDER    :                               \n",
      "TRACKER_DISPLAY_NAMES : None                          \n",
      "SEQMAP_FOLDER        : None                          \n",
      "SEQMAP_FILE          : None                          \n",
      "SEQ_INFO             : None                          \n",
      "GT_LOC_FORMAT        : {gt_folder}/{seq}/gt/gt.txt   \n",
      "SKIP_SPLIT_FOL       : False                         \n"
     ]
    },
    {
     "name": "stderr",
     "output_type": "stream",
     "text": [
      "\u001b[32m[I 2022-02-13 00:28:41,329]\u001b[0m Trial 70 finished with value: 0.4381057919699379 and parameters: {'matching_threshold': 0.6463551683743397, 'matching_budget': 4, 'tracker_max_iou_distance': 0.7432426122111981, 'tracker_max_age': 35, 'tracker_n_init': 5, 'std_weight_position': 109, 'std_weight_velocity': 129}. Best is trial 0 with value: 0.4381057919699379.\u001b[0m\n"
     ]
    },
    {
     "name": "stdout",
     "output_type": "stream",
     "text": [
      "\n",
      "MotChallenge2DBox Config:\n",
      "GT_FOLDER            : /home/ubuntu/ibrahim/master/datasets/MOT_GT/\n",
      "TRACKERS_FOLDER      : /home/ubuntu/ibrahim/master/results/ssd_final_embeddings/\n",
      "OUTPUT_FOLDER        : None                          \n",
      "TRACKERS_TO_EVAL     : None                          \n",
      "CLASSES_TO_EVAL      : ['vehicle']                   \n",
      "BENCHMARK            : MOT17                         \n",
      "SPLIT_TO_EVAL        : train                         \n",
      "INPUT_AS_ZIP         : False                         \n",
      "PRINT_CONFIG         : True                          \n",
      "DO_PREPROC           : False                         \n",
      "TRACKER_SUB_FOLDER   : data                          \n",
      "OUTPUT_SUB_FOLDER    :                               \n",
      "TRACKER_DISPLAY_NAMES : None                          \n",
      "SEQMAP_FOLDER        : None                          \n",
      "SEQMAP_FILE          : None                          \n",
      "SEQ_INFO             : None                          \n",
      "GT_LOC_FORMAT        : {gt_folder}/{seq}/gt/gt.txt   \n",
      "SKIP_SPLIT_FOL       : False                         \n"
     ]
    },
    {
     "name": "stderr",
     "output_type": "stream",
     "text": [
      "\u001b[32m[I 2022-02-13 00:28:51,409]\u001b[0m Trial 71 finished with value: 0.4381057919699379 and parameters: {'matching_threshold': 0.49709285806399633, 'matching_budget': 2, 'tracker_max_iou_distance': 0.8653058199338943, 'tracker_max_age': 6, 'tracker_n_init': 2, 'std_weight_position': 151, 'std_weight_velocity': 193}. Best is trial 0 with value: 0.4381057919699379.\u001b[0m\n"
     ]
    },
    {
     "name": "stdout",
     "output_type": "stream",
     "text": [
      "\n",
      "MotChallenge2DBox Config:\n",
      "GT_FOLDER            : /home/ubuntu/ibrahim/master/datasets/MOT_GT/\n",
      "TRACKERS_FOLDER      : /home/ubuntu/ibrahim/master/results/ssd_final_embeddings/\n",
      "OUTPUT_FOLDER        : None                          \n",
      "TRACKERS_TO_EVAL     : None                          \n",
      "CLASSES_TO_EVAL      : ['vehicle']                   \n",
      "BENCHMARK            : MOT17                         \n",
      "SPLIT_TO_EVAL        : train                         \n",
      "INPUT_AS_ZIP         : False                         \n",
      "PRINT_CONFIG         : True                          \n",
      "DO_PREPROC           : False                         \n",
      "TRACKER_SUB_FOLDER   : data                          \n",
      "OUTPUT_SUB_FOLDER    :                               \n",
      "TRACKER_DISPLAY_NAMES : None                          \n",
      "SEQMAP_FOLDER        : None                          \n",
      "SEQMAP_FILE          : None                          \n",
      "SEQ_INFO             : None                          \n",
      "GT_LOC_FORMAT        : {gt_folder}/{seq}/gt/gt.txt   \n",
      "SKIP_SPLIT_FOL       : False                         \n"
     ]
    },
    {
     "name": "stderr",
     "output_type": "stream",
     "text": [
      "\u001b[32m[I 2022-02-13 00:29:06,199]\u001b[0m Trial 72 finished with value: 0.4381057919699379 and parameters: {'matching_threshold': 0.5131572289321863, 'matching_budget': 3, 'tracker_max_iou_distance': 0.8941323834937703, 'tracker_max_age': 23, 'tracker_n_init': 2, 'std_weight_position': 163, 'std_weight_velocity': 159}. Best is trial 0 with value: 0.4381057919699379.\u001b[0m\n"
     ]
    },
    {
     "name": "stdout",
     "output_type": "stream",
     "text": [
      "\n",
      "MotChallenge2DBox Config:\n",
      "GT_FOLDER            : /home/ubuntu/ibrahim/master/datasets/MOT_GT/\n",
      "TRACKERS_FOLDER      : /home/ubuntu/ibrahim/master/results/ssd_final_embeddings/\n",
      "OUTPUT_FOLDER        : None                          \n",
      "TRACKERS_TO_EVAL     : None                          \n",
      "CLASSES_TO_EVAL      : ['vehicle']                   \n",
      "BENCHMARK            : MOT17                         \n",
      "SPLIT_TO_EVAL        : train                         \n",
      "INPUT_AS_ZIP         : False                         \n",
      "PRINT_CONFIG         : True                          \n",
      "DO_PREPROC           : False                         \n",
      "TRACKER_SUB_FOLDER   : data                          \n",
      "OUTPUT_SUB_FOLDER    :                               \n",
      "TRACKER_DISPLAY_NAMES : None                          \n",
      "SEQMAP_FOLDER        : None                          \n",
      "SEQMAP_FILE          : None                          \n",
      "SEQ_INFO             : None                          \n",
      "GT_LOC_FORMAT        : {gt_folder}/{seq}/gt/gt.txt   \n",
      "SKIP_SPLIT_FOL       : False                         \n"
     ]
    },
    {
     "name": "stderr",
     "output_type": "stream",
     "text": [
      "\u001b[32m[I 2022-02-13 00:29:33,952]\u001b[0m Trial 73 finished with value: 0.4381057919699379 and parameters: {'matching_threshold': 0.4680397014417645, 'matching_budget': 0, 'tracker_max_iou_distance': 0.533379636401822, 'tracker_max_age': 4, 'tracker_n_init': 2, 'std_weight_position': 144, 'std_weight_velocity': 382}. Best is trial 0 with value: 0.4381057919699379.\u001b[0m\n"
     ]
    },
    {
     "name": "stdout",
     "output_type": "stream",
     "text": [
      "\n",
      "MotChallenge2DBox Config:\n",
      "GT_FOLDER            : /home/ubuntu/ibrahim/master/datasets/MOT_GT/\n",
      "TRACKERS_FOLDER      : /home/ubuntu/ibrahim/master/results/ssd_final_embeddings/\n",
      "OUTPUT_FOLDER        : None                          \n",
      "TRACKERS_TO_EVAL     : None                          \n",
      "CLASSES_TO_EVAL      : ['vehicle']                   \n",
      "BENCHMARK            : MOT17                         \n",
      "SPLIT_TO_EVAL        : train                         \n",
      "INPUT_AS_ZIP         : False                         \n",
      "PRINT_CONFIG         : True                          \n",
      "DO_PREPROC           : False                         \n",
      "TRACKER_SUB_FOLDER   : data                          \n",
      "OUTPUT_SUB_FOLDER    :                               \n",
      "TRACKER_DISPLAY_NAMES : None                          \n",
      "SEQMAP_FOLDER        : None                          \n",
      "SEQMAP_FILE          : None                          \n",
      "SEQ_INFO             : None                          \n",
      "GT_LOC_FORMAT        : {gt_folder}/{seq}/gt/gt.txt   \n",
      "SKIP_SPLIT_FOL       : False                         \n"
     ]
    },
    {
     "name": "stderr",
     "output_type": "stream",
     "text": [
      "\u001b[32m[I 2022-02-13 00:30:03,182]\u001b[0m Trial 74 finished with value: 0.4381057919699379 and parameters: {'matching_threshold': 0.41000631880067767, 'matching_budget': 0, 'tracker_max_iou_distance': 0.8479167020399648, 'tracker_max_age': 3, 'tracker_n_init': 1, 'std_weight_position': 137, 'std_weight_velocity': 354}. Best is trial 0 with value: 0.4381057919699379.\u001b[0m\n"
     ]
    },
    {
     "name": "stdout",
     "output_type": "stream",
     "text": [
      "\n",
      "MotChallenge2DBox Config:\n",
      "GT_FOLDER            : /home/ubuntu/ibrahim/master/datasets/MOT_GT/\n",
      "TRACKERS_FOLDER      : /home/ubuntu/ibrahim/master/results/ssd_final_embeddings/\n",
      "OUTPUT_FOLDER        : None                          \n",
      "TRACKERS_TO_EVAL     : None                          \n",
      "CLASSES_TO_EVAL      : ['vehicle']                   \n",
      "BENCHMARK            : MOT17                         \n",
      "SPLIT_TO_EVAL        : train                         \n",
      "INPUT_AS_ZIP         : False                         \n",
      "PRINT_CONFIG         : True                          \n",
      "DO_PREPROC           : False                         \n",
      "TRACKER_SUB_FOLDER   : data                          \n",
      "OUTPUT_SUB_FOLDER    :                               \n",
      "TRACKER_DISPLAY_NAMES : None                          \n",
      "SEQMAP_FOLDER        : None                          \n",
      "SEQMAP_FILE          : None                          \n",
      "SEQ_INFO             : None                          \n",
      "GT_LOC_FORMAT        : {gt_folder}/{seq}/gt/gt.txt   \n",
      "SKIP_SPLIT_FOL       : False                         \n"
     ]
    },
    {
     "name": "stderr",
     "output_type": "stream",
     "text": [
      "\u001b[32m[I 2022-02-13 00:30:43,846]\u001b[0m Trial 75 finished with value: 0.4381057919699379 and parameters: {'matching_threshold': 0.4296458549100502, 'matching_budget': 0, 'tracker_max_iou_distance': 0.8994445976749595, 'tracker_max_age': 18, 'tracker_n_init': 2, 'std_weight_position': 165, 'std_weight_velocity': 362}. Best is trial 0 with value: 0.4381057919699379.\u001b[0m\n"
     ]
    },
    {
     "name": "stdout",
     "output_type": "stream",
     "text": [
      "\n",
      "MotChallenge2DBox Config:\n",
      "GT_FOLDER            : /home/ubuntu/ibrahim/master/datasets/MOT_GT/\n",
      "TRACKERS_FOLDER      : /home/ubuntu/ibrahim/master/results/ssd_final_embeddings/\n",
      "OUTPUT_FOLDER        : None                          \n",
      "TRACKERS_TO_EVAL     : None                          \n",
      "CLASSES_TO_EVAL      : ['vehicle']                   \n",
      "BENCHMARK            : MOT17                         \n",
      "SPLIT_TO_EVAL        : train                         \n",
      "INPUT_AS_ZIP         : False                         \n",
      "PRINT_CONFIG         : True                          \n",
      "DO_PREPROC           : False                         \n",
      "TRACKER_SUB_FOLDER   : data                          \n",
      "OUTPUT_SUB_FOLDER    :                               \n",
      "TRACKER_DISPLAY_NAMES : None                          \n",
      "SEQMAP_FOLDER        : None                          \n",
      "SEQMAP_FILE          : None                          \n",
      "SEQ_INFO             : None                          \n",
      "GT_LOC_FORMAT        : {gt_folder}/{seq}/gt/gt.txt   \n",
      "SKIP_SPLIT_FOL       : False                         \n"
     ]
    },
    {
     "name": "stderr",
     "output_type": "stream",
     "text": [
      "\u001b[32m[I 2022-02-13 00:31:19,117]\u001b[0m Trial 76 finished with value: 0.4381057919699379 and parameters: {'matching_threshold': 0.21730586114206352, 'matching_budget': 0, 'tracker_max_iou_distance': 0.877000463452693, 'tracker_max_age': 11, 'tracker_n_init': 1, 'std_weight_position': 174, 'std_weight_velocity': 158}. Best is trial 0 with value: 0.4381057919699379.\u001b[0m\n"
     ]
    },
    {
     "name": "stdout",
     "output_type": "stream",
     "text": [
      "\n",
      "MotChallenge2DBox Config:\n",
      "GT_FOLDER            : /home/ubuntu/ibrahim/master/datasets/MOT_GT/\n",
      "TRACKERS_FOLDER      : /home/ubuntu/ibrahim/master/results/ssd_final_embeddings/\n",
      "OUTPUT_FOLDER        : None                          \n",
      "TRACKERS_TO_EVAL     : None                          \n",
      "CLASSES_TO_EVAL      : ['vehicle']                   \n",
      "BENCHMARK            : MOT17                         \n",
      "SPLIT_TO_EVAL        : train                         \n",
      "INPUT_AS_ZIP         : False                         \n",
      "PRINT_CONFIG         : True                          \n",
      "DO_PREPROC           : False                         \n",
      "TRACKER_SUB_FOLDER   : data                          \n",
      "OUTPUT_SUB_FOLDER    :                               \n",
      "TRACKER_DISPLAY_NAMES : None                          \n",
      "SEQMAP_FOLDER        : None                          \n",
      "SEQMAP_FILE          : None                          \n",
      "SEQ_INFO             : None                          \n",
      "GT_LOC_FORMAT        : {gt_folder}/{seq}/gt/gt.txt   \n",
      "SKIP_SPLIT_FOL       : False                         \n"
     ]
    },
    {
     "name": "stderr",
     "output_type": "stream",
     "text": [
      "\u001b[32m[I 2022-02-13 00:31:29,512]\u001b[0m Trial 77 finished with value: 0.4381057919699379 and parameters: {'matching_threshold': 0.3925513594214942, 'matching_budget': 1, 'tracker_max_iou_distance': 0.8053332376423443, 'tracker_max_age': 6, 'tracker_n_init': 3, 'std_weight_position': 168, 'std_weight_velocity': 149}. Best is trial 0 with value: 0.4381057919699379.\u001b[0m\n"
     ]
    },
    {
     "name": "stdout",
     "output_type": "stream",
     "text": [
      "\n",
      "MotChallenge2DBox Config:\n",
      "GT_FOLDER            : /home/ubuntu/ibrahim/master/datasets/MOT_GT/\n",
      "TRACKERS_FOLDER      : /home/ubuntu/ibrahim/master/results/ssd_final_embeddings/\n",
      "OUTPUT_FOLDER        : None                          \n",
      "TRACKERS_TO_EVAL     : None                          \n",
      "CLASSES_TO_EVAL      : ['vehicle']                   \n",
      "BENCHMARK            : MOT17                         \n",
      "SPLIT_TO_EVAL        : train                         \n",
      "INPUT_AS_ZIP         : False                         \n",
      "PRINT_CONFIG         : True                          \n",
      "DO_PREPROC           : False                         \n",
      "TRACKER_SUB_FOLDER   : data                          \n",
      "OUTPUT_SUB_FOLDER    :                               \n",
      "TRACKER_DISPLAY_NAMES : None                          \n",
      "SEQMAP_FOLDER        : None                          \n",
      "SEQMAP_FILE          : None                          \n",
      "SEQ_INFO             : None                          \n",
      "GT_LOC_FORMAT        : {gt_folder}/{seq}/gt/gt.txt   \n",
      "SKIP_SPLIT_FOL       : False                         \n"
     ]
    },
    {
     "name": "stderr",
     "output_type": "stream",
     "text": [
      "\u001b[32m[I 2022-02-13 00:31:41,033]\u001b[0m Trial 78 finished with value: 0.4381057919699379 and parameters: {'matching_threshold': 0.3710844039289942, 'matching_budget': 1, 'tracker_max_iou_distance': 0.4833701789185281, 'tracker_max_age': 15, 'tracker_n_init': 4, 'std_weight_position': 156, 'std_weight_velocity': 385}. Best is trial 0 with value: 0.4381057919699379.\u001b[0m\n"
     ]
    },
    {
     "name": "stdout",
     "output_type": "stream",
     "text": [
      "\n",
      "MotChallenge2DBox Config:\n",
      "GT_FOLDER            : /home/ubuntu/ibrahim/master/datasets/MOT_GT/\n",
      "TRACKERS_FOLDER      : /home/ubuntu/ibrahim/master/results/ssd_final_embeddings/\n",
      "OUTPUT_FOLDER        : None                          \n",
      "TRACKERS_TO_EVAL     : None                          \n",
      "CLASSES_TO_EVAL      : ['vehicle']                   \n",
      "BENCHMARK            : MOT17                         \n",
      "SPLIT_TO_EVAL        : train                         \n",
      "INPUT_AS_ZIP         : False                         \n",
      "PRINT_CONFIG         : True                          \n",
      "DO_PREPROC           : False                         \n",
      "TRACKER_SUB_FOLDER   : data                          \n",
      "OUTPUT_SUB_FOLDER    :                               \n",
      "TRACKER_DISPLAY_NAMES : None                          \n",
      "SEQMAP_FOLDER        : None                          \n",
      "SEQMAP_FILE          : None                          \n",
      "SEQ_INFO             : None                          \n",
      "GT_LOC_FORMAT        : {gt_folder}/{seq}/gt/gt.txt   \n",
      "SKIP_SPLIT_FOL       : False                         \n"
     ]
    },
    {
     "name": "stderr",
     "output_type": "stream",
     "text": [
      "\u001b[32m[I 2022-02-13 00:31:52,463]\u001b[0m Trial 79 finished with value: 0.4381057919699379 and parameters: {'matching_threshold': 0.24849455439934967, 'matching_budget': 1, 'tracker_max_iou_distance': 0.5517791397439097, 'tracker_max_age': 16, 'tracker_n_init': 4, 'std_weight_position': 178, 'std_weight_velocity': 334}. Best is trial 0 with value: 0.4381057919699379.\u001b[0m\n"
     ]
    },
    {
     "name": "stdout",
     "output_type": "stream",
     "text": [
      "\n",
      "MotChallenge2DBox Config:\n",
      "GT_FOLDER            : /home/ubuntu/ibrahim/master/datasets/MOT_GT/\n",
      "TRACKERS_FOLDER      : /home/ubuntu/ibrahim/master/results/ssd_final_embeddings/\n",
      "OUTPUT_FOLDER        : None                          \n",
      "TRACKERS_TO_EVAL     : None                          \n",
      "CLASSES_TO_EVAL      : ['vehicle']                   \n",
      "BENCHMARK            : MOT17                         \n",
      "SPLIT_TO_EVAL        : train                         \n",
      "INPUT_AS_ZIP         : False                         \n",
      "PRINT_CONFIG         : True                          \n",
      "DO_PREPROC           : False                         \n",
      "TRACKER_SUB_FOLDER   : data                          \n",
      "OUTPUT_SUB_FOLDER    :                               \n",
      "TRACKER_DISPLAY_NAMES : None                          \n",
      "SEQMAP_FOLDER        : None                          \n",
      "SEQMAP_FILE          : None                          \n",
      "SEQ_INFO             : None                          \n",
      "GT_LOC_FORMAT        : {gt_folder}/{seq}/gt/gt.txt   \n",
      "SKIP_SPLIT_FOL       : False                         \n"
     ]
    },
    {
     "name": "stderr",
     "output_type": "stream",
     "text": [
      "\u001b[32m[I 2022-02-13 00:32:04,818]\u001b[0m Trial 80 finished with value: 0.4381057919699379 and parameters: {'matching_threshold': 0.3265300293549794, 'matching_budget': 1, 'tracker_max_iou_distance': 0.5040320205494988, 'tracker_max_age': 15, 'tracker_n_init': 3, 'std_weight_position': 138, 'std_weight_velocity': 371}. Best is trial 0 with value: 0.4381057919699379.\u001b[0m\n"
     ]
    },
    {
     "name": "stdout",
     "output_type": "stream",
     "text": [
      "\n",
      "MotChallenge2DBox Config:\n",
      "GT_FOLDER            : /home/ubuntu/ibrahim/master/datasets/MOT_GT/\n",
      "TRACKERS_FOLDER      : /home/ubuntu/ibrahim/master/results/ssd_final_embeddings/\n",
      "OUTPUT_FOLDER        : None                          \n",
      "TRACKERS_TO_EVAL     : None                          \n",
      "CLASSES_TO_EVAL      : ['vehicle']                   \n",
      "BENCHMARK            : MOT17                         \n",
      "SPLIT_TO_EVAL        : train                         \n",
      "INPUT_AS_ZIP         : False                         \n",
      "PRINT_CONFIG         : True                          \n",
      "DO_PREPROC           : False                         \n",
      "TRACKER_SUB_FOLDER   : data                          \n",
      "OUTPUT_SUB_FOLDER    :                               \n",
      "TRACKER_DISPLAY_NAMES : None                          \n",
      "SEQMAP_FOLDER        : None                          \n",
      "SEQMAP_FILE          : None                          \n",
      "SEQ_INFO             : None                          \n",
      "GT_LOC_FORMAT        : {gt_folder}/{seq}/gt/gt.txt   \n",
      "SKIP_SPLIT_FOL       : False                         \n"
     ]
    },
    {
     "name": "stderr",
     "output_type": "stream",
     "text": [
      "\u001b[32m[I 2022-02-13 00:32:23,585]\u001b[0m Trial 81 finished with value: 0.4381057919699379 and parameters: {'matching_threshold': 0.3463777724364727, 'matching_budget': 1, 'tracker_max_iou_distance': 0.6078614675080158, 'tracker_max_age': 47, 'tracker_n_init': 3, 'std_weight_position': 193, 'std_weight_velocity': 381}. Best is trial 0 with value: 0.4381057919699379.\u001b[0m\n"
     ]
    },
    {
     "name": "stdout",
     "output_type": "stream",
     "text": [
      "\n",
      "MotChallenge2DBox Config:\n",
      "GT_FOLDER            : /home/ubuntu/ibrahim/master/datasets/MOT_GT/\n",
      "TRACKERS_FOLDER      : /home/ubuntu/ibrahim/master/results/ssd_final_embeddings/\n",
      "OUTPUT_FOLDER        : None                          \n",
      "TRACKERS_TO_EVAL     : None                          \n",
      "CLASSES_TO_EVAL      : ['vehicle']                   \n",
      "BENCHMARK            : MOT17                         \n",
      "SPLIT_TO_EVAL        : train                         \n",
      "INPUT_AS_ZIP         : False                         \n",
      "PRINT_CONFIG         : True                          \n",
      "DO_PREPROC           : False                         \n",
      "TRACKER_SUB_FOLDER   : data                          \n",
      "OUTPUT_SUB_FOLDER    :                               \n",
      "TRACKER_DISPLAY_NAMES : None                          \n",
      "SEQMAP_FOLDER        : None                          \n",
      "SEQMAP_FILE          : None                          \n",
      "SEQ_INFO             : None                          \n",
      "GT_LOC_FORMAT        : {gt_folder}/{seq}/gt/gt.txt   \n",
      "SKIP_SPLIT_FOL       : False                         \n"
     ]
    },
    {
     "name": "stderr",
     "output_type": "stream",
     "text": [
      "\u001b[32m[I 2022-02-13 00:32:45,540]\u001b[0m Trial 82 finished with value: 0.4381057919699379 and parameters: {'matching_threshold': 0.30710445683751164, 'matching_budget': 10, 'tracker_max_iou_distance': 0.5930353102763106, 'tracker_max_age': 46, 'tracker_n_init': 1, 'std_weight_position': 192, 'std_weight_velocity': 370}. Best is trial 0 with value: 0.4381057919699379.\u001b[0m\n"
     ]
    },
    {
     "name": "stdout",
     "output_type": "stream",
     "text": [
      "\n",
      "MotChallenge2DBox Config:\n",
      "GT_FOLDER            : /home/ubuntu/ibrahim/master/datasets/MOT_GT/\n",
      "TRACKERS_FOLDER      : /home/ubuntu/ibrahim/master/results/ssd_final_embeddings/\n",
      "OUTPUT_FOLDER        : None                          \n",
      "TRACKERS_TO_EVAL     : None                          \n",
      "CLASSES_TO_EVAL      : ['vehicle']                   \n",
      "BENCHMARK            : MOT17                         \n",
      "SPLIT_TO_EVAL        : train                         \n",
      "INPUT_AS_ZIP         : False                         \n",
      "PRINT_CONFIG         : True                          \n",
      "DO_PREPROC           : False                         \n",
      "TRACKER_SUB_FOLDER   : data                          \n",
      "OUTPUT_SUB_FOLDER    :                               \n",
      "TRACKER_DISPLAY_NAMES : None                          \n",
      "SEQMAP_FOLDER        : None                          \n",
      "SEQMAP_FILE          : None                          \n",
      "SEQ_INFO             : None                          \n",
      "GT_LOC_FORMAT        : {gt_folder}/{seq}/gt/gt.txt   \n",
      "SKIP_SPLIT_FOL       : False                         \n"
     ]
    },
    {
     "name": "stderr",
     "output_type": "stream",
     "text": [
      "\u001b[32m[I 2022-02-13 00:33:07,137]\u001b[0m Trial 83 finished with value: 0.4381057919699379 and parameters: {'matching_threshold': 0.30765838700836834, 'matching_budget': 8, 'tracker_max_iou_distance': 0.6471678905011372, 'tracker_max_age': 49, 'tracker_n_init': 1, 'std_weight_position': 187, 'std_weight_velocity': 313}. Best is trial 0 with value: 0.4381057919699379.\u001b[0m\n"
     ]
    },
    {
     "name": "stdout",
     "output_type": "stream",
     "text": [
      "\n",
      "MotChallenge2DBox Config:\n",
      "GT_FOLDER            : /home/ubuntu/ibrahim/master/datasets/MOT_GT/\n",
      "TRACKERS_FOLDER      : /home/ubuntu/ibrahim/master/results/ssd_final_embeddings/\n",
      "OUTPUT_FOLDER        : None                          \n",
      "TRACKERS_TO_EVAL     : None                          \n",
      "CLASSES_TO_EVAL      : ['vehicle']                   \n",
      "BENCHMARK            : MOT17                         \n",
      "SPLIT_TO_EVAL        : train                         \n",
      "INPUT_AS_ZIP         : False                         \n",
      "PRINT_CONFIG         : True                          \n",
      "DO_PREPROC           : False                         \n",
      "TRACKER_SUB_FOLDER   : data                          \n",
      "OUTPUT_SUB_FOLDER    :                               \n",
      "TRACKER_DISPLAY_NAMES : None                          \n",
      "SEQMAP_FOLDER        : None                          \n",
      "SEQMAP_FILE          : None                          \n",
      "SEQ_INFO             : None                          \n",
      "GT_LOC_FORMAT        : {gt_folder}/{seq}/gt/gt.txt   \n",
      "SKIP_SPLIT_FOL       : False                         \n"
     ]
    },
    {
     "name": "stderr",
     "output_type": "stream",
     "text": [
      "\u001b[32m[I 2022-02-13 00:33:16,087]\u001b[0m Trial 84 finished with value: 0.4381057919699379 and parameters: {'matching_threshold': 0.28871017746119587, 'matching_budget': 7, 'tracker_max_iou_distance': 0.5509880984214205, 'tracker_max_age': 12, 'tracker_n_init': 9, 'std_weight_position': 37, 'std_weight_velocity': 350}. Best is trial 0 with value: 0.4381057919699379.\u001b[0m\n"
     ]
    },
    {
     "name": "stdout",
     "output_type": "stream",
     "text": [
      "\n",
      "MotChallenge2DBox Config:\n",
      "GT_FOLDER            : /home/ubuntu/ibrahim/master/datasets/MOT_GT/\n",
      "TRACKERS_FOLDER      : /home/ubuntu/ibrahim/master/results/ssd_final_embeddings/\n",
      "OUTPUT_FOLDER        : None                          \n",
      "TRACKERS_TO_EVAL     : None                          \n",
      "CLASSES_TO_EVAL      : ['vehicle']                   \n",
      "BENCHMARK            : MOT17                         \n",
      "SPLIT_TO_EVAL        : train                         \n",
      "INPUT_AS_ZIP         : False                         \n",
      "PRINT_CONFIG         : True                          \n",
      "DO_PREPROC           : False                         \n",
      "TRACKER_SUB_FOLDER   : data                          \n",
      "OUTPUT_SUB_FOLDER    :                               \n",
      "TRACKER_DISPLAY_NAMES : None                          \n",
      "SEQMAP_FOLDER        : None                          \n",
      "SEQMAP_FILE          : None                          \n",
      "SEQ_INFO             : None                          \n",
      "GT_LOC_FORMAT        : {gt_folder}/{seq}/gt/gt.txt   \n",
      "SKIP_SPLIT_FOL       : False                         \n"
     ]
    },
    {
     "name": "stderr",
     "output_type": "stream",
     "text": [
      "\u001b[32m[I 2022-02-13 00:33:32,475]\u001b[0m Trial 85 finished with value: 0.4381057919699379 and parameters: {'matching_threshold': 0.37451161390191556, 'matching_budget': 7, 'tracker_max_iou_distance': 0.6124577692608226, 'tracker_max_age': 45, 'tracker_n_init': 4, 'std_weight_position': 181, 'std_weight_velocity': 331}. Best is trial 0 with value: 0.4381057919699379.\u001b[0m\n"
     ]
    },
    {
     "name": "stdout",
     "output_type": "stream",
     "text": [
      "\n",
      "MotChallenge2DBox Config:\n",
      "GT_FOLDER            : /home/ubuntu/ibrahim/master/datasets/MOT_GT/\n",
      "TRACKERS_FOLDER      : /home/ubuntu/ibrahim/master/results/ssd_final_embeddings/\n",
      "OUTPUT_FOLDER        : None                          \n",
      "TRACKERS_TO_EVAL     : None                          \n",
      "CLASSES_TO_EVAL      : ['vehicle']                   \n",
      "BENCHMARK            : MOT17                         \n",
      "SPLIT_TO_EVAL        : train                         \n",
      "INPUT_AS_ZIP         : False                         \n",
      "PRINT_CONFIG         : True                          \n",
      "DO_PREPROC           : False                         \n",
      "TRACKER_SUB_FOLDER   : data                          \n",
      "OUTPUT_SUB_FOLDER    :                               \n",
      "TRACKER_DISPLAY_NAMES : None                          \n",
      "SEQMAP_FOLDER        : None                          \n",
      "SEQMAP_FILE          : None                          \n",
      "SEQ_INFO             : None                          \n",
      "GT_LOC_FORMAT        : {gt_folder}/{seq}/gt/gt.txt   \n",
      "SKIP_SPLIT_FOL       : False                         \n"
     ]
    },
    {
     "name": "stderr",
     "output_type": "stream",
     "text": [
      "\u001b[32m[I 2022-02-13 00:33:42,495]\u001b[0m Trial 86 finished with value: 0.4381057919699379 and parameters: {'matching_threshold': 0.19650386225469807, 'matching_budget': 9, 'tracker_max_iou_distance': 0.6576021784424179, 'tracker_max_age': 43, 'tracker_n_init': 9, 'std_weight_position': 49, 'std_weight_velocity': 251}. Best is trial 0 with value: 0.4381057919699379.\u001b[0m\n"
     ]
    },
    {
     "name": "stdout",
     "output_type": "stream",
     "text": [
      "\n",
      "MotChallenge2DBox Config:\n",
      "GT_FOLDER            : /home/ubuntu/ibrahim/master/datasets/MOT_GT/\n",
      "TRACKERS_FOLDER      : /home/ubuntu/ibrahim/master/results/ssd_final_embeddings/\n",
      "OUTPUT_FOLDER        : None                          \n",
      "TRACKERS_TO_EVAL     : None                          \n",
      "CLASSES_TO_EVAL      : ['vehicle']                   \n",
      "BENCHMARK            : MOT17                         \n",
      "SPLIT_TO_EVAL        : train                         \n",
      "INPUT_AS_ZIP         : False                         \n",
      "PRINT_CONFIG         : True                          \n",
      "DO_PREPROC           : False                         \n",
      "TRACKER_SUB_FOLDER   : data                          \n",
      "OUTPUT_SUB_FOLDER    :                               \n",
      "TRACKER_DISPLAY_NAMES : None                          \n",
      "SEQMAP_FOLDER        : None                          \n",
      "SEQMAP_FILE          : None                          \n",
      "SEQ_INFO             : None                          \n",
      "GT_LOC_FORMAT        : {gt_folder}/{seq}/gt/gt.txt   \n",
      "SKIP_SPLIT_FOL       : False                         \n"
     ]
    },
    {
     "name": "stderr",
     "output_type": "stream",
     "text": [
      "\u001b[32m[I 2022-02-13 00:33:54,243]\u001b[0m Trial 87 finished with value: 0.4381057919699379 and parameters: {'matching_threshold': 0.2655960201500953, 'matching_budget': 6, 'tracker_max_iou_distance': 0.6427320976886757, 'tracker_max_age': 50, 'tracker_n_init': 10, 'std_weight_position': 87, 'std_weight_velocity': 282}. Best is trial 0 with value: 0.4381057919699379.\u001b[0m\n"
     ]
    },
    {
     "name": "stdout",
     "output_type": "stream",
     "text": [
      "\n",
      "MotChallenge2DBox Config:\n",
      "GT_FOLDER            : /home/ubuntu/ibrahim/master/datasets/MOT_GT/\n",
      "TRACKERS_FOLDER      : /home/ubuntu/ibrahim/master/results/ssd_final_embeddings/\n",
      "OUTPUT_FOLDER        : None                          \n",
      "TRACKERS_TO_EVAL     : None                          \n",
      "CLASSES_TO_EVAL      : ['vehicle']                   \n",
      "BENCHMARK            : MOT17                         \n",
      "SPLIT_TO_EVAL        : train                         \n",
      "INPUT_AS_ZIP         : False                         \n",
      "PRINT_CONFIG         : True                          \n",
      "DO_PREPROC           : False                         \n",
      "TRACKER_SUB_FOLDER   : data                          \n",
      "OUTPUT_SUB_FOLDER    :                               \n",
      "TRACKER_DISPLAY_NAMES : None                          \n",
      "SEQMAP_FOLDER        : None                          \n",
      "SEQMAP_FILE          : None                          \n",
      "SEQ_INFO             : None                          \n",
      "GT_LOC_FORMAT        : {gt_folder}/{seq}/gt/gt.txt   \n",
      "SKIP_SPLIT_FOL       : False                         \n"
     ]
    },
    {
     "name": "stderr",
     "output_type": "stream",
     "text": [
      "\u001b[32m[I 2022-02-13 00:34:03,951]\u001b[0m Trial 88 finished with value: 0.4381057919699379 and parameters: {'matching_threshold': 0.7255313893254224, 'matching_budget': 9, 'tracker_max_iou_distance': 0.6863977357100376, 'tracker_max_age': 32, 'tracker_n_init': 10, 'std_weight_position': 18, 'std_weight_velocity': 61}. Best is trial 0 with value: 0.4381057919699379.\u001b[0m\n"
     ]
    },
    {
     "name": "stdout",
     "output_type": "stream",
     "text": [
      "\n",
      "MotChallenge2DBox Config:\n",
      "GT_FOLDER            : /home/ubuntu/ibrahim/master/datasets/MOT_GT/\n",
      "TRACKERS_FOLDER      : /home/ubuntu/ibrahim/master/results/ssd_final_embeddings/\n",
      "OUTPUT_FOLDER        : None                          \n",
      "TRACKERS_TO_EVAL     : None                          \n",
      "CLASSES_TO_EVAL      : ['vehicle']                   \n",
      "BENCHMARK            : MOT17                         \n",
      "SPLIT_TO_EVAL        : train                         \n",
      "INPUT_AS_ZIP         : False                         \n",
      "PRINT_CONFIG         : True                          \n",
      "DO_PREPROC           : False                         \n",
      "TRACKER_SUB_FOLDER   : data                          \n",
      "OUTPUT_SUB_FOLDER    :                               \n",
      "TRACKER_DISPLAY_NAMES : None                          \n",
      "SEQMAP_FOLDER        : None                          \n",
      "SEQMAP_FILE          : None                          \n",
      "SEQ_INFO             : None                          \n",
      "GT_LOC_FORMAT        : {gt_folder}/{seq}/gt/gt.txt   \n",
      "SKIP_SPLIT_FOL       : False                         \n"
     ]
    },
    {
     "name": "stderr",
     "output_type": "stream",
     "text": [
      "\u001b[32m[I 2022-02-13 00:34:13,393]\u001b[0m Trial 89 finished with value: 0.4381057919699379 and parameters: {'matching_threshold': 0.7082311743096275, 'matching_budget': 10, 'tracker_max_iou_distance': 0.6306204838224703, 'tracker_max_age': 40, 'tracker_n_init': 9, 'std_weight_position': 28, 'std_weight_velocity': 293}. Best is trial 0 with value: 0.4381057919699379.\u001b[0m\n"
     ]
    },
    {
     "name": "stdout",
     "output_type": "stream",
     "text": [
      "\n",
      "MotChallenge2DBox Config:\n",
      "GT_FOLDER            : /home/ubuntu/ibrahim/master/datasets/MOT_GT/\n",
      "TRACKERS_FOLDER      : /home/ubuntu/ibrahim/master/results/ssd_final_embeddings/\n",
      "OUTPUT_FOLDER        : None                          \n",
      "TRACKERS_TO_EVAL     : None                          \n",
      "CLASSES_TO_EVAL      : ['vehicle']                   \n",
      "BENCHMARK            : MOT17                         \n",
      "SPLIT_TO_EVAL        : train                         \n",
      "INPUT_AS_ZIP         : False                         \n",
      "PRINT_CONFIG         : True                          \n",
      "DO_PREPROC           : False                         \n",
      "TRACKER_SUB_FOLDER   : data                          \n",
      "OUTPUT_SUB_FOLDER    :                               \n",
      "TRACKER_DISPLAY_NAMES : None                          \n",
      "SEQMAP_FOLDER        : None                          \n",
      "SEQMAP_FILE          : None                          \n",
      "SEQ_INFO             : None                          \n",
      "GT_LOC_FORMAT        : {gt_folder}/{seq}/gt/gt.txt   \n",
      "SKIP_SPLIT_FOL       : False                         \n"
     ]
    },
    {
     "name": "stderr",
     "output_type": "stream",
     "text": [
      "\u001b[32m[I 2022-02-13 00:34:22,268]\u001b[0m Trial 90 finished with value: 0.4381057919699379 and parameters: {'matching_threshold': 0.734596876668998, 'matching_budget': 9, 'tracker_max_iou_distance': 0.6628126365305527, 'tracker_max_age': 26, 'tracker_n_init': 8, 'std_weight_position': 3, 'std_weight_velocity': 22}. Best is trial 0 with value: 0.4381057919699379.\u001b[0m\n"
     ]
    },
    {
     "name": "stdout",
     "output_type": "stream",
     "text": [
      "\n",
      "MotChallenge2DBox Config:\n",
      "GT_FOLDER            : /home/ubuntu/ibrahim/master/datasets/MOT_GT/\n",
      "TRACKERS_FOLDER      : /home/ubuntu/ibrahim/master/results/ssd_final_embeddings/\n",
      "OUTPUT_FOLDER        : None                          \n",
      "TRACKERS_TO_EVAL     : None                          \n",
      "CLASSES_TO_EVAL      : ['vehicle']                   \n",
      "BENCHMARK            : MOT17                         \n",
      "SPLIT_TO_EVAL        : train                         \n",
      "INPUT_AS_ZIP         : False                         \n",
      "PRINT_CONFIG         : True                          \n",
      "DO_PREPROC           : False                         \n",
      "TRACKER_SUB_FOLDER   : data                          \n",
      "OUTPUT_SUB_FOLDER    :                               \n",
      "TRACKER_DISPLAY_NAMES : None                          \n",
      "SEQMAP_FOLDER        : None                          \n",
      "SEQMAP_FILE          : None                          \n",
      "SEQ_INFO             : None                          \n",
      "GT_LOC_FORMAT        : {gt_folder}/{seq}/gt/gt.txt   \n",
      "SKIP_SPLIT_FOL       : False                         \n"
     ]
    },
    {
     "name": "stderr",
     "output_type": "stream",
     "text": [
      "\u001b[32m[I 2022-02-13 00:34:33,327]\u001b[0m Trial 91 finished with value: 0.4381057919699379 and parameters: {'matching_threshold': 0.7743793104390965, 'matching_budget': 6, 'tracker_max_iou_distance': 0.584806557237964, 'tracker_max_age': 31, 'tracker_n_init': 9, 'std_weight_position': 92, 'std_weight_velocity': 80}. Best is trial 0 with value: 0.4381057919699379.\u001b[0m\n"
     ]
    },
    {
     "name": "stdout",
     "output_type": "stream",
     "text": [
      "\n",
      "MotChallenge2DBox Config:\n",
      "GT_FOLDER            : /home/ubuntu/ibrahim/master/datasets/MOT_GT/\n",
      "TRACKERS_FOLDER      : /home/ubuntu/ibrahim/master/results/ssd_final_embeddings/\n",
      "OUTPUT_FOLDER        : None                          \n",
      "TRACKERS_TO_EVAL     : None                          \n",
      "CLASSES_TO_EVAL      : ['vehicle']                   \n",
      "BENCHMARK            : MOT17                         \n",
      "SPLIT_TO_EVAL        : train                         \n",
      "INPUT_AS_ZIP         : False                         \n",
      "PRINT_CONFIG         : True                          \n",
      "DO_PREPROC           : False                         \n",
      "TRACKER_SUB_FOLDER   : data                          \n",
      "OUTPUT_SUB_FOLDER    :                               \n",
      "TRACKER_DISPLAY_NAMES : None                          \n",
      "SEQMAP_FOLDER        : None                          \n",
      "SEQMAP_FILE          : None                          \n",
      "SEQ_INFO             : None                          \n",
      "GT_LOC_FORMAT        : {gt_folder}/{seq}/gt/gt.txt   \n",
      "SKIP_SPLIT_FOL       : False                         \n"
     ]
    },
    {
     "name": "stderr",
     "output_type": "stream",
     "text": [
      "\u001b[32m[I 2022-02-13 00:34:42,936]\u001b[0m Trial 92 finished with value: 0.4381057919699379 and parameters: {'matching_threshold': 0.6888042087647103, 'matching_budget': 8, 'tracker_max_iou_distance': 0.7284732816840906, 'tracker_max_age': 34, 'tracker_n_init': 9, 'std_weight_position': 65, 'std_weight_velocity': 38}. Best is trial 0 with value: 0.4381057919699379.\u001b[0m\n"
     ]
    },
    {
     "name": "stdout",
     "output_type": "stream",
     "text": [
      "\n",
      "MotChallenge2DBox Config:\n",
      "GT_FOLDER            : /home/ubuntu/ibrahim/master/datasets/MOT_GT/\n",
      "TRACKERS_FOLDER      : /home/ubuntu/ibrahim/master/results/ssd_final_embeddings/\n",
      "OUTPUT_FOLDER        : None                          \n",
      "TRACKERS_TO_EVAL     : None                          \n",
      "CLASSES_TO_EVAL      : ['vehicle']                   \n",
      "BENCHMARK            : MOT17                         \n",
      "SPLIT_TO_EVAL        : train                         \n",
      "INPUT_AS_ZIP         : False                         \n",
      "PRINT_CONFIG         : True                          \n",
      "DO_PREPROC           : False                         \n",
      "TRACKER_SUB_FOLDER   : data                          \n",
      "OUTPUT_SUB_FOLDER    :                               \n",
      "TRACKER_DISPLAY_NAMES : None                          \n",
      "SEQMAP_FOLDER        : None                          \n",
      "SEQMAP_FILE          : None                          \n",
      "SEQ_INFO             : None                          \n",
      "GT_LOC_FORMAT        : {gt_folder}/{seq}/gt/gt.txt   \n",
      "SKIP_SPLIT_FOL       : False                         \n"
     ]
    },
    {
     "name": "stderr",
     "output_type": "stream",
     "text": [
      "\u001b[32m[I 2022-02-13 00:34:52,697]\u001b[0m Trial 93 finished with value: 0.4381057919699379 and parameters: {'matching_threshold': 0.7980369749781543, 'matching_budget': 7, 'tracker_max_iou_distance': 0.6852471528900197, 'tracker_max_age': 30, 'tracker_n_init': 8, 'std_weight_position': 83, 'std_weight_velocity': 39}. Best is trial 0 with value: 0.4381057919699379.\u001b[0m\n"
     ]
    },
    {
     "name": "stdout",
     "output_type": "stream",
     "text": [
      "\n",
      "MotChallenge2DBox Config:\n",
      "GT_FOLDER            : /home/ubuntu/ibrahim/master/datasets/MOT_GT/\n",
      "TRACKERS_FOLDER      : /home/ubuntu/ibrahim/master/results/ssd_final_embeddings/\n",
      "OUTPUT_FOLDER        : None                          \n",
      "TRACKERS_TO_EVAL     : None                          \n",
      "CLASSES_TO_EVAL      : ['vehicle']                   \n",
      "BENCHMARK            : MOT17                         \n",
      "SPLIT_TO_EVAL        : train                         \n",
      "INPUT_AS_ZIP         : False                         \n",
      "PRINT_CONFIG         : True                          \n",
      "DO_PREPROC           : False                         \n",
      "TRACKER_SUB_FOLDER   : data                          \n",
      "OUTPUT_SUB_FOLDER    :                               \n",
      "TRACKER_DISPLAY_NAMES : None                          \n",
      "SEQMAP_FOLDER        : None                          \n",
      "SEQMAP_FILE          : None                          \n",
      "SEQ_INFO             : None                          \n",
      "GT_LOC_FORMAT        : {gt_folder}/{seq}/gt/gt.txt   \n",
      "SKIP_SPLIT_FOL       : False                         \n"
     ]
    },
    {
     "name": "stderr",
     "output_type": "stream",
     "text": [
      "\u001b[32m[I 2022-02-13 00:35:03,336]\u001b[0m Trial 94 finished with value: 0.4381057919699379 and parameters: {'matching_threshold': 0.7454229189776246, 'matching_budget': 5, 'tracker_max_iou_distance': 0.38034965875035365, 'tracker_max_age': 28, 'tracker_n_init': 8, 'std_weight_position': 75, 'std_weight_velocity': 87}. Best is trial 0 with value: 0.4381057919699379.\u001b[0m\n"
     ]
    },
    {
     "name": "stdout",
     "output_type": "stream",
     "text": [
      "\n",
      "MotChallenge2DBox Config:\n",
      "GT_FOLDER            : /home/ubuntu/ibrahim/master/datasets/MOT_GT/\n",
      "TRACKERS_FOLDER      : /home/ubuntu/ibrahim/master/results/ssd_final_embeddings/\n",
      "OUTPUT_FOLDER        : None                          \n",
      "TRACKERS_TO_EVAL     : None                          \n",
      "CLASSES_TO_EVAL      : ['vehicle']                   \n",
      "BENCHMARK            : MOT17                         \n",
      "SPLIT_TO_EVAL        : train                         \n",
      "INPUT_AS_ZIP         : False                         \n",
      "PRINT_CONFIG         : True                          \n",
      "DO_PREPROC           : False                         \n",
      "TRACKER_SUB_FOLDER   : data                          \n",
      "OUTPUT_SUB_FOLDER    :                               \n",
      "TRACKER_DISPLAY_NAMES : None                          \n",
      "SEQMAP_FOLDER        : None                          \n",
      "SEQMAP_FILE          : None                          \n",
      "SEQ_INFO             : None                          \n",
      "GT_LOC_FORMAT        : {gt_folder}/{seq}/gt/gt.txt   \n",
      "SKIP_SPLIT_FOL       : False                         \n"
     ]
    },
    {
     "name": "stderr",
     "output_type": "stream",
     "text": [
      "\u001b[32m[I 2022-02-13 00:35:15,285]\u001b[0m Trial 95 finished with value: 0.4381057919699379 and parameters: {'matching_threshold': 0.5883193783048005, 'matching_budget': 6, 'tracker_max_iou_distance': 0.3253643879716461, 'tracker_max_age': 29, 'tracker_n_init': 7, 'std_weight_position': 103, 'std_weight_velocity': 273}. Best is trial 0 with value: 0.4381057919699379.\u001b[0m\n"
     ]
    },
    {
     "name": "stdout",
     "output_type": "stream",
     "text": [
      "\n",
      "MotChallenge2DBox Config:\n",
      "GT_FOLDER            : /home/ubuntu/ibrahim/master/datasets/MOT_GT/\n",
      "TRACKERS_FOLDER      : /home/ubuntu/ibrahim/master/results/ssd_final_embeddings/\n",
      "OUTPUT_FOLDER        : None                          \n",
      "TRACKERS_TO_EVAL     : None                          \n",
      "CLASSES_TO_EVAL      : ['vehicle']                   \n",
      "BENCHMARK            : MOT17                         \n",
      "SPLIT_TO_EVAL        : train                         \n",
      "INPUT_AS_ZIP         : False                         \n",
      "PRINT_CONFIG         : True                          \n",
      "DO_PREPROC           : False                         \n",
      "TRACKER_SUB_FOLDER   : data                          \n",
      "OUTPUT_SUB_FOLDER    :                               \n",
      "TRACKER_DISPLAY_NAMES : None                          \n",
      "SEQMAP_FOLDER        : None                          \n",
      "SEQMAP_FILE          : None                          \n",
      "SEQ_INFO             : None                          \n",
      "GT_LOC_FORMAT        : {gt_folder}/{seq}/gt/gt.txt   \n",
      "SKIP_SPLIT_FOL       : False                         \n"
     ]
    },
    {
     "name": "stderr",
     "output_type": "stream",
     "text": [
      "\u001b[32m[I 2022-02-13 00:35:27,699]\u001b[0m Trial 96 finished with value: 0.4381057919699379 and parameters: {'matching_threshold': 0.546578783712265, 'matching_budget': 5, 'tracker_max_iou_distance': 0.43306900410085275, 'tracker_max_age': 42, 'tracker_n_init': 10, 'std_weight_position': 126, 'std_weight_velocity': 245}. Best is trial 0 with value: 0.4381057919699379.\u001b[0m\n"
     ]
    },
    {
     "name": "stdout",
     "output_type": "stream",
     "text": [
      "\n",
      "MotChallenge2DBox Config:\n",
      "GT_FOLDER            : /home/ubuntu/ibrahim/master/datasets/MOT_GT/\n",
      "TRACKERS_FOLDER      : /home/ubuntu/ibrahim/master/results/ssd_final_embeddings/\n",
      "OUTPUT_FOLDER        : None                          \n",
      "TRACKERS_TO_EVAL     : None                          \n",
      "CLASSES_TO_EVAL      : ['vehicle']                   \n",
      "BENCHMARK            : MOT17                         \n",
      "SPLIT_TO_EVAL        : train                         \n",
      "INPUT_AS_ZIP         : False                         \n",
      "PRINT_CONFIG         : True                          \n",
      "DO_PREPROC           : False                         \n",
      "TRACKER_SUB_FOLDER   : data                          \n",
      "OUTPUT_SUB_FOLDER    :                               \n",
      "TRACKER_DISPLAY_NAMES : None                          \n",
      "SEQMAP_FOLDER        : None                          \n",
      "SEQMAP_FILE          : None                          \n",
      "SEQ_INFO             : None                          \n",
      "GT_LOC_FORMAT        : {gt_folder}/{seq}/gt/gt.txt   \n",
      "SKIP_SPLIT_FOL       : False                         \n"
     ]
    },
    {
     "name": "stderr",
     "output_type": "stream",
     "text": [
      "\u001b[32m[I 2022-02-13 00:35:39,388]\u001b[0m Trial 97 finished with value: 0.4381057919699379 and parameters: {'matching_threshold': 0.5653761204941467, 'matching_budget': 5, 'tracker_max_iou_distance': 0.35662918828730983, 'tracker_max_age': 37, 'tracker_n_init': 10, 'std_weight_position': 98, 'std_weight_velocity': 225}. Best is trial 0 with value: 0.4381057919699379.\u001b[0m\n"
     ]
    },
    {
     "name": "stdout",
     "output_type": "stream",
     "text": [
      "\n",
      "MotChallenge2DBox Config:\n",
      "GT_FOLDER            : /home/ubuntu/ibrahim/master/datasets/MOT_GT/\n",
      "TRACKERS_FOLDER      : /home/ubuntu/ibrahim/master/results/ssd_final_embeddings/\n",
      "OUTPUT_FOLDER        : None                          \n",
      "TRACKERS_TO_EVAL     : None                          \n",
      "CLASSES_TO_EVAL      : ['vehicle']                   \n",
      "BENCHMARK            : MOT17                         \n",
      "SPLIT_TO_EVAL        : train                         \n",
      "INPUT_AS_ZIP         : False                         \n",
      "PRINT_CONFIG         : True                          \n",
      "DO_PREPROC           : False                         \n",
      "TRACKER_SUB_FOLDER   : data                          \n",
      "OUTPUT_SUB_FOLDER    :                               \n",
      "TRACKER_DISPLAY_NAMES : None                          \n",
      "SEQMAP_FOLDER        : None                          \n",
      "SEQMAP_FILE          : None                          \n",
      "SEQ_INFO             : None                          \n",
      "GT_LOC_FORMAT        : {gt_folder}/{seq}/gt/gt.txt   \n",
      "SKIP_SPLIT_FOL       : False                         \n"
     ]
    },
    {
     "name": "stderr",
     "output_type": "stream",
     "text": [
      "\u001b[32m[I 2022-02-13 00:35:50,137]\u001b[0m Trial 98 finished with value: 0.4381057919699379 and parameters: {'matching_threshold': 0.6363968108210624, 'matching_budget': 4, 'tracker_max_iou_distance': 0.3146416025291126, 'tracker_max_age': 33, 'tracker_n_init': 7, 'std_weight_position': 113, 'std_weight_velocity': 50}. Best is trial 0 with value: 0.4381057919699379.\u001b[0m\n"
     ]
    },
    {
     "name": "stdout",
     "output_type": "stream",
     "text": [
      "\n",
      "MotChallenge2DBox Config:\n",
      "GT_FOLDER            : /home/ubuntu/ibrahim/master/datasets/MOT_GT/\n",
      "TRACKERS_FOLDER      : /home/ubuntu/ibrahim/master/results/ssd_final_embeddings/\n",
      "OUTPUT_FOLDER        : None                          \n",
      "TRACKERS_TO_EVAL     : None                          \n",
      "CLASSES_TO_EVAL      : ['vehicle']                   \n",
      "BENCHMARK            : MOT17                         \n",
      "SPLIT_TO_EVAL        : train                         \n",
      "INPUT_AS_ZIP         : False                         \n",
      "PRINT_CONFIG         : True                          \n",
      "DO_PREPROC           : False                         \n",
      "TRACKER_SUB_FOLDER   : data                          \n",
      "OUTPUT_SUB_FOLDER    :                               \n",
      "TRACKER_DISPLAY_NAMES : None                          \n",
      "SEQMAP_FOLDER        : None                          \n",
      "SEQMAP_FILE          : None                          \n",
      "SEQ_INFO             : None                          \n",
      "GT_LOC_FORMAT        : {gt_folder}/{seq}/gt/gt.txt   \n",
      "SKIP_SPLIT_FOL       : False                         \n"
     ]
    },
    {
     "name": "stderr",
     "output_type": "stream",
     "text": [
      "\u001b[32m[I 2022-02-13 00:36:01,807]\u001b[0m Trial 99 finished with value: 0.4381057919699379 and parameters: {'matching_threshold': 0.6443750418157811, 'matching_budget': 4, 'tracker_max_iou_distance': 0.40147925829484893, 'tracker_max_age': 35, 'tracker_n_init': 7, 'std_weight_position': 106, 'std_weight_velocity': 131}. Best is trial 0 with value: 0.4381057919699379.\u001b[0m\n"
     ]
    },
    {
     "name": "stdout",
     "output_type": "stream",
     "text": [
      "\n",
      "MotChallenge2DBox Config:\n",
      "GT_FOLDER            : /home/ubuntu/ibrahim/master/datasets/MOT_GT/\n",
      "TRACKERS_FOLDER      : /home/ubuntu/ibrahim/master/results/ssd_final_embeddings/\n",
      "OUTPUT_FOLDER        : None                          \n",
      "TRACKERS_TO_EVAL     : None                          \n",
      "CLASSES_TO_EVAL      : ['vehicle']                   \n",
      "BENCHMARK            : MOT17                         \n",
      "SPLIT_TO_EVAL        : train                         \n",
      "INPUT_AS_ZIP         : False                         \n",
      "PRINT_CONFIG         : True                          \n",
      "DO_PREPROC           : False                         \n",
      "TRACKER_SUB_FOLDER   : data                          \n",
      "OUTPUT_SUB_FOLDER    :                               \n",
      "TRACKER_DISPLAY_NAMES : None                          \n",
      "SEQMAP_FOLDER        : None                          \n",
      "SEQMAP_FILE          : None                          \n",
      "SEQ_INFO             : None                          \n",
      "GT_LOC_FORMAT        : {gt_folder}/{seq}/gt/gt.txt   \n",
      "SKIP_SPLIT_FOL       : False                         \n"
     ]
    },
    {
     "name": "stderr",
     "output_type": "stream",
     "text": [
      "\u001b[32m[I 2022-02-13 00:36:16,032]\u001b[0m Trial 100 finished with value: 0.4381057919699379 and parameters: {'matching_threshold': 0.49877848072634656, 'matching_budget': 3, 'tracker_max_iou_distance': 0.3486983232212029, 'tracker_max_age': 39, 'tracker_n_init': 6, 'std_weight_position': 120, 'std_weight_velocity': 184}. Best is trial 0 with value: 0.4381057919699379.\u001b[0m\n"
     ]
    },
    {
     "name": "stdout",
     "output_type": "stream",
     "text": [
      "\n",
      "MotChallenge2DBox Config:\n",
      "GT_FOLDER            : /home/ubuntu/ibrahim/master/datasets/MOT_GT/\n",
      "TRACKERS_FOLDER      : /home/ubuntu/ibrahim/master/results/ssd_final_embeddings/\n",
      "OUTPUT_FOLDER        : None                          \n",
      "TRACKERS_TO_EVAL     : None                          \n",
      "CLASSES_TO_EVAL      : ['vehicle']                   \n",
      "BENCHMARK            : MOT17                         \n",
      "SPLIT_TO_EVAL        : train                         \n",
      "INPUT_AS_ZIP         : False                         \n",
      "PRINT_CONFIG         : True                          \n",
      "DO_PREPROC           : False                         \n",
      "TRACKER_SUB_FOLDER   : data                          \n",
      "OUTPUT_SUB_FOLDER    :                               \n",
      "TRACKER_DISPLAY_NAMES : None                          \n",
      "SEQMAP_FOLDER        : None                          \n",
      "SEQMAP_FILE          : None                          \n",
      "SEQ_INFO             : None                          \n",
      "GT_LOC_FORMAT        : {gt_folder}/{seq}/gt/gt.txt   \n",
      "SKIP_SPLIT_FOL       : False                         \n"
     ]
    },
    {
     "name": "stderr",
     "output_type": "stream",
     "text": [
      "\u001b[32m[I 2022-02-13 00:36:27,513]\u001b[0m Trial 101 finished with value: 0.4381057919699379 and parameters: {'matching_threshold': 0.502547495934784, 'matching_budget': 3, 'tracker_max_iou_distance': 0.44591425002556906, 'tracker_max_age': 34, 'tracker_n_init': 8, 'std_weight_position': 72, 'std_weight_velocity': 197}. Best is trial 0 with value: 0.4381057919699379.\u001b[0m\n"
     ]
    },
    {
     "name": "stdout",
     "output_type": "stream",
     "text": [
      "\n",
      "MotChallenge2DBox Config:\n",
      "GT_FOLDER            : /home/ubuntu/ibrahim/master/datasets/MOT_GT/\n",
      "TRACKERS_FOLDER      : /home/ubuntu/ibrahim/master/results/ssd_final_embeddings/\n",
      "OUTPUT_FOLDER        : None                          \n",
      "TRACKERS_TO_EVAL     : None                          \n",
      "CLASSES_TO_EVAL      : ['vehicle']                   \n",
      "BENCHMARK            : MOT17                         \n",
      "SPLIT_TO_EVAL        : train                         \n",
      "INPUT_AS_ZIP         : False                         \n",
      "PRINT_CONFIG         : True                          \n",
      "DO_PREPROC           : False                         \n",
      "TRACKER_SUB_FOLDER   : data                          \n",
      "OUTPUT_SUB_FOLDER    :                               \n",
      "TRACKER_DISPLAY_NAMES : None                          \n",
      "SEQMAP_FOLDER        : None                          \n",
      "SEQMAP_FILE          : None                          \n",
      "SEQ_INFO             : None                          \n",
      "GT_LOC_FORMAT        : {gt_folder}/{seq}/gt/gt.txt   \n",
      "SKIP_SPLIT_FOL       : False                         \n"
     ]
    },
    {
     "name": "stderr",
     "output_type": "stream",
     "text": [
      "\u001b[32m[I 2022-02-13 00:36:41,996]\u001b[0m Trial 102 finished with value: 0.4381057919699379 and parameters: {'matching_threshold': 0.5233945287046873, 'matching_budget': 5, 'tracker_max_iou_distance': 0.3867001084244712, 'tracker_max_age': 37, 'tracker_n_init': 5, 'std_weight_position': 130, 'std_weight_velocity': 111}. Best is trial 0 with value: 0.4381057919699379.\u001b[0m\n"
     ]
    },
    {
     "name": "stdout",
     "output_type": "stream",
     "text": [
      "\n",
      "MotChallenge2DBox Config:\n",
      "GT_FOLDER            : /home/ubuntu/ibrahim/master/datasets/MOT_GT/\n",
      "TRACKERS_FOLDER      : /home/ubuntu/ibrahim/master/results/ssd_final_embeddings/\n",
      "OUTPUT_FOLDER        : None                          \n",
      "TRACKERS_TO_EVAL     : None                          \n",
      "CLASSES_TO_EVAL      : ['vehicle']                   \n",
      "BENCHMARK            : MOT17                         \n",
      "SPLIT_TO_EVAL        : train                         \n",
      "INPUT_AS_ZIP         : False                         \n",
      "PRINT_CONFIG         : True                          \n",
      "DO_PREPROC           : False                         \n",
      "TRACKER_SUB_FOLDER   : data                          \n",
      "OUTPUT_SUB_FOLDER    :                               \n",
      "TRACKER_DISPLAY_NAMES : None                          \n",
      "SEQMAP_FOLDER        : None                          \n",
      "SEQMAP_FILE          : None                          \n",
      "SEQ_INFO             : None                          \n",
      "GT_LOC_FORMAT        : {gt_folder}/{seq}/gt/gt.txt   \n",
      "SKIP_SPLIT_FOL       : False                         \n"
     ]
    },
    {
     "name": "stderr",
     "output_type": "stream",
     "text": [
      "\u001b[32m[I 2022-02-13 00:36:52,011]\u001b[0m Trial 103 finished with value: 0.4381057919699379 and parameters: {'matching_threshold': 0.46580745904675125, 'matching_budget': 3, 'tracker_max_iou_distance': 0.8618986201066906, 'tracker_max_age': 2, 'tracker_n_init': 2, 'std_weight_position': 152, 'std_weight_velocity': 221}. Best is trial 0 with value: 0.4381057919699379.\u001b[0m\n"
     ]
    },
    {
     "name": "stdout",
     "output_type": "stream",
     "text": [
      "\n",
      "MotChallenge2DBox Config:\n",
      "GT_FOLDER            : /home/ubuntu/ibrahim/master/datasets/MOT_GT/\n",
      "TRACKERS_FOLDER      : /home/ubuntu/ibrahim/master/results/ssd_final_embeddings/\n",
      "OUTPUT_FOLDER        : None                          \n",
      "TRACKERS_TO_EVAL     : None                          \n",
      "CLASSES_TO_EVAL      : ['vehicle']                   \n",
      "BENCHMARK            : MOT17                         \n",
      "SPLIT_TO_EVAL        : train                         \n",
      "INPUT_AS_ZIP         : False                         \n",
      "PRINT_CONFIG         : True                          \n",
      "DO_PREPROC           : False                         \n",
      "TRACKER_SUB_FOLDER   : data                          \n",
      "OUTPUT_SUB_FOLDER    :                               \n",
      "TRACKER_DISPLAY_NAMES : None                          \n",
      "SEQMAP_FOLDER        : None                          \n",
      "SEQMAP_FILE          : None                          \n",
      "SEQ_INFO             : None                          \n",
      "GT_LOC_FORMAT        : {gt_folder}/{seq}/gt/gt.txt   \n",
      "SKIP_SPLIT_FOL       : False                         \n"
     ]
    },
    {
     "name": "stderr",
     "output_type": "stream",
     "text": [
      "\u001b[32m[I 2022-02-13 00:37:22,220]\u001b[0m Trial 104 finished with value: 0.4381057919699379 and parameters: {'matching_threshold': 0.43434408082471465, 'matching_budget': 0, 'tracker_max_iou_distance': 0.8909157370209869, 'tracker_max_age': 3, 'tracker_n_init': 2, 'std_weight_position': 162, 'std_weight_velocity': 358}. Best is trial 0 with value: 0.4381057919699379.\u001b[0m\n"
     ]
    },
    {
     "name": "stdout",
     "output_type": "stream",
     "text": [
      "\n",
      "MotChallenge2DBox Config:\n",
      "GT_FOLDER            : /home/ubuntu/ibrahim/master/datasets/MOT_GT/\n",
      "TRACKERS_FOLDER      : /home/ubuntu/ibrahim/master/results/ssd_final_embeddings/\n",
      "OUTPUT_FOLDER        : None                          \n",
      "TRACKERS_TO_EVAL     : None                          \n",
      "CLASSES_TO_EVAL      : ['vehicle']                   \n",
      "BENCHMARK            : MOT17                         \n",
      "SPLIT_TO_EVAL        : train                         \n",
      "INPUT_AS_ZIP         : False                         \n",
      "PRINT_CONFIG         : True                          \n",
      "DO_PREPROC           : False                         \n",
      "TRACKER_SUB_FOLDER   : data                          \n",
      "OUTPUT_SUB_FOLDER    :                               \n",
      "TRACKER_DISPLAY_NAMES : None                          \n",
      "SEQMAP_FOLDER        : None                          \n",
      "SEQMAP_FILE          : None                          \n",
      "SEQ_INFO             : None                          \n",
      "GT_LOC_FORMAT        : {gt_folder}/{seq}/gt/gt.txt   \n",
      "SKIP_SPLIT_FOL       : False                         \n"
     ]
    },
    {
     "name": "stderr",
     "output_type": "stream",
     "text": [
      "\u001b[32m[I 2022-02-13 00:37:39,387]\u001b[0m Trial 105 finished with value: 0.4381057919699379 and parameters: {'matching_threshold': 0.487987305643854, 'matching_budget': 4, 'tracker_max_iou_distance': 0.8948739455289421, 'tracker_max_age': 42, 'tracker_n_init': 2, 'std_weight_position': 136, 'std_weight_velocity': 202}. Best is trial 0 with value: 0.4381057919699379.\u001b[0m\n"
     ]
    },
    {
     "name": "stdout",
     "output_type": "stream",
     "text": [
      "\n",
      "MotChallenge2DBox Config:\n",
      "GT_FOLDER            : /home/ubuntu/ibrahim/master/datasets/MOT_GT/\n",
      "TRACKERS_FOLDER      : /home/ubuntu/ibrahim/master/results/ssd_final_embeddings/\n",
      "OUTPUT_FOLDER        : None                          \n",
      "TRACKERS_TO_EVAL     : None                          \n",
      "CLASSES_TO_EVAL      : ['vehicle']                   \n",
      "BENCHMARK            : MOT17                         \n",
      "SPLIT_TO_EVAL        : train                         \n",
      "INPUT_AS_ZIP         : False                         \n",
      "PRINT_CONFIG         : True                          \n",
      "DO_PREPROC           : False                         \n",
      "TRACKER_SUB_FOLDER   : data                          \n",
      "OUTPUT_SUB_FOLDER    :                               \n",
      "TRACKER_DISPLAY_NAMES : None                          \n",
      "SEQMAP_FOLDER        : None                          \n",
      "SEQMAP_FILE          : None                          \n",
      "SEQ_INFO             : None                          \n",
      "GT_LOC_FORMAT        : {gt_folder}/{seq}/gt/gt.txt   \n",
      "SKIP_SPLIT_FOL       : False                         \n"
     ]
    },
    {
     "name": "stderr",
     "output_type": "stream",
     "text": [
      "\u001b[32m[I 2022-02-13 00:38:08,018]\u001b[0m Trial 106 finished with value: 0.4381057919699379 and parameters: {'matching_threshold': 0.5400123433947835, 'matching_budget': 0, 'tracker_max_iou_distance': 0.8818782308480001, 'tracker_max_age': 3, 'tracker_n_init': 1, 'std_weight_position': 124, 'std_weight_velocity': 135}. Best is trial 0 with value: 0.4381057919699379.\u001b[0m\n"
     ]
    },
    {
     "name": "stdout",
     "output_type": "stream",
     "text": [
      "\n",
      "MotChallenge2DBox Config:\n",
      "GT_FOLDER            : /home/ubuntu/ibrahim/master/datasets/MOT_GT/\n",
      "TRACKERS_FOLDER      : /home/ubuntu/ibrahim/master/results/ssd_final_embeddings/\n",
      "OUTPUT_FOLDER        : None                          \n",
      "TRACKERS_TO_EVAL     : None                          \n",
      "CLASSES_TO_EVAL      : ['vehicle']                   \n",
      "BENCHMARK            : MOT17                         \n",
      "SPLIT_TO_EVAL        : train                         \n",
      "INPUT_AS_ZIP         : False                         \n",
      "PRINT_CONFIG         : True                          \n",
      "DO_PREPROC           : False                         \n",
      "TRACKER_SUB_FOLDER   : data                          \n",
      "OUTPUT_SUB_FOLDER    :                               \n",
      "TRACKER_DISPLAY_NAMES : None                          \n",
      "SEQMAP_FOLDER        : None                          \n",
      "SEQMAP_FILE          : None                          \n",
      "SEQ_INFO             : None                          \n",
      "GT_LOC_FORMAT        : {gt_folder}/{seq}/gt/gt.txt   \n",
      "SKIP_SPLIT_FOL       : False                         \n"
     ]
    },
    {
     "name": "stderr",
     "output_type": "stream",
     "text": [
      "\u001b[32m[I 2022-02-13 00:38:38,127]\u001b[0m Trial 107 finished with value: 0.4381057919699379 and parameters: {'matching_threshold': 0.3945478687137685, 'matching_budget': 0, 'tracker_max_iou_distance': 0.8730162604272985, 'tracker_max_age': 5, 'tracker_n_init': 2, 'std_weight_position': 144, 'std_weight_velocity': 156}. Best is trial 0 with value: 0.4381057919699379.\u001b[0m\n"
     ]
    },
    {
     "name": "stdout",
     "output_type": "stream",
     "text": [
      "\n",
      "MotChallenge2DBox Config:\n",
      "GT_FOLDER            : /home/ubuntu/ibrahim/master/datasets/MOT_GT/\n",
      "TRACKERS_FOLDER      : /home/ubuntu/ibrahim/master/results/ssd_final_embeddings/\n",
      "OUTPUT_FOLDER        : None                          \n",
      "TRACKERS_TO_EVAL     : None                          \n",
      "CLASSES_TO_EVAL      : ['vehicle']                   \n",
      "BENCHMARK            : MOT17                         \n",
      "SPLIT_TO_EVAL        : train                         \n",
      "INPUT_AS_ZIP         : False                         \n",
      "PRINT_CONFIG         : True                          \n",
      "DO_PREPROC           : False                         \n",
      "TRACKER_SUB_FOLDER   : data                          \n",
      "OUTPUT_SUB_FOLDER    :                               \n",
      "TRACKER_DISPLAY_NAMES : None                          \n",
      "SEQMAP_FOLDER        : None                          \n",
      "SEQMAP_FILE          : None                          \n",
      "SEQ_INFO             : None                          \n",
      "GT_LOC_FORMAT        : {gt_folder}/{seq}/gt/gt.txt   \n",
      "SKIP_SPLIT_FOL       : False                         \n"
     ]
    },
    {
     "name": "stderr",
     "output_type": "stream",
     "text": [
      "\u001b[32m[I 2022-02-13 00:38:48,203]\u001b[0m Trial 108 finished with value: 0.4381057919699379 and parameters: {'matching_threshold': 0.4290777620319044, 'matching_budget': 2, 'tracker_max_iou_distance': 0.8086695912757338, 'tracker_max_age': 6, 'tracker_n_init': 2, 'std_weight_position': 154, 'std_weight_velocity': 386}. Best is trial 0 with value: 0.4381057919699379.\u001b[0m\n"
     ]
    },
    {
     "name": "stdout",
     "output_type": "stream",
     "text": [
      "\n",
      "MotChallenge2DBox Config:\n",
      "GT_FOLDER            : /home/ubuntu/ibrahim/master/datasets/MOT_GT/\n",
      "TRACKERS_FOLDER      : /home/ubuntu/ibrahim/master/results/ssd_final_embeddings/\n",
      "OUTPUT_FOLDER        : None                          \n",
      "TRACKERS_TO_EVAL     : None                          \n",
      "CLASSES_TO_EVAL      : ['vehicle']                   \n",
      "BENCHMARK            : MOT17                         \n",
      "SPLIT_TO_EVAL        : train                         \n",
      "INPUT_AS_ZIP         : False                         \n",
      "PRINT_CONFIG         : True                          \n",
      "DO_PREPROC           : False                         \n",
      "TRACKER_SUB_FOLDER   : data                          \n",
      "OUTPUT_SUB_FOLDER    :                               \n",
      "TRACKER_DISPLAY_NAMES : None                          \n",
      "SEQMAP_FOLDER        : None                          \n",
      "SEQMAP_FILE          : None                          \n",
      "SEQ_INFO             : None                          \n",
      "GT_LOC_FORMAT        : {gt_folder}/{seq}/gt/gt.txt   \n",
      "SKIP_SPLIT_FOL       : False                         \n"
     ]
    },
    {
     "name": "stderr",
     "output_type": "stream",
     "text": [
      "\u001b[32m[I 2022-02-13 00:39:35,396]\u001b[0m Trial 109 finished with value: 0.4381057919699379 and parameters: {'matching_threshold': 0.2035981842762165, 'matching_budget': 0, 'tracker_max_iou_distance': 0.8489578105869631, 'tracker_max_age': 23, 'tracker_n_init': 2, 'std_weight_position': 160, 'std_weight_velocity': 178}. Best is trial 0 with value: 0.4381057919699379.\u001b[0m\n"
     ]
    },
    {
     "name": "stdout",
     "output_type": "stream",
     "text": [
      "\n",
      "MotChallenge2DBox Config:\n",
      "GT_FOLDER            : /home/ubuntu/ibrahim/master/datasets/MOT_GT/\n",
      "TRACKERS_FOLDER      : /home/ubuntu/ibrahim/master/results/ssd_final_embeddings/\n",
      "OUTPUT_FOLDER        : None                          \n",
      "TRACKERS_TO_EVAL     : None                          \n",
      "CLASSES_TO_EVAL      : ['vehicle']                   \n",
      "BENCHMARK            : MOT17                         \n",
      "SPLIT_TO_EVAL        : train                         \n",
      "INPUT_AS_ZIP         : False                         \n",
      "PRINT_CONFIG         : True                          \n",
      "DO_PREPROC           : False                         \n",
      "TRACKER_SUB_FOLDER   : data                          \n",
      "OUTPUT_SUB_FOLDER    :                               \n",
      "TRACKER_DISPLAY_NAMES : None                          \n",
      "SEQMAP_FOLDER        : None                          \n",
      "SEQMAP_FILE          : None                          \n",
      "SEQ_INFO             : None                          \n",
      "GT_LOC_FORMAT        : {gt_folder}/{seq}/gt/gt.txt   \n",
      "SKIP_SPLIT_FOL       : False                         \n"
     ]
    },
    {
     "name": "stderr",
     "output_type": "stream",
     "text": [
      "\u001b[32m[I 2022-02-13 00:40:15,469]\u001b[0m Trial 110 finished with value: 0.4381057919699379 and parameters: {'matching_threshold': 0.3888067270896808, 'matching_budget': 0, 'tracker_max_iou_distance': 0.7781889737489361, 'tracker_max_age': 17, 'tracker_n_init': 4, 'std_weight_position': 175, 'std_weight_velocity': 147}. Best is trial 0 with value: 0.4381057919699379.\u001b[0m\n"
     ]
    },
    {
     "name": "stdout",
     "output_type": "stream",
     "text": [
      "\n",
      "MotChallenge2DBox Config:\n",
      "GT_FOLDER            : /home/ubuntu/ibrahim/master/datasets/MOT_GT/\n",
      "TRACKERS_FOLDER      : /home/ubuntu/ibrahim/master/results/ssd_final_embeddings/\n",
      "OUTPUT_FOLDER        : None                          \n",
      "TRACKERS_TO_EVAL     : None                          \n",
      "CLASSES_TO_EVAL      : ['vehicle']                   \n",
      "BENCHMARK            : MOT17                         \n",
      "SPLIT_TO_EVAL        : train                         \n",
      "INPUT_AS_ZIP         : False                         \n",
      "PRINT_CONFIG         : True                          \n",
      "DO_PREPROC           : False                         \n",
      "TRACKER_SUB_FOLDER   : data                          \n",
      "OUTPUT_SUB_FOLDER    :                               \n",
      "TRACKER_DISPLAY_NAMES : None                          \n",
      "SEQMAP_FOLDER        : None                          \n",
      "SEQMAP_FILE          : None                          \n",
      "SEQ_INFO             : None                          \n",
      "GT_LOC_FORMAT        : {gt_folder}/{seq}/gt/gt.txt   \n",
      "SKIP_SPLIT_FOL       : False                         \n"
     ]
    },
    {
     "name": "stderr",
     "output_type": "stream",
     "text": [
      "\u001b[32m[I 2022-02-13 00:40:26,503]\u001b[0m Trial 111 finished with value: 0.4381057919699379 and parameters: {'matching_threshold': 0.22504795569949854, 'matching_budget': 1, 'tracker_max_iou_distance': 0.4783579414510738, 'tracker_max_age': 15, 'tracker_n_init': 4, 'std_weight_position': 168, 'std_weight_velocity': 380}. Best is trial 0 with value: 0.4381057919699379.\u001b[0m\n"
     ]
    },
    {
     "name": "stdout",
     "output_type": "stream",
     "text": [
      "\n",
      "MotChallenge2DBox Config:\n",
      "GT_FOLDER            : /home/ubuntu/ibrahim/master/datasets/MOT_GT/\n",
      "TRACKERS_FOLDER      : /home/ubuntu/ibrahim/master/results/ssd_final_embeddings/\n",
      "OUTPUT_FOLDER        : None                          \n",
      "TRACKERS_TO_EVAL     : None                          \n",
      "CLASSES_TO_EVAL      : ['vehicle']                   \n",
      "BENCHMARK            : MOT17                         \n",
      "SPLIT_TO_EVAL        : train                         \n",
      "INPUT_AS_ZIP         : False                         \n",
      "PRINT_CONFIG         : True                          \n",
      "DO_PREPROC           : False                         \n",
      "TRACKER_SUB_FOLDER   : data                          \n",
      "OUTPUT_SUB_FOLDER    :                               \n",
      "TRACKER_DISPLAY_NAMES : None                          \n",
      "SEQMAP_FOLDER        : None                          \n",
      "SEQMAP_FILE          : None                          \n",
      "SEQ_INFO             : None                          \n",
      "GT_LOC_FORMAT        : {gt_folder}/{seq}/gt/gt.txt   \n",
      "SKIP_SPLIT_FOL       : False                         \n"
     ]
    },
    {
     "name": "stderr",
     "output_type": "stream",
     "text": [
      "\u001b[32m[I 2022-02-13 00:40:37,803]\u001b[0m Trial 112 finished with value: 0.4381057919699379 and parameters: {'matching_threshold': 0.3215289084516338, 'matching_budget': 1, 'tracker_max_iou_distance': 0.5220064704154136, 'tracker_max_age': 14, 'tracker_n_init': 3, 'std_weight_position': 150, 'std_weight_velocity': 360}. Best is trial 0 with value: 0.4381057919699379.\u001b[0m\n"
     ]
    },
    {
     "name": "stdout",
     "output_type": "stream",
     "text": [
      "\n",
      "MotChallenge2DBox Config:\n",
      "GT_FOLDER            : /home/ubuntu/ibrahim/master/datasets/MOT_GT/\n",
      "TRACKERS_FOLDER      : /home/ubuntu/ibrahim/master/results/ssd_final_embeddings/\n",
      "OUTPUT_FOLDER        : None                          \n",
      "TRACKERS_TO_EVAL     : None                          \n",
      "CLASSES_TO_EVAL      : ['vehicle']                   \n",
      "BENCHMARK            : MOT17                         \n",
      "SPLIT_TO_EVAL        : train                         \n",
      "INPUT_AS_ZIP         : False                         \n",
      "PRINT_CONFIG         : True                          \n",
      "DO_PREPROC           : False                         \n",
      "TRACKER_SUB_FOLDER   : data                          \n",
      "OUTPUT_SUB_FOLDER    :                               \n",
      "TRACKER_DISPLAY_NAMES : None                          \n",
      "SEQMAP_FOLDER        : None                          \n",
      "SEQMAP_FILE          : None                          \n",
      "SEQ_INFO             : None                          \n",
      "GT_LOC_FORMAT        : {gt_folder}/{seq}/gt/gt.txt   \n",
      "SKIP_SPLIT_FOL       : False                         \n"
     ]
    },
    {
     "name": "stderr",
     "output_type": "stream",
     "text": [
      "\u001b[32m[I 2022-02-13 00:40:49,320]\u001b[0m Trial 113 finished with value: 0.4381057919699379 and parameters: {'matching_threshold': 0.34304182727027827, 'matching_budget': 1, 'tracker_max_iou_distance': 0.5354962901380499, 'tracker_max_age': 16, 'tracker_n_init': 3, 'std_weight_position': 164, 'std_weight_velocity': 382}. Best is trial 0 with value: 0.4381057919699379.\u001b[0m\n"
     ]
    },
    {
     "name": "stdout",
     "output_type": "stream",
     "text": [
      "\n",
      "MotChallenge2DBox Config:\n",
      "GT_FOLDER            : /home/ubuntu/ibrahim/master/datasets/MOT_GT/\n",
      "TRACKERS_FOLDER      : /home/ubuntu/ibrahim/master/results/ssd_final_embeddings/\n",
      "OUTPUT_FOLDER        : None                          \n",
      "TRACKERS_TO_EVAL     : None                          \n",
      "CLASSES_TO_EVAL      : ['vehicle']                   \n",
      "BENCHMARK            : MOT17                         \n",
      "SPLIT_TO_EVAL        : train                         \n",
      "INPUT_AS_ZIP         : False                         \n",
      "PRINT_CONFIG         : True                          \n",
      "DO_PREPROC           : False                         \n",
      "TRACKER_SUB_FOLDER   : data                          \n",
      "OUTPUT_SUB_FOLDER    :                               \n",
      "TRACKER_DISPLAY_NAMES : None                          \n",
      "SEQMAP_FOLDER        : None                          \n",
      "SEQMAP_FILE          : None                          \n",
      "SEQ_INFO             : None                          \n",
      "GT_LOC_FORMAT        : {gt_folder}/{seq}/gt/gt.txt   \n",
      "SKIP_SPLIT_FOL       : False                         \n"
     ]
    },
    {
     "name": "stderr",
     "output_type": "stream",
     "text": [
      "\u001b[32m[I 2022-02-13 00:41:53,875]\u001b[0m Trial 114 finished with value: 0.4381057919699379 and parameters: {'matching_threshold': 0.16409978557071422, 'matching_budget': 0, 'tracker_max_iou_distance': 0.4732889681256649, 'tracker_max_age': 45, 'tracker_n_init': 1, 'std_weight_position': 193, 'std_weight_velocity': 335}. Best is trial 0 with value: 0.4381057919699379.\u001b[0m\n"
     ]
    },
    {
     "name": "stdout",
     "output_type": "stream",
     "text": [
      "\n",
      "MotChallenge2DBox Config:\n",
      "GT_FOLDER            : /home/ubuntu/ibrahim/master/datasets/MOT_GT/\n",
      "TRACKERS_FOLDER      : /home/ubuntu/ibrahim/master/results/ssd_final_embeddings/\n",
      "OUTPUT_FOLDER        : None                          \n",
      "TRACKERS_TO_EVAL     : None                          \n",
      "CLASSES_TO_EVAL      : ['vehicle']                   \n",
      "BENCHMARK            : MOT17                         \n",
      "SPLIT_TO_EVAL        : train                         \n",
      "INPUT_AS_ZIP         : False                         \n",
      "PRINT_CONFIG         : True                          \n",
      "DO_PREPROC           : False                         \n",
      "TRACKER_SUB_FOLDER   : data                          \n",
      "OUTPUT_SUB_FOLDER    :                               \n",
      "TRACKER_DISPLAY_NAMES : None                          \n",
      "SEQMAP_FOLDER        : None                          \n",
      "SEQMAP_FILE          : None                          \n",
      "SEQ_INFO             : None                          \n",
      "GT_LOC_FORMAT        : {gt_folder}/{seq}/gt/gt.txt   \n",
      "SKIP_SPLIT_FOL       : False                         \n"
     ]
    },
    {
     "name": "stderr",
     "output_type": "stream",
     "text": [
      "\u001b[32m[I 2022-02-13 00:42:17,057]\u001b[0m Trial 115 finished with value: 0.4381057919699379 and parameters: {'matching_threshold': 0.32351153104245395, 'matching_budget': 1, 'tracker_max_iou_distance': 0.5094119466864433, 'tracker_max_age': 48, 'tracker_n_init': 1, 'std_weight_position': 185, 'std_weight_velocity': 366}. Best is trial 0 with value: 0.4381057919699379.\u001b[0m\n"
     ]
    },
    {
     "name": "stdout",
     "output_type": "stream",
     "text": [
      "\n",
      "MotChallenge2DBox Config:\n",
      "GT_FOLDER            : /home/ubuntu/ibrahim/master/datasets/MOT_GT/\n",
      "TRACKERS_FOLDER      : /home/ubuntu/ibrahim/master/results/ssd_final_embeddings/\n",
      "OUTPUT_FOLDER        : None                          \n",
      "TRACKERS_TO_EVAL     : None                          \n",
      "CLASSES_TO_EVAL      : ['vehicle']                   \n",
      "BENCHMARK            : MOT17                         \n",
      "SPLIT_TO_EVAL        : train                         \n",
      "INPUT_AS_ZIP         : False                         \n",
      "PRINT_CONFIG         : True                          \n",
      "DO_PREPROC           : False                         \n",
      "TRACKER_SUB_FOLDER   : data                          \n",
      "OUTPUT_SUB_FOLDER    :                               \n",
      "TRACKER_DISPLAY_NAMES : None                          \n",
      "SEQMAP_FOLDER        : None                          \n",
      "SEQMAP_FILE          : None                          \n",
      "SEQ_INFO             : None                          \n",
      "GT_LOC_FORMAT        : {gt_folder}/{seq}/gt/gt.txt   \n",
      "SKIP_SPLIT_FOL       : False                         \n"
     ]
    },
    {
     "name": "stderr",
     "output_type": "stream",
     "text": [
      "\u001b[32m[I 2022-02-13 00:42:38,833]\u001b[0m Trial 116 finished with value: 0.4381057919699379 and parameters: {'matching_threshold': 0.2921575579733411, 'matching_budget': 1, 'tracker_max_iou_distance': 0.5061186793874992, 'tracker_max_age': 47, 'tracker_n_init': 1, 'std_weight_position': 177, 'std_weight_velocity': 347}. Best is trial 0 with value: 0.4381057919699379.\u001b[0m\n"
     ]
    },
    {
     "name": "stdout",
     "output_type": "stream",
     "text": [
      "\n",
      "MotChallenge2DBox Config:\n",
      "GT_FOLDER            : /home/ubuntu/ibrahim/master/datasets/MOT_GT/\n",
      "TRACKERS_FOLDER      : /home/ubuntu/ibrahim/master/results/ssd_final_embeddings/\n",
      "OUTPUT_FOLDER        : None                          \n",
      "TRACKERS_TO_EVAL     : None                          \n",
      "CLASSES_TO_EVAL      : ['vehicle']                   \n",
      "BENCHMARK            : MOT17                         \n",
      "SPLIT_TO_EVAL        : train                         \n",
      "INPUT_AS_ZIP         : False                         \n",
      "PRINT_CONFIG         : True                          \n",
      "DO_PREPROC           : False                         \n",
      "TRACKER_SUB_FOLDER   : data                          \n",
      "OUTPUT_SUB_FOLDER    :                               \n",
      "TRACKER_DISPLAY_NAMES : None                          \n",
      "SEQMAP_FOLDER        : None                          \n",
      "SEQMAP_FILE          : None                          \n",
      "SEQ_INFO             : None                          \n",
      "GT_LOC_FORMAT        : {gt_folder}/{seq}/gt/gt.txt   \n",
      "SKIP_SPLIT_FOL       : False                         \n"
     ]
    },
    {
     "name": "stderr",
     "output_type": "stream",
     "text": [
      "\u001b[32m[I 2022-02-13 00:42:50,592]\u001b[0m Trial 117 finished with value: 0.4381057919699379 and parameters: {'matching_threshold': 0.24565261936990956, 'matching_budget': 1, 'tracker_max_iou_distance': 0.5533675308592091, 'tracker_max_age': 12, 'tracker_n_init': 1, 'std_weight_position': 190, 'std_weight_velocity': 317}. Best is trial 0 with value: 0.4381057919699379.\u001b[0m\n"
     ]
    },
    {
     "name": "stdout",
     "output_type": "stream",
     "text": [
      "\n",
      "MotChallenge2DBox Config:\n",
      "GT_FOLDER            : /home/ubuntu/ibrahim/master/datasets/MOT_GT/\n",
      "TRACKERS_FOLDER      : /home/ubuntu/ibrahim/master/results/ssd_final_embeddings/\n",
      "OUTPUT_FOLDER        : None                          \n",
      "TRACKERS_TO_EVAL     : None                          \n",
      "CLASSES_TO_EVAL      : ['vehicle']                   \n",
      "BENCHMARK            : MOT17                         \n",
      "SPLIT_TO_EVAL        : train                         \n",
      "INPUT_AS_ZIP         : False                         \n",
      "PRINT_CONFIG         : True                          \n",
      "DO_PREPROC           : False                         \n",
      "TRACKER_SUB_FOLDER   : data                          \n",
      "OUTPUT_SUB_FOLDER    :                               \n",
      "TRACKER_DISPLAY_NAMES : None                          \n",
      "SEQMAP_FOLDER        : None                          \n",
      "SEQMAP_FILE          : None                          \n",
      "SEQ_INFO             : None                          \n",
      "GT_LOC_FORMAT        : {gt_folder}/{seq}/gt/gt.txt   \n",
      "SKIP_SPLIT_FOL       : False                         \n"
     ]
    },
    {
     "name": "stderr",
     "output_type": "stream",
     "text": [
      "\u001b[32m[I 2022-02-13 00:43:07,742]\u001b[0m Trial 118 finished with value: 0.4381057919699379 and parameters: {'matching_threshold': 0.2859657555789454, 'matching_budget': 7, 'tracker_max_iou_distance': 0.607806002645355, 'tracker_max_age': 45, 'tracker_n_init': 4, 'std_weight_position': 181, 'std_weight_velocity': 329}. Best is trial 0 with value: 0.4381057919699379.\u001b[0m\n"
     ]
    },
    {
     "name": "stdout",
     "output_type": "stream",
     "text": [
      "\n",
      "MotChallenge2DBox Config:\n",
      "GT_FOLDER            : /home/ubuntu/ibrahim/master/datasets/MOT_GT/\n",
      "TRACKERS_FOLDER      : /home/ubuntu/ibrahim/master/results/ssd_final_embeddings/\n",
      "OUTPUT_FOLDER        : None                          \n",
      "TRACKERS_TO_EVAL     : None                          \n",
      "CLASSES_TO_EVAL      : ['vehicle']                   \n",
      "BENCHMARK            : MOT17                         \n",
      "SPLIT_TO_EVAL        : train                         \n",
      "INPUT_AS_ZIP         : False                         \n",
      "PRINT_CONFIG         : True                          \n",
      "DO_PREPROC           : False                         \n",
      "TRACKER_SUB_FOLDER   : data                          \n",
      "OUTPUT_SUB_FOLDER    :                               \n",
      "TRACKER_DISPLAY_NAMES : None                          \n",
      "SEQMAP_FOLDER        : None                          \n",
      "SEQMAP_FILE          : None                          \n",
      "SEQ_INFO             : None                          \n",
      "GT_LOC_FORMAT        : {gt_folder}/{seq}/gt/gt.txt   \n",
      "SKIP_SPLIT_FOL       : False                         \n"
     ]
    },
    {
     "name": "stderr",
     "output_type": "stream",
     "text": [
      "\u001b[32m[I 2022-02-13 00:43:24,917]\u001b[0m Trial 119 finished with value: 0.4381057919699379 and parameters: {'matching_threshold': 0.21949931675427475, 'matching_budget': 8, 'tracker_max_iou_distance': 0.5865363393013472, 'tracker_max_age': 49, 'tracker_n_init': 4, 'std_weight_position': 195, 'std_weight_velocity': 305}. Best is trial 0 with value: 0.4381057919699379.\u001b[0m\n"
     ]
    },
    {
     "name": "stdout",
     "output_type": "stream",
     "text": [
      "\n",
      "MotChallenge2DBox Config:\n",
      "GT_FOLDER            : /home/ubuntu/ibrahim/master/datasets/MOT_GT/\n",
      "TRACKERS_FOLDER      : /home/ubuntu/ibrahim/master/results/ssd_final_embeddings/\n",
      "OUTPUT_FOLDER        : None                          \n",
      "TRACKERS_TO_EVAL     : None                          \n",
      "CLASSES_TO_EVAL      : ['vehicle']                   \n",
      "BENCHMARK            : MOT17                         \n",
      "SPLIT_TO_EVAL        : train                         \n",
      "INPUT_AS_ZIP         : False                         \n",
      "PRINT_CONFIG         : True                          \n",
      "DO_PREPROC           : False                         \n",
      "TRACKER_SUB_FOLDER   : data                          \n",
      "OUTPUT_SUB_FOLDER    :                               \n",
      "TRACKER_DISPLAY_NAMES : None                          \n",
      "SEQMAP_FOLDER        : None                          \n",
      "SEQMAP_FILE          : None                          \n",
      "SEQ_INFO             : None                          \n",
      "GT_LOC_FORMAT        : {gt_folder}/{seq}/gt/gt.txt   \n",
      "SKIP_SPLIT_FOL       : False                         \n"
     ]
    },
    {
     "name": "stderr",
     "output_type": "stream",
     "text": [
      "\u001b[32m[I 2022-02-13 00:43:36,719]\u001b[0m Trial 120 finished with value: 0.4381057919699379 and parameters: {'matching_threshold': 0.30960272698316066, 'matching_budget': 8, 'tracker_max_iou_distance': 0.6415041124054511, 'tracker_max_age': 47, 'tracker_n_init': 4, 'std_weight_position': 49, 'std_weight_velocity': 336}. Best is trial 0 with value: 0.4381057919699379.\u001b[0m\n"
     ]
    },
    {
     "name": "stdout",
     "output_type": "stream",
     "text": [
      "\n",
      "MotChallenge2DBox Config:\n",
      "GT_FOLDER            : /home/ubuntu/ibrahim/master/datasets/MOT_GT/\n",
      "TRACKERS_FOLDER      : /home/ubuntu/ibrahim/master/results/ssd_final_embeddings/\n",
      "OUTPUT_FOLDER        : None                          \n",
      "TRACKERS_TO_EVAL     : None                          \n",
      "CLASSES_TO_EVAL      : ['vehicle']                   \n",
      "BENCHMARK            : MOT17                         \n",
      "SPLIT_TO_EVAL        : train                         \n",
      "INPUT_AS_ZIP         : False                         \n",
      "PRINT_CONFIG         : True                          \n",
      "DO_PREPROC           : False                         \n",
      "TRACKER_SUB_FOLDER   : data                          \n",
      "OUTPUT_SUB_FOLDER    :                               \n",
      "TRACKER_DISPLAY_NAMES : None                          \n",
      "SEQMAP_FOLDER        : None                          \n",
      "SEQMAP_FILE          : None                          \n",
      "SEQ_INFO             : None                          \n",
      "GT_LOC_FORMAT        : {gt_folder}/{seq}/gt/gt.txt   \n",
      "SKIP_SPLIT_FOL       : False                         \n"
     ]
    },
    {
     "name": "stderr",
     "output_type": "stream",
     "text": [
      "\u001b[32m[I 2022-02-13 00:43:55,064]\u001b[0m Trial 121 finished with value: 0.4381057919699379 and parameters: {'matching_threshold': 0.18715623531635805, 'matching_budget': 10, 'tracker_max_iou_distance': 0.6484121993058308, 'tracker_max_age': 50, 'tracker_n_init': 3, 'std_weight_position': 181, 'std_weight_velocity': 307}. Best is trial 0 with value: 0.4381057919699379.\u001b[0m\n"
     ]
    },
    {
     "name": "stdout",
     "output_type": "stream",
     "text": [
      "\n",
      "MotChallenge2DBox Config:\n",
      "GT_FOLDER            : /home/ubuntu/ibrahim/master/datasets/MOT_GT/\n",
      "TRACKERS_FOLDER      : /home/ubuntu/ibrahim/master/results/ssd_final_embeddings/\n",
      "OUTPUT_FOLDER        : None                          \n",
      "TRACKERS_TO_EVAL     : None                          \n",
      "CLASSES_TO_EVAL      : ['vehicle']                   \n",
      "BENCHMARK            : MOT17                         \n",
      "SPLIT_TO_EVAL        : train                         \n",
      "INPUT_AS_ZIP         : False                         \n",
      "PRINT_CONFIG         : True                          \n",
      "DO_PREPROC           : False                         \n",
      "TRACKER_SUB_FOLDER   : data                          \n",
      "OUTPUT_SUB_FOLDER    :                               \n",
      "TRACKER_DISPLAY_NAMES : None                          \n",
      "SEQMAP_FOLDER        : None                          \n",
      "SEQMAP_FILE          : None                          \n",
      "SEQ_INFO             : None                          \n",
      "GT_LOC_FORMAT        : {gt_folder}/{seq}/gt/gt.txt   \n",
      "SKIP_SPLIT_FOL       : False                         \n"
     ]
    },
    {
     "name": "stderr",
     "output_type": "stream",
     "text": [
      "\u001b[32m[I 2022-02-13 00:44:06,315]\u001b[0m Trial 122 finished with value: 0.4381057919699379 and parameters: {'matching_threshold': 0.2642077712255773, 'matching_budget': 8, 'tracker_max_iou_distance': 0.5753324748044907, 'tracker_max_age': 49, 'tracker_n_init': 5, 'std_weight_position': 34, 'std_weight_velocity': 344}. Best is trial 0 with value: 0.4381057919699379.\u001b[0m\n"
     ]
    },
    {
     "name": "stdout",
     "output_type": "stream",
     "text": [
      "\n",
      "MotChallenge2DBox Config:\n",
      "GT_FOLDER            : /home/ubuntu/ibrahim/master/datasets/MOT_GT/\n",
      "TRACKERS_FOLDER      : /home/ubuntu/ibrahim/master/results/ssd_final_embeddings/\n",
      "OUTPUT_FOLDER        : None                          \n",
      "TRACKERS_TO_EVAL     : None                          \n",
      "CLASSES_TO_EVAL      : ['vehicle']                   \n",
      "BENCHMARK            : MOT17                         \n",
      "SPLIT_TO_EVAL        : train                         \n",
      "INPUT_AS_ZIP         : False                         \n",
      "PRINT_CONFIG         : True                          \n",
      "DO_PREPROC           : False                         \n",
      "TRACKER_SUB_FOLDER   : data                          \n",
      "OUTPUT_SUB_FOLDER    :                               \n",
      "TRACKER_DISPLAY_NAMES : None                          \n",
      "SEQMAP_FOLDER        : None                          \n",
      "SEQMAP_FILE          : None                          \n",
      "SEQ_INFO             : None                          \n",
      "GT_LOC_FORMAT        : {gt_folder}/{seq}/gt/gt.txt   \n",
      "SKIP_SPLIT_FOL       : False                         \n"
     ]
    },
    {
     "name": "stderr",
     "output_type": "stream",
     "text": [
      "\u001b[32m[I 2022-02-13 00:44:16,725]\u001b[0m Trial 123 finished with value: 0.4381057919699379 and parameters: {'matching_threshold': 0.2802393178421482, 'matching_budget': 9, 'tracker_max_iou_distance': 0.6224114720192988, 'tracker_max_age': 44, 'tracker_n_init': 10, 'std_weight_position': 26, 'std_weight_velocity': 288}. Best is trial 0 with value: 0.4381057919699379.\u001b[0m\n"
     ]
    },
    {
     "name": "stdout",
     "output_type": "stream",
     "text": [
      "\n",
      "MotChallenge2DBox Config:\n",
      "GT_FOLDER            : /home/ubuntu/ibrahim/master/datasets/MOT_GT/\n",
      "TRACKERS_FOLDER      : /home/ubuntu/ibrahim/master/results/ssd_final_embeddings/\n",
      "OUTPUT_FOLDER        : None                          \n",
      "TRACKERS_TO_EVAL     : None                          \n",
      "CLASSES_TO_EVAL      : ['vehicle']                   \n",
      "BENCHMARK            : MOT17                         \n",
      "SPLIT_TO_EVAL        : train                         \n",
      "INPUT_AS_ZIP         : False                         \n",
      "PRINT_CONFIG         : True                          \n",
      "DO_PREPROC           : False                         \n",
      "TRACKER_SUB_FOLDER   : data                          \n",
      "OUTPUT_SUB_FOLDER    :                               \n",
      "TRACKER_DISPLAY_NAMES : None                          \n",
      "SEQMAP_FOLDER        : None                          \n",
      "SEQMAP_FILE          : None                          \n",
      "SEQ_INFO             : None                          \n",
      "GT_LOC_FORMAT        : {gt_folder}/{seq}/gt/gt.txt   \n",
      "SKIP_SPLIT_FOL       : False                         \n"
     ]
    },
    {
     "name": "stderr",
     "output_type": "stream",
     "text": [
      "\u001b[32m[I 2022-02-13 00:44:26,354]\u001b[0m Trial 124 finished with value: 0.4381057919699379 and parameters: {'matching_threshold': 0.3025307838890642, 'matching_budget': 9, 'tracker_max_iou_distance': 0.6519639868174996, 'tracker_max_age': 46, 'tracker_n_init': 9, 'std_weight_position': 2, 'std_weight_velocity': 298}. Best is trial 0 with value: 0.4381057919699379.\u001b[0m\n"
     ]
    },
    {
     "name": "stdout",
     "output_type": "stream",
     "text": [
      "\n",
      "MotChallenge2DBox Config:\n",
      "GT_FOLDER            : /home/ubuntu/ibrahim/master/datasets/MOT_GT/\n",
      "TRACKERS_FOLDER      : /home/ubuntu/ibrahim/master/results/ssd_final_embeddings/\n",
      "OUTPUT_FOLDER        : None                          \n",
      "TRACKERS_TO_EVAL     : None                          \n",
      "CLASSES_TO_EVAL      : ['vehicle']                   \n",
      "BENCHMARK            : MOT17                         \n",
      "SPLIT_TO_EVAL        : train                         \n",
      "INPUT_AS_ZIP         : False                         \n",
      "PRINT_CONFIG         : True                          \n",
      "DO_PREPROC           : False                         \n",
      "TRACKER_SUB_FOLDER   : data                          \n",
      "OUTPUT_SUB_FOLDER    :                               \n",
      "TRACKER_DISPLAY_NAMES : None                          \n",
      "SEQMAP_FOLDER        : None                          \n",
      "SEQMAP_FILE          : None                          \n",
      "SEQ_INFO             : None                          \n",
      "GT_LOC_FORMAT        : {gt_folder}/{seq}/gt/gt.txt   \n",
      "SKIP_SPLIT_FOL       : False                         \n"
     ]
    },
    {
     "name": "stderr",
     "output_type": "stream",
     "text": [
      "\u001b[32m[I 2022-02-13 00:44:37,078]\u001b[0m Trial 125 finished with value: 0.4381057919699379 and parameters: {'matching_threshold': 0.24907965962960427, 'matching_budget': 10, 'tracker_max_iou_distance': 0.5998617840343469, 'tracker_max_age': 44, 'tracker_n_init': 9, 'std_weight_position': 19, 'std_weight_velocity': 310}. Best is trial 0 with value: 0.4381057919699379.\u001b[0m\n"
     ]
    },
    {
     "name": "stdout",
     "output_type": "stream",
     "text": [
      "\n",
      "MotChallenge2DBox Config:\n",
      "GT_FOLDER            : /home/ubuntu/ibrahim/master/datasets/MOT_GT/\n",
      "TRACKERS_FOLDER      : /home/ubuntu/ibrahim/master/results/ssd_final_embeddings/\n",
      "OUTPUT_FOLDER        : None                          \n",
      "TRACKERS_TO_EVAL     : None                          \n",
      "CLASSES_TO_EVAL      : ['vehicle']                   \n",
      "BENCHMARK            : MOT17                         \n",
      "SPLIT_TO_EVAL        : train                         \n",
      "INPUT_AS_ZIP         : False                         \n",
      "PRINT_CONFIG         : True                          \n",
      "DO_PREPROC           : False                         \n",
      "TRACKER_SUB_FOLDER   : data                          \n",
      "OUTPUT_SUB_FOLDER    :                               \n",
      "TRACKER_DISPLAY_NAMES : None                          \n",
      "SEQMAP_FOLDER        : None                          \n",
      "SEQMAP_FILE          : None                          \n",
      "SEQ_INFO             : None                          \n",
      "GT_LOC_FORMAT        : {gt_folder}/{seq}/gt/gt.txt   \n",
      "SKIP_SPLIT_FOL       : False                         \n"
     ]
    },
    {
     "name": "stderr",
     "output_type": "stream",
     "text": [
      "\u001b[32m[I 2022-02-13 00:44:47,407]\u001b[0m Trial 126 finished with value: 0.4381057919699379 and parameters: {'matching_threshold': 0.7755703721724182, 'matching_budget': 10, 'tracker_max_iou_distance': 0.584991190301338, 'tracker_max_age': 41, 'tracker_n_init': 9, 'std_weight_position': 12, 'std_weight_velocity': 255}. Best is trial 0 with value: 0.4381057919699379.\u001b[0m\n"
     ]
    },
    {
     "name": "stdout",
     "output_type": "stream",
     "text": [
      "\n",
      "MotChallenge2DBox Config:\n",
      "GT_FOLDER            : /home/ubuntu/ibrahim/master/datasets/MOT_GT/\n",
      "TRACKERS_FOLDER      : /home/ubuntu/ibrahim/master/results/ssd_final_embeddings/\n",
      "OUTPUT_FOLDER        : None                          \n",
      "TRACKERS_TO_EVAL     : None                          \n",
      "CLASSES_TO_EVAL      : ['vehicle']                   \n",
      "BENCHMARK            : MOT17                         \n",
      "SPLIT_TO_EVAL        : train                         \n",
      "INPUT_AS_ZIP         : False                         \n",
      "PRINT_CONFIG         : True                          \n",
      "DO_PREPROC           : False                         \n",
      "TRACKER_SUB_FOLDER   : data                          \n",
      "OUTPUT_SUB_FOLDER    :                               \n",
      "TRACKER_DISPLAY_NAMES : None                          \n",
      "SEQMAP_FOLDER        : None                          \n",
      "SEQMAP_FILE          : None                          \n",
      "SEQ_INFO             : None                          \n",
      "GT_LOC_FORMAT        : {gt_folder}/{seq}/gt/gt.txt   \n",
      "SKIP_SPLIT_FOL       : False                         \n"
     ]
    },
    {
     "name": "stderr",
     "output_type": "stream",
     "text": [
      "\u001b[32m[I 2022-02-13 00:44:57,721]\u001b[0m Trial 127 finished with value: 0.4381057919699379 and parameters: {'matching_threshold': 0.7333610106409135, 'matching_budget': 9, 'tracker_max_iou_distance': 0.732380798343424, 'tracker_max_age': 32, 'tracker_n_init': 9, 'std_weight_position': 59, 'std_weight_velocity': 20}. Best is trial 0 with value: 0.4381057919699379.\u001b[0m\n"
     ]
    },
    {
     "name": "stdout",
     "output_type": "stream",
     "text": [
      "\n",
      "MotChallenge2DBox Config:\n",
      "GT_FOLDER            : /home/ubuntu/ibrahim/master/datasets/MOT_GT/\n",
      "TRACKERS_FOLDER      : /home/ubuntu/ibrahim/master/results/ssd_final_embeddings/\n",
      "OUTPUT_FOLDER        : None                          \n",
      "TRACKERS_TO_EVAL     : None                          \n",
      "CLASSES_TO_EVAL      : ['vehicle']                   \n",
      "BENCHMARK            : MOT17                         \n",
      "SPLIT_TO_EVAL        : train                         \n",
      "INPUT_AS_ZIP         : False                         \n",
      "PRINT_CONFIG         : True                          \n",
      "DO_PREPROC           : False                         \n",
      "TRACKER_SUB_FOLDER   : data                          \n",
      "OUTPUT_SUB_FOLDER    :                               \n",
      "TRACKER_DISPLAY_NAMES : None                          \n",
      "SEQMAP_FOLDER        : None                          \n",
      "SEQMAP_FILE          : None                          \n",
      "SEQ_INFO             : None                          \n",
      "GT_LOC_FORMAT        : {gt_folder}/{seq}/gt/gt.txt   \n",
      "SKIP_SPLIT_FOL       : False                         \n"
     ]
    },
    {
     "name": "stderr",
     "output_type": "stream",
     "text": [
      "\u001b[32m[I 2022-02-13 00:45:08,714]\u001b[0m Trial 128 finished with value: 0.4381057919699379 and parameters: {'matching_threshold': 0.6833891103750545, 'matching_budget': 7, 'tracker_max_iou_distance': 0.6879999489390544, 'tracker_max_age': 32, 'tracker_n_init': 9, 'std_weight_position': 87, 'std_weight_velocity': 36}. Best is trial 0 with value: 0.4381057919699379.\u001b[0m\n"
     ]
    },
    {
     "name": "stdout",
     "output_type": "stream",
     "text": [
      "\n",
      "MotChallenge2DBox Config:\n",
      "GT_FOLDER            : /home/ubuntu/ibrahim/master/datasets/MOT_GT/\n",
      "TRACKERS_FOLDER      : /home/ubuntu/ibrahim/master/results/ssd_final_embeddings/\n",
      "OUTPUT_FOLDER        : None                          \n",
      "TRACKERS_TO_EVAL     : None                          \n",
      "CLASSES_TO_EVAL      : ['vehicle']                   \n",
      "BENCHMARK            : MOT17                         \n",
      "SPLIT_TO_EVAL        : train                         \n",
      "INPUT_AS_ZIP         : False                         \n",
      "PRINT_CONFIG         : True                          \n",
      "DO_PREPROC           : False                         \n",
      "TRACKER_SUB_FOLDER   : data                          \n",
      "OUTPUT_SUB_FOLDER    :                               \n",
      "TRACKER_DISPLAY_NAMES : None                          \n",
      "SEQMAP_FOLDER        : None                          \n",
      "SEQMAP_FILE          : None                          \n",
      "SEQ_INFO             : None                          \n",
      "GT_LOC_FORMAT        : {gt_folder}/{seq}/gt/gt.txt   \n",
      "SKIP_SPLIT_FOL       : False                         \n"
     ]
    },
    {
     "name": "stderr",
     "output_type": "stream",
     "text": [
      "\u001b[32m[I 2022-02-13 00:45:19,151]\u001b[0m Trial 129 finished with value: 0.4381057919699379 and parameters: {'matching_threshold': 0.7723303403192938, 'matching_budget': 7, 'tracker_max_iou_distance': 0.7067233211287351, 'tracker_max_age': 31, 'tracker_n_init': 9, 'std_weight_position': 41, 'std_weight_velocity': 26}. Best is trial 0 with value: 0.4381057919699379.\u001b[0m\n"
     ]
    },
    {
     "name": "stdout",
     "output_type": "stream",
     "text": [
      "\n",
      "MotChallenge2DBox Config:\n",
      "GT_FOLDER            : /home/ubuntu/ibrahim/master/datasets/MOT_GT/\n",
      "TRACKERS_FOLDER      : /home/ubuntu/ibrahim/master/results/ssd_final_embeddings/\n",
      "OUTPUT_FOLDER        : None                          \n",
      "TRACKERS_TO_EVAL     : None                          \n",
      "CLASSES_TO_EVAL      : ['vehicle']                   \n",
      "BENCHMARK            : MOT17                         \n",
      "SPLIT_TO_EVAL        : train                         \n",
      "INPUT_AS_ZIP         : False                         \n",
      "PRINT_CONFIG         : True                          \n",
      "DO_PREPROC           : False                         \n",
      "TRACKER_SUB_FOLDER   : data                          \n",
      "OUTPUT_SUB_FOLDER    :                               \n",
      "TRACKER_DISPLAY_NAMES : None                          \n",
      "SEQMAP_FOLDER        : None                          \n",
      "SEQMAP_FILE          : None                          \n",
      "SEQ_INFO             : None                          \n",
      "GT_LOC_FORMAT        : {gt_folder}/{seq}/gt/gt.txt   \n",
      "SKIP_SPLIT_FOL       : False                         \n"
     ]
    },
    {
     "name": "stderr",
     "output_type": "stream",
     "text": [
      "\u001b[32m[I 2022-02-13 00:45:30,440]\u001b[0m Trial 130 finished with value: 0.4381057919699379 and parameters: {'matching_threshold': 0.7428411600831681, 'matching_budget': 8, 'tracker_max_iou_distance': 0.6713073406160889, 'tracker_max_age': 27, 'tracker_n_init': 8, 'std_weight_position': 83, 'std_weight_velocity': 57}. Best is trial 0 with value: 0.4381057919699379.\u001b[0m\n"
     ]
    },
    {
     "name": "stdout",
     "output_type": "stream",
     "text": [
      "\n",
      "MotChallenge2DBox Config:\n",
      "GT_FOLDER            : /home/ubuntu/ibrahim/master/datasets/MOT_GT/\n",
      "TRACKERS_FOLDER      : /home/ubuntu/ibrahim/master/results/ssd_final_embeddings/\n",
      "OUTPUT_FOLDER        : None                          \n",
      "TRACKERS_TO_EVAL     : None                          \n",
      "CLASSES_TO_EVAL      : ['vehicle']                   \n",
      "BENCHMARK            : MOT17                         \n",
      "SPLIT_TO_EVAL        : train                         \n",
      "INPUT_AS_ZIP         : False                         \n",
      "PRINT_CONFIG         : True                          \n",
      "DO_PREPROC           : False                         \n",
      "TRACKER_SUB_FOLDER   : data                          \n",
      "OUTPUT_SUB_FOLDER    :                               \n",
      "TRACKER_DISPLAY_NAMES : None                          \n",
      "SEQMAP_FOLDER        : None                          \n",
      "SEQMAP_FILE          : None                          \n",
      "SEQ_INFO             : None                          \n",
      "GT_LOC_FORMAT        : {gt_folder}/{seq}/gt/gt.txt   \n",
      "SKIP_SPLIT_FOL       : False                         \n"
     ]
    },
    {
     "name": "stderr",
     "output_type": "stream",
     "text": [
      "\u001b[32m[I 2022-02-13 00:45:42,621]\u001b[0m Trial 131 finished with value: 0.4381057919699379 and parameters: {'matching_threshold': 0.7050814548595201, 'matching_budget': 6, 'tracker_max_iou_distance': 0.718746792491608, 'tracker_max_age': 29, 'tracker_n_init': 8, 'std_weight_position': 93, 'std_weight_velocity': 275}. Best is trial 0 with value: 0.4381057919699379.\u001b[0m\n"
     ]
    },
    {
     "name": "stdout",
     "output_type": "stream",
     "text": [
      "\n",
      "MotChallenge2DBox Config:\n",
      "GT_FOLDER            : /home/ubuntu/ibrahim/master/datasets/MOT_GT/\n",
      "TRACKERS_FOLDER      : /home/ubuntu/ibrahim/master/results/ssd_final_embeddings/\n",
      "OUTPUT_FOLDER        : None                          \n",
      "TRACKERS_TO_EVAL     : None                          \n",
      "CLASSES_TO_EVAL      : ['vehicle']                   \n",
      "BENCHMARK            : MOT17                         \n",
      "SPLIT_TO_EVAL        : train                         \n",
      "INPUT_AS_ZIP         : False                         \n",
      "PRINT_CONFIG         : True                          \n",
      "DO_PREPROC           : False                         \n",
      "TRACKER_SUB_FOLDER   : data                          \n",
      "OUTPUT_SUB_FOLDER    :                               \n",
      "TRACKER_DISPLAY_NAMES : None                          \n",
      "SEQMAP_FOLDER        : None                          \n",
      "SEQMAP_FILE          : None                          \n",
      "SEQ_INFO             : None                          \n",
      "GT_LOC_FORMAT        : {gt_folder}/{seq}/gt/gt.txt   \n",
      "SKIP_SPLIT_FOL       : False                         \n"
     ]
    },
    {
     "name": "stderr",
     "output_type": "stream",
     "text": [
      "\u001b[32m[I 2022-02-13 00:45:52,987]\u001b[0m Trial 132 finished with value: 0.4381057919699379 and parameters: {'matching_threshold': 0.8094139040604004, 'matching_budget': 6, 'tracker_max_iou_distance': 0.6830391384375384, 'tracker_max_age': 29, 'tracker_n_init': 10, 'std_weight_position': 67, 'std_weight_velocity': 30}. Best is trial 0 with value: 0.4381057919699379.\u001b[0m\n"
     ]
    },
    {
     "name": "stdout",
     "output_type": "stream",
     "text": [
      "\n",
      "MotChallenge2DBox Config:\n",
      "GT_FOLDER            : /home/ubuntu/ibrahim/master/datasets/MOT_GT/\n",
      "TRACKERS_FOLDER      : /home/ubuntu/ibrahim/master/results/ssd_final_embeddings/\n",
      "OUTPUT_FOLDER        : None                          \n",
      "TRACKERS_TO_EVAL     : None                          \n",
      "CLASSES_TO_EVAL      : ['vehicle']                   \n",
      "BENCHMARK            : MOT17                         \n",
      "SPLIT_TO_EVAL        : train                         \n",
      "INPUT_AS_ZIP         : False                         \n",
      "PRINT_CONFIG         : True                          \n",
      "DO_PREPROC           : False                         \n",
      "TRACKER_SUB_FOLDER   : data                          \n",
      "OUTPUT_SUB_FOLDER    :                               \n",
      "TRACKER_DISPLAY_NAMES : None                          \n",
      "SEQMAP_FOLDER        : None                          \n",
      "SEQMAP_FILE          : None                          \n",
      "SEQ_INFO             : None                          \n",
      "GT_LOC_FORMAT        : {gt_folder}/{seq}/gt/gt.txt   \n",
      "SKIP_SPLIT_FOL       : False                         \n"
     ]
    },
    {
     "name": "stderr",
     "output_type": "stream",
     "text": [
      "\u001b[32m[I 2022-02-13 00:46:02,523]\u001b[0m Trial 133 finished with value: 0.4381057919699379 and parameters: {'matching_threshold': 0.6900240770001441, 'matching_budget': 6, 'tracker_max_iou_distance': 0.6632903098361304, 'tracker_max_age': 43, 'tracker_n_init': 10, 'std_weight_position': 4, 'std_weight_velocity': 5}. Best is trial 0 with value: 0.4381057919699379.\u001b[0m\n"
     ]
    },
    {
     "name": "stdout",
     "output_type": "stream",
     "text": [
      "\n",
      "MotChallenge2DBox Config:\n",
      "GT_FOLDER            : /home/ubuntu/ibrahim/master/datasets/MOT_GT/\n",
      "TRACKERS_FOLDER      : /home/ubuntu/ibrahim/master/results/ssd_final_embeddings/\n",
      "OUTPUT_FOLDER        : None                          \n",
      "TRACKERS_TO_EVAL     : None                          \n",
      "CLASSES_TO_EVAL      : ['vehicle']                   \n",
      "BENCHMARK            : MOT17                         \n",
      "SPLIT_TO_EVAL        : train                         \n",
      "INPUT_AS_ZIP         : False                         \n",
      "PRINT_CONFIG         : True                          \n",
      "DO_PREPROC           : False                         \n",
      "TRACKER_SUB_FOLDER   : data                          \n",
      "OUTPUT_SUB_FOLDER    :                               \n",
      "TRACKER_DISPLAY_NAMES : None                          \n",
      "SEQMAP_FOLDER        : None                          \n",
      "SEQMAP_FILE          : None                          \n",
      "SEQ_INFO             : None                          \n",
      "GT_LOC_FORMAT        : {gt_folder}/{seq}/gt/gt.txt   \n",
      "SKIP_SPLIT_FOL       : False                         \n"
     ]
    },
    {
     "name": "stderr",
     "output_type": "stream",
     "text": [
      "\u001b[32m[I 2022-02-13 00:46:14,278]\u001b[0m Trial 134 finished with value: 0.4381057919699379 and parameters: {'matching_threshold': 0.5936674264074677, 'matching_budget': 5, 'tracker_max_iou_distance': 0.36875550999213846, 'tracker_max_age': 40, 'tracker_n_init': 10, 'std_weight_position': 84, 'std_weight_velocity': 71}. Best is trial 0 with value: 0.4381057919699379.\u001b[0m\n"
     ]
    },
    {
     "name": "stdout",
     "output_type": "stream",
     "text": [
      "\n",
      "MotChallenge2DBox Config:\n",
      "GT_FOLDER            : /home/ubuntu/ibrahim/master/datasets/MOT_GT/\n",
      "TRACKERS_FOLDER      : /home/ubuntu/ibrahim/master/results/ssd_final_embeddings/\n",
      "OUTPUT_FOLDER        : None                          \n",
      "TRACKERS_TO_EVAL     : None                          \n",
      "CLASSES_TO_EVAL      : ['vehicle']                   \n",
      "BENCHMARK            : MOT17                         \n",
      "SPLIT_TO_EVAL        : train                         \n",
      "INPUT_AS_ZIP         : False                         \n",
      "PRINT_CONFIG         : True                          \n",
      "DO_PREPROC           : False                         \n",
      "TRACKER_SUB_FOLDER   : data                          \n",
      "OUTPUT_SUB_FOLDER    :                               \n",
      "TRACKER_DISPLAY_NAMES : None                          \n",
      "SEQMAP_FOLDER        : None                          \n",
      "SEQMAP_FILE          : None                          \n",
      "SEQ_INFO             : None                          \n",
      "GT_LOC_FORMAT        : {gt_folder}/{seq}/gt/gt.txt   \n",
      "SKIP_SPLIT_FOL       : False                         \n"
     ]
    },
    {
     "name": "stderr",
     "output_type": "stream",
     "text": [
      "\u001b[32m[I 2022-02-13 00:46:25,499]\u001b[0m Trial 135 finished with value: 0.4381057919699379 and parameters: {'matching_threshold': 0.6127327759864907, 'matching_budget': 9, 'tracker_max_iou_distance': 0.6963099308098165, 'tracker_max_age': 25, 'tracker_n_init': 10, 'std_weight_position': 94, 'std_weight_velocity': 248}. Best is trial 0 with value: 0.4381057919699379.\u001b[0m\n"
     ]
    },
    {
     "name": "stdout",
     "output_type": "stream",
     "text": [
      "\n",
      "MotChallenge2DBox Config:\n",
      "GT_FOLDER            : /home/ubuntu/ibrahim/master/datasets/MOT_GT/\n",
      "TRACKERS_FOLDER      : /home/ubuntu/ibrahim/master/results/ssd_final_embeddings/\n",
      "OUTPUT_FOLDER        : None                          \n",
      "TRACKERS_TO_EVAL     : None                          \n",
      "CLASSES_TO_EVAL      : ['vehicle']                   \n",
      "BENCHMARK            : MOT17                         \n",
      "SPLIT_TO_EVAL        : train                         \n",
      "INPUT_AS_ZIP         : False                         \n",
      "PRINT_CONFIG         : True                          \n",
      "DO_PREPROC           : False                         \n",
      "TRACKER_SUB_FOLDER   : data                          \n",
      "OUTPUT_SUB_FOLDER    :                               \n",
      "TRACKER_DISPLAY_NAMES : None                          \n",
      "SEQMAP_FOLDER        : None                          \n",
      "SEQMAP_FILE          : None                          \n",
      "SEQ_INFO             : None                          \n",
      "GT_LOC_FORMAT        : {gt_folder}/{seq}/gt/gt.txt   \n",
      "SKIP_SPLIT_FOL       : False                         \n"
     ]
    },
    {
     "name": "stderr",
     "output_type": "stream",
     "text": [
      "\u001b[32m[I 2022-02-13 00:46:37,218]\u001b[0m Trial 136 finished with value: 0.4381057919699379 and parameters: {'matching_threshold': 0.5575707558668671, 'matching_budget': 4, 'tracker_max_iou_distance': 0.3358511312347199, 'tracker_max_age': 36, 'tracker_n_init': 7, 'std_weight_position': 104, 'std_weight_velocity': 60}. Best is trial 0 with value: 0.4381057919699379.\u001b[0m\n"
     ]
    },
    {
     "name": "stdout",
     "output_type": "stream",
     "text": [
      "\n",
      "MotChallenge2DBox Config:\n",
      "GT_FOLDER            : /home/ubuntu/ibrahim/master/datasets/MOT_GT/\n",
      "TRACKERS_FOLDER      : /home/ubuntu/ibrahim/master/results/ssd_final_embeddings/\n",
      "OUTPUT_FOLDER        : None                          \n",
      "TRACKERS_TO_EVAL     : None                          \n",
      "CLASSES_TO_EVAL      : ['vehicle']                   \n",
      "BENCHMARK            : MOT17                         \n",
      "SPLIT_TO_EVAL        : train                         \n",
      "INPUT_AS_ZIP         : False                         \n",
      "PRINT_CONFIG         : True                          \n",
      "DO_PREPROC           : False                         \n",
      "TRACKER_SUB_FOLDER   : data                          \n",
      "OUTPUT_SUB_FOLDER    :                               \n",
      "TRACKER_DISPLAY_NAMES : None                          \n",
      "SEQMAP_FOLDER        : None                          \n",
      "SEQMAP_FILE          : None                          \n",
      "SEQ_INFO             : None                          \n",
      "GT_LOC_FORMAT        : {gt_folder}/{seq}/gt/gt.txt   \n",
      "SKIP_SPLIT_FOL       : False                         \n"
     ]
    },
    {
     "name": "stderr",
     "output_type": "stream",
     "text": [
      "\u001b[32m[I 2022-02-13 00:46:48,571]\u001b[0m Trial 137 finished with value: 0.4381057919699379 and parameters: {'matching_threshold': 0.6416527071389635, 'matching_budget': 5, 'tracker_max_iou_distance': 0.3177867182678089, 'tracker_max_age': 34, 'tracker_n_init': 7, 'std_weight_position': 98, 'std_weight_velocity': 41}. Best is trial 0 with value: 0.4381057919699379.\u001b[0m\n"
     ]
    },
    {
     "name": "stdout",
     "output_type": "stream",
     "text": [
      "\n",
      "MotChallenge2DBox Config:\n",
      "GT_FOLDER            : /home/ubuntu/ibrahim/master/datasets/MOT_GT/\n",
      "TRACKERS_FOLDER      : /home/ubuntu/ibrahim/master/results/ssd_final_embeddings/\n",
      "OUTPUT_FOLDER        : None                          \n",
      "TRACKERS_TO_EVAL     : None                          \n",
      "CLASSES_TO_EVAL      : ['vehicle']                   \n",
      "BENCHMARK            : MOT17                         \n",
      "SPLIT_TO_EVAL        : train                         \n",
      "INPUT_AS_ZIP         : False                         \n",
      "PRINT_CONFIG         : True                          \n",
      "DO_PREPROC           : False                         \n",
      "TRACKER_SUB_FOLDER   : data                          \n",
      "OUTPUT_SUB_FOLDER    :                               \n",
      "TRACKER_DISPLAY_NAMES : None                          \n",
      "SEQMAP_FOLDER        : None                          \n",
      "SEQMAP_FILE          : None                          \n",
      "SEQ_INFO             : None                          \n",
      "GT_LOC_FORMAT        : {gt_folder}/{seq}/gt/gt.txt   \n",
      "SKIP_SPLIT_FOL       : False                         \n"
     ]
    },
    {
     "name": "stderr",
     "output_type": "stream",
     "text": [
      "\u001b[32m[I 2022-02-13 00:47:00,709]\u001b[0m Trial 138 finished with value: 0.4381057919699379 and parameters: {'matching_threshold': 0.6641852730581312, 'matching_budget': 5, 'tracker_max_iou_distance': 0.31412033694180075, 'tracker_max_age': 37, 'tracker_n_init': 7, 'std_weight_position': 113, 'std_weight_velocity': 49}. Best is trial 0 with value: 0.4381057919699379.\u001b[0m\n"
     ]
    },
    {
     "name": "stdout",
     "output_type": "stream",
     "text": [
      "\n",
      "MotChallenge2DBox Config:\n",
      "GT_FOLDER            : /home/ubuntu/ibrahim/master/datasets/MOT_GT/\n",
      "TRACKERS_FOLDER      : /home/ubuntu/ibrahim/master/results/ssd_final_embeddings/\n",
      "OUTPUT_FOLDER        : None                          \n",
      "TRACKERS_TO_EVAL     : None                          \n",
      "CLASSES_TO_EVAL      : ['vehicle']                   \n",
      "BENCHMARK            : MOT17                         \n",
      "SPLIT_TO_EVAL        : train                         \n",
      "INPUT_AS_ZIP         : False                         \n",
      "PRINT_CONFIG         : True                          \n",
      "DO_PREPROC           : False                         \n",
      "TRACKER_SUB_FOLDER   : data                          \n",
      "OUTPUT_SUB_FOLDER    :                               \n",
      "TRACKER_DISPLAY_NAMES : None                          \n",
      "SEQMAP_FOLDER        : None                          \n",
      "SEQMAP_FILE          : None                          \n",
      "SEQ_INFO             : None                          \n",
      "GT_LOC_FORMAT        : {gt_folder}/{seq}/gt/gt.txt   \n",
      "SKIP_SPLIT_FOL       : False                         \n"
     ]
    },
    {
     "name": "stderr",
     "output_type": "stream",
     "text": [
      "\u001b[32m[I 2022-02-13 00:47:11,984]\u001b[0m Trial 139 finished with value: 0.4381057919699379 and parameters: {'matching_threshold': 0.5561896358983581, 'matching_budget': 4, 'tracker_max_iou_distance': 0.42786363638361025, 'tracker_max_age': 39, 'tracker_n_init': 8, 'std_weight_position': 71, 'std_weight_velocity': 212}. Best is trial 0 with value: 0.4381057919699379.\u001b[0m\n"
     ]
    },
    {
     "name": "stdout",
     "output_type": "stream",
     "text": [
      "\n",
      "MotChallenge2DBox Config:\n",
      "GT_FOLDER            : /home/ubuntu/ibrahim/master/datasets/MOT_GT/\n",
      "TRACKERS_FOLDER      : /home/ubuntu/ibrahim/master/results/ssd_final_embeddings/\n",
      "OUTPUT_FOLDER        : None                          \n",
      "TRACKERS_TO_EVAL     : None                          \n",
      "CLASSES_TO_EVAL      : ['vehicle']                   \n",
      "BENCHMARK            : MOT17                         \n",
      "SPLIT_TO_EVAL        : train                         \n",
      "INPUT_AS_ZIP         : False                         \n",
      "PRINT_CONFIG         : True                          \n",
      "DO_PREPROC           : False                         \n",
      "TRACKER_SUB_FOLDER   : data                          \n",
      "OUTPUT_SUB_FOLDER    :                               \n",
      "TRACKER_DISPLAY_NAMES : None                          \n",
      "SEQMAP_FOLDER        : None                          \n",
      "SEQMAP_FILE          : None                          \n",
      "SEQ_INFO             : None                          \n",
      "GT_LOC_FORMAT        : {gt_folder}/{seq}/gt/gt.txt   \n",
      "SKIP_SPLIT_FOL       : False                         \n"
     ]
    },
    {
     "name": "stderr",
     "output_type": "stream",
     "text": [
      "\u001b[32m[I 2022-02-13 00:47:23,067]\u001b[0m Trial 140 finished with value: 0.4381057919699379 and parameters: {'matching_threshold': 0.5155096852614276, 'matching_budget': 5, 'tracker_max_iou_distance': 0.38462843546291536, 'tracker_max_age': 37, 'tracker_n_init': 8, 'std_weight_position': 106, 'std_weight_velocity': 103}. Best is trial 0 with value: 0.4381057919699379.\u001b[0m\n"
     ]
    },
    {
     "name": "stdout",
     "output_type": "stream",
     "text": [
      "\n",
      "MotChallenge2DBox Config:\n",
      "GT_FOLDER            : /home/ubuntu/ibrahim/master/datasets/MOT_GT/\n",
      "TRACKERS_FOLDER      : /home/ubuntu/ibrahim/master/results/ssd_final_embeddings/\n",
      "OUTPUT_FOLDER        : None                          \n",
      "TRACKERS_TO_EVAL     : None                          \n",
      "CLASSES_TO_EVAL      : ['vehicle']                   \n",
      "BENCHMARK            : MOT17                         \n",
      "SPLIT_TO_EVAL        : train                         \n",
      "INPUT_AS_ZIP         : False                         \n",
      "PRINT_CONFIG         : True                          \n",
      "DO_PREPROC           : False                         \n",
      "TRACKER_SUB_FOLDER   : data                          \n",
      "OUTPUT_SUB_FOLDER    :                               \n",
      "TRACKER_DISPLAY_NAMES : None                          \n",
      "SEQMAP_FOLDER        : None                          \n",
      "SEQMAP_FILE          : None                          \n",
      "SEQ_INFO             : None                          \n",
      "GT_LOC_FORMAT        : {gt_folder}/{seq}/gt/gt.txt   \n",
      "SKIP_SPLIT_FOL       : False                         \n"
     ]
    },
    {
     "name": "stderr",
     "output_type": "stream",
     "text": [
      "\u001b[32m[I 2022-02-13 00:47:35,813]\u001b[0m Trial 141 finished with value: 0.4381057919699379 and parameters: {'matching_threshold': 0.5681835096617521, 'matching_budget': 5, 'tracker_max_iou_distance': 0.444626940571636, 'tracker_max_age': 35, 'tracker_n_init': 7, 'std_weight_position': 130, 'std_weight_velocity': 109}. Best is trial 0 with value: 0.4381057919699379.\u001b[0m\n"
     ]
    },
    {
     "name": "stdout",
     "output_type": "stream",
     "text": [
      "\n",
      "MotChallenge2DBox Config:\n",
      "GT_FOLDER            : /home/ubuntu/ibrahim/master/datasets/MOT_GT/\n",
      "TRACKERS_FOLDER      : /home/ubuntu/ibrahim/master/results/ssd_final_embeddings/\n",
      "OUTPUT_FOLDER        : None                          \n",
      "TRACKERS_TO_EVAL     : None                          \n",
      "CLASSES_TO_EVAL      : ['vehicle']                   \n",
      "BENCHMARK            : MOT17                         \n",
      "SPLIT_TO_EVAL        : train                         \n",
      "INPUT_AS_ZIP         : False                         \n",
      "PRINT_CONFIG         : True                          \n",
      "DO_PREPROC           : False                         \n",
      "TRACKER_SUB_FOLDER   : data                          \n",
      "OUTPUT_SUB_FOLDER    :                               \n",
      "TRACKER_DISPLAY_NAMES : None                          \n",
      "SEQMAP_FOLDER        : None                          \n",
      "SEQMAP_FILE          : None                          \n",
      "SEQ_INFO             : None                          \n",
      "GT_LOC_FORMAT        : {gt_folder}/{seq}/gt/gt.txt   \n",
      "SKIP_SPLIT_FOL       : False                         \n"
     ]
    },
    {
     "name": "stderr",
     "output_type": "stream",
     "text": [
      "\u001b[32m[I 2022-02-13 00:47:48,060]\u001b[0m Trial 142 finished with value: 0.4381057919699379 and parameters: {'matching_threshold': 0.5298557771959967, 'matching_budget': 3, 'tracker_max_iou_distance': 0.4112320563859543, 'tracker_max_age': 34, 'tracker_n_init': 6, 'std_weight_position': 117, 'std_weight_velocity': 89}. Best is trial 0 with value: 0.4381057919699379.\u001b[0m\n"
     ]
    },
    {
     "name": "stdout",
     "output_type": "stream",
     "text": [
      "\n",
      "MotChallenge2DBox Config:\n",
      "GT_FOLDER            : /home/ubuntu/ibrahim/master/datasets/MOT_GT/\n",
      "TRACKERS_FOLDER      : /home/ubuntu/ibrahim/master/results/ssd_final_embeddings/\n",
      "OUTPUT_FOLDER        : None                          \n",
      "TRACKERS_TO_EVAL     : None                          \n",
      "CLASSES_TO_EVAL      : ['vehicle']                   \n",
      "BENCHMARK            : MOT17                         \n",
      "SPLIT_TO_EVAL        : train                         \n",
      "INPUT_AS_ZIP         : False                         \n",
      "PRINT_CONFIG         : True                          \n",
      "DO_PREPROC           : False                         \n",
      "TRACKER_SUB_FOLDER   : data                          \n",
      "OUTPUT_SUB_FOLDER    :                               \n",
      "TRACKER_DISPLAY_NAMES : None                          \n",
      "SEQMAP_FOLDER        : None                          \n",
      "SEQMAP_FILE          : None                          \n",
      "SEQ_INFO             : None                          \n",
      "GT_LOC_FORMAT        : {gt_folder}/{seq}/gt/gt.txt   \n",
      "SKIP_SPLIT_FOL       : False                         \n"
     ]
    },
    {
     "name": "stderr",
     "output_type": "stream",
     "text": [
      "\u001b[32m[I 2022-02-13 00:47:59,066]\u001b[0m Trial 143 finished with value: 0.4381057919699379 and parameters: {'matching_threshold': 0.47338025282047475, 'matching_budget': 6, 'tracker_max_iou_distance': 0.388586865115259, 'tracker_max_age': 28, 'tracker_n_init': 8, 'std_weight_position': 99, 'std_weight_velocity': 217}. Best is trial 0 with value: 0.4381057919699379.\u001b[0m\n"
     ]
    },
    {
     "name": "stdout",
     "output_type": "stream",
     "text": [
      "\n",
      "MotChallenge2DBox Config:\n",
      "GT_FOLDER            : /home/ubuntu/ibrahim/master/datasets/MOT_GT/\n",
      "TRACKERS_FOLDER      : /home/ubuntu/ibrahim/master/results/ssd_final_embeddings/\n",
      "OUTPUT_FOLDER        : None                          \n",
      "TRACKERS_TO_EVAL     : None                          \n",
      "CLASSES_TO_EVAL      : ['vehicle']                   \n",
      "BENCHMARK            : MOT17                         \n",
      "SPLIT_TO_EVAL        : train                         \n",
      "INPUT_AS_ZIP         : False                         \n",
      "PRINT_CONFIG         : True                          \n",
      "DO_PREPROC           : False                         \n",
      "TRACKER_SUB_FOLDER   : data                          \n",
      "OUTPUT_SUB_FOLDER    :                               \n",
      "TRACKER_DISPLAY_NAMES : None                          \n",
      "SEQMAP_FOLDER        : None                          \n",
      "SEQMAP_FILE          : None                          \n",
      "SEQ_INFO             : None                          \n",
      "GT_LOC_FORMAT        : {gt_folder}/{seq}/gt/gt.txt   \n",
      "SKIP_SPLIT_FOL       : False                         \n"
     ]
    },
    {
     "name": "stderr",
     "output_type": "stream",
     "text": [
      "\u001b[32m[I 2022-02-13 00:48:13,117]\u001b[0m Trial 144 finished with value: 0.4381057919699379 and parameters: {'matching_threshold': 0.498672583721793, 'matching_budget': 3, 'tracker_max_iou_distance': 0.34300534433424124, 'tracker_max_age': 38, 'tracker_n_init': 6, 'std_weight_position': 131, 'std_weight_velocity': 201}. Best is trial 0 with value: 0.4381057919699379.\u001b[0m\n"
     ]
    },
    {
     "name": "stdout",
     "output_type": "stream",
     "text": [
      "\n",
      "MotChallenge2DBox Config:\n",
      "GT_FOLDER            : /home/ubuntu/ibrahim/master/datasets/MOT_GT/\n",
      "TRACKERS_FOLDER      : /home/ubuntu/ibrahim/master/results/ssd_final_embeddings/\n",
      "OUTPUT_FOLDER        : None                          \n",
      "TRACKERS_TO_EVAL     : None                          \n",
      "CLASSES_TO_EVAL      : ['vehicle']                   \n",
      "BENCHMARK            : MOT17                         \n",
      "SPLIT_TO_EVAL        : train                         \n",
      "INPUT_AS_ZIP         : False                         \n",
      "PRINT_CONFIG         : True                          \n",
      "DO_PREPROC           : False                         \n",
      "TRACKER_SUB_FOLDER   : data                          \n",
      "OUTPUT_SUB_FOLDER    :                               \n",
      "TRACKER_DISPLAY_NAMES : None                          \n",
      "SEQMAP_FOLDER        : None                          \n",
      "SEQMAP_FILE          : None                          \n",
      "SEQ_INFO             : None                          \n",
      "GT_LOC_FORMAT        : {gt_folder}/{seq}/gt/gt.txt   \n",
      "SKIP_SPLIT_FOL       : False                         \n"
     ]
    },
    {
     "name": "stderr",
     "output_type": "stream",
     "text": [
      "\u001b[32m[I 2022-02-13 00:48:25,470]\u001b[0m Trial 145 finished with value: 0.4381057919699379 and parameters: {'matching_threshold': 0.4540059865315081, 'matching_budget': 4, 'tracker_max_iou_distance': 0.3752570329426853, 'tracker_max_age': 31, 'tracker_n_init': 8, 'std_weight_position': 135, 'std_weight_velocity': 240}. Best is trial 0 with value: 0.4381057919699379.\u001b[0m\n"
     ]
    },
    {
     "name": "stdout",
     "output_type": "stream",
     "text": [
      "\n",
      "MotChallenge2DBox Config:\n",
      "GT_FOLDER            : /home/ubuntu/ibrahim/master/datasets/MOT_GT/\n",
      "TRACKERS_FOLDER      : /home/ubuntu/ibrahim/master/results/ssd_final_embeddings/\n",
      "OUTPUT_FOLDER        : None                          \n",
      "TRACKERS_TO_EVAL     : None                          \n",
      "CLASSES_TO_EVAL      : ['vehicle']                   \n",
      "BENCHMARK            : MOT17                         \n",
      "SPLIT_TO_EVAL        : train                         \n",
      "INPUT_AS_ZIP         : False                         \n",
      "PRINT_CONFIG         : True                          \n",
      "DO_PREPROC           : False                         \n",
      "TRACKER_SUB_FOLDER   : data                          \n",
      "OUTPUT_SUB_FOLDER    :                               \n",
      "TRACKER_DISPLAY_NAMES : None                          \n",
      "SEQMAP_FOLDER        : None                          \n",
      "SEQMAP_FILE          : None                          \n",
      "SEQ_INFO             : None                          \n",
      "GT_LOC_FORMAT        : {gt_folder}/{seq}/gt/gt.txt   \n",
      "SKIP_SPLIT_FOL       : False                         \n"
     ]
    },
    {
     "name": "stderr",
     "output_type": "stream",
     "text": [
      "\u001b[32m[I 2022-02-13 00:48:37,692]\u001b[0m Trial 146 finished with value: 0.4381057919699379 and parameters: {'matching_threshold': 0.5423792662706977, 'matching_budget': 4, 'tracker_max_iou_distance': 0.8820988942865922, 'tracker_max_age': 33, 'tracker_n_init': 7, 'std_weight_position': 126, 'std_weight_velocity': 128}. Best is trial 0 with value: 0.4381057919699379.\u001b[0m\n"
     ]
    },
    {
     "name": "stdout",
     "output_type": "stream",
     "text": [
      "\n",
      "MotChallenge2DBox Config:\n",
      "GT_FOLDER            : /home/ubuntu/ibrahim/master/datasets/MOT_GT/\n",
      "TRACKERS_FOLDER      : /home/ubuntu/ibrahim/master/results/ssd_final_embeddings/\n",
      "OUTPUT_FOLDER        : None                          \n",
      "TRACKERS_TO_EVAL     : None                          \n",
      "CLASSES_TO_EVAL      : ['vehicle']                   \n",
      "BENCHMARK            : MOT17                         \n",
      "SPLIT_TO_EVAL        : train                         \n",
      "INPUT_AS_ZIP         : False                         \n",
      "PRINT_CONFIG         : True                          \n",
      "DO_PREPROC           : False                         \n",
      "TRACKER_SUB_FOLDER   : data                          \n",
      "OUTPUT_SUB_FOLDER    :                               \n",
      "TRACKER_DISPLAY_NAMES : None                          \n",
      "SEQMAP_FOLDER        : None                          \n",
      "SEQMAP_FILE          : None                          \n",
      "SEQ_INFO             : None                          \n",
      "GT_LOC_FORMAT        : {gt_folder}/{seq}/gt/gt.txt   \n",
      "SKIP_SPLIT_FOL       : False                         \n"
     ]
    },
    {
     "name": "stderr",
     "output_type": "stream",
     "text": [
      "\u001b[32m[I 2022-02-13 00:48:46,483]\u001b[0m Trial 147 finished with value: 0.4381057919699379 and parameters: {'matching_threshold': 0.6012640870098603, 'matching_budget': 5, 'tracker_max_iou_distance': 0.8669310638936859, 'tracker_max_age': 2, 'tracker_n_init': 7, 'std_weight_position': 125, 'std_weight_velocity': 135}. Best is trial 0 with value: 0.4381057919699379.\u001b[0m\n"
     ]
    },
    {
     "name": "stdout",
     "output_type": "stream",
     "text": [
      "\n",
      "MotChallenge2DBox Config:\n",
      "GT_FOLDER            : /home/ubuntu/ibrahim/master/datasets/MOT_GT/\n",
      "TRACKERS_FOLDER      : /home/ubuntu/ibrahim/master/results/ssd_final_embeddings/\n",
      "OUTPUT_FOLDER        : None                          \n",
      "TRACKERS_TO_EVAL     : None                          \n",
      "CLASSES_TO_EVAL      : ['vehicle']                   \n",
      "BENCHMARK            : MOT17                         \n",
      "SPLIT_TO_EVAL        : train                         \n",
      "INPUT_AS_ZIP         : False                         \n",
      "PRINT_CONFIG         : True                          \n",
      "DO_PREPROC           : False                         \n",
      "TRACKER_SUB_FOLDER   : data                          \n",
      "OUTPUT_SUB_FOLDER    :                               \n",
      "TRACKER_DISPLAY_NAMES : None                          \n",
      "SEQMAP_FOLDER        : None                          \n",
      "SEQMAP_FILE          : None                          \n",
      "SEQ_INFO             : None                          \n",
      "GT_LOC_FORMAT        : {gt_folder}/{seq}/gt/gt.txt   \n",
      "SKIP_SPLIT_FOL       : False                         \n"
     ]
    },
    {
     "name": "stderr",
     "output_type": "stream",
     "text": [
      "\u001b[32m[I 2022-02-13 00:48:55,727]\u001b[0m Trial 148 finished with value: 0.4381057919699379 and parameters: {'matching_threshold': 0.43055809311560084, 'matching_budget': 3, 'tracker_max_iou_distance': 0.32498299379623996, 'tracker_max_age': 3, 'tracker_n_init': 2, 'std_weight_position': 143, 'std_weight_velocity': 199}. Best is trial 0 with value: 0.4381057919699379.\u001b[0m\n"
     ]
    },
    {
     "name": "stdout",
     "output_type": "stream",
     "text": [
      "\n",
      "MotChallenge2DBox Config:\n",
      "GT_FOLDER            : /home/ubuntu/ibrahim/master/datasets/MOT_GT/\n",
      "TRACKERS_FOLDER      : /home/ubuntu/ibrahim/master/results/ssd_final_embeddings/\n",
      "OUTPUT_FOLDER        : None                          \n",
      "TRACKERS_TO_EVAL     : None                          \n",
      "CLASSES_TO_EVAL      : ['vehicle']                   \n",
      "BENCHMARK            : MOT17                         \n",
      "SPLIT_TO_EVAL        : train                         \n",
      "INPUT_AS_ZIP         : False                         \n",
      "PRINT_CONFIG         : True                          \n",
      "DO_PREPROC           : False                         \n",
      "TRACKER_SUB_FOLDER   : data                          \n",
      "OUTPUT_SUB_FOLDER    :                               \n",
      "TRACKER_DISPLAY_NAMES : None                          \n",
      "SEQMAP_FOLDER        : None                          \n",
      "SEQMAP_FILE          : None                          \n",
      "SEQ_INFO             : None                          \n",
      "GT_LOC_FORMAT        : {gt_folder}/{seq}/gt/gt.txt   \n",
      "SKIP_SPLIT_FOL       : False                         \n"
     ]
    },
    {
     "name": "stderr",
     "output_type": "stream",
     "text": [
      "\u001b[32m[I 2022-02-13 00:49:04,692]\u001b[0m Trial 149 finished with value: 0.4381057919699379 and parameters: {'matching_threshold': 0.4809786826233606, 'matching_budget': 4, 'tracker_max_iou_distance': 0.8732777106570346, 'tracker_max_age': 1, 'tracker_n_init': 2, 'std_weight_position': 121, 'std_weight_velocity': 190}. Best is trial 0 with value: 0.4381057919699379.\u001b[0m\n"
     ]
    },
    {
     "name": "stdout",
     "output_type": "stream",
     "text": [
      "\n",
      "MotChallenge2DBox Config:\n",
      "GT_FOLDER            : /home/ubuntu/ibrahim/master/datasets/MOT_GT/\n",
      "TRACKERS_FOLDER      : /home/ubuntu/ibrahim/master/results/ssd_final_embeddings/\n",
      "OUTPUT_FOLDER        : None                          \n",
      "TRACKERS_TO_EVAL     : None                          \n",
      "CLASSES_TO_EVAL      : ['vehicle']                   \n",
      "BENCHMARK            : MOT17                         \n",
      "SPLIT_TO_EVAL        : train                         \n",
      "INPUT_AS_ZIP         : False                         \n",
      "PRINT_CONFIG         : True                          \n",
      "DO_PREPROC           : False                         \n",
      "TRACKER_SUB_FOLDER   : data                          \n",
      "OUTPUT_SUB_FOLDER    :                               \n",
      "TRACKER_DISPLAY_NAMES : None                          \n",
      "SEQMAP_FOLDER        : None                          \n",
      "SEQMAP_FILE          : None                          \n",
      "SEQ_INFO             : None                          \n",
      "GT_LOC_FORMAT        : {gt_folder}/{seq}/gt/gt.txt   \n",
      "SKIP_SPLIT_FOL       : False                         \n"
     ]
    },
    {
     "name": "stderr",
     "output_type": "stream",
     "text": [
      "\u001b[32m[I 2022-02-13 00:50:07,529]\u001b[0m Trial 150 finished with value: 0.4381057919699379 and parameters: {'matching_threshold': 0.5083096315118916, 'matching_budget': 0, 'tracker_max_iou_distance': 0.837471410896596, 'tracker_max_age': 41, 'tracker_n_init': 2, 'std_weight_position': 116, 'std_weight_velocity': 181}. Best is trial 0 with value: 0.4381057919699379.\u001b[0m\n"
     ]
    },
    {
     "name": "stdout",
     "output_type": "stream",
     "text": [
      "\n",
      "MotChallenge2DBox Config:\n",
      "GT_FOLDER            : /home/ubuntu/ibrahim/master/datasets/MOT_GT/\n",
      "TRACKERS_FOLDER      : /home/ubuntu/ibrahim/master/results/ssd_final_embeddings/\n",
      "OUTPUT_FOLDER        : None                          \n",
      "TRACKERS_TO_EVAL     : None                          \n",
      "CLASSES_TO_EVAL      : ['vehicle']                   \n",
      "BENCHMARK            : MOT17                         \n",
      "SPLIT_TO_EVAL        : train                         \n",
      "INPUT_AS_ZIP         : False                         \n",
      "PRINT_CONFIG         : True                          \n",
      "DO_PREPROC           : False                         \n",
      "TRACKER_SUB_FOLDER   : data                          \n",
      "OUTPUT_SUB_FOLDER    :                               \n",
      "TRACKER_DISPLAY_NAMES : None                          \n",
      "SEQMAP_FOLDER        : None                          \n",
      "SEQMAP_FILE          : None                          \n",
      "SEQ_INFO             : None                          \n",
      "GT_LOC_FORMAT        : {gt_folder}/{seq}/gt/gt.txt   \n",
      "SKIP_SPLIT_FOL       : False                         \n"
     ]
    },
    {
     "name": "stderr",
     "output_type": "stream",
     "text": [
      "\u001b[32m[I 2022-02-13 00:50:36,418]\u001b[0m Trial 151 finished with value: 0.4381057919699379 and parameters: {'matching_threshold': 0.43899524333870393, 'matching_budget': 0, 'tracker_max_iou_distance': 0.7753832890079299, 'tracker_max_age': 3, 'tracker_n_init': 2, 'std_weight_position': 153, 'std_weight_velocity': 178}. Best is trial 0 with value: 0.4381057919699379.\u001b[0m\n"
     ]
    },
    {
     "name": "stdout",
     "output_type": "stream",
     "text": [
      "\n",
      "MotChallenge2DBox Config:\n",
      "GT_FOLDER            : /home/ubuntu/ibrahim/master/datasets/MOT_GT/\n",
      "TRACKERS_FOLDER      : /home/ubuntu/ibrahim/master/results/ssd_final_embeddings/\n",
      "OUTPUT_FOLDER        : None                          \n",
      "TRACKERS_TO_EVAL     : None                          \n",
      "CLASSES_TO_EVAL      : ['vehicle']                   \n",
      "BENCHMARK            : MOT17                         \n",
      "SPLIT_TO_EVAL        : train                         \n",
      "INPUT_AS_ZIP         : False                         \n",
      "PRINT_CONFIG         : True                          \n",
      "DO_PREPROC           : False                         \n",
      "TRACKER_SUB_FOLDER   : data                          \n",
      "OUTPUT_SUB_FOLDER    :                               \n",
      "TRACKER_DISPLAY_NAMES : None                          \n",
      "SEQMAP_FOLDER        : None                          \n",
      "SEQMAP_FILE          : None                          \n",
      "SEQ_INFO             : None                          \n",
      "GT_LOC_FORMAT        : {gt_folder}/{seq}/gt/gt.txt   \n",
      "SKIP_SPLIT_FOL       : False                         \n"
     ]
    },
    {
     "name": "stderr",
     "output_type": "stream",
     "text": [
      "\u001b[32m[I 2022-02-13 00:51:05,102]\u001b[0m Trial 152 finished with value: 0.4381057919699379 and parameters: {'matching_threshold': 0.3934101553008509, 'matching_budget': 0, 'tracker_max_iou_distance': 0.8602170561110111, 'tracker_max_age': 4, 'tracker_n_init': 5, 'std_weight_position': 159, 'std_weight_velocity': 141}. Best is trial 0 with value: 0.4381057919699379.\u001b[0m\n"
     ]
    },
    {
     "name": "stdout",
     "output_type": "stream",
     "text": [
      "\n",
      "MotChallenge2DBox Config:\n",
      "GT_FOLDER            : /home/ubuntu/ibrahim/master/datasets/MOT_GT/\n",
      "TRACKERS_FOLDER      : /home/ubuntu/ibrahim/master/results/ssd_final_embeddings/\n",
      "OUTPUT_FOLDER        : None                          \n",
      "TRACKERS_TO_EVAL     : None                          \n",
      "CLASSES_TO_EVAL      : ['vehicle']                   \n",
      "BENCHMARK            : MOT17                         \n",
      "SPLIT_TO_EVAL        : train                         \n",
      "INPUT_AS_ZIP         : False                         \n",
      "PRINT_CONFIG         : True                          \n",
      "DO_PREPROC           : False                         \n",
      "TRACKER_SUB_FOLDER   : data                          \n",
      "OUTPUT_SUB_FOLDER    :                               \n",
      "TRACKER_DISPLAY_NAMES : None                          \n",
      "SEQMAP_FOLDER        : None                          \n",
      "SEQMAP_FILE          : None                          \n",
      "SEQ_INFO             : None                          \n",
      "GT_LOC_FORMAT        : {gt_folder}/{seq}/gt/gt.txt   \n",
      "SKIP_SPLIT_FOL       : False                         \n"
     ]
    },
    {
     "name": "stderr",
     "output_type": "stream",
     "text": [
      "\u001b[32m[I 2022-02-13 00:51:19,118]\u001b[0m Trial 153 finished with value: 0.4381057919699379 and parameters: {'matching_threshold': 0.4865586146270588, 'matching_budget': 2, 'tracker_max_iou_distance': 0.8867807976992919, 'tracker_max_age': 21, 'tracker_n_init': 2, 'std_weight_position': 153, 'std_weight_velocity': 168}. Best is trial 0 with value: 0.4381057919699379.\u001b[0m\n"
     ]
    },
    {
     "name": "stdout",
     "output_type": "stream",
     "text": [
      "\n",
      "MotChallenge2DBox Config:\n",
      "GT_FOLDER            : /home/ubuntu/ibrahim/master/datasets/MOT_GT/\n",
      "TRACKERS_FOLDER      : /home/ubuntu/ibrahim/master/results/ssd_final_embeddings/\n",
      "OUTPUT_FOLDER        : None                          \n",
      "TRACKERS_TO_EVAL     : None                          \n",
      "CLASSES_TO_EVAL      : ['vehicle']                   \n",
      "BENCHMARK            : MOT17                         \n",
      "SPLIT_TO_EVAL        : train                         \n",
      "INPUT_AS_ZIP         : False                         \n",
      "PRINT_CONFIG         : True                          \n",
      "DO_PREPROC           : False                         \n",
      "TRACKER_SUB_FOLDER   : data                          \n",
      "OUTPUT_SUB_FOLDER    :                               \n",
      "TRACKER_DISPLAY_NAMES : None                          \n",
      "SEQMAP_FOLDER        : None                          \n",
      "SEQMAP_FILE          : None                          \n",
      "SEQ_INFO             : None                          \n",
      "GT_LOC_FORMAT        : {gt_folder}/{seq}/gt/gt.txt   \n",
      "SKIP_SPLIT_FOL       : False                         \n"
     ]
    },
    {
     "name": "stderr",
     "output_type": "stream",
     "text": [
      "\u001b[32m[I 2022-02-13 00:51:28,590]\u001b[0m Trial 154 finished with value: 0.4381057919699379 and parameters: {'matching_threshold': 0.39257225377276284, 'matching_budget': 3, 'tracker_max_iou_distance': 0.8532444112701708, 'tracker_max_age': 2, 'tracker_n_init': 2, 'std_weight_position': 148, 'std_weight_velocity': 151}. Best is trial 0 with value: 0.4381057919699379.\u001b[0m\n"
     ]
    },
    {
     "name": "stdout",
     "output_type": "stream",
     "text": [
      "\n",
      "MotChallenge2DBox Config:\n",
      "GT_FOLDER            : /home/ubuntu/ibrahim/master/datasets/MOT_GT/\n",
      "TRACKERS_FOLDER      : /home/ubuntu/ibrahim/master/results/ssd_final_embeddings/\n",
      "OUTPUT_FOLDER        : None                          \n",
      "TRACKERS_TO_EVAL     : None                          \n",
      "CLASSES_TO_EVAL      : ['vehicle']                   \n",
      "BENCHMARK            : MOT17                         \n",
      "SPLIT_TO_EVAL        : train                         \n",
      "INPUT_AS_ZIP         : False                         \n",
      "PRINT_CONFIG         : True                          \n",
      "DO_PREPROC           : False                         \n",
      "TRACKER_SUB_FOLDER   : data                          \n",
      "OUTPUT_SUB_FOLDER    :                               \n",
      "TRACKER_DISPLAY_NAMES : None                          \n",
      "SEQMAP_FOLDER        : None                          \n",
      "SEQMAP_FILE          : None                          \n",
      "SEQ_INFO             : None                          \n",
      "GT_LOC_FORMAT        : {gt_folder}/{seq}/gt/gt.txt   \n",
      "SKIP_SPLIT_FOL       : False                         \n"
     ]
    },
    {
     "name": "stderr",
     "output_type": "stream",
     "text": [
      "\u001b[32m[I 2022-02-13 00:52:08,672]\u001b[0m Trial 155 finished with value: 0.4381057919699379 and parameters: {'matching_threshold': 0.4618533894017785, 'matching_budget': 0, 'tracker_max_iou_distance': 0.8248685475760832, 'tracker_max_age': 16, 'tracker_n_init': 3, 'std_weight_position': 164, 'std_weight_velocity': 163}. Best is trial 0 with value: 0.4381057919699379.\u001b[0m\n"
     ]
    },
    {
     "name": "stdout",
     "output_type": "stream",
     "text": [
      "\n",
      "MotChallenge2DBox Config:\n",
      "GT_FOLDER            : /home/ubuntu/ibrahim/master/datasets/MOT_GT/\n",
      "TRACKERS_FOLDER      : /home/ubuntu/ibrahim/master/results/ssd_final_embeddings/\n",
      "OUTPUT_FOLDER        : None                          \n",
      "TRACKERS_TO_EVAL     : None                          \n",
      "CLASSES_TO_EVAL      : ['vehicle']                   \n",
      "BENCHMARK            : MOT17                         \n",
      "SPLIT_TO_EVAL        : train                         \n",
      "INPUT_AS_ZIP         : False                         \n",
      "PRINT_CONFIG         : True                          \n",
      "DO_PREPROC           : False                         \n",
      "TRACKER_SUB_FOLDER   : data                          \n",
      "OUTPUT_SUB_FOLDER    :                               \n",
      "TRACKER_DISPLAY_NAMES : None                          \n",
      "SEQMAP_FOLDER        : None                          \n",
      "SEQMAP_FILE          : None                          \n",
      "SEQ_INFO             : None                          \n",
      "GT_LOC_FORMAT        : {gt_folder}/{seq}/gt/gt.txt   \n",
      "SKIP_SPLIT_FOL       : False                         \n"
     ]
    },
    {
     "name": "stderr",
     "output_type": "stream",
     "text": [
      "\u001b[32m[I 2022-02-13 00:52:36,445]\u001b[0m Trial 156 finished with value: 0.4381057919699379 and parameters: {'matching_threshold': 0.14822500139929765, 'matching_budget': 0, 'tracker_max_iou_distance': 0.46541775493783094, 'tracker_max_age': 5, 'tracker_n_init': 2, 'std_weight_position': 142, 'std_weight_velocity': 380}. Best is trial 0 with value: 0.4381057919699379.\u001b[0m\n"
     ]
    },
    {
     "name": "stdout",
     "output_type": "stream",
     "text": [
      "\n",
      "MotChallenge2DBox Config:\n",
      "GT_FOLDER            : /home/ubuntu/ibrahim/master/datasets/MOT_GT/\n",
      "TRACKERS_FOLDER      : /home/ubuntu/ibrahim/master/results/ssd_final_embeddings/\n",
      "OUTPUT_FOLDER        : None                          \n",
      "TRACKERS_TO_EVAL     : None                          \n",
      "CLASSES_TO_EVAL      : ['vehicle']                   \n",
      "BENCHMARK            : MOT17                         \n",
      "SPLIT_TO_EVAL        : train                         \n",
      "INPUT_AS_ZIP         : False                         \n",
      "PRINT_CONFIG         : True                          \n",
      "DO_PREPROC           : False                         \n",
      "TRACKER_SUB_FOLDER   : data                          \n",
      "OUTPUT_SUB_FOLDER    :                               \n",
      "TRACKER_DISPLAY_NAMES : None                          \n",
      "SEQMAP_FOLDER        : None                          \n",
      "SEQMAP_FILE          : None                          \n",
      "SEQ_INFO             : None                          \n",
      "GT_LOC_FORMAT        : {gt_folder}/{seq}/gt/gt.txt   \n",
      "SKIP_SPLIT_FOL       : False                         \n"
     ]
    },
    {
     "name": "stderr",
     "output_type": "stream",
     "text": [
      "\u001b[32m[I 2022-02-13 00:52:47,976]\u001b[0m Trial 157 finished with value: 0.4381057919699379 and parameters: {'matching_threshold': 0.17383560183355745, 'matching_budget': 2, 'tracker_max_iou_distance': 0.48672981613355953, 'tracker_max_age': 14, 'tracker_n_init': 3, 'std_weight_position': 160, 'std_weight_velocity': 388}. Best is trial 0 with value: 0.4381057919699379.\u001b[0m\n"
     ]
    },
    {
     "name": "stdout",
     "output_type": "stream",
     "text": [
      "\n",
      "MotChallenge2DBox Config:\n",
      "GT_FOLDER            : /home/ubuntu/ibrahim/master/datasets/MOT_GT/\n",
      "TRACKERS_FOLDER      : /home/ubuntu/ibrahim/master/results/ssd_final_embeddings/\n",
      "OUTPUT_FOLDER        : None                          \n",
      "TRACKERS_TO_EVAL     : None                          \n",
      "CLASSES_TO_EVAL      : ['vehicle']                   \n",
      "BENCHMARK            : MOT17                         \n",
      "SPLIT_TO_EVAL        : train                         \n",
      "INPUT_AS_ZIP         : False                         \n",
      "PRINT_CONFIG         : True                          \n",
      "DO_PREPROC           : False                         \n",
      "TRACKER_SUB_FOLDER   : data                          \n",
      "OUTPUT_SUB_FOLDER    :                               \n",
      "TRACKER_DISPLAY_NAMES : None                          \n",
      "SEQMAP_FOLDER        : None                          \n",
      "SEQMAP_FILE          : None                          \n",
      "SEQ_INFO             : None                          \n",
      "GT_LOC_FORMAT        : {gt_folder}/{seq}/gt/gt.txt   \n",
      "SKIP_SPLIT_FOL       : False                         \n"
     ]
    },
    {
     "name": "stderr",
     "output_type": "stream",
     "text": [
      "\u001b[32m[I 2022-02-13 00:53:29,991]\u001b[0m Trial 158 finished with value: 0.4381057919699379 and parameters: {'matching_threshold': 0.32824335566722973, 'matching_budget': 0, 'tracker_max_iou_distance': 0.462638554231194, 'tracker_max_age': 18, 'tracker_n_init': 1, 'std_weight_position': 147, 'std_weight_velocity': 119}. Best is trial 0 with value: 0.4381057919699379.\u001b[0m\n"
     ]
    },
    {
     "name": "stdout",
     "output_type": "stream",
     "text": [
      "\n",
      "MotChallenge2DBox Config:\n",
      "GT_FOLDER            : /home/ubuntu/ibrahim/master/datasets/MOT_GT/\n",
      "TRACKERS_FOLDER      : /home/ubuntu/ibrahim/master/results/ssd_final_embeddings/\n",
      "OUTPUT_FOLDER        : None                          \n",
      "TRACKERS_TO_EVAL     : None                          \n",
      "CLASSES_TO_EVAL      : ['vehicle']                   \n",
      "BENCHMARK            : MOT17                         \n",
      "SPLIT_TO_EVAL        : train                         \n",
      "INPUT_AS_ZIP         : False                         \n",
      "PRINT_CONFIG         : True                          \n",
      "DO_PREPROC           : False                         \n",
      "TRACKER_SUB_FOLDER   : data                          \n",
      "OUTPUT_SUB_FOLDER    :                               \n",
      "TRACKER_DISPLAY_NAMES : None                          \n",
      "SEQMAP_FOLDER        : None                          \n",
      "SEQMAP_FILE          : None                          \n",
      "SEQ_INFO             : None                          \n",
      "GT_LOC_FORMAT        : {gt_folder}/{seq}/gt/gt.txt   \n",
      "SKIP_SPLIT_FOL       : False                         \n"
     ]
    },
    {
     "name": "stderr",
     "output_type": "stream",
     "text": [
      "\u001b[32m[I 2022-02-13 00:53:39,832]\u001b[0m Trial 159 finished with value: 0.4381057919699379 and parameters: {'matching_threshold': 0.3817494687030475, 'matching_budget': 2, 'tracker_max_iou_distance': 0.4507029557625607, 'tracker_max_age': 4, 'tracker_n_init': 1, 'std_weight_position': 136, 'std_weight_velocity': 360}. Best is trial 0 with value: 0.4381057919699379.\u001b[0m\n"
     ]
    },
    {
     "name": "stdout",
     "output_type": "stream",
     "text": [
      "\n",
      "MotChallenge2DBox Config:\n",
      "GT_FOLDER            : /home/ubuntu/ibrahim/master/datasets/MOT_GT/\n",
      "TRACKERS_FOLDER      : /home/ubuntu/ibrahim/master/results/ssd_final_embeddings/\n",
      "OUTPUT_FOLDER        : None                          \n",
      "TRACKERS_TO_EVAL     : None                          \n",
      "CLASSES_TO_EVAL      : ['vehicle']                   \n",
      "BENCHMARK            : MOT17                         \n",
      "SPLIT_TO_EVAL        : train                         \n",
      "INPUT_AS_ZIP         : False                         \n",
      "PRINT_CONFIG         : True                          \n",
      "DO_PREPROC           : False                         \n",
      "TRACKER_SUB_FOLDER   : data                          \n",
      "OUTPUT_SUB_FOLDER    :                               \n",
      "TRACKER_DISPLAY_NAMES : None                          \n",
      "SEQMAP_FOLDER        : None                          \n",
      "SEQMAP_FILE          : None                          \n",
      "SEQ_INFO             : None                          \n",
      "GT_LOC_FORMAT        : {gt_folder}/{seq}/gt/gt.txt   \n",
      "SKIP_SPLIT_FOL       : False                         \n"
     ]
    },
    {
     "name": "stderr",
     "output_type": "stream",
     "text": [
      "\u001b[32m[I 2022-02-13 00:53:50,770]\u001b[0m Trial 160 finished with value: 0.4381057919699379 and parameters: {'matching_threshold': 0.10794777319644827, 'matching_budget': 1, 'tracker_max_iou_distance': 0.5146841764161718, 'tracker_max_age': 7, 'tracker_n_init': 1, 'std_weight_position': 169, 'std_weight_velocity': 360}. Best is trial 0 with value: 0.4381057919699379.\u001b[0m\n"
     ]
    },
    {
     "name": "stdout",
     "output_type": "stream",
     "text": [
      "\n",
      "MotChallenge2DBox Config:\n",
      "GT_FOLDER            : /home/ubuntu/ibrahim/master/datasets/MOT_GT/\n",
      "TRACKERS_FOLDER      : /home/ubuntu/ibrahim/master/results/ssd_final_embeddings/\n",
      "OUTPUT_FOLDER        : None                          \n",
      "TRACKERS_TO_EVAL     : None                          \n",
      "CLASSES_TO_EVAL      : ['vehicle']                   \n",
      "BENCHMARK            : MOT17                         \n",
      "SPLIT_TO_EVAL        : train                         \n",
      "INPUT_AS_ZIP         : False                         \n",
      "PRINT_CONFIG         : True                          \n",
      "DO_PREPROC           : False                         \n",
      "TRACKER_SUB_FOLDER   : data                          \n",
      "OUTPUT_SUB_FOLDER    :                               \n",
      "TRACKER_DISPLAY_NAMES : None                          \n",
      "SEQMAP_FOLDER        : None                          \n",
      "SEQMAP_FILE          : None                          \n",
      "SEQ_INFO             : None                          \n",
      "GT_LOC_FORMAT        : {gt_folder}/{seq}/gt/gt.txt   \n",
      "SKIP_SPLIT_FOL       : False                         \n"
     ]
    },
    {
     "name": "stderr",
     "output_type": "stream",
     "text": [
      "\u001b[32m[I 2022-02-13 00:54:02,066]\u001b[0m Trial 161 finished with value: 0.4381057919699379 and parameters: {'matching_threshold': 0.4146490881257856, 'matching_budget': 1, 'tracker_max_iou_distance': 0.5379988303038481, 'tracker_max_age': 12, 'tracker_n_init': 1, 'std_weight_position': 155, 'std_weight_velocity': 376}. Best is trial 0 with value: 0.4381057919699379.\u001b[0m\n"
     ]
    },
    {
     "name": "stdout",
     "output_type": "stream",
     "text": [
      "\n",
      "MotChallenge2DBox Config:\n",
      "GT_FOLDER            : /home/ubuntu/ibrahim/master/datasets/MOT_GT/\n",
      "TRACKERS_FOLDER      : /home/ubuntu/ibrahim/master/results/ssd_final_embeddings/\n",
      "OUTPUT_FOLDER        : None                          \n",
      "TRACKERS_TO_EVAL     : None                          \n",
      "CLASSES_TO_EVAL      : ['vehicle']                   \n",
      "BENCHMARK            : MOT17                         \n",
      "SPLIT_TO_EVAL        : train                         \n",
      "INPUT_AS_ZIP         : False                         \n",
      "PRINT_CONFIG         : True                          \n",
      "DO_PREPROC           : False                         \n",
      "TRACKER_SUB_FOLDER   : data                          \n",
      "OUTPUT_SUB_FOLDER    :                               \n",
      "TRACKER_DISPLAY_NAMES : None                          \n",
      "SEQMAP_FOLDER        : None                          \n",
      "SEQMAP_FILE          : None                          \n",
      "SEQ_INFO             : None                          \n",
      "GT_LOC_FORMAT        : {gt_folder}/{seq}/gt/gt.txt   \n",
      "SKIP_SPLIT_FOL       : False                         \n"
     ]
    },
    {
     "name": "stderr",
     "output_type": "stream",
     "text": [
      "\u001b[32m[I 2022-02-13 00:55:07,692]\u001b[0m Trial 162 finished with value: 0.4381057919699379 and parameters: {'matching_threshold': 0.35422271196786637, 'matching_budget': 0, 'tracker_max_iou_distance': 0.5026236790076274, 'tracker_max_age': 47, 'tracker_n_init': 1, 'std_weight_position': 176, 'std_weight_velocity': 345}. Best is trial 0 with value: 0.4381057919699379.\u001b[0m\n"
     ]
    },
    {
     "name": "stdout",
     "output_type": "stream",
     "text": [
      "\n",
      "MotChallenge2DBox Config:\n",
      "GT_FOLDER            : /home/ubuntu/ibrahim/master/datasets/MOT_GT/\n",
      "TRACKERS_FOLDER      : /home/ubuntu/ibrahim/master/results/ssd_final_embeddings/\n",
      "OUTPUT_FOLDER        : None                          \n",
      "TRACKERS_TO_EVAL     : None                          \n",
      "CLASSES_TO_EVAL      : ['vehicle']                   \n",
      "BENCHMARK            : MOT17                         \n",
      "SPLIT_TO_EVAL        : train                         \n",
      "INPUT_AS_ZIP         : False                         \n",
      "PRINT_CONFIG         : True                          \n",
      "DO_PREPROC           : False                         \n",
      "TRACKER_SUB_FOLDER   : data                          \n",
      "OUTPUT_SUB_FOLDER    :                               \n",
      "TRACKER_DISPLAY_NAMES : None                          \n",
      "SEQMAP_FOLDER        : None                          \n",
      "SEQMAP_FILE          : None                          \n",
      "SEQ_INFO             : None                          \n",
      "GT_LOC_FORMAT        : {gt_folder}/{seq}/gt/gt.txt   \n",
      "SKIP_SPLIT_FOL       : False                         \n"
     ]
    },
    {
     "name": "stderr",
     "output_type": "stream",
     "text": [
      "\u001b[32m[I 2022-02-13 00:55:23,754]\u001b[0m Trial 163 finished with value: 0.4381057919699379 and parameters: {'matching_threshold': 0.28833652469153165, 'matching_budget': 1, 'tracker_max_iou_distance': 0.560725862277328, 'tracker_max_age': 45, 'tracker_n_init': 4, 'std_weight_position': 192, 'std_weight_velocity': 327}. Best is trial 0 with value: 0.4381057919699379.\u001b[0m\n"
     ]
    },
    {
     "name": "stdout",
     "output_type": "stream",
     "text": [
      "\n",
      "MotChallenge2DBox Config:\n",
      "GT_FOLDER            : /home/ubuntu/ibrahim/master/datasets/MOT_GT/\n",
      "TRACKERS_FOLDER      : /home/ubuntu/ibrahim/master/results/ssd_final_embeddings/\n",
      "OUTPUT_FOLDER        : None                          \n",
      "TRACKERS_TO_EVAL     : None                          \n",
      "CLASSES_TO_EVAL      : ['vehicle']                   \n",
      "BENCHMARK            : MOT17                         \n",
      "SPLIT_TO_EVAL        : train                         \n",
      "INPUT_AS_ZIP         : False                         \n",
      "PRINT_CONFIG         : True                          \n",
      "DO_PREPROC           : False                         \n",
      "TRACKER_SUB_FOLDER   : data                          \n",
      "OUTPUT_SUB_FOLDER    :                               \n",
      "TRACKER_DISPLAY_NAMES : None                          \n",
      "SEQMAP_FOLDER        : None                          \n",
      "SEQMAP_FILE          : None                          \n",
      "SEQ_INFO             : None                          \n",
      "GT_LOC_FORMAT        : {gt_folder}/{seq}/gt/gt.txt   \n",
      "SKIP_SPLIT_FOL       : False                         \n"
     ]
    },
    {
     "name": "stderr",
     "output_type": "stream",
     "text": [
      "\u001b[32m[I 2022-02-13 00:56:19,327]\u001b[0m Trial 164 finished with value: 0.4381057919699379 and parameters: {'matching_threshold': 0.20508074230540524, 'matching_budget': 0, 'tracker_max_iou_distance': 0.4909411776919691, 'tracker_max_age': 48, 'tracker_n_init': 4, 'std_weight_position': 195, 'std_weight_velocity': 325}. Best is trial 0 with value: 0.4381057919699379.\u001b[0m\n"
     ]
    },
    {
     "name": "stdout",
     "output_type": "stream",
     "text": [
      "\n",
      "MotChallenge2DBox Config:\n",
      "GT_FOLDER            : /home/ubuntu/ibrahim/master/datasets/MOT_GT/\n",
      "TRACKERS_FOLDER      : /home/ubuntu/ibrahim/master/results/ssd_final_embeddings/\n",
      "OUTPUT_FOLDER        : None                          \n",
      "TRACKERS_TO_EVAL     : None                          \n",
      "CLASSES_TO_EVAL      : ['vehicle']                   \n",
      "BENCHMARK            : MOT17                         \n",
      "SPLIT_TO_EVAL        : train                         \n",
      "INPUT_AS_ZIP         : False                         \n",
      "PRINT_CONFIG         : True                          \n",
      "DO_PREPROC           : False                         \n",
      "TRACKER_SUB_FOLDER   : data                          \n",
      "OUTPUT_SUB_FOLDER    :                               \n",
      "TRACKER_DISPLAY_NAMES : None                          \n",
      "SEQMAP_FOLDER        : None                          \n",
      "SEQMAP_FILE          : None                          \n",
      "SEQ_INFO             : None                          \n",
      "GT_LOC_FORMAT        : {gt_folder}/{seq}/gt/gt.txt   \n",
      "SKIP_SPLIT_FOL       : False                         \n"
     ]
    },
    {
     "name": "stderr",
     "output_type": "stream",
     "text": [
      "\u001b[32m[I 2022-02-13 00:56:35,427]\u001b[0m Trial 165 finished with value: 0.4381057919699379 and parameters: {'matching_threshold': 0.1690460715701501, 'matching_budget': 1, 'tracker_max_iou_distance': 0.8921503542315271, 'tracker_max_age': 48, 'tracker_n_init': 4, 'std_weight_position': 184, 'std_weight_velocity': 335}. Best is trial 0 with value: 0.4381057919699379.\u001b[0m\n"
     ]
    },
    {
     "name": "stdout",
     "output_type": "stream",
     "text": [
      "\n",
      "MotChallenge2DBox Config:\n",
      "GT_FOLDER            : /home/ubuntu/ibrahim/master/datasets/MOT_GT/\n",
      "TRACKERS_FOLDER      : /home/ubuntu/ibrahim/master/results/ssd_final_embeddings/\n",
      "OUTPUT_FOLDER        : None                          \n",
      "TRACKERS_TO_EVAL     : None                          \n",
      "CLASSES_TO_EVAL      : ['vehicle']                   \n",
      "BENCHMARK            : MOT17                         \n",
      "SPLIT_TO_EVAL        : train                         \n",
      "INPUT_AS_ZIP         : False                         \n",
      "PRINT_CONFIG         : True                          \n",
      "DO_PREPROC           : False                         \n",
      "TRACKER_SUB_FOLDER   : data                          \n",
      "OUTPUT_SUB_FOLDER    :                               \n",
      "TRACKER_DISPLAY_NAMES : None                          \n",
      "SEQMAP_FOLDER        : None                          \n",
      "SEQMAP_FILE          : None                          \n",
      "SEQ_INFO             : None                          \n",
      "GT_LOC_FORMAT        : {gt_folder}/{seq}/gt/gt.txt   \n",
      "SKIP_SPLIT_FOL       : False                         \n"
     ]
    },
    {
     "name": "stderr",
     "output_type": "stream",
     "text": [
      "\u001b[32m[I 2022-02-13 00:56:52,228]\u001b[0m Trial 166 finished with value: 0.4381057919699379 and parameters: {'matching_threshold': 0.2317617068216783, 'matching_budget': 1, 'tracker_max_iou_distance': 0.5199496605055364, 'tracker_max_age': 50, 'tracker_n_init': 4, 'std_weight_position': 183, 'std_weight_velocity': 316}. Best is trial 0 with value: 0.4381057919699379.\u001b[0m\n"
     ]
    },
    {
     "name": "stdout",
     "output_type": "stream",
     "text": [
      "\n",
      "MotChallenge2DBox Config:\n",
      "GT_FOLDER            : /home/ubuntu/ibrahim/master/datasets/MOT_GT/\n",
      "TRACKERS_FOLDER      : /home/ubuntu/ibrahim/master/results/ssd_final_embeddings/\n",
      "OUTPUT_FOLDER        : None                          \n",
      "TRACKERS_TO_EVAL     : None                          \n",
      "CLASSES_TO_EVAL      : ['vehicle']                   \n",
      "BENCHMARK            : MOT17                         \n",
      "SPLIT_TO_EVAL        : train                         \n",
      "INPUT_AS_ZIP         : False                         \n",
      "PRINT_CONFIG         : True                          \n",
      "DO_PREPROC           : False                         \n",
      "TRACKER_SUB_FOLDER   : data                          \n",
      "OUTPUT_SUB_FOLDER    :                               \n",
      "TRACKER_DISPLAY_NAMES : None                          \n",
      "SEQMAP_FOLDER        : None                          \n",
      "SEQMAP_FILE          : None                          \n",
      "SEQ_INFO             : None                          \n",
      "GT_LOC_FORMAT        : {gt_folder}/{seq}/gt/gt.txt   \n",
      "SKIP_SPLIT_FOL       : False                         \n"
     ]
    },
    {
     "name": "stderr",
     "output_type": "stream",
     "text": [
      "\u001b[32m[I 2022-02-13 00:57:08,850]\u001b[0m Trial 167 finished with value: 0.4381057919699379 and parameters: {'matching_threshold': 0.2304352094800326, 'matching_budget': 1, 'tracker_max_iou_distance': 0.4999322368104691, 'tracker_max_age': 49, 'tracker_n_init': 4, 'std_weight_position': 174, 'std_weight_velocity': 304}. Best is trial 0 with value: 0.4381057919699379.\u001b[0m\n"
     ]
    },
    {
     "name": "stdout",
     "output_type": "stream",
     "text": [
      "\n",
      "MotChallenge2DBox Config:\n",
      "GT_FOLDER            : /home/ubuntu/ibrahim/master/datasets/MOT_GT/\n",
      "TRACKERS_FOLDER      : /home/ubuntu/ibrahim/master/results/ssd_final_embeddings/\n",
      "OUTPUT_FOLDER        : None                          \n",
      "TRACKERS_TO_EVAL     : None                          \n",
      "CLASSES_TO_EVAL      : ['vehicle']                   \n",
      "BENCHMARK            : MOT17                         \n",
      "SPLIT_TO_EVAL        : train                         \n",
      "INPUT_AS_ZIP         : False                         \n",
      "PRINT_CONFIG         : True                          \n",
      "DO_PREPROC           : False                         \n",
      "TRACKER_SUB_FOLDER   : data                          \n",
      "OUTPUT_SUB_FOLDER    :                               \n",
      "TRACKER_DISPLAY_NAMES : None                          \n",
      "SEQMAP_FOLDER        : None                          \n",
      "SEQMAP_FILE          : None                          \n",
      "SEQ_INFO             : None                          \n",
      "GT_LOC_FORMAT        : {gt_folder}/{seq}/gt/gt.txt   \n",
      "SKIP_SPLIT_FOL       : False                         \n"
     ]
    },
    {
     "name": "stderr",
     "output_type": "stream",
     "text": [
      "\u001b[32m[I 2022-02-13 00:57:25,666]\u001b[0m Trial 168 finished with value: 0.4381057919699379 and parameters: {'matching_threshold': 0.3162645472599885, 'matching_budget': 8, 'tracker_max_iou_distance': 0.5407177134511906, 'tracker_max_age': 49, 'tracker_n_init': 4, 'std_weight_position': 189, 'std_weight_velocity': 345}. Best is trial 0 with value: 0.4381057919699379.\u001b[0m\n"
     ]
    },
    {
     "name": "stdout",
     "output_type": "stream",
     "text": [
      "\n",
      "MotChallenge2DBox Config:\n",
      "GT_FOLDER            : /home/ubuntu/ibrahim/master/datasets/MOT_GT/\n",
      "TRACKERS_FOLDER      : /home/ubuntu/ibrahim/master/results/ssd_final_embeddings/\n",
      "OUTPUT_FOLDER        : None                          \n",
      "TRACKERS_TO_EVAL     : None                          \n",
      "CLASSES_TO_EVAL      : ['vehicle']                   \n",
      "BENCHMARK            : MOT17                         \n",
      "SPLIT_TO_EVAL        : train                         \n",
      "INPUT_AS_ZIP         : False                         \n",
      "PRINT_CONFIG         : True                          \n",
      "DO_PREPROC           : False                         \n",
      "TRACKER_SUB_FOLDER   : data                          \n",
      "OUTPUT_SUB_FOLDER    :                               \n",
      "TRACKER_DISPLAY_NAMES : None                          \n",
      "SEQMAP_FOLDER        : None                          \n",
      "SEQMAP_FILE          : None                          \n",
      "SEQ_INFO             : None                          \n",
      "GT_LOC_FORMAT        : {gt_folder}/{seq}/gt/gt.txt   \n",
      "SKIP_SPLIT_FOL       : False                         \n"
     ]
    },
    {
     "name": "stderr",
     "output_type": "stream",
     "text": [
      "\u001b[32m[I 2022-02-13 00:57:41,758]\u001b[0m Trial 169 finished with value: 0.4381057919699379 and parameters: {'matching_threshold': 0.26837310115625845, 'matching_budget': 8, 'tracker_max_iou_distance': 0.5624246296114905, 'tracker_max_age': 46, 'tracker_n_init': 5, 'std_weight_position': 199, 'std_weight_velocity': 336}. Best is trial 0 with value: 0.4381057919699379.\u001b[0m\n"
     ]
    },
    {
     "name": "stdout",
     "output_type": "stream",
     "text": [
      "\n",
      "MotChallenge2DBox Config:\n",
      "GT_FOLDER            : /home/ubuntu/ibrahim/master/datasets/MOT_GT/\n",
      "TRACKERS_FOLDER      : /home/ubuntu/ibrahim/master/results/ssd_final_embeddings/\n",
      "OUTPUT_FOLDER        : None                          \n",
      "TRACKERS_TO_EVAL     : None                          \n",
      "CLASSES_TO_EVAL      : ['vehicle']                   \n",
      "BENCHMARK            : MOT17                         \n",
      "SPLIT_TO_EVAL        : train                         \n",
      "INPUT_AS_ZIP         : False                         \n",
      "PRINT_CONFIG         : True                          \n",
      "DO_PREPROC           : False                         \n",
      "TRACKER_SUB_FOLDER   : data                          \n",
      "OUTPUT_SUB_FOLDER    :                               \n",
      "TRACKER_DISPLAY_NAMES : None                          \n",
      "SEQMAP_FOLDER        : None                          \n",
      "SEQMAP_FILE          : None                          \n",
      "SEQ_INFO             : None                          \n",
      "GT_LOC_FORMAT        : {gt_folder}/{seq}/gt/gt.txt   \n",
      "SKIP_SPLIT_FOL       : False                         \n"
     ]
    },
    {
     "name": "stderr",
     "output_type": "stream",
     "text": [
      "\u001b[32m[I 2022-02-13 00:57:52,041]\u001b[0m Trial 170 finished with value: 0.4381057919699379 and parameters: {'matching_threshold': 0.2856900657170151, 'matching_budget': 8, 'tracker_max_iou_distance': 0.5760366831901579, 'tracker_max_age': 47, 'tracker_n_init': 3, 'std_weight_position': 23, 'std_weight_velocity': 340}. Best is trial 0 with value: 0.4381057919699379.\u001b[0m\n"
     ]
    },
    {
     "name": "stdout",
     "output_type": "stream",
     "text": [
      "\n",
      "MotChallenge2DBox Config:\n",
      "GT_FOLDER            : /home/ubuntu/ibrahim/master/datasets/MOT_GT/\n",
      "TRACKERS_FOLDER      : /home/ubuntu/ibrahim/master/results/ssd_final_embeddings/\n",
      "OUTPUT_FOLDER        : None                          \n",
      "TRACKERS_TO_EVAL     : None                          \n",
      "CLASSES_TO_EVAL      : ['vehicle']                   \n",
      "BENCHMARK            : MOT17                         \n",
      "SPLIT_TO_EVAL        : train                         \n",
      "INPUT_AS_ZIP         : False                         \n",
      "PRINT_CONFIG         : True                          \n",
      "DO_PREPROC           : False                         \n",
      "TRACKER_SUB_FOLDER   : data                          \n",
      "OUTPUT_SUB_FOLDER    :                               \n",
      "TRACKER_DISPLAY_NAMES : None                          \n",
      "SEQMAP_FOLDER        : None                          \n",
      "SEQMAP_FILE          : None                          \n",
      "SEQ_INFO             : None                          \n",
      "GT_LOC_FORMAT        : {gt_folder}/{seq}/gt/gt.txt   \n",
      "SKIP_SPLIT_FOL       : False                         \n"
     ]
    },
    {
     "name": "stderr",
     "output_type": "stream",
     "text": [
      "\u001b[32m[I 2022-02-13 00:58:02,823]\u001b[0m Trial 171 finished with value: 0.4381057919699379 and parameters: {'matching_threshold': 0.24644464275103273, 'matching_budget': 10, 'tracker_max_iou_distance': 0.600934001403356, 'tracker_max_age': 44, 'tracker_n_init': 4, 'std_weight_position': 32, 'std_weight_velocity': 294}. Best is trial 0 with value: 0.4381057919699379.\u001b[0m\n"
     ]
    },
    {
     "name": "stdout",
     "output_type": "stream",
     "text": [
      "\n",
      "MotChallenge2DBox Config:\n",
      "GT_FOLDER            : /home/ubuntu/ibrahim/master/datasets/MOT_GT/\n",
      "TRACKERS_FOLDER      : /home/ubuntu/ibrahim/master/results/ssd_final_embeddings/\n",
      "OUTPUT_FOLDER        : None                          \n",
      "TRACKERS_TO_EVAL     : None                          \n",
      "CLASSES_TO_EVAL      : ['vehicle']                   \n",
      "BENCHMARK            : MOT17                         \n",
      "SPLIT_TO_EVAL        : train                         \n",
      "INPUT_AS_ZIP         : False                         \n",
      "PRINT_CONFIG         : True                          \n",
      "DO_PREPROC           : False                         \n",
      "TRACKER_SUB_FOLDER   : data                          \n",
      "OUTPUT_SUB_FOLDER    :                               \n",
      "TRACKER_DISPLAY_NAMES : None                          \n",
      "SEQMAP_FOLDER        : None                          \n",
      "SEQMAP_FILE          : None                          \n",
      "SEQ_INFO             : None                          \n",
      "GT_LOC_FORMAT        : {gt_folder}/{seq}/gt/gt.txt   \n",
      "SKIP_SPLIT_FOL       : False                         \n"
     ]
    },
    {
     "name": "stderr",
     "output_type": "stream",
     "text": [
      "\u001b[32m[I 2022-02-13 00:58:12,966]\u001b[0m Trial 172 finished with value: 0.4381057919699379 and parameters: {'matching_threshold': 0.2521500265788466, 'matching_budget': 10, 'tracker_max_iou_distance': 0.5835275630359962, 'tracker_max_age': 45, 'tracker_n_init': 5, 'std_weight_position': 11, 'std_weight_velocity': 306}. Best is trial 0 with value: 0.4381057919699379.\u001b[0m\n"
     ]
    },
    {
     "name": "stdout",
     "output_type": "stream",
     "text": [
      "\n",
      "MotChallenge2DBox Config:\n",
      "GT_FOLDER            : /home/ubuntu/ibrahim/master/datasets/MOT_GT/\n",
      "TRACKERS_FOLDER      : /home/ubuntu/ibrahim/master/results/ssd_final_embeddings/\n",
      "OUTPUT_FOLDER        : None                          \n",
      "TRACKERS_TO_EVAL     : None                          \n",
      "CLASSES_TO_EVAL      : ['vehicle']                   \n",
      "BENCHMARK            : MOT17                         \n",
      "SPLIT_TO_EVAL        : train                         \n",
      "INPUT_AS_ZIP         : False                         \n",
      "PRINT_CONFIG         : True                          \n",
      "DO_PREPROC           : False                         \n",
      "TRACKER_SUB_FOLDER   : data                          \n",
      "OUTPUT_SUB_FOLDER    :                               \n",
      "TRACKER_DISPLAY_NAMES : None                          \n",
      "SEQMAP_FOLDER        : None                          \n",
      "SEQMAP_FILE          : None                          \n",
      "SEQ_INFO             : None                          \n",
      "GT_LOC_FORMAT        : {gt_folder}/{seq}/gt/gt.txt   \n",
      "SKIP_SPLIT_FOL       : False                         \n"
     ]
    },
    {
     "name": "stderr",
     "output_type": "stream",
     "text": [
      "\u001b[32m[I 2022-02-13 00:58:22,782]\u001b[0m Trial 173 finished with value: 0.4381057919699379 and parameters: {'matching_threshold': 0.2798069529560738, 'matching_budget': 10, 'tracker_max_iou_distance': 0.6219612898624327, 'tracker_max_age': 46, 'tracker_n_init': 4, 'std_weight_position': 10, 'std_weight_velocity': 309}. Best is trial 0 with value: 0.4381057919699379.\u001b[0m\n"
     ]
    },
    {
     "name": "stdout",
     "output_type": "stream",
     "text": [
      "\n",
      "MotChallenge2DBox Config:\n",
      "GT_FOLDER            : /home/ubuntu/ibrahim/master/datasets/MOT_GT/\n",
      "TRACKERS_FOLDER      : /home/ubuntu/ibrahim/master/results/ssd_final_embeddings/\n",
      "OUTPUT_FOLDER        : None                          \n",
      "TRACKERS_TO_EVAL     : None                          \n",
      "CLASSES_TO_EVAL      : ['vehicle']                   \n",
      "BENCHMARK            : MOT17                         \n",
      "SPLIT_TO_EVAL        : train                         \n",
      "INPUT_AS_ZIP         : False                         \n",
      "PRINT_CONFIG         : True                          \n",
      "DO_PREPROC           : False                         \n",
      "TRACKER_SUB_FOLDER   : data                          \n",
      "OUTPUT_SUB_FOLDER    :                               \n",
      "TRACKER_DISPLAY_NAMES : None                          \n",
      "SEQMAP_FOLDER        : None                          \n",
      "SEQMAP_FILE          : None                          \n",
      "SEQ_INFO             : None                          \n",
      "GT_LOC_FORMAT        : {gt_folder}/{seq}/gt/gt.txt   \n",
      "SKIP_SPLIT_FOL       : False                         \n"
     ]
    },
    {
     "name": "stderr",
     "output_type": "stream",
     "text": [
      "\u001b[32m[I 2022-02-13 00:58:31,725]\u001b[0m Trial 174 finished with value: 0.4381057919699379 and parameters: {'matching_threshold': 0.3028082721735798, 'matching_budget': 9, 'tracker_max_iou_distance': 0.6100119178632916, 'tracker_max_age': 46, 'tracker_n_init': 9, 'std_weight_position': 5, 'std_weight_velocity': 293}. Best is trial 0 with value: 0.4381057919699379.\u001b[0m\n"
     ]
    },
    {
     "name": "stdout",
     "output_type": "stream",
     "text": [
      "\n",
      "MotChallenge2DBox Config:\n",
      "GT_FOLDER            : /home/ubuntu/ibrahim/master/datasets/MOT_GT/\n",
      "TRACKERS_FOLDER      : /home/ubuntu/ibrahim/master/results/ssd_final_embeddings/\n",
      "OUTPUT_FOLDER        : None                          \n",
      "TRACKERS_TO_EVAL     : None                          \n",
      "CLASSES_TO_EVAL      : ['vehicle']                   \n",
      "BENCHMARK            : MOT17                         \n",
      "SPLIT_TO_EVAL        : train                         \n",
      "INPUT_AS_ZIP         : False                         \n",
      "PRINT_CONFIG         : True                          \n",
      "DO_PREPROC           : False                         \n",
      "TRACKER_SUB_FOLDER   : data                          \n",
      "OUTPUT_SUB_FOLDER    :                               \n",
      "TRACKER_DISPLAY_NAMES : None                          \n",
      "SEQMAP_FOLDER        : None                          \n",
      "SEQMAP_FILE          : None                          \n",
      "SEQ_INFO             : None                          \n",
      "GT_LOC_FORMAT        : {gt_folder}/{seq}/gt/gt.txt   \n",
      "SKIP_SPLIT_FOL       : False                         \n"
     ]
    },
    {
     "name": "stderr",
     "output_type": "stream",
     "text": [
      "\u001b[32m[I 2022-02-13 00:58:41,013]\u001b[0m Trial 175 finished with value: 0.4381057919699379 and parameters: {'matching_threshold': 0.21387390554891952, 'matching_budget': 10, 'tracker_max_iou_distance': 0.5260735894956463, 'tracker_max_age': 44, 'tracker_n_init': 9, 'std_weight_position': 16, 'std_weight_velocity': 313}. Best is trial 0 with value: 0.4381057919699379.\u001b[0m\n"
     ]
    },
    {
     "name": "stdout",
     "output_type": "stream",
     "text": [
      "\n",
      "MotChallenge2DBox Config:\n",
      "GT_FOLDER            : /home/ubuntu/ibrahim/master/datasets/MOT_GT/\n",
      "TRACKERS_FOLDER      : /home/ubuntu/ibrahim/master/results/ssd_final_embeddings/\n",
      "OUTPUT_FOLDER        : None                          \n",
      "TRACKERS_TO_EVAL     : None                          \n",
      "CLASSES_TO_EVAL      : ['vehicle']                   \n",
      "BENCHMARK            : MOT17                         \n",
      "SPLIT_TO_EVAL        : train                         \n",
      "INPUT_AS_ZIP         : False                         \n",
      "PRINT_CONFIG         : True                          \n",
      "DO_PREPROC           : False                         \n",
      "TRACKER_SUB_FOLDER   : data                          \n",
      "OUTPUT_SUB_FOLDER    :                               \n",
      "TRACKER_DISPLAY_NAMES : None                          \n",
      "SEQMAP_FOLDER        : None                          \n",
      "SEQMAP_FILE          : None                          \n",
      "SEQ_INFO             : None                          \n",
      "GT_LOC_FORMAT        : {gt_folder}/{seq}/gt/gt.txt   \n",
      "SKIP_SPLIT_FOL       : False                         \n"
     ]
    },
    {
     "name": "stderr",
     "output_type": "stream",
     "text": [
      "\u001b[32m[I 2022-02-13 00:58:50,698]\u001b[0m Trial 176 finished with value: 0.4381057919699379 and parameters: {'matching_threshold': 0.24164620445862214, 'matching_budget': 9, 'tracker_max_iou_distance': 0.5865717395404105, 'tracker_max_age': 45, 'tracker_n_init': 9, 'std_weight_position': 24, 'std_weight_velocity': 321}. Best is trial 0 with value: 0.4381057919699379.\u001b[0m\n"
     ]
    },
    {
     "name": "stdout",
     "output_type": "stream",
     "text": [
      "\n",
      "MotChallenge2DBox Config:\n",
      "GT_FOLDER            : /home/ubuntu/ibrahim/master/datasets/MOT_GT/\n",
      "TRACKERS_FOLDER      : /home/ubuntu/ibrahim/master/results/ssd_final_embeddings/\n",
      "OUTPUT_FOLDER        : None                          \n",
      "TRACKERS_TO_EVAL     : None                          \n",
      "CLASSES_TO_EVAL      : ['vehicle']                   \n",
      "BENCHMARK            : MOT17                         \n",
      "SPLIT_TO_EVAL        : train                         \n",
      "INPUT_AS_ZIP         : False                         \n",
      "PRINT_CONFIG         : True                          \n",
      "DO_PREPROC           : False                         \n",
      "TRACKER_SUB_FOLDER   : data                          \n",
      "OUTPUT_SUB_FOLDER    :                               \n",
      "TRACKER_DISPLAY_NAMES : None                          \n",
      "SEQMAP_FOLDER        : None                          \n",
      "SEQMAP_FILE          : None                          \n",
      "SEQ_INFO             : None                          \n",
      "GT_LOC_FORMAT        : {gt_folder}/{seq}/gt/gt.txt   \n",
      "SKIP_SPLIT_FOL       : False                         \n"
     ]
    },
    {
     "name": "stderr",
     "output_type": "stream",
     "text": [
      "\u001b[32m[I 2022-02-13 00:59:00,684]\u001b[0m Trial 177 finished with value: 0.4381057919699379 and parameters: {'matching_threshold': 0.26628893320087177, 'matching_budget': 9, 'tracker_max_iou_distance': 0.5987492005454054, 'tracker_max_age': 48, 'tracker_n_init': 9, 'std_weight_position': 34, 'std_weight_velocity': 352}. Best is trial 0 with value: 0.4381057919699379.\u001b[0m\n"
     ]
    },
    {
     "name": "stdout",
     "output_type": "stream",
     "text": [
      "\n",
      "MotChallenge2DBox Config:\n",
      "GT_FOLDER            : /home/ubuntu/ibrahim/master/datasets/MOT_GT/\n",
      "TRACKERS_FOLDER      : /home/ubuntu/ibrahim/master/results/ssd_final_embeddings/\n",
      "OUTPUT_FOLDER        : None                          \n",
      "TRACKERS_TO_EVAL     : None                          \n",
      "CLASSES_TO_EVAL      : ['vehicle']                   \n",
      "BENCHMARK            : MOT17                         \n",
      "SPLIT_TO_EVAL        : train                         \n",
      "INPUT_AS_ZIP         : False                         \n",
      "PRINT_CONFIG         : True                          \n",
      "DO_PREPROC           : False                         \n",
      "TRACKER_SUB_FOLDER   : data                          \n",
      "OUTPUT_SUB_FOLDER    :                               \n",
      "TRACKER_DISPLAY_NAMES : None                          \n",
      "SEQMAP_FOLDER        : None                          \n",
      "SEQMAP_FILE          : None                          \n",
      "SEQ_INFO             : None                          \n",
      "GT_LOC_FORMAT        : {gt_folder}/{seq}/gt/gt.txt   \n",
      "SKIP_SPLIT_FOL       : False                         \n"
     ]
    },
    {
     "name": "stderr",
     "output_type": "stream",
     "text": [
      "\u001b[32m[I 2022-02-13 00:59:10,357]\u001b[0m Trial 178 finished with value: 0.4381057919699379 and parameters: {'matching_threshold': 0.1801628717958234, 'matching_budget': 7, 'tracker_max_iou_distance': 0.6480218708074648, 'tracker_max_age': 43, 'tracker_n_init': 9, 'std_weight_position': 59, 'std_weight_velocity': 13}. Best is trial 0 with value: 0.4381057919699379.\u001b[0m\n"
     ]
    },
    {
     "name": "stdout",
     "output_type": "stream",
     "text": [
      "\n",
      "MotChallenge2DBox Config:\n",
      "GT_FOLDER            : /home/ubuntu/ibrahim/master/datasets/MOT_GT/\n",
      "TRACKERS_FOLDER      : /home/ubuntu/ibrahim/master/results/ssd_final_embeddings/\n",
      "OUTPUT_FOLDER        : None                          \n",
      "TRACKERS_TO_EVAL     : None                          \n",
      "CLASSES_TO_EVAL      : ['vehicle']                   \n",
      "BENCHMARK            : MOT17                         \n",
      "SPLIT_TO_EVAL        : train                         \n",
      "INPUT_AS_ZIP         : False                         \n",
      "PRINT_CONFIG         : True                          \n",
      "DO_PREPROC           : False                         \n",
      "TRACKER_SUB_FOLDER   : data                          \n",
      "OUTPUT_SUB_FOLDER    :                               \n",
      "TRACKER_DISPLAY_NAMES : None                          \n",
      "SEQMAP_FOLDER        : None                          \n",
      "SEQMAP_FILE          : None                          \n",
      "SEQ_INFO             : None                          \n",
      "GT_LOC_FORMAT        : {gt_folder}/{seq}/gt/gt.txt   \n",
      "SKIP_SPLIT_FOL       : False                         \n"
     ]
    },
    {
     "name": "stderr",
     "output_type": "stream",
     "text": [
      "\u001b[32m[I 2022-02-13 00:59:20,350]\u001b[0m Trial 179 finished with value: 0.4381057919699379 and parameters: {'matching_threshold': 0.7688374212590038, 'matching_budget': 8, 'tracker_max_iou_distance': 0.6767950482689288, 'tracker_max_age': 50, 'tracker_n_init': 9, 'std_weight_position': 41, 'std_weight_velocity': 26}. Best is trial 0 with value: 0.4381057919699379.\u001b[0m\n"
     ]
    },
    {
     "name": "stdout",
     "output_type": "stream",
     "text": [
      "\n",
      "MotChallenge2DBox Config:\n",
      "GT_FOLDER            : /home/ubuntu/ibrahim/master/datasets/MOT_GT/\n",
      "TRACKERS_FOLDER      : /home/ubuntu/ibrahim/master/results/ssd_final_embeddings/\n",
      "OUTPUT_FOLDER        : None                          \n",
      "TRACKERS_TO_EVAL     : None                          \n",
      "CLASSES_TO_EVAL      : ['vehicle']                   \n",
      "BENCHMARK            : MOT17                         \n",
      "SPLIT_TO_EVAL        : train                         \n",
      "INPUT_AS_ZIP         : False                         \n",
      "PRINT_CONFIG         : True                          \n",
      "DO_PREPROC           : False                         \n",
      "TRACKER_SUB_FOLDER   : data                          \n",
      "OUTPUT_SUB_FOLDER    :                               \n",
      "TRACKER_DISPLAY_NAMES : None                          \n",
      "SEQMAP_FOLDER        : None                          \n",
      "SEQMAP_FILE          : None                          \n",
      "SEQ_INFO             : None                          \n",
      "GT_LOC_FORMAT        : {gt_folder}/{seq}/gt/gt.txt   \n",
      "SKIP_SPLIT_FOL       : False                         \n"
     ]
    },
    {
     "name": "stderr",
     "output_type": "stream",
     "text": [
      "\u001b[32m[I 2022-02-13 00:59:30,966]\u001b[0m Trial 180 finished with value: 0.4381057919699379 and parameters: {'matching_threshold': 0.743863663150727, 'matching_budget': 7, 'tracker_max_iou_distance': 0.7142147079824399, 'tracker_max_age': 48, 'tracker_n_init': 9, 'std_weight_position': 45, 'std_weight_velocity': 285}. Best is trial 0 with value: 0.4381057919699379.\u001b[0m\n"
     ]
    },
    {
     "name": "stdout",
     "output_type": "stream",
     "text": [
      "\n",
      "MotChallenge2DBox Config:\n",
      "GT_FOLDER            : /home/ubuntu/ibrahim/master/datasets/MOT_GT/\n",
      "TRACKERS_FOLDER      : /home/ubuntu/ibrahim/master/results/ssd_final_embeddings/\n",
      "OUTPUT_FOLDER        : None                          \n",
      "TRACKERS_TO_EVAL     : None                          \n",
      "CLASSES_TO_EVAL      : ['vehicle']                   \n",
      "BENCHMARK            : MOT17                         \n",
      "SPLIT_TO_EVAL        : train                         \n",
      "INPUT_AS_ZIP         : False                         \n",
      "PRINT_CONFIG         : True                          \n",
      "DO_PREPROC           : False                         \n",
      "TRACKER_SUB_FOLDER   : data                          \n",
      "OUTPUT_SUB_FOLDER    :                               \n",
      "TRACKER_DISPLAY_NAMES : None                          \n",
      "SEQMAP_FOLDER        : None                          \n",
      "SEQMAP_FILE          : None                          \n",
      "SEQ_INFO             : None                          \n",
      "GT_LOC_FORMAT        : {gt_folder}/{seq}/gt/gt.txt   \n",
      "SKIP_SPLIT_FOL       : False                         \n"
     ]
    },
    {
     "name": "stderr",
     "output_type": "stream",
     "text": [
      "\u001b[32m[I 2022-02-13 00:59:40,817]\u001b[0m Trial 181 finished with value: 0.4381057919699379 and parameters: {'matching_threshold': 0.8159865561836773, 'matching_budget': 8, 'tracker_max_iou_distance': 0.7281254526817593, 'tracker_max_age': 27, 'tracker_n_init': 10, 'std_weight_position': 54, 'std_weight_velocity': 24}. Best is trial 0 with value: 0.4381057919699379.\u001b[0m\n"
     ]
    },
    {
     "name": "stdout",
     "output_type": "stream",
     "text": [
      "\n",
      "MotChallenge2DBox Config:\n",
      "GT_FOLDER            : /home/ubuntu/ibrahim/master/datasets/MOT_GT/\n",
      "TRACKERS_FOLDER      : /home/ubuntu/ibrahim/master/results/ssd_final_embeddings/\n",
      "OUTPUT_FOLDER        : None                          \n",
      "TRACKERS_TO_EVAL     : None                          \n",
      "CLASSES_TO_EVAL      : ['vehicle']                   \n",
      "BENCHMARK            : MOT17                         \n",
      "SPLIT_TO_EVAL        : train                         \n",
      "INPUT_AS_ZIP         : False                         \n",
      "PRINT_CONFIG         : True                          \n",
      "DO_PREPROC           : False                         \n",
      "TRACKER_SUB_FOLDER   : data                          \n",
      "OUTPUT_SUB_FOLDER    :                               \n",
      "TRACKER_DISPLAY_NAMES : None                          \n",
      "SEQMAP_FOLDER        : None                          \n",
      "SEQMAP_FILE          : None                          \n",
      "SEQ_INFO             : None                          \n",
      "GT_LOC_FORMAT        : {gt_folder}/{seq}/gt/gt.txt   \n",
      "SKIP_SPLIT_FOL       : False                         \n"
     ]
    },
    {
     "name": "stderr",
     "output_type": "stream",
     "text": [
      "\u001b[32m[I 2022-02-13 00:59:49,935]\u001b[0m Trial 182 finished with value: 0.4381057919699379 and parameters: {'matching_threshold': 0.6895522767165742, 'matching_budget': 7, 'tracker_max_iou_distance': 0.6685575073342713, 'tracker_max_age': 31, 'tracker_n_init': 10, 'std_weight_position': 6, 'std_weight_velocity': 6}. Best is trial 0 with value: 0.4381057919699379.\u001b[0m\n"
     ]
    },
    {
     "name": "stdout",
     "output_type": "stream",
     "text": [
      "\n",
      "MotChallenge2DBox Config:\n",
      "GT_FOLDER            : /home/ubuntu/ibrahim/master/datasets/MOT_GT/\n",
      "TRACKERS_FOLDER      : /home/ubuntu/ibrahim/master/results/ssd_final_embeddings/\n",
      "OUTPUT_FOLDER        : None                          \n",
      "TRACKERS_TO_EVAL     : None                          \n",
      "CLASSES_TO_EVAL      : ['vehicle']                   \n",
      "BENCHMARK            : MOT17                         \n",
      "SPLIT_TO_EVAL        : train                         \n",
      "INPUT_AS_ZIP         : False                         \n",
      "PRINT_CONFIG         : True                          \n",
      "DO_PREPROC           : False                         \n",
      "TRACKER_SUB_FOLDER   : data                          \n",
      "OUTPUT_SUB_FOLDER    :                               \n",
      "TRACKER_DISPLAY_NAMES : None                          \n",
      "SEQMAP_FOLDER        : None                          \n",
      "SEQMAP_FILE          : None                          \n",
      "SEQ_INFO             : None                          \n",
      "GT_LOC_FORMAT        : {gt_folder}/{seq}/gt/gt.txt   \n",
      "SKIP_SPLIT_FOL       : False                         \n"
     ]
    },
    {
     "name": "stderr",
     "output_type": "stream",
     "text": [
      "\u001b[32m[I 2022-02-13 00:59:59,283]\u001b[0m Trial 183 finished with value: 0.4381057919699379 and parameters: {'matching_threshold': 0.709009866710319, 'matching_budget': 6, 'tracker_max_iou_distance': 0.6926114616043678, 'tracker_max_age': 42, 'tracker_n_init': 9, 'std_weight_position': 15, 'std_weight_velocity': 31}. Best is trial 0 with value: 0.4381057919699379.\u001b[0m\n"
     ]
    },
    {
     "name": "stdout",
     "output_type": "stream",
     "text": [
      "\n",
      "MotChallenge2DBox Config:\n",
      "GT_FOLDER            : /home/ubuntu/ibrahim/master/datasets/MOT_GT/\n",
      "TRACKERS_FOLDER      : /home/ubuntu/ibrahim/master/results/ssd_final_embeddings/\n",
      "OUTPUT_FOLDER        : None                          \n",
      "TRACKERS_TO_EVAL     : None                          \n",
      "CLASSES_TO_EVAL      : ['vehicle']                   \n",
      "BENCHMARK            : MOT17                         \n",
      "SPLIT_TO_EVAL        : train                         \n",
      "INPUT_AS_ZIP         : False                         \n",
      "PRINT_CONFIG         : True                          \n",
      "DO_PREPROC           : False                         \n",
      "TRACKER_SUB_FOLDER   : data                          \n",
      "OUTPUT_SUB_FOLDER    :                               \n",
      "TRACKER_DISPLAY_NAMES : None                          \n",
      "SEQMAP_FOLDER        : None                          \n",
      "SEQMAP_FILE          : None                          \n",
      "SEQ_INFO             : None                          \n",
      "GT_LOC_FORMAT        : {gt_folder}/{seq}/gt/gt.txt   \n",
      "SKIP_SPLIT_FOL       : False                         \n"
     ]
    },
    {
     "name": "stderr",
     "output_type": "stream",
     "text": [
      "\u001b[32m[I 2022-02-13 01:00:10,521]\u001b[0m Trial 184 finished with value: 0.4381057919699379 and parameters: {'matching_threshold': 0.7798598536505575, 'matching_budget': 6, 'tracker_max_iou_distance': 0.7050264648168907, 'tracker_max_age': 43, 'tracker_n_init': 10, 'std_weight_position': 58, 'std_weight_velocity': 298}. Best is trial 0 with value: 0.4381057919699379.\u001b[0m\n"
     ]
    },
    {
     "name": "stdout",
     "output_type": "stream",
     "text": [
      "\n",
      "MotChallenge2DBox Config:\n",
      "GT_FOLDER            : /home/ubuntu/ibrahim/master/datasets/MOT_GT/\n",
      "TRACKERS_FOLDER      : /home/ubuntu/ibrahim/master/results/ssd_final_embeddings/\n",
      "OUTPUT_FOLDER        : None                          \n",
      "TRACKERS_TO_EVAL     : None                          \n",
      "CLASSES_TO_EVAL      : ['vehicle']                   \n",
      "BENCHMARK            : MOT17                         \n",
      "SPLIT_TO_EVAL        : train                         \n",
      "INPUT_AS_ZIP         : False                         \n",
      "PRINT_CONFIG         : True                          \n",
      "DO_PREPROC           : False                         \n",
      "TRACKER_SUB_FOLDER   : data                          \n",
      "OUTPUT_SUB_FOLDER    :                               \n",
      "TRACKER_DISPLAY_NAMES : None                          \n",
      "SEQMAP_FOLDER        : None                          \n",
      "SEQMAP_FILE          : None                          \n",
      "SEQ_INFO             : None                          \n",
      "GT_LOC_FORMAT        : {gt_folder}/{seq}/gt/gt.txt   \n",
      "SKIP_SPLIT_FOL       : False                         \n"
     ]
    },
    {
     "name": "stderr",
     "output_type": "stream",
     "text": [
      "\u001b[32m[I 2022-02-13 01:00:18,956]\u001b[0m Trial 185 finished with value: 0.4381057919699379 and parameters: {'matching_threshold': 0.6780567364246284, 'matching_budget': 7, 'tracker_max_iou_distance': 0.635372982290237, 'tracker_max_age': 29, 'tracker_n_init': 10, 'std_weight_position': 1, 'std_weight_velocity': 13}. Best is trial 0 with value: 0.4381057919699379.\u001b[0m\n"
     ]
    },
    {
     "name": "stdout",
     "output_type": "stream",
     "text": [
      "\n",
      "MotChallenge2DBox Config:\n",
      "GT_FOLDER            : /home/ubuntu/ibrahim/master/datasets/MOT_GT/\n",
      "TRACKERS_FOLDER      : /home/ubuntu/ibrahim/master/results/ssd_final_embeddings/\n",
      "OUTPUT_FOLDER        : None                          \n",
      "TRACKERS_TO_EVAL     : None                          \n",
      "CLASSES_TO_EVAL      : ['vehicle']                   \n",
      "BENCHMARK            : MOT17                         \n",
      "SPLIT_TO_EVAL        : train                         \n",
      "INPUT_AS_ZIP         : False                         \n",
      "PRINT_CONFIG         : True                          \n",
      "DO_PREPROC           : False                         \n",
      "TRACKER_SUB_FOLDER   : data                          \n",
      "OUTPUT_SUB_FOLDER    :                               \n",
      "TRACKER_DISPLAY_NAMES : None                          \n",
      "SEQMAP_FOLDER        : None                          \n",
      "SEQMAP_FILE          : None                          \n",
      "SEQ_INFO             : None                          \n",
      "GT_LOC_FORMAT        : {gt_folder}/{seq}/gt/gt.txt   \n",
      "SKIP_SPLIT_FOL       : False                         \n"
     ]
    },
    {
     "name": "stderr",
     "output_type": "stream",
     "text": [
      "\u001b[32m[I 2022-02-13 01:00:27,642]\u001b[0m Trial 186 finished with value: 0.4381057919699379 and parameters: {'matching_threshold': 0.7252063821881964, 'matching_budget': 9, 'tracker_max_iou_distance': 0.6530790863290854, 'tracker_max_age': 40, 'tracker_n_init': 10, 'std_weight_position': 84, 'std_weight_velocity': 1}. Best is trial 0 with value: 0.4381057919699379.\u001b[0m\n"
     ]
    },
    {
     "name": "stdout",
     "output_type": "stream",
     "text": [
      "\n",
      "MotChallenge2DBox Config:\n",
      "GT_FOLDER            : /home/ubuntu/ibrahim/master/datasets/MOT_GT/\n",
      "TRACKERS_FOLDER      : /home/ubuntu/ibrahim/master/results/ssd_final_embeddings/\n",
      "OUTPUT_FOLDER        : None                          \n",
      "TRACKERS_TO_EVAL     : None                          \n",
      "CLASSES_TO_EVAL      : ['vehicle']                   \n",
      "BENCHMARK            : MOT17                         \n",
      "SPLIT_TO_EVAL        : train                         \n",
      "INPUT_AS_ZIP         : False                         \n",
      "PRINT_CONFIG         : True                          \n",
      "DO_PREPROC           : False                         \n",
      "TRACKER_SUB_FOLDER   : data                          \n",
      "OUTPUT_SUB_FOLDER    :                               \n",
      "TRACKER_DISPLAY_NAMES : None                          \n",
      "SEQMAP_FOLDER        : None                          \n",
      "SEQMAP_FILE          : None                          \n",
      "SEQ_INFO             : None                          \n",
      "GT_LOC_FORMAT        : {gt_folder}/{seq}/gt/gt.txt   \n",
      "SKIP_SPLIT_FOL       : False                         \n"
     ]
    },
    {
     "name": "stderr",
     "output_type": "stream",
     "text": [
      "\u001b[32m[I 2022-02-13 01:00:37,625]\u001b[0m Trial 187 finished with value: 0.4381057919699379 and parameters: {'matching_threshold': 0.7839798021424434, 'matching_budget': 9, 'tracker_max_iou_distance': 0.6982560764927997, 'tracker_max_age': 25, 'tracker_n_init': 10, 'std_weight_position': 89, 'std_weight_velocity': 57}. Best is trial 0 with value: 0.4381057919699379.\u001b[0m\n"
     ]
    },
    {
     "name": "stdout",
     "output_type": "stream",
     "text": [
      "\n",
      "MotChallenge2DBox Config:\n",
      "GT_FOLDER            : /home/ubuntu/ibrahim/master/datasets/MOT_GT/\n",
      "TRACKERS_FOLDER      : /home/ubuntu/ibrahim/master/results/ssd_final_embeddings/\n",
      "OUTPUT_FOLDER        : None                          \n",
      "TRACKERS_TO_EVAL     : None                          \n",
      "CLASSES_TO_EVAL      : ['vehicle']                   \n",
      "BENCHMARK            : MOT17                         \n",
      "SPLIT_TO_EVAL        : train                         \n",
      "INPUT_AS_ZIP         : False                         \n",
      "PRINT_CONFIG         : True                          \n",
      "DO_PREPROC           : False                         \n",
      "TRACKER_SUB_FOLDER   : data                          \n",
      "OUTPUT_SUB_FOLDER    :                               \n",
      "TRACKER_DISPLAY_NAMES : None                          \n",
      "SEQMAP_FOLDER        : None                          \n",
      "SEQMAP_FILE          : None                          \n",
      "SEQ_INFO             : None                          \n",
      "GT_LOC_FORMAT        : {gt_folder}/{seq}/gt/gt.txt   \n",
      "SKIP_SPLIT_FOL       : False                         \n"
     ]
    },
    {
     "name": "stderr",
     "output_type": "stream",
     "text": [
      "\u001b[32m[I 2022-02-13 01:00:47,631]\u001b[0m Trial 188 finished with value: 0.4381057919699379 and parameters: {'matching_threshold': 0.6586804379329572, 'matching_budget': 10, 'tracker_max_iou_distance': 0.7403499127749764, 'tracker_max_age': 31, 'tracker_n_init': 10, 'std_weight_position': 91, 'std_weight_velocity': 43}. Best is trial 0 with value: 0.4381057919699379.\u001b[0m\n"
     ]
    },
    {
     "name": "stdout",
     "output_type": "stream",
     "text": [
      "\n",
      "MotChallenge2DBox Config:\n",
      "GT_FOLDER            : /home/ubuntu/ibrahim/master/datasets/MOT_GT/\n",
      "TRACKERS_FOLDER      : /home/ubuntu/ibrahim/master/results/ssd_final_embeddings/\n",
      "OUTPUT_FOLDER        : None                          \n",
      "TRACKERS_TO_EVAL     : None                          \n",
      "CLASSES_TO_EVAL      : ['vehicle']                   \n",
      "BENCHMARK            : MOT17                         \n",
      "SPLIT_TO_EVAL        : train                         \n",
      "INPUT_AS_ZIP         : False                         \n",
      "PRINT_CONFIG         : True                          \n",
      "DO_PREPROC           : False                         \n",
      "TRACKER_SUB_FOLDER   : data                          \n",
      "OUTPUT_SUB_FOLDER    :                               \n",
      "TRACKER_DISPLAY_NAMES : None                          \n",
      "SEQMAP_FOLDER        : None                          \n",
      "SEQMAP_FILE          : None                          \n",
      "SEQ_INFO             : None                          \n",
      "GT_LOC_FORMAT        : {gt_folder}/{seq}/gt/gt.txt   \n",
      "SKIP_SPLIT_FOL       : False                         \n"
     ]
    },
    {
     "name": "stderr",
     "output_type": "stream",
     "text": [
      "\u001b[32m[I 2022-02-13 01:00:58,418]\u001b[0m Trial 189 finished with value: 0.4381057919699379 and parameters: {'matching_threshold': 0.6219786659910357, 'matching_budget': 9, 'tracker_max_iou_distance': 0.7182743651008925, 'tracker_max_age': 32, 'tracker_n_init': 9, 'std_weight_position': 94, 'std_weight_velocity': 269}. Best is trial 0 with value: 0.4381057919699379.\u001b[0m\n"
     ]
    },
    {
     "name": "stdout",
     "output_type": "stream",
     "text": [
      "\n",
      "MotChallenge2DBox Config:\n",
      "GT_FOLDER            : /home/ubuntu/ibrahim/master/datasets/MOT_GT/\n",
      "TRACKERS_FOLDER      : /home/ubuntu/ibrahim/master/results/ssd_final_embeddings/\n",
      "OUTPUT_FOLDER        : None                          \n",
      "TRACKERS_TO_EVAL     : None                          \n",
      "CLASSES_TO_EVAL      : ['vehicle']                   \n",
      "BENCHMARK            : MOT17                         \n",
      "SPLIT_TO_EVAL        : train                         \n",
      "INPUT_AS_ZIP         : False                         \n",
      "PRINT_CONFIG         : True                          \n",
      "DO_PREPROC           : False                         \n",
      "TRACKER_SUB_FOLDER   : data                          \n",
      "OUTPUT_SUB_FOLDER    :                               \n",
      "TRACKER_DISPLAY_NAMES : None                          \n",
      "SEQMAP_FOLDER        : None                          \n",
      "SEQMAP_FILE          : None                          \n",
      "SEQ_INFO             : None                          \n",
      "GT_LOC_FORMAT        : {gt_folder}/{seq}/gt/gt.txt   \n",
      "SKIP_SPLIT_FOL       : False                         \n"
     ]
    },
    {
     "name": "stderr",
     "output_type": "stream",
     "text": [
      "\u001b[32m[I 2022-02-13 01:01:08,873]\u001b[0m Trial 190 finished with value: 0.4381057919699379 and parameters: {'matching_threshold': 0.669708847868605, 'matching_budget': 6, 'tracker_max_iou_distance': 0.3022310202135177, 'tracker_max_age': 36, 'tracker_n_init': 10, 'std_weight_position': 69, 'std_weight_velocity': 258}. Best is trial 0 with value: 0.4381057919699379.\u001b[0m\n"
     ]
    },
    {
     "name": "stdout",
     "output_type": "stream",
     "text": [
      "\n",
      "MotChallenge2DBox Config:\n",
      "GT_FOLDER            : /home/ubuntu/ibrahim/master/datasets/MOT_GT/\n",
      "TRACKERS_FOLDER      : /home/ubuntu/ibrahim/master/results/ssd_final_embeddings/\n",
      "OUTPUT_FOLDER        : None                          \n",
      "TRACKERS_TO_EVAL     : None                          \n",
      "CLASSES_TO_EVAL      : ['vehicle']                   \n",
      "BENCHMARK            : MOT17                         \n",
      "SPLIT_TO_EVAL        : train                         \n",
      "INPUT_AS_ZIP         : False                         \n",
      "PRINT_CONFIG         : True                          \n",
      "DO_PREPROC           : False                         \n",
      "TRACKER_SUB_FOLDER   : data                          \n",
      "OUTPUT_SUB_FOLDER    :                               \n",
      "TRACKER_DISPLAY_NAMES : None                          \n",
      "SEQMAP_FOLDER        : None                          \n",
      "SEQMAP_FILE          : None                          \n",
      "SEQ_INFO             : None                          \n",
      "GT_LOC_FORMAT        : {gt_folder}/{seq}/gt/gt.txt   \n",
      "SKIP_SPLIT_FOL       : False                         \n"
     ]
    },
    {
     "name": "stderr",
     "output_type": "stream",
     "text": [
      "\u001b[32m[I 2022-02-13 01:01:19,056]\u001b[0m Trial 191 finished with value: 0.4381057919699379 and parameters: {'matching_threshold': 0.6216244880951884, 'matching_budget': 10, 'tracker_max_iou_distance': 0.3312452546480074, 'tracker_max_age': 40, 'tracker_n_init': 9, 'std_weight_position': 67, 'std_weight_velocity': 67}. Best is trial 0 with value: 0.4381057919699379.\u001b[0m\n"
     ]
    },
    {
     "name": "stdout",
     "output_type": "stream",
     "text": [
      "\n",
      "MotChallenge2DBox Config:\n",
      "GT_FOLDER            : /home/ubuntu/ibrahim/master/datasets/MOT_GT/\n",
      "TRACKERS_FOLDER      : /home/ubuntu/ibrahim/master/results/ssd_final_embeddings/\n",
      "OUTPUT_FOLDER        : None                          \n",
      "TRACKERS_TO_EVAL     : None                          \n",
      "CLASSES_TO_EVAL      : ['vehicle']                   \n",
      "BENCHMARK            : MOT17                         \n",
      "SPLIT_TO_EVAL        : train                         \n",
      "INPUT_AS_ZIP         : False                         \n",
      "PRINT_CONFIG         : True                          \n",
      "DO_PREPROC           : False                         \n",
      "TRACKER_SUB_FOLDER   : data                          \n",
      "OUTPUT_SUB_FOLDER    :                               \n",
      "TRACKER_DISPLAY_NAMES : None                          \n",
      "SEQMAP_FOLDER        : None                          \n",
      "SEQMAP_FILE          : None                          \n",
      "SEQ_INFO             : None                          \n",
      "GT_LOC_FORMAT        : {gt_folder}/{seq}/gt/gt.txt   \n",
      "SKIP_SPLIT_FOL       : False                         \n"
     ]
    },
    {
     "name": "stderr",
     "output_type": "stream",
     "text": [
      "\u001b[32m[I 2022-02-13 01:01:29,592]\u001b[0m Trial 192 finished with value: 0.4381057919699379 and parameters: {'matching_threshold': 0.5957190092247586, 'matching_budget': 5, 'tracker_max_iou_distance': 0.6746740386556469, 'tracker_max_age': 38, 'tracker_n_init': 8, 'std_weight_position': 103, 'std_weight_velocity': 47}. Best is trial 0 with value: 0.4381057919699379.\u001b[0m\n"
     ]
    },
    {
     "name": "stdout",
     "output_type": "stream",
     "text": [
      "\n",
      "MotChallenge2DBox Config:\n",
      "GT_FOLDER            : /home/ubuntu/ibrahim/master/datasets/MOT_GT/\n",
      "TRACKERS_FOLDER      : /home/ubuntu/ibrahim/master/results/ssd_final_embeddings/\n",
      "OUTPUT_FOLDER        : None                          \n",
      "TRACKERS_TO_EVAL     : None                          \n",
      "CLASSES_TO_EVAL      : ['vehicle']                   \n",
      "BENCHMARK            : MOT17                         \n",
      "SPLIT_TO_EVAL        : train                         \n",
      "INPUT_AS_ZIP         : False                         \n",
      "PRINT_CONFIG         : True                          \n",
      "DO_PREPROC           : False                         \n",
      "TRACKER_SUB_FOLDER   : data                          \n",
      "OUTPUT_SUB_FOLDER    :                               \n",
      "TRACKER_DISPLAY_NAMES : None                          \n",
      "SEQMAP_FOLDER        : None                          \n",
      "SEQMAP_FILE          : None                          \n",
      "SEQ_INFO             : None                          \n",
      "GT_LOC_FORMAT        : {gt_folder}/{seq}/gt/gt.txt   \n",
      "SKIP_SPLIT_FOL       : False                         \n"
     ]
    },
    {
     "name": "stderr",
     "output_type": "stream",
     "text": [
      "\u001b[32m[I 2022-02-13 01:01:40,071]\u001b[0m Trial 193 finished with value: 0.4381057919699379 and parameters: {'matching_threshold': 0.6980094342614208, 'matching_budget': 5, 'tracker_max_iou_distance': 0.3101177693605717, 'tracker_max_age': 38, 'tracker_n_init': 8, 'std_weight_position': 81, 'std_weight_velocity': 55}. Best is trial 0 with value: 0.4381057919699379.\u001b[0m\n"
     ]
    },
    {
     "name": "stdout",
     "output_type": "stream",
     "text": [
      "\n",
      "MotChallenge2DBox Config:\n",
      "GT_FOLDER            : /home/ubuntu/ibrahim/master/datasets/MOT_GT/\n",
      "TRACKERS_FOLDER      : /home/ubuntu/ibrahim/master/results/ssd_final_embeddings/\n",
      "OUTPUT_FOLDER        : None                          \n",
      "TRACKERS_TO_EVAL     : None                          \n",
      "CLASSES_TO_EVAL      : ['vehicle']                   \n",
      "BENCHMARK            : MOT17                         \n",
      "SPLIT_TO_EVAL        : train                         \n",
      "INPUT_AS_ZIP         : False                         \n",
      "PRINT_CONFIG         : True                          \n",
      "DO_PREPROC           : False                         \n",
      "TRACKER_SUB_FOLDER   : data                          \n",
      "OUTPUT_SUB_FOLDER    :                               \n",
      "TRACKER_DISPLAY_NAMES : None                          \n",
      "SEQMAP_FOLDER        : None                          \n",
      "SEQMAP_FILE          : None                          \n",
      "SEQ_INFO             : None                          \n",
      "GT_LOC_FORMAT        : {gt_folder}/{seq}/gt/gt.txt   \n",
      "SKIP_SPLIT_FOL       : False                         \n"
     ]
    },
    {
     "name": "stderr",
     "output_type": "stream",
     "text": [
      "\u001b[32m[I 2022-02-13 01:01:50,273]\u001b[0m Trial 194 finished with value: 0.4381057919699379 and parameters: {'matching_threshold': 0.5654352023917538, 'matching_budget': 5, 'tracker_max_iou_distance': 0.36531142857487814, 'tracker_max_age': 36, 'tracker_n_init': 7, 'std_weight_position': 96, 'std_weight_velocity': 34}. Best is trial 0 with value: 0.4381057919699379.\u001b[0m\n"
     ]
    },
    {
     "name": "stdout",
     "output_type": "stream",
     "text": [
      "\n",
      "MotChallenge2DBox Config:\n",
      "GT_FOLDER            : /home/ubuntu/ibrahim/master/datasets/MOT_GT/\n",
      "TRACKERS_FOLDER      : /home/ubuntu/ibrahim/master/results/ssd_final_embeddings/\n",
      "OUTPUT_FOLDER        : None                          \n",
      "TRACKERS_TO_EVAL     : None                          \n",
      "CLASSES_TO_EVAL      : ['vehicle']                   \n",
      "BENCHMARK            : MOT17                         \n",
      "SPLIT_TO_EVAL        : train                         \n",
      "INPUT_AS_ZIP         : False                         \n",
      "PRINT_CONFIG         : True                          \n",
      "DO_PREPROC           : False                         \n",
      "TRACKER_SUB_FOLDER   : data                          \n",
      "OUTPUT_SUB_FOLDER    :                               \n",
      "TRACKER_DISPLAY_NAMES : None                          \n",
      "SEQMAP_FOLDER        : None                          \n",
      "SEQMAP_FILE          : None                          \n",
      "SEQ_INFO             : None                          \n",
      "GT_LOC_FORMAT        : {gt_folder}/{seq}/gt/gt.txt   \n",
      "SKIP_SPLIT_FOL       : False                         \n"
     ]
    },
    {
     "name": "stderr",
     "output_type": "stream",
     "text": [
      "\u001b[32m[I 2022-02-13 01:02:00,249]\u001b[0m Trial 195 finished with value: 0.4381057919699379 and parameters: {'matching_threshold': 0.5284057805039915, 'matching_budget': 6, 'tracker_max_iou_distance': 0.6888407645224907, 'tracker_max_age': 35, 'tracker_n_init': 8, 'std_weight_position': 111, 'std_weight_velocity': 30}. Best is trial 0 with value: 0.4381057919699379.\u001b[0m\n"
     ]
    },
    {
     "name": "stdout",
     "output_type": "stream",
     "text": [
      "\n",
      "MotChallenge2DBox Config:\n",
      "GT_FOLDER            : /home/ubuntu/ibrahim/master/datasets/MOT_GT/\n",
      "TRACKERS_FOLDER      : /home/ubuntu/ibrahim/master/results/ssd_final_embeddings/\n",
      "OUTPUT_FOLDER        : None                          \n",
      "TRACKERS_TO_EVAL     : None                          \n",
      "CLASSES_TO_EVAL      : ['vehicle']                   \n",
      "BENCHMARK            : MOT17                         \n",
      "SPLIT_TO_EVAL        : train                         \n",
      "INPUT_AS_ZIP         : False                         \n",
      "PRINT_CONFIG         : True                          \n",
      "DO_PREPROC           : False                         \n",
      "TRACKER_SUB_FOLDER   : data                          \n",
      "OUTPUT_SUB_FOLDER    :                               \n",
      "TRACKER_DISPLAY_NAMES : None                          \n",
      "SEQMAP_FOLDER        : None                          \n",
      "SEQMAP_FILE          : None                          \n",
      "SEQ_INFO             : None                          \n",
      "GT_LOC_FORMAT        : {gt_folder}/{seq}/gt/gt.txt   \n",
      "SKIP_SPLIT_FOL       : False                         \n"
     ]
    },
    {
     "name": "stderr",
     "output_type": "stream",
     "text": [
      "\u001b[32m[I 2022-02-13 01:02:11,537]\u001b[0m Trial 196 finished with value: 0.4381057919699379 and parameters: {'matching_threshold': 0.5697684416685703, 'matching_budget': 6, 'tracker_max_iou_distance': 0.40493798116386914, 'tracker_max_age': 34, 'tracker_n_init': 7, 'std_weight_position': 99, 'std_weight_velocity': 76}. Best is trial 0 with value: 0.4381057919699379.\u001b[0m\n"
     ]
    },
    {
     "name": "stdout",
     "output_type": "stream",
     "text": [
      "\n",
      "MotChallenge2DBox Config:\n",
      "GT_FOLDER            : /home/ubuntu/ibrahim/master/datasets/MOT_GT/\n",
      "TRACKERS_FOLDER      : /home/ubuntu/ibrahim/master/results/ssd_final_embeddings/\n",
      "OUTPUT_FOLDER        : None                          \n",
      "TRACKERS_TO_EVAL     : None                          \n",
      "CLASSES_TO_EVAL      : ['vehicle']                   \n",
      "BENCHMARK            : MOT17                         \n",
      "SPLIT_TO_EVAL        : train                         \n",
      "INPUT_AS_ZIP         : False                         \n",
      "PRINT_CONFIG         : True                          \n",
      "DO_PREPROC           : False                         \n",
      "TRACKER_SUB_FOLDER   : data                          \n",
      "OUTPUT_SUB_FOLDER    :                               \n",
      "TRACKER_DISPLAY_NAMES : None                          \n",
      "SEQMAP_FOLDER        : None                          \n",
      "SEQMAP_FILE          : None                          \n",
      "SEQ_INFO             : None                          \n",
      "GT_LOC_FORMAT        : {gt_folder}/{seq}/gt/gt.txt   \n",
      "SKIP_SPLIT_FOL       : False                         \n"
     ]
    },
    {
     "name": "stderr",
     "output_type": "stream",
     "text": [
      "\u001b[32m[I 2022-02-13 01:02:23,470]\u001b[0m Trial 197 finished with value: 0.4381057919699379 and parameters: {'matching_threshold': 0.5579628519025782, 'matching_budget': 5, 'tracker_max_iou_distance': 0.38017257661056714, 'tracker_max_age': 28, 'tracker_n_init': 8, 'std_weight_position': 106, 'std_weight_velocity': 102}. Best is trial 0 with value: 0.4381057919699379.\u001b[0m\n"
     ]
    },
    {
     "name": "stdout",
     "output_type": "stream",
     "text": [
      "\n",
      "MotChallenge2DBox Config:\n",
      "GT_FOLDER            : /home/ubuntu/ibrahim/master/datasets/MOT_GT/\n",
      "TRACKERS_FOLDER      : /home/ubuntu/ibrahim/master/results/ssd_final_embeddings/\n",
      "OUTPUT_FOLDER        : None                          \n",
      "TRACKERS_TO_EVAL     : None                          \n",
      "CLASSES_TO_EVAL      : ['vehicle']                   \n",
      "BENCHMARK            : MOT17                         \n",
      "SPLIT_TO_EVAL        : train                         \n",
      "INPUT_AS_ZIP         : False                         \n",
      "PRINT_CONFIG         : True                          \n",
      "DO_PREPROC           : False                         \n",
      "TRACKER_SUB_FOLDER   : data                          \n",
      "OUTPUT_SUB_FOLDER    :                               \n",
      "TRACKER_DISPLAY_NAMES : None                          \n",
      "SEQMAP_FOLDER        : None                          \n",
      "SEQMAP_FILE          : None                          \n",
      "SEQ_INFO             : None                          \n",
      "GT_LOC_FORMAT        : {gt_folder}/{seq}/gt/gt.txt   \n",
      "SKIP_SPLIT_FOL       : False                         \n"
     ]
    },
    {
     "name": "stderr",
     "output_type": "stream",
     "text": [
      "\u001b[32m[I 2022-02-13 01:02:38,499]\u001b[0m Trial 198 finished with value: 0.4381057919699379 and parameters: {'matching_threshold': 0.6592074992270673, 'matching_budget': 5, 'tracker_max_iou_distance': 0.4204483093167555, 'tracker_max_age': 41, 'tracker_n_init': 6, 'std_weight_position': 131, 'std_weight_velocity': 211}. Best is trial 0 with value: 0.4381057919699379.\u001b[0m\n"
     ]
    },
    {
     "name": "stdout",
     "output_type": "stream",
     "text": [
      "\n",
      "MotChallenge2DBox Config:\n",
      "GT_FOLDER            : /home/ubuntu/ibrahim/master/datasets/MOT_GT/\n",
      "TRACKERS_FOLDER      : /home/ubuntu/ibrahim/master/results/ssd_final_embeddings/\n",
      "OUTPUT_FOLDER        : None                          \n",
      "TRACKERS_TO_EVAL     : None                          \n",
      "CLASSES_TO_EVAL      : ['vehicle']                   \n",
      "BENCHMARK            : MOT17                         \n",
      "SPLIT_TO_EVAL        : train                         \n",
      "INPUT_AS_ZIP         : False                         \n",
      "PRINT_CONFIG         : True                          \n",
      "DO_PREPROC           : False                         \n",
      "TRACKER_SUB_FOLDER   : data                          \n",
      "OUTPUT_SUB_FOLDER    :                               \n",
      "TRACKER_DISPLAY_NAMES : None                          \n",
      "SEQMAP_FOLDER        : None                          \n",
      "SEQMAP_FILE          : None                          \n",
      "SEQ_INFO             : None                          \n",
      "GT_LOC_FORMAT        : {gt_folder}/{seq}/gt/gt.txt   \n",
      "SKIP_SPLIT_FOL       : False                         \n"
     ]
    },
    {
     "name": "stderr",
     "output_type": "stream",
     "text": [
      "\u001b[32m[I 2022-02-13 01:02:50,111]\u001b[0m Trial 199 finished with value: 0.4381057919699379 and parameters: {'matching_threshold': 0.7578439640944358, 'matching_budget': 6, 'tracker_max_iou_distance': 0.36619030527330915, 'tracker_max_age': 38, 'tracker_n_init': 8, 'std_weight_position': 84, 'std_weight_velocity': 93}. Best is trial 0 with value: 0.4381057919699379.\u001b[0m\n"
     ]
    }
   ],
   "source": [
    "study = optuna.create_study(direction=\"maximize\")\n",
    "study.optimize(objective, n_trials=200) "
   ]
  },
  {
   "cell_type": "code",
   "execution_count": 10,
   "id": "f209d7d2",
   "metadata": {},
   "outputs": [
    {
     "name": "stdout",
     "output_type": "stream",
     "text": [
      "{'matching_metric': 'cosine', 'matching_threshold': 0.7738349050722172, 'matching_budget': 4, 'tracker_max_iou_distance': 0.7459954575333289, 'tracker_max_age': 26, 'tracker_n_init': 5, 'std_weight_position': 11, 'std_weight_velocity': 241}\n"
     ]
    }
   ],
   "source": [
    "print(study.best_params)"
   ]
  },
  {
   "cell_type": "code",
   "execution_count": 11,
   "id": "2aa8bddf",
   "metadata": {},
   "outputs": [
    {
     "name": "stdout",
     "output_type": "stream",
     "text": [
      "0.4850312310837515\n"
     ]
    }
   ],
   "source": [
    "print(study.best_value)"
   ]
  },
  {
   "cell_type": "code",
   "execution_count": null,
   "id": "e193d181",
   "metadata": {},
   "outputs": [],
   "source": []
  }
 ],
 "metadata": {
  "kernelspec": {
   "display_name": "env",
   "language": "python",
   "name": "env"
  },
  "language_info": {
   "codemirror_mode": {
    "name": "ipython",
    "version": 3
   },
   "file_extension": ".py",
   "mimetype": "text/x-python",
   "name": "python",
   "nbconvert_exporter": "python",
   "pygments_lexer": "ipython3",
   "version": "3.7.10"
  }
 },
 "nbformat": 4,
 "nbformat_minor": 5
}
