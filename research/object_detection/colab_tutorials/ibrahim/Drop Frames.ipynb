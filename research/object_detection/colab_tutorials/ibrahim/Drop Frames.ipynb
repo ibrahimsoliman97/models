{
 "cells": [
  {
   "cell_type": "code",
   "execution_count": 4,
   "id": "2a436403",
   "metadata": {},
   "outputs": [],
   "source": [
    "import numpy as np\n",
    "import math\n",
    "import time\n",
    "import importlib\n",
    "import os\n",
    "from tqdm import notebook\n",
    "os.chdir(os.path.abspath('/home/ubuntu/ibrahim/master/models/research/'))"
   ]
  },
  {
   "cell_type": "markdown",
   "id": "7a036497",
   "metadata": {},
   "source": [
    "# SORT"
   ]
  },
  {
   "cell_type": "code",
   "execution_count": 8,
   "id": "af396dfd",
   "metadata": {},
   "outputs": [],
   "source": [
    "to_path=[\"/home/ubuntu/ibrahim/master/results/\",\"/MOT17-train/\"]\n",
    "#drop = [2, 3, 5]\n",
    "drop = [9]\n",
    "model_name= \"ssd_sort_drop\"\n",
    "npy_path = to_path[0]+ \"ssd_base\"+ to_path[1] + 'data/data/'"
   ]
  },
  {
   "cell_type": "code",
   "execution_count": 3,
   "id": "ebc897a4",
   "metadata": {},
   "outputs": [],
   "source": [
    "import research.object_detection.tracking.sort.sort\n",
    "from research.object_detection.tracking.sort.sort import Sort"
   ]
  },
  {
   "cell_type": "code",
   "execution_count": 13,
   "id": "1a8134a0",
   "metadata": {
    "scrolled": false
   },
   "outputs": [
    {
     "name": "stdout",
     "output_type": "stream",
     "text": [
      "2\n"
     ]
    },
    {
     "data": {
      "application/vnd.jupyter.widget-view+json": {
       "model_id": "b31a2456b4cf40cd975ce6c7a0fcb6e8",
       "version_major": 2,
       "version_minor": 0
      },
      "text/plain": [
       "  0%|          | 0/80 [00:00<?, ?it/s]"
      ]
     },
     "metadata": {},
     "output_type": "display_data"
    },
    {
     "name": "stdout",
     "output_type": "stream",
     "text": [
      "3\n"
     ]
    },
    {
     "data": {
      "application/vnd.jupyter.widget-view+json": {
       "model_id": "aaac2a41e0f3499eb57c25a97a93388a",
       "version_major": 2,
       "version_minor": 0
      },
      "text/plain": [
       "  0%|          | 0/80 [00:00<?, ?it/s]"
      ]
     },
     "metadata": {},
     "output_type": "display_data"
    },
    {
     "name": "stdout",
     "output_type": "stream",
     "text": [
      "5\n"
     ]
    },
    {
     "data": {
      "application/vnd.jupyter.widget-view+json": {
       "model_id": "026b4ca0ce0a4d97bc821d4b3b34ba2c",
       "version_major": 2,
       "version_minor": 0
      },
      "text/plain": [
       "  0%|          | 0/80 [00:00<?, ?it/s]"
      ]
     },
     "metadata": {},
     "output_type": "display_data"
    },
    {
     "name": "stdout",
     "output_type": "stream",
     "text": [
      "9\n"
     ]
    },
    {
     "data": {
      "application/vnd.jupyter.widget-view+json": {
       "model_id": "a26252f87d8c4d5db9ebebe30f317311",
       "version_major": 2,
       "version_minor": 0
      },
      "text/plain": [
       "  0%|          | 0/80 [00:00<?, ?it/s]"
      ]
     },
     "metadata": {},
     "output_type": "display_data"
    }
   ],
   "source": [
    "for df in drop:\n",
    "    path_write = to_path[0] + model_name + to_path[1] + 'drop_' + str(df-1) + '/data/'\n",
    "    if not os.path.exists(path_write):\n",
    "        os.makedirs(path_write)\n",
    "    for directory in notebook.tqdm(sorted(os.listdir(npy_path))):\n",
    "        if directory.endswith(\".npy\"):\n",
    "            importlib.reload(research.object_detection.tracking.sort.sort)\n",
    "            mot_tracker= Sort()\n",
    "            prediticon_file = open(os.path.join(path_write, directory[:-3] + \"txt\"), \"w\")\n",
    "            with open(npy_path+directory,  \"rb\") as prediticon_np:\n",
    "                i=0\n",
    "                while True:\n",
    "                    i+=1\n",
    "                    try:\n",
    "                        detections = np.load(prediticon_np, allow_pickle=True)\n",
    "                    except:\n",
    "                        break\n",
    "                    if i%df != 0:\n",
    "                        continue\n",
    "                    if detections.any():\n",
    "                        track_bbs_ids = mot_tracker.update(np.array(detections))\n",
    "                    else:\n",
    "                        track_bbs_ids = mot_tracker.update()\n",
    "                    for track_pred in track_bbs_ids:\n",
    "                        bb_w = track_pred[2] - track_pred[0]\n",
    "                        bb_h = track_pred[3] - track_pred[1]\n",
    "                        prediticon_file.write(f'{i}, {int(track_pred[4])}, {track_pred[0]:.2f}, {track_pred[1]:.2f}, {bb_w:.2f}, {bb_h:.2f}, 1, -1, -1, -1 \\n')\n",
    "            prediticon_file.close()"
   ]
  },
  {
   "cell_type": "markdown",
   "id": "214c1732",
   "metadata": {},
   "source": [
    "# DeepSORT"
   ]
  },
  {
   "cell_type": "code",
   "execution_count": null,
   "id": "7a43807c",
   "metadata": {},
   "outputs": [],
   "source": [
    "to_path=[\"/home/ubuntu/ibrahim/master/results/\",\"/MOT17-train/\"]\n",
    "drop = [2, 3, 5]\n",
    "model_name= \"ssd_deepsort_drop\"\n",
    "npy_path = to_path[0]+ \"ssd_base_deepsort\"+ to_path[1] + 'data/data/'\n",
    "from research.object_detection.tracking.deep_sort.deep_sort import nn_matching\n",
    "from research.object_detection.tracking.deep_sort.deep_sort.detection import Detection\n",
    "import research.object_detection.tracking.deep_sort.deep_sort.tracker\n",
    "from research.object_detection.tracking.deep_sort.deep_sort.tracker import Tracker\n",
    "from research.object_detection.tracking.deep_sort.tools import generate_detections as gdet"
   ]
  },
  {
   "cell_type": "code",
   "execution_count": null,
   "id": "12adc031",
   "metadata": {},
   "outputs": [],
   "source": [
    "for df in drop:\n",
    "    path_write = to_path[0] + model_name + to_path[1] + 'drop_' + str(df-1) + '/data/'\n",
    "    if not os.path.exists(path_write):\n",
    "        os.makedirs(path_write)\n",
    "    for directory in notebook.tqdm(sorted(os.listdir(npy_path))):\n",
    "        if directory.endswith(\".npy\"):\n",
    "            importlib.reload(research.object_detection.tracking.deep_sort.deep_sort.tracker)\n",
    "            deep_tracker = Tracker(nn_matching.NearestNeighborDistanceMetric(\"cosine\", 0.3, None))\n",
    "            prediticon_file = open(os.path.join(path_write, directory[:-3] + \"txt\"), \"w\")\n",
    "            with open(npy_path+directory,  \"rb\") as prediticon_np:\n",
    "                i=0\n",
    "                while True:\n",
    "                    i+=1\n",
    "                    try:\n",
    "                        detections = np.load(prediticon_np, allow_pickle=True)\n",
    "                    except:\n",
    "                        break\n",
    "                    if i%df != 0:\n",
    "                        continue\n",
    "                    deep_tracker.predict()\n",
    "                    deep_tracker.update(detections)\n",
    "                    track_bbs_ids = []\n",
    "                    for track in deep_tracker.tracks:\n",
    "                        if not track.is_confirmed() or track.time_since_update > 1:\n",
    "                            continue\n",
    "                        track_bbs_ids.append([*track.to_tlbr(), track.track_id])\n",
    "                    for track_pred in track_bbs_ids:\n",
    "                        bb_w = track_pred[2] - track_pred[0]\n",
    "                        bb_h = track_pred[3] - track_pred[1]\n",
    "                        prediticon_file.write(f'{i}, {int(track_pred[4])}, {track_pred[0]:.2f}, {track_pred[1]:.2f}, {bb_w:.2f}, {bb_h:.2f}, 1, -1, -1, -1 \\n')\n",
    "            prediticon_file.close()"
   ]
  },
  {
   "cell_type": "markdown",
   "id": "7d53d947",
   "metadata": {},
   "source": [
    "# PAE"
   ]
  },
  {
   "cell_type": "code",
   "execution_count": 7,
   "id": "1b8d9b56",
   "metadata": {},
   "outputs": [],
   "source": [
    "to_path=[\"/home/ubuntu/ibrahim/master/results/\",\"/MOT17-train/\"]\n",
    "drop = [9]\n",
    "model_name= \"ssd_pae_drop\"\n",
    "npy_path = to_path[0]+ \"ssd_final_embeddings\"+ to_path[1] + 'data/data/'\n",
    "from research.object_detection.tracking.deep_sort.deep_sort import nn_matching\n",
    "from research.object_detection.tracking.deep_sort.deep_sort.detection import Detection\n",
    "import research.object_detection.tracking.deep_sort.deep_sort.tracker\n",
    "from research.object_detection.tracking.deep_sort.deep_sort.tracker import Tracker"
   ]
  },
  {
   "cell_type": "code",
   "execution_count": 8,
   "id": "ca4d9cbe",
   "metadata": {},
   "outputs": [
    {
     "data": {
      "application/vnd.jupyter.widget-view+json": {
       "model_id": "266ffca645e44d4ba7d4a1aa8d66c746",
       "version_major": 2,
       "version_minor": 0
      },
      "text/plain": [
       "  0%|          | 0/80 [00:00<?, ?it/s]"
      ]
     },
     "metadata": {},
     "output_type": "display_data"
    }
   ],
   "source": [
    "for df in drop:\n",
    "    path_write = to_path[0] + model_name + to_path[1] + 'drop_' + str(df-1) + '/data/'\n",
    "    if not os.path.exists(path_write):\n",
    "        os.makedirs(path_write)\n",
    "    for directory in notebook.tqdm(sorted(os.listdir(npy_path))):\n",
    "        if directory.endswith(\".npy\"):\n",
    "            importlib.reload(research.object_detection.tracking.deep_sort.deep_sort.tracker)\n",
    "            deep_tracker = Tracker(nn_matching.NearestNeighborDistanceMetric(\"cosine\", 0.3, None))\n",
    "            prediticon_file = open(os.path.join(path_write, directory[:-3] + \"txt\"), \"w\")\n",
    "            with open(npy_path+directory,  \"rb\") as prediticon_np:\n",
    "                i=0\n",
    "                while True:\n",
    "                    i+=1\n",
    "                    try:\n",
    "                        detections = np.load(prediticon_np, allow_pickle=True)\n",
    "                    except:\n",
    "                        break\n",
    "                    if i%df != 0:\n",
    "                        continue\n",
    "                    deep_tracker.predict()\n",
    "                    deep_tracker.update(detections)\n",
    "                    track_bbs_ids = []\n",
    "                    for track in deep_tracker.tracks:\n",
    "                        if not track.is_confirmed() or track.time_since_update > 1:\n",
    "                            continue\n",
    "                        track_bbs_ids.append([*track.to_tlbr(), track.track_id])\n",
    "                    for track_pred in track_bbs_ids:\n",
    "                        bb_w = track_pred[2] - track_pred[0]\n",
    "                        bb_h = track_pred[3] - track_pred[1]\n",
    "                        prediticon_file.write(f'{i}, {int(track_pred[4])}, {track_pred[0]:.2f}, {track_pred[1]:.2f}, {bb_w:.2f}, {bb_h:.2f}, 1, -1, -1, -1 \\n')\n",
    "            prediticon_file.close()"
   ]
  },
  {
   "cell_type": "code",
   "execution_count": null,
   "id": "09431fc0",
   "metadata": {},
   "outputs": [],
   "source": []
  }
 ],
 "metadata": {
  "kernelspec": {
   "display_name": "env",
   "language": "python",
   "name": "env"
  },
  "language_info": {
   "codemirror_mode": {
    "name": "ipython",
    "version": 3
   },
   "file_extension": ".py",
   "mimetype": "text/x-python",
   "name": "python",
   "nbconvert_exporter": "python",
   "pygments_lexer": "ipython3",
   "version": "3.7.10"
  }
 },
 "nbformat": 4,
 "nbformat_minor": 5
}
