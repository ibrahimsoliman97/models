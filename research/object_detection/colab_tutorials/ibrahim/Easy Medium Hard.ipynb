{
 "cells": [
  {
   "cell_type": "code",
   "execution_count": 1,
   "id": "06051d51",
   "metadata": {},
   "outputs": [],
   "source": [
    "import pandas as pd "
   ]
  },
  {
   "cell_type": "code",
   "execution_count": 2,
   "id": "0bdf7081",
   "metadata": {},
   "outputs": [],
   "source": [
    "GT = {\n",
    "    \"Easy\": [\"MVI_39211\", \"MVI_39031\", \"MVI_40712\", \"MVI_40854\", \"MVI_40701\", \"MVI_40852\", \"MVI_39401\", \"MVI_40743\", \"MVI_39361\", \"MVI_39051\"],\n",
    "    \"Hard\": [\"MVI_40901\", \"MVI_40903\", \"MVI_40762\", \"MVI_39511\", \"MVI_40863\", \"MVI_40761\", \"MVI_40763\", \"MVI_40905\", \"MVI_39501\", \"MVI_40904\"]\n",
    "}"
   ]
  },
  {
   "cell_type": "code",
   "execution_count": 3,
   "id": "66406eb0",
   "metadata": {},
   "outputs": [],
   "source": [
    "def Average(lst):\n",
    "    return sum(lst) / len(lst)"
   ]
  },
  {
   "cell_type": "code",
   "execution_count": 20,
   "id": "3eb21e6e",
   "metadata": {},
   "outputs": [],
   "source": [
    "path = \"/home/ubuntu/ibrahim/master/results/jde/MOT17-train/jde_m/vehicle_detailed.csv\"\n",
    "pred = pd.read_csv(path) \n",
    "pred.drop(pred.tail(1).index,inplace=True)\n",
    "filtered = pred[[\"seq\", \"HOTA___AUC\"]]"
   ]
  },
  {
   "cell_type": "code",
   "execution_count": 21,
   "id": "3e7d8fe0",
   "metadata": {},
   "outputs": [
    {
     "name": "stdout",
     "output_type": "stream",
     "text": [
      "Easy HOTA =  49.99\n",
      "Meduim HOTA =  38.66\n",
      "Hard HOTA =  18.01\n",
      "Full = 36.33\n"
     ]
    }
   ],
   "source": [
    "easy = []\n",
    "hard = []\n",
    "medium = []\n",
    "for index, row in filtered.iterrows():\n",
    "    if row[\"seq\"] in GT[\"Easy\"]:\n",
    "        easy.append(row[\"HOTA___AUC\"]*100)\n",
    "    elif row[\"seq\"] in GT[\"Hard\"]:\n",
    "        hard.append(row[\"HOTA___AUC\"]*100)\n",
    "    else:\n",
    "        medium.append(row[\"HOTA___AUC\"]*100)\n",
    "        \n",
    "print(\"Easy HOTA = \", round(Average(easy),2))\n",
    "print(\"Meduim HOTA = \", round(Average(medium),2))      \n",
    "print(\"Hard HOTA = \", round(Average(hard),2))\n",
    "print(\"Full =\", round(Average(easy+medium+hard),2))"
   ]
  },
  {
   "cell_type": "code",
   "execution_count": null,
   "id": "3adfe6e6",
   "metadata": {},
   "outputs": [],
   "source": []
  }
 ],
 "metadata": {
  "kernelspec": {
   "display_name": "env",
   "language": "python",
   "name": "env"
  },
  "language_info": {
   "codemirror_mode": {
    "name": "ipython",
    "version": 3
   },
   "file_extension": ".py",
   "mimetype": "text/x-python",
   "name": "python",
   "nbconvert_exporter": "python",
   "pygments_lexer": "ipython3",
   "version": "3.7.10"
  }
 },
 "nbformat": 4,
 "nbformat_minor": 5
}
