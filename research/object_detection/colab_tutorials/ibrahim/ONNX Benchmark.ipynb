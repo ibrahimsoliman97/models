{
 "cells": [
  {
   "cell_type": "code",
   "execution_count": 1,
   "id": "3eaf8776",
   "metadata": {},
   "outputs": [],
   "source": [
    "%matplotlib inline\n",
    "\n",
    "import numpy as np\n",
    "from PIL import Image, ImageDraw, ImageColor\n",
    "import math\n",
    "import matplotlib.pyplot as plt\n",
    "import onnxruntime as rt\n",
    "import time\n",
    "import importlib\n",
    "import os\n",
    "from tqdm import notebook\n",
    "DETRAC_TEST = '/home/ubuntu/ibrahim/master/datasets/Insight-MVT_Annotation_Test'\n",
    "th = 0.5"
   ]
  },
  {
   "cell_type": "code",
   "execution_count": 2,
   "id": "0ead16c1",
   "metadata": {},
   "outputs": [],
   "source": [
    "os.chdir(os.path.abspath('/home/ubuntu/ibrahim/master/models/research/'))"
   ]
  },
  {
   "cell_type": "markdown",
   "id": "81332d52",
   "metadata": {},
   "source": [
    "## SORT"
   ]
  },
  {
   "cell_type": "code",
   "execution_count": 3,
   "id": "d0d22ad9",
   "metadata": {},
   "outputs": [],
   "source": [
    "models = [(\"retina_sort\",\"/home/ubuntu/ibrahim/master/training/ssd_resnet/base/saved_model/\")]\n",
    "to_path=[\"/home/ubuntu/ibrahim/master/results/\",\"/MOT17-train/data/data/\"]"
   ]
  },
  {
   "cell_type": "code",
   "execution_count": 4,
   "id": "2f9bfb1e",
   "metadata": {},
   "outputs": [
    {
     "data": {
      "application/vnd.jupyter.widget-view+json": {
       "model_id": "10f0bd6db983443c9b69ef6049b8fa00",
       "version_major": 2,
       "version_minor": 0
      },
      "text/plain": [
       "  0%|          | 0/40 [00:00<?, ?it/s]"
      ]
     },
     "metadata": {},
     "output_type": "display_data"
    },
    {
     "data": {
      "application/vnd.jupyter.widget-view+json": {
       "model_id": "e10f02c970a949c0badc49cd1f8627af",
       "version_major": 2,
       "version_minor": 0
      },
      "text/plain": [
       "  0%|          | 0/1470 [00:00<?, ?it/s]"
      ]
     },
     "metadata": {},
     "output_type": "display_data"
    },
    {
     "name": "stdout",
     "output_type": "stream",
     "text": [
      "Elapsed time: MVI_39031 : 232.4742485876797 millisecond per image\n",
      "FPS: MVI_39031 :  4.301551703361421\n"
     ]
    },
    {
     "data": {
      "application/vnd.jupyter.widget-view+json": {
       "model_id": "9b4860d0decc4529a8d955b5b0a0d2ac",
       "version_major": 2,
       "version_minor": 0
      },
      "text/plain": [
       "  0%|          | 0/1120 [00:00<?, ?it/s]"
      ]
     },
     "metadata": {},
     "output_type": "display_data"
    },
    {
     "name": "stdout",
     "output_type": "stream",
     "text": [
      "Elapsed time: MVI_39051 : 235.6701563511576 millisecond per image\n",
      "FPS: MVI_39051 :  4.2432186386381545\n"
     ]
    },
    {
     "data": {
      "application/vnd.jupyter.widget-view+json": {
       "model_id": "70736be4ae1543a989a66b9fa39060d0",
       "version_major": 2,
       "version_minor": 0
      },
      "text/plain": [
       "  0%|          | 0/1660 [00:00<?, ?it/s]"
      ]
     },
     "metadata": {},
     "output_type": "display_data"
    },
    {
     "name": "stdout",
     "output_type": "stream",
     "text": [
      "Elapsed time: MVI_39211 : 233.56527937463966 millisecond per image\n",
      "FPS: MVI_39211 :  4.281458283001028\n"
     ]
    },
    {
     "data": {
      "application/vnd.jupyter.widget-view+json": {
       "model_id": "612fc13043c34890a819d8d7ef473f5e",
       "version_major": 2,
       "version_minor": 0
      },
      "text/plain": [
       "  0%|          | 0/1570 [00:00<?, ?it/s]"
      ]
     },
     "metadata": {},
     "output_type": "display_data"
    },
    {
     "name": "stdout",
     "output_type": "stream",
     "text": [
      "Elapsed time: MVI_39271 : 237.05452627437128 millisecond per image\n",
      "FPS: MVI_39271 :  4.218438752114699\n"
     ]
    },
    {
     "data": {
      "application/vnd.jupyter.widget-view+json": {
       "model_id": "c5aaf1ddc54f41018b2ebf0ccb314e05",
       "version_major": 2,
       "version_minor": 0
      },
      "text/plain": [
       "  0%|          | 0/1505 [00:00<?, ?it/s]"
      ]
     },
     "metadata": {},
     "output_type": "display_data"
    },
    {
     "name": "stdout",
     "output_type": "stream",
     "text": [
      "Elapsed time: MVI_39311 : 235.04748993933794 millisecond per image\n",
      "FPS: MVI_39311 :  4.254459387156546\n"
     ]
    },
    {
     "data": {
      "application/vnd.jupyter.widget-view+json": {
       "model_id": "bd5cc1ae890f45bfac0f072c39efd288",
       "version_major": 2,
       "version_minor": 0
      },
      "text/plain": [
       "  0%|          | 0/2030 [00:00<?, ?it/s]"
      ]
     },
     "metadata": {},
     "output_type": "display_data"
    },
    {
     "name": "stdout",
     "output_type": "stream",
     "text": [
      "Elapsed time: MVI_39361 : 226.28597320594224 millisecond per image\n",
      "FPS: MVI_39361 :  4.419186862677974\n"
     ]
    },
    {
     "data": {
      "application/vnd.jupyter.widget-view+json": {
       "model_id": "50d21ddfd52c4c62b42d72a26c5a0841",
       "version_major": 2,
       "version_minor": 0
      },
      "text/plain": [
       "  0%|          | 0/1390 [00:00<?, ?it/s]"
      ]
     },
     "metadata": {},
     "output_type": "display_data"
    },
    {
     "name": "stdout",
     "output_type": "stream",
     "text": [
      "Elapsed time: MVI_39371 : 227.32677168125727 millisecond per image\n",
      "FPS: MVI_39371 :  4.398953948996973\n"
     ]
    },
    {
     "data": {
      "application/vnd.jupyter.widget-view+json": {
       "model_id": "540ed4e69abf43769dd9e2b77db7400b",
       "version_major": 2,
       "version_minor": 0
      },
      "text/plain": [
       "  0%|          | 0/1385 [00:00<?, ?it/s]"
      ]
     },
     "metadata": {},
     "output_type": "display_data"
    },
    {
     "name": "stdout",
     "output_type": "stream",
     "text": [
      "Elapsed time: MVI_39401 : 226.01001030271235 millisecond per image\n",
      "FPS: MVI_39401 :  4.424582781358331\n"
     ]
    },
    {
     "data": {
      "application/vnd.jupyter.widget-view+json": {
       "model_id": "bd2986659a234f4d98ba5c6bc3d3d164",
       "version_major": 2,
       "version_minor": 0
      },
      "text/plain": [
       "  0%|          | 0/540 [00:00<?, ?it/s]"
      ]
     },
     "metadata": {},
     "output_type": "display_data"
    },
    {
     "name": "stdout",
     "output_type": "stream",
     "text": [
      "Elapsed time: MVI_39501 : 227.48470527154427 millisecond per image\n",
      "FPS: MVI_39501 :  4.395899930091206\n"
     ]
    },
    {
     "data": {
      "application/vnd.jupyter.widget-view+json": {
       "model_id": "6e598ef481924471a7dd905733fb7b1d",
       "version_major": 2,
       "version_minor": 0
      },
      "text/plain": [
       "  0%|          | 0/380 [00:00<?, ?it/s]"
      ]
     },
     "metadata": {},
     "output_type": "display_data"
    },
    {
     "name": "stdout",
     "output_type": "stream",
     "text": [
      "Elapsed time: MVI_39511 : 225.67655914708186 millisecond per image\n",
      "FPS: MVI_39511 :  4.431120377674061\n"
     ]
    },
    {
     "data": {
      "application/vnd.jupyter.widget-view+json": {
       "model_id": "1588a9a98c9047558b44ac03790def09",
       "version_major": 2,
       "version_minor": 0
      },
      "text/plain": [
       "  0%|          | 0/1130 [00:00<?, ?it/s]"
      ]
     },
     "metadata": {},
     "output_type": "display_data"
    },
    {
     "name": "stdout",
     "output_type": "stream",
     "text": [
      "Elapsed time: MVI_40701 : 226.94289958582513 millisecond per image\n",
      "FPS: MVI_40701 :  4.406394744338853\n"
     ]
    },
    {
     "data": {
      "application/vnd.jupyter.widget-view+json": {
       "model_id": "b8b3cfce391741b6829d2a027b8ebe45",
       "version_major": 2,
       "version_minor": 0
      },
      "text/plain": [
       "  0%|          | 0/1030 [00:00<?, ?it/s]"
      ]
     },
     "metadata": {},
     "output_type": "display_data"
    },
    {
     "name": "stdout",
     "output_type": "stream",
     "text": [
      "Elapsed time: MVI_40711 : 224.06073519327109 millisecond per image\n",
      "FPS: MVI_40711 :  4.463075599289704\n"
     ]
    },
    {
     "data": {
      "application/vnd.jupyter.widget-view+json": {
       "model_id": "d0f8bbb226af4adfbc58157880a0e129",
       "version_major": 2,
       "version_minor": 0
      },
      "text/plain": [
       "  0%|          | 0/2400 [00:00<?, ?it/s]"
      ]
     },
     "metadata": {},
     "output_type": "display_data"
    },
    {
     "name": "stdout",
     "output_type": "stream",
     "text": [
      "Elapsed time: MVI_40712 : 223.70815763870874 millisecond per image\n",
      "FPS: MVI_40712 :  4.470109675727658\n"
     ]
    },
    {
     "data": {
      "application/vnd.jupyter.widget-view+json": {
       "model_id": "1eb6de7fb7094b4ba9776e0a915e096c",
       "version_major": 2,
       "version_minor": 0
      },
      "text/plain": [
       "  0%|          | 0/1180 [00:00<?, ?it/s]"
      ]
     },
     "metadata": {},
     "output_type": "display_data"
    },
    {
     "name": "stdout",
     "output_type": "stream",
     "text": [
      "Elapsed time: MVI_40714 : 224.5009971877276 millisecond per image\n",
      "FPS: MVI_40714 :  4.454323199125039\n"
     ]
    },
    {
     "data": {
      "application/vnd.jupyter.widget-view+json": {
       "model_id": "dc29ae2551684204871aa1343233f33f",
       "version_major": 2,
       "version_minor": 0
      },
      "text/plain": [
       "  0%|          | 0/1655 [00:00<?, ?it/s]"
      ]
     },
     "metadata": {},
     "output_type": "display_data"
    },
    {
     "name": "stdout",
     "output_type": "stream",
     "text": [
      "Elapsed time: MVI_40742 : 226.7845633526943 millisecond per image\n",
      "FPS: MVI_40742 :  4.409471196876855\n"
     ]
    },
    {
     "data": {
      "application/vnd.jupyter.widget-view+json": {
       "model_id": "4b4ba8f2561447cb9ddb36e015c3162a",
       "version_major": 2,
       "version_minor": 0
      },
      "text/plain": [
       "  0%|          | 0/1630 [00:00<?, ?it/s]"
      ]
     },
     "metadata": {},
     "output_type": "display_data"
    },
    {
     "name": "stdout",
     "output_type": "stream",
     "text": [
      "Elapsed time: MVI_40743 : 227.30638044743452 millisecond per image\n",
      "FPS: MVI_40743 :  4.399348570997346\n"
     ]
    },
    {
     "data": {
      "application/vnd.jupyter.widget-view+json": {
       "model_id": "8d298d13043244e0a6b93f1e75c03b14",
       "version_major": 2,
       "version_minor": 0
      },
      "text/plain": [
       "  0%|          | 0/2030 [00:00<?, ?it/s]"
      ]
     },
     "metadata": {},
     "output_type": "display_data"
    },
    {
     "name": "stdout",
     "output_type": "stream",
     "text": [
      "Elapsed time: MVI_40761 : 229.10221762257842 millisecond per image\n",
      "FPS: MVI_40761 :  4.364863903881514\n"
     ]
    },
    {
     "data": {
      "application/vnd.jupyter.widget-view+json": {
       "model_id": "7c2cb3e48b274d3695ae02dfe0ce9206",
       "version_major": 2,
       "version_minor": 0
      },
      "text/plain": [
       "  0%|          | 0/1825 [00:00<?, ?it/s]"
      ]
     },
     "metadata": {},
     "output_type": "display_data"
    },
    {
     "name": "stdout",
     "output_type": "stream",
     "text": [
      "Elapsed time: MVI_40762 : 227.05847844685596 millisecond per image\n",
      "FPS: MVI_40762 :  4.404151771122057\n"
     ]
    },
    {
     "data": {
      "application/vnd.jupyter.widget-view+json": {
       "model_id": "4207bae5d2c14cdeacaaa90772c5273f",
       "version_major": 2,
       "version_minor": 0
      },
      "text/plain": [
       "  0%|          | 0/1745 [00:00<?, ?it/s]"
      ]
     },
     "metadata": {},
     "output_type": "display_data"
    },
    {
     "name": "stdout",
     "output_type": "stream",
     "text": [
      "Elapsed time: MVI_40763 : 228.7884408901619 millisecond per image\n",
      "FPS: MVI_40763 :  4.370850188537654\n"
     ]
    },
    {
     "data": {
      "application/vnd.jupyter.widget-view+json": {
       "model_id": "e975361524f743f996a7c0b69a4d7e1f",
       "version_major": 2,
       "version_minor": 0
      },
      "text/plain": [
       "  0%|          | 0/1720 [00:00<?, ?it/s]"
      ]
     },
     "metadata": {},
     "output_type": "display_data"
    },
    {
     "name": "stdout",
     "output_type": "stream",
     "text": [
      "Elapsed time: MVI_40771 : 225.33892711927726 millisecond per image\n",
      "FPS: MVI_40771 :  4.437759657347956\n"
     ]
    },
    {
     "data": {
      "application/vnd.jupyter.widget-view+json": {
       "model_id": "d1e8523c3db0423a897c86b9287ecc50",
       "version_major": 2,
       "version_minor": 0
      },
      "text/plain": [
       "  0%|          | 0/1200 [00:00<?, ?it/s]"
      ]
     },
     "metadata": {},
     "output_type": "display_data"
    },
    {
     "name": "stdout",
     "output_type": "stream",
     "text": [
      "Elapsed time: MVI_40772 : 225.3710772593816 millisecond per image\n",
      "FPS: MVI_40772 :  4.437126592109648\n"
     ]
    },
    {
     "data": {
      "application/vnd.jupyter.widget-view+json": {
       "model_id": "931a52813b404002bfd90604315c71ad",
       "version_major": 2,
       "version_minor": 0
      },
      "text/plain": [
       "  0%|          | 0/985 [00:00<?, ?it/s]"
      ]
     },
     "metadata": {},
     "output_type": "display_data"
    },
    {
     "name": "stdout",
     "output_type": "stream",
     "text": [
      "Elapsed time: MVI_40773 : 224.8374028859405 millisecond per image\n",
      "FPS: MVI_40773 :  4.447658561984448\n"
     ]
    },
    {
     "data": {
      "application/vnd.jupyter.widget-view+json": {
       "model_id": "ae462792c39a4be1894c5cac487899bf",
       "version_major": 2,
       "version_minor": 0
      },
      "text/plain": [
       "  0%|          | 0/950 [00:00<?, ?it/s]"
      ]
     },
     "metadata": {},
     "output_type": "display_data"
    },
    {
     "name": "stdout",
     "output_type": "stream",
     "text": [
      "Elapsed time: MVI_40774 : 225.87330767982886 millisecond per image\n",
      "FPS: MVI_40774 :  4.427260619114327\n"
     ]
    },
    {
     "data": {
      "application/vnd.jupyter.widget-view+json": {
       "model_id": "0806b5feafcb4e62a76932e9c0f39aaf",
       "version_major": 2,
       "version_minor": 0
      },
      "text/plain": [
       "  0%|          | 0/975 [00:00<?, ?it/s]"
      ]
     },
     "metadata": {},
     "output_type": "display_data"
    },
    {
     "name": "stdout",
     "output_type": "stream",
     "text": [
      "Elapsed time: MVI_40775 : 224.91202378884338 millisecond per image\n",
      "FPS: MVI_40775 :  4.446182925901911\n"
     ]
    },
    {
     "data": {
      "application/vnd.jupyter.widget-view+json": {
       "model_id": "aa19f5a8d74f4c9381ca459e4138be66",
       "version_major": 2,
       "version_minor": 0
      },
      "text/plain": [
       "  0%|          | 0/1810 [00:00<?, ?it/s]"
      ]
     },
     "metadata": {},
     "output_type": "display_data"
    },
    {
     "name": "stdout",
     "output_type": "stream",
     "text": [
      "Elapsed time: MVI_40792 : 225.72117958279605 millisecond per image\n",
      "FPS: MVI_40792 :  4.430244436292223\n"
     ]
    },
    {
     "data": {
      "application/vnd.jupyter.widget-view+json": {
       "model_id": "6576a1b687354b5a9ea0fc0e6c1d66d4",
       "version_major": 2,
       "version_minor": 0
      },
      "text/plain": [
       "  0%|          | 0/1960 [00:00<?, ?it/s]"
      ]
     },
     "metadata": {},
     "output_type": "display_data"
    },
    {
     "name": "stdout",
     "output_type": "stream",
     "text": [
      "Elapsed time: MVI_40793 : 226.41315119607108 millisecond per image\n",
      "FPS: MVI_40793 :  4.416704571785284\n"
     ]
    },
    {
     "data": {
      "application/vnd.jupyter.widget-view+json": {
       "model_id": "dcbc39362f2448bebebdccb810666676",
       "version_major": 2,
       "version_minor": 0
      },
      "text/plain": [
       "  0%|          | 0/1140 [00:00<?, ?it/s]"
      ]
     },
     "metadata": {},
     "output_type": "display_data"
    },
    {
     "name": "stdout",
     "output_type": "stream",
     "text": [
      "Elapsed time: MVI_40851 : 229.0149025749742 millisecond per image\n",
      "FPS: MVI_40851 :  4.366528067633603\n"
     ]
    },
    {
     "data": {
      "application/vnd.jupyter.widget-view+json": {
       "model_id": "0a8f325fb64046d79cad3366ef7e0c30",
       "version_major": 2,
       "version_minor": 0
      },
      "text/plain": [
       "  0%|          | 0/1150 [00:00<?, ?it/s]"
      ]
     },
     "metadata": {},
     "output_type": "display_data"
    },
    {
     "name": "stdout",
     "output_type": "stream",
     "text": [
      "Elapsed time: MVI_40852 : 228.75494438668954 millisecond per image\n",
      "FPS: MVI_40852 :  4.371490210544216\n"
     ]
    },
    {
     "data": {
      "application/vnd.jupyter.widget-view+json": {
       "model_id": "a827b566258d44e0a9569a0af93db7d8",
       "version_major": 2,
       "version_minor": 0
      },
      "text/plain": [
       "  0%|          | 0/1590 [00:00<?, ?it/s]"
      ]
     },
     "metadata": {},
     "output_type": "display_data"
    },
    {
     "name": "stdout",
     "output_type": "stream",
     "text": [
      "Elapsed time: MVI_40853 : 229.06982193952834 millisecond per image\n",
      "FPS: MVI_40853 :  4.365481194917015\n"
     ]
    },
    {
     "data": {
      "application/vnd.jupyter.widget-view+json": {
       "model_id": "e201a52883e24af09d01a141ed39e71c",
       "version_major": 2,
       "version_minor": 0
      },
      "text/plain": [
       "  0%|          | 0/1195 [00:00<?, ?it/s]"
      ]
     },
     "metadata": {},
     "output_type": "display_data"
    },
    {
     "name": "stdout",
     "output_type": "stream",
     "text": [
      "Elapsed time: MVI_40854 : 228.75611991563102 millisecond per image\n",
      "FPS: MVI_40854 :  4.371467746387796\n"
     ]
    },
    {
     "data": {
      "application/vnd.jupyter.widget-view+json": {
       "model_id": "77fbff01073f4f6c8135528b97686655",
       "version_major": 2,
       "version_minor": 0
      },
      "text/plain": [
       "  0%|          | 0/1090 [00:00<?, ?it/s]"
      ]
     },
     "metadata": {},
     "output_type": "display_data"
    },
    {
     "name": "stdout",
     "output_type": "stream",
     "text": [
      "Elapsed time: MVI_40855 : 227.52781898603527 millisecond per image\n",
      "FPS: MVI_40855 :  4.3950669612904605\n"
     ]
    },
    {
     "data": {
      "application/vnd.jupyter.widget-view+json": {
       "model_id": "2b7d7bcd20bb4efabaa81316370e8c53",
       "version_major": 2,
       "version_minor": 0
      },
      "text/plain": [
       "  0%|          | 0/1670 [00:00<?, ?it/s]"
      ]
     },
     "metadata": {},
     "output_type": "display_data"
    },
    {
     "name": "stdout",
     "output_type": "stream",
     "text": [
      "Elapsed time: MVI_40863 : 229.34910465857226 millisecond per image\n",
      "FPS: MVI_40863 :  4.360165266346609\n"
     ]
    },
    {
     "data": {
      "application/vnd.jupyter.widget-view+json": {
       "model_id": "1f068ea16da24a358ac0ef3f9821f893",
       "version_major": 2,
       "version_minor": 0
      },
      "text/plain": [
       "  0%|          | 0/1515 [00:00<?, ?it/s]"
      ]
     },
     "metadata": {},
     "output_type": "display_data"
    },
    {
     "name": "stdout",
     "output_type": "stream",
     "text": [
      "Elapsed time: MVI_40864 : 227.57200990179587 millisecond per image\n",
      "FPS: MVI_40864 :  4.394213508205732\n"
     ]
    },
    {
     "data": {
      "application/vnd.jupyter.widget-view+json": {
       "model_id": "270fcb74508e4b59bc6a38c095ef04d3",
       "version_major": 2,
       "version_minor": 0
      },
      "text/plain": [
       "  0%|          | 0/1545 [00:00<?, ?it/s]"
      ]
     },
     "metadata": {},
     "output_type": "display_data"
    },
    {
     "name": "stdout",
     "output_type": "stream",
     "text": [
      "Elapsed time: MVI_40891 : 226.19724690335468 millisecond per image\n",
      "FPS: MVI_40891 :  4.420920297174356\n"
     ]
    },
    {
     "data": {
      "application/vnd.jupyter.widget-view+json": {
       "model_id": "27e6f58986a84944a9581cdea5e0cda7",
       "version_major": 2,
       "version_minor": 0
      },
      "text/plain": [
       "  0%|          | 0/1790 [00:00<?, ?it/s]"
      ]
     },
     "metadata": {},
     "output_type": "display_data"
    },
    {
     "name": "stdout",
     "output_type": "stream",
     "text": [
      "Elapsed time: MVI_40892 : 225.59352933361544 millisecond per image\n",
      "FPS: MVI_40892 :  4.432751253787806\n"
     ]
    },
    {
     "data": {
      "application/vnd.jupyter.widget-view+json": {
       "model_id": "06a8f89388934af0a9a796a3d9791308",
       "version_major": 2,
       "version_minor": 0
      },
      "text/plain": [
       "  0%|          | 0/1335 [00:00<?, ?it/s]"
      ]
     },
     "metadata": {},
     "output_type": "display_data"
    },
    {
     "name": "stdout",
     "output_type": "stream",
     "text": [
      "Elapsed time: MVI_40901 : 229.45464577121237 millisecond per image\n",
      "FPS: MVI_40901 :  4.358159742806398\n"
     ]
    },
    {
     "data": {
      "application/vnd.jupyter.widget-view+json": {
       "model_id": "73e3fa895b5b421598a59e580207a308",
       "version_major": 2,
       "version_minor": 0
      },
      "text/plain": [
       "  0%|          | 0/1005 [00:00<?, ?it/s]"
      ]
     },
     "metadata": {},
     "output_type": "display_data"
    },
    {
     "name": "stdout",
     "output_type": "stream",
     "text": [
      "Elapsed time: MVI_40902 : 229.6229974547429 millisecond per image\n",
      "FPS: MVI_40902 :  4.354964489987956\n"
     ]
    },
    {
     "data": {
      "application/vnd.jupyter.widget-view+json": {
       "model_id": "43988119949d4f16bacb31420826e64b",
       "version_major": 2,
       "version_minor": 0
      },
      "text/plain": [
       "  0%|          | 0/1060 [00:00<?, ?it/s]"
      ]
     },
     "metadata": {},
     "output_type": "display_data"
    },
    {
     "name": "stdout",
     "output_type": "stream",
     "text": [
      "Elapsed time: MVI_40903 : 228.72521067565344 millisecond per image\n",
      "FPS: MVI_40903 :  4.37205849344724\n"
     ]
    },
    {
     "data": {
      "application/vnd.jupyter.widget-view+json": {
       "model_id": "a6bd1ea8938d4c6ab843d4d1a0ab2f50",
       "version_major": 2,
       "version_minor": 0
      },
      "text/plain": [
       "  0%|          | 0/1270 [00:00<?, ?it/s]"
      ]
     },
     "metadata": {},
     "output_type": "display_data"
    },
    {
     "name": "stdout",
     "output_type": "stream",
     "text": [
      "Elapsed time: MVI_40904 : 228.85465096300982 millisecond per image\n",
      "FPS: MVI_40904 :  4.369585655314612\n"
     ]
    },
    {
     "data": {
      "application/vnd.jupyter.widget-view+json": {
       "model_id": "a80d6137f5a94f5c934e2053e1a169a2",
       "version_major": 2,
       "version_minor": 0
      },
      "text/plain": [
       "  0%|          | 0/1710 [00:00<?, ?it/s]"
      ]
     },
     "metadata": {},
     "output_type": "display_data"
    },
    {
     "name": "stdout",
     "output_type": "stream",
     "text": [
      "Elapsed time: MVI_40905 : 227.37476574747186 millisecond per image\n",
      "FPS: MVI_40905 :  4.398025421653981\n"
     ]
    }
   ],
   "source": [
    "import research.object_detection.tracking.sort.sort\n",
    "from research.object_detection.tracking.sort.sort import Sort\n",
    "\n",
    "model_name, model_path = models[0]\n",
    "path_write = to_path[0]+ model_name+ to_path[1]\n",
    "if not os.path.exists(path_write):\n",
    "    os.makedirs(path_write)\n",
    "sess = rt.InferenceSession(os.path.join(model_path, \"model.onnx\"),  providers=['CUDAExecutionProvider'])\n",
    "outputs = [\"num_detections\", \"detection_boxes\", \"detection_scores\", \"detection_classes\"]\n",
    "\n",
    "for directory in notebook.tqdm(sorted(os.listdir(DETRAC_TEST))):\n",
    "    elapsed = []\n",
    "    if os.path.isdir(os.path.join(DETRAC_TEST, directory)):\n",
    "        importlib.reload(research.object_detection.tracking.sort.sort)\n",
    "        mot_tracker= Sort()\n",
    "        prediticon_file = open(os.path.join(path_write, directory + \".txt\"), \"w\")\n",
    "        prediticon_np = open(os.path.join(path_write, directory + \".npy\"), \"wb\")\n",
    "        for image in notebook.tqdm(sorted(os.listdir(os.path.join(DETRAC_TEST, directory)))):\n",
    "            image_path = os.path.join(DETRAC_TEST, directory, image)\n",
    "            frame_no = int(image.replace('img', '').replace('.jpg', ''))\n",
    "            img = Image.open(image_path)\n",
    "            image_np = np.asarray(img).reshape(img.size[1], img.size[0], 3)\n",
    "            height, width, _ = image_np.shape\n",
    "            input_tensor = np.expand_dims(image_np.astype(np.uint8), axis=0)\n",
    "            start_time = time.time()\n",
    "            result = sess.run(outputs, {\"input_tensor\": input_tensor})\n",
    "            end_time = time.time()\n",
    "            elapsed.append(end_time - start_time)\n",
    "            num_detections, boxes, scores, classes = result[0][0], result[1][0], result[2][0], result[3][0]\n",
    "            det = []\n",
    "            for f in range(boxes.shape[0]):\n",
    "                box = boxes[f]\n",
    "                if scores[f] > th:\n",
    "                    box_top = int(box[0] * height)\n",
    "                    box_left = int(box[1] * width)\n",
    "                    box_bottom = int(box[2] * height)\n",
    "                    box_right = int(box[3] * width)\n",
    "                    det.append([box_left, box_top, box_right, box_bottom, scores[f], classes[f]])\n",
    "            np.save(prediticon_np, det)\n",
    "            if det:\n",
    "                track_bbs_ids = mot_tracker.update(np.array(det))\n",
    "            else:\n",
    "                track_bbs_ids = mot_tracker.update()\n",
    "            for track_pred in track_bbs_ids:\n",
    "                bb_w = track_pred[2] - track_pred[0]\n",
    "                bb_h = track_pred[3] - track_pred[1]\n",
    "                prediticon_file.write(f'{frame_no}, {int(track_pred[4])}, {track_pred[0]:.2f}, {track_pred[1]:.2f}, {bb_w:.2f}, {bb_h:.2f}, 1, -1, -1, -1 \\n')\n",
    "        prediticon_file.close()\n",
    "        prediticon_np.close()\n",
    "        mean_elapsed = sum(elapsed) / float(len(elapsed))\n",
    "        print('Elapsed time: ' +directory+\" : \"+ str(mean_elapsed*1000) + ' millisecond per image')\n",
    "        print(\"FPS: \" +directory+\" : \", 1.0 / mean_elapsed)"
   ]
  },
  {
   "cell_type": "markdown",
   "id": "8abf4ea9",
   "metadata": {},
   "source": [
    "## DeepSORT"
   ]
  },
  {
   "cell_type": "code",
   "execution_count": 5,
   "id": "e4200b5b",
   "metadata": {},
   "outputs": [],
   "source": [
    "models = [(\"retina_deepsort\",\"/home/ubuntu/ibrahim/master/training/ssd_resnet/base/saved_model/\")]\n",
    "to_path=[\"/home/ubuntu/ibrahim/master/results/\",\"/MOT17-train/data/data/\"]"
   ]
  },
  {
   "cell_type": "code",
   "execution_count": 6,
   "id": "a402b7c1",
   "metadata": {},
   "outputs": [
    {
     "name": "stderr",
     "output_type": "stream",
     "text": [
      "2022-02-21 06:07:32.202568: I tensorflow/core/platform/cpu_feature_guard.cc:151] This TensorFlow binary is optimized with oneAPI Deep Neural Network Library (oneDNN) to use the following CPU instructions in performance-critical operations:  AVX2 FMA\n",
      "To enable them in other operations, rebuild TensorFlow with the appropriate compiler flags.\n",
      "2022-02-21 06:07:32.672358: I tensorflow/core/common_runtime/gpu/gpu_device.cc:1525] Created device /job:localhost/replica:0/task:0/device:GPU:0 with 8822 MB memory:  -> device: 0, name: NVIDIA GeForce GTX 1080 Ti, pci bus id: 0000:02:00.0, compute capability: 6.1\n"
     ]
    }
   ],
   "source": [
    "from research.object_detection.tracking.deep_sort.deep_sort import nn_matching\n",
    "from research.object_detection.tracking.deep_sort.deep_sort.detection import Detection\n",
    "import research.object_detection.tracking.deep_sort.deep_sort.tracker\n",
    "from research.object_detection.tracking.deep_sort.deep_sort.tracker import Tracker\n",
    "from research.object_detection.tracking.deep_sort.tools import generate_detections as gdet\n",
    "import os\n",
    "#os.environ['CUDA_VISIBLE_DEVICES'] = '-1'\n",
    "model_filename= '/home/ubuntu/ibrahim/master/deep_sort/cosine_metric_learning/output/detrac/cosine-softmax/detrac.pb'\n",
    "#model_filename= '/home/ubuntu/ibrahim/master/models/research/object_detection/tracking/deep_sort/mars-small128.pb'\n",
    "encoder = gdet.create_box_encoder(model_filename,batch_size=1)"
   ]
  },
  {
   "cell_type": "code",
   "execution_count": 7,
   "id": "fb90fdb1",
   "metadata": {},
   "outputs": [
    {
     "data": {
      "application/vnd.jupyter.widget-view+json": {
       "model_id": "560442c90cfd4625a3f0c973570a44b1",
       "version_major": 2,
       "version_minor": 0
      },
      "text/plain": [
       "  0%|          | 0/40 [00:00<?, ?it/s]"
      ]
     },
     "metadata": {},
     "output_type": "display_data"
    },
    {
     "data": {
      "application/vnd.jupyter.widget-view+json": {
       "model_id": "41488ab5b64c4d4692fbab6fd3b63cca",
       "version_major": 2,
       "version_minor": 0
      },
      "text/plain": [
       "  0%|          | 0/1470 [00:00<?, ?it/s]"
      ]
     },
     "metadata": {},
     "output_type": "display_data"
    },
    {
     "name": "stderr",
     "output_type": "stream",
     "text": [
      "2022-02-21 06:07:34.450432: I tensorflow/stream_executor/cuda/cuda_dnn.cc:366] Loaded cuDNN version 8302\n",
      "2022-02-21 06:07:34.530317: W tensorflow/stream_executor/gpu/asm_compiler.cc:111] *** WARNING *** You are using ptxas 11.0.221, which is older than 11.1. ptxas before 11.1 is known to miscompile XLA code, leading to incorrect results or invalid-address errors.\n",
      "\n",
      "You may not need to update to CUDA 11.1; cherry-picking the ptxas binary is often sufficient.\n"
     ]
    },
    {
     "name": "stdout",
     "output_type": "stream",
     "text": [
      "Elapsed time: MVI_39031 : 229.62772732689268 millisecond per image\n",
      "FPS: MVI_39031 :  4.3548747864251744\n"
     ]
    },
    {
     "data": {
      "application/vnd.jupyter.widget-view+json": {
       "model_id": "ad800eba2f934850bfe0c2d71b6a1255",
       "version_major": 2,
       "version_minor": 0
      },
      "text/plain": [
       "  0%|          | 0/1120 [00:00<?, ?it/s]"
      ]
     },
     "metadata": {},
     "output_type": "display_data"
    },
    {
     "name": "stdout",
     "output_type": "stream",
     "text": [
      "Elapsed time: MVI_39051 : 233.4619241101401 millisecond per image\n",
      "FPS: MVI_39051 :  4.283353715221806\n"
     ]
    },
    {
     "data": {
      "application/vnd.jupyter.widget-view+json": {
       "model_id": "05a4d3a107a14a5586b60dd6e78a9205",
       "version_major": 2,
       "version_minor": 0
      },
      "text/plain": [
       "  0%|          | 0/1660 [00:00<?, ?it/s]"
      ]
     },
     "metadata": {},
     "output_type": "display_data"
    },
    {
     "name": "stdout",
     "output_type": "stream",
     "text": [
      "Elapsed time: MVI_39211 : 232.3059777179396 millisecond per image\n",
      "FPS: MVI_39211 :  4.304667532981765\n"
     ]
    },
    {
     "data": {
      "application/vnd.jupyter.widget-view+json": {
       "model_id": "1093b09ac8d4475d8c8ed62f8daca5d1",
       "version_major": 2,
       "version_minor": 0
      },
      "text/plain": [
       "  0%|          | 0/1570 [00:00<?, ?it/s]"
      ]
     },
     "metadata": {},
     "output_type": "display_data"
    },
    {
     "name": "stdout",
     "output_type": "stream",
     "text": [
      "Elapsed time: MVI_39271 : 234.02203951671623 millisecond per image\n",
      "FPS: MVI_39271 :  4.273101807270463\n"
     ]
    },
    {
     "data": {
      "application/vnd.jupyter.widget-view+json": {
       "model_id": "0be644e0d1fb49d098e25133227f1429",
       "version_major": 2,
       "version_minor": 0
      },
      "text/plain": [
       "  0%|          | 0/1505 [00:00<?, ?it/s]"
      ]
     },
     "metadata": {},
     "output_type": "display_data"
    },
    {
     "name": "stdout",
     "output_type": "stream",
     "text": [
      "Elapsed time: MVI_39311 : 224.17695229235676 millisecond per image\n",
      "FPS: MVI_39311 :  4.4607618659025485\n"
     ]
    },
    {
     "data": {
      "application/vnd.jupyter.widget-view+json": {
       "model_id": "51bf452110844fbf8b4c40c341f38535",
       "version_major": 2,
       "version_minor": 0
      },
      "text/plain": [
       "  0%|          | 0/2030 [00:00<?, ?it/s]"
      ]
     },
     "metadata": {},
     "output_type": "display_data"
    },
    {
     "name": "stdout",
     "output_type": "stream",
     "text": [
      "Elapsed time: MVI_39361 : 228.33886498888137 millisecond per image\n",
      "FPS: MVI_39361 :  4.379455946094387\n"
     ]
    },
    {
     "data": {
      "application/vnd.jupyter.widget-view+json": {
       "model_id": "4dc143e1253347aaabcbfac03cc4c4d6",
       "version_major": 2,
       "version_minor": 0
      },
      "text/plain": [
       "  0%|          | 0/1390 [00:00<?, ?it/s]"
      ]
     },
     "metadata": {},
     "output_type": "display_data"
    },
    {
     "name": "stdout",
     "output_type": "stream",
     "text": [
      "Elapsed time: MVI_39371 : 235.1134229907029 millisecond per image\n",
      "FPS: MVI_39371 :  4.253266305597291\n"
     ]
    },
    {
     "data": {
      "application/vnd.jupyter.widget-view+json": {
       "model_id": "3de7f14a4821448f8603f9302688d1c6",
       "version_major": 2,
       "version_minor": 0
      },
      "text/plain": [
       "  0%|          | 0/1385 [00:00<?, ?it/s]"
      ]
     },
     "metadata": {},
     "output_type": "display_data"
    },
    {
     "name": "stdout",
     "output_type": "stream",
     "text": [
      "Elapsed time: MVI_39401 : 225.9251864808561 millisecond per image\n",
      "FPS: MVI_39401 :  4.426243995087885\n"
     ]
    },
    {
     "data": {
      "application/vnd.jupyter.widget-view+json": {
       "model_id": "c27a1fe9b6e24187b9ef3b21932e8c49",
       "version_major": 2,
       "version_minor": 0
      },
      "text/plain": [
       "  0%|          | 0/540 [00:00<?, ?it/s]"
      ]
     },
     "metadata": {},
     "output_type": "display_data"
    },
    {
     "name": "stdout",
     "output_type": "stream",
     "text": [
      "Elapsed time: MVI_39501 : 231.10383616553412 millisecond per image\n",
      "FPS: MVI_39501 :  4.327059284657326\n"
     ]
    },
    {
     "data": {
      "application/vnd.jupyter.widget-view+json": {
       "model_id": "08ffa08757e14721bdf6f7e3ef784192",
       "version_major": 2,
       "version_minor": 0
      },
      "text/plain": [
       "  0%|          | 0/380 [00:00<?, ?it/s]"
      ]
     },
     "metadata": {},
     "output_type": "display_data"
    },
    {
     "name": "stdout",
     "output_type": "stream",
     "text": [
      "Elapsed time: MVI_39511 : 234.86225040335404 millisecond per image\n",
      "FPS: MVI_39511 :  4.257814945920824\n"
     ]
    },
    {
     "data": {
      "application/vnd.jupyter.widget-view+json": {
       "model_id": "d6762a799ab840a79cae218fe2984064",
       "version_major": 2,
       "version_minor": 0
      },
      "text/plain": [
       "  0%|          | 0/1130 [00:00<?, ?it/s]"
      ]
     },
     "metadata": {},
     "output_type": "display_data"
    },
    {
     "name": "stdout",
     "output_type": "stream",
     "text": [
      "Elapsed time: MVI_40701 : 225.25319483427876 millisecond per image\n",
      "FPS: MVI_40701 :  4.43944868677983\n"
     ]
    },
    {
     "data": {
      "application/vnd.jupyter.widget-view+json": {
       "model_id": "915b1b84567c4c028fce4d359e4ebb69",
       "version_major": 2,
       "version_minor": 0
      },
      "text/plain": [
       "  0%|          | 0/1030 [00:00<?, ?it/s]"
      ]
     },
     "metadata": {},
     "output_type": "display_data"
    },
    {
     "name": "stdout",
     "output_type": "stream",
     "text": [
      "Elapsed time: MVI_40711 : 229.17403549823945 millisecond per image\n",
      "FPS: MVI_40711 :  4.3634960558508915\n"
     ]
    },
    {
     "data": {
      "application/vnd.jupyter.widget-view+json": {
       "model_id": "2f99e50887014014829dff36b5b44878",
       "version_major": 2,
       "version_minor": 0
      },
      "text/plain": [
       "  0%|          | 0/2400 [00:00<?, ?it/s]"
      ]
     },
     "metadata": {},
     "output_type": "display_data"
    },
    {
     "name": "stdout",
     "output_type": "stream",
     "text": [
      "Elapsed time: MVI_40712 : 225.88067094484964 millisecond per image\n",
      "FPS: MVI_40712 :  4.427116299137242\n"
     ]
    },
    {
     "data": {
      "application/vnd.jupyter.widget-view+json": {
       "model_id": "145bbd519c77451dbb8b0fd42323e593",
       "version_major": 2,
       "version_minor": 0
      },
      "text/plain": [
       "  0%|          | 0/1180 [00:00<?, ?it/s]"
      ]
     },
     "metadata": {},
     "output_type": "display_data"
    },
    {
     "name": "stdout",
     "output_type": "stream",
     "text": [
      "Elapsed time: MVI_40714 : 217.2021443560972 millisecond per image\n",
      "FPS: MVI_40714 :  4.604006111286481\n"
     ]
    },
    {
     "data": {
      "application/vnd.jupyter.widget-view+json": {
       "model_id": "7b1da76aa448433094b485bce19f5726",
       "version_major": 2,
       "version_minor": 0
      },
      "text/plain": [
       "  0%|          | 0/1655 [00:00<?, ?it/s]"
      ]
     },
     "metadata": {},
     "output_type": "display_data"
    },
    {
     "name": "stdout",
     "output_type": "stream",
     "text": [
      "Elapsed time: MVI_40742 : 226.85430186752825 millisecond per image\n",
      "FPS: MVI_40742 :  4.408115657352404\n"
     ]
    },
    {
     "data": {
      "application/vnd.jupyter.widget-view+json": {
       "model_id": "c5b0b155d85542e98d1c6663dc88fa7a",
       "version_major": 2,
       "version_minor": 0
      },
      "text/plain": [
       "  0%|          | 0/1630 [00:00<?, ?it/s]"
      ]
     },
     "metadata": {},
     "output_type": "display_data"
    },
    {
     "name": "stdout",
     "output_type": "stream",
     "text": [
      "Elapsed time: MVI_40743 : 232.00717206381583 millisecond per image\n",
      "FPS: MVI_40743 :  4.3102115814115445\n"
     ]
    },
    {
     "data": {
      "application/vnd.jupyter.widget-view+json": {
       "model_id": "36cd6526afc146b58bed068c666d1b3f",
       "version_major": 2,
       "version_minor": 0
      },
      "text/plain": [
       "  0%|          | 0/2030 [00:00<?, ?it/s]"
      ]
     },
     "metadata": {},
     "output_type": "display_data"
    },
    {
     "name": "stdout",
     "output_type": "stream",
     "text": [
      "Elapsed time: MVI_40761 : 234.55777638064228 millisecond per image\n",
      "FPS: MVI_40761 :  4.263341916991879\n"
     ]
    },
    {
     "data": {
      "application/vnd.jupyter.widget-view+json": {
       "model_id": "fdee4eaac5644c36ad4169a95a98bdea",
       "version_major": 2,
       "version_minor": 0
      },
      "text/plain": [
       "  0%|          | 0/1825 [00:00<?, ?it/s]"
      ]
     },
     "metadata": {},
     "output_type": "display_data"
    },
    {
     "name": "stdout",
     "output_type": "stream",
     "text": [
      "Elapsed time: MVI_40762 : 234.18586626444775 millisecond per image\n",
      "FPS: MVI_40762 :  4.270112521952022\n"
     ]
    },
    {
     "data": {
      "application/vnd.jupyter.widget-view+json": {
       "model_id": "ef91c9f48be5400f9d65b9f951a5ac4c",
       "version_major": 2,
       "version_minor": 0
      },
      "text/plain": [
       "  0%|          | 0/1745 [00:00<?, ?it/s]"
      ]
     },
     "metadata": {},
     "output_type": "display_data"
    },
    {
     "name": "stdout",
     "output_type": "stream",
     "text": [
      "Elapsed time: MVI_40763 : 231.76192636134633 millisecond per image\n",
      "FPS: MVI_40763 :  4.314772558633607\n"
     ]
    },
    {
     "data": {
      "application/vnd.jupyter.widget-view+json": {
       "model_id": "66544f8a73b74c6c9e20ba5883883447",
       "version_major": 2,
       "version_minor": 0
      },
      "text/plain": [
       "  0%|          | 0/1720 [00:00<?, ?it/s]"
      ]
     },
     "metadata": {},
     "output_type": "display_data"
    },
    {
     "name": "stdout",
     "output_type": "stream",
     "text": [
      "Elapsed time: MVI_40771 : 230.36166096842567 millisecond per image\n",
      "FPS: MVI_40771 :  4.341000129084258\n"
     ]
    },
    {
     "data": {
      "application/vnd.jupyter.widget-view+json": {
       "model_id": "118e71e9b3f9486983d270ad9ddc4641",
       "version_major": 2,
       "version_minor": 0
      },
      "text/plain": [
       "  0%|          | 0/1200 [00:00<?, ?it/s]"
      ]
     },
     "metadata": {},
     "output_type": "display_data"
    },
    {
     "name": "stdout",
     "output_type": "stream",
     "text": [
      "Elapsed time: MVI_40772 : 225.5381123224894 millisecond per image\n",
      "FPS: MVI_40772 :  4.433840425914949\n"
     ]
    },
    {
     "data": {
      "application/vnd.jupyter.widget-view+json": {
       "model_id": "1015118d2c544e5b9a0271927f1e41d6",
       "version_major": 2,
       "version_minor": 0
      },
      "text/plain": [
       "  0%|          | 0/985 [00:00<?, ?it/s]"
      ]
     },
     "metadata": {},
     "output_type": "display_data"
    },
    {
     "name": "stdout",
     "output_type": "stream",
     "text": [
      "Elapsed time: MVI_40773 : 232.39147215325215 millisecond per image\n",
      "FPS: MVI_40773 :  4.303083890017027\n"
     ]
    },
    {
     "data": {
      "application/vnd.jupyter.widget-view+json": {
       "model_id": "7f625356b37f4d8a8c738111044e8c9c",
       "version_major": 2,
       "version_minor": 0
      },
      "text/plain": [
       "  0%|          | 0/950 [00:00<?, ?it/s]"
      ]
     },
     "metadata": {},
     "output_type": "display_data"
    },
    {
     "name": "stdout",
     "output_type": "stream",
     "text": [
      "Elapsed time: MVI_40774 : 232.46081753780967 millisecond per image\n",
      "FPS: MVI_40774 :  4.301800237097378\n"
     ]
    },
    {
     "data": {
      "application/vnd.jupyter.widget-view+json": {
       "model_id": "bcb162ebbc944d9e8e44fd4f2cd2e5fd",
       "version_major": 2,
       "version_minor": 0
      },
      "text/plain": [
       "  0%|          | 0/975 [00:00<?, ?it/s]"
      ]
     },
     "metadata": {},
     "output_type": "display_data"
    },
    {
     "name": "stdout",
     "output_type": "stream",
     "text": [
      "Elapsed time: MVI_40775 : 227.99516604496884 millisecond per image\n",
      "FPS: MVI_40775 :  4.386057903538026\n"
     ]
    },
    {
     "data": {
      "application/vnd.jupyter.widget-view+json": {
       "model_id": "76473cef491d478a976dbd8ae0f65aa3",
       "version_major": 2,
       "version_minor": 0
      },
      "text/plain": [
       "  0%|          | 0/1810 [00:00<?, ?it/s]"
      ]
     },
     "metadata": {},
     "output_type": "display_data"
    },
    {
     "name": "stdout",
     "output_type": "stream",
     "text": [
      "Elapsed time: MVI_40792 : 232.13437104093435 millisecond per image\n",
      "FPS: MVI_40792 :  4.307849783363882\n"
     ]
    },
    {
     "data": {
      "application/vnd.jupyter.widget-view+json": {
       "model_id": "3944d085f39e46bfbdd72d7684676b4e",
       "version_major": 2,
       "version_minor": 0
      },
      "text/plain": [
       "  0%|          | 0/1960 [00:00<?, ?it/s]"
      ]
     },
     "metadata": {},
     "output_type": "display_data"
    },
    {
     "name": "stdout",
     "output_type": "stream",
     "text": [
      "Elapsed time: MVI_40793 : 233.19985452963382 millisecond per image\n",
      "FPS: MVI_40793 :  4.288167340485734\n"
     ]
    },
    {
     "data": {
      "application/vnd.jupyter.widget-view+json": {
       "model_id": "b93ed31eb4ed4f79a22c578d2a34f909",
       "version_major": 2,
       "version_minor": 0
      },
      "text/plain": [
       "  0%|          | 0/1140 [00:00<?, ?it/s]"
      ]
     },
     "metadata": {},
     "output_type": "display_data"
    },
    {
     "name": "stdout",
     "output_type": "stream",
     "text": [
      "Elapsed time: MVI_40851 : 226.91716562237656 millisecond per image\n",
      "FPS: MVI_40851 :  4.406894459734909\n"
     ]
    },
    {
     "data": {
      "application/vnd.jupyter.widget-view+json": {
       "model_id": "9f36aa51b35f431aaf8d0eb73331dd34",
       "version_major": 2,
       "version_minor": 0
      },
      "text/plain": [
       "  0%|          | 0/1150 [00:00<?, ?it/s]"
      ]
     },
     "metadata": {},
     "output_type": "display_data"
    },
    {
     "name": "stdout",
     "output_type": "stream",
     "text": [
      "Elapsed time: MVI_40852 : 224.2501573977263 millisecond per image\n",
      "FPS: MVI_40852 :  4.45930567721483\n"
     ]
    },
    {
     "data": {
      "application/vnd.jupyter.widget-view+json": {
       "model_id": "1f490f32fc364057a7fec69bf78d694e",
       "version_major": 2,
       "version_minor": 0
      },
      "text/plain": [
       "  0%|          | 0/1590 [00:00<?, ?it/s]"
      ]
     },
     "metadata": {},
     "output_type": "display_data"
    },
    {
     "name": "stdout",
     "output_type": "stream",
     "text": [
      "Elapsed time: MVI_40853 : 221.89645767211914 millisecond per image\n",
      "FPS: MVI_40853 :  4.506606416753304\n"
     ]
    },
    {
     "data": {
      "application/vnd.jupyter.widget-view+json": {
       "model_id": "4cdd0355233f4de4b181c536ebe937df",
       "version_major": 2,
       "version_minor": 0
      },
      "text/plain": [
       "  0%|          | 0/1195 [00:00<?, ?it/s]"
      ]
     },
     "metadata": {},
     "output_type": "display_data"
    },
    {
     "name": "stdout",
     "output_type": "stream",
     "text": [
      "Elapsed time: MVI_40854 : 227.69044912011054 millisecond per image\n",
      "FPS: MVI_40854 :  4.391927741652805\n"
     ]
    },
    {
     "data": {
      "application/vnd.jupyter.widget-view+json": {
       "model_id": "414d5acd9c354faebb57070996735da7",
       "version_major": 2,
       "version_minor": 0
      },
      "text/plain": [
       "  0%|          | 0/1090 [00:00<?, ?it/s]"
      ]
     },
     "metadata": {},
     "output_type": "display_data"
    },
    {
     "name": "stdout",
     "output_type": "stream",
     "text": [
      "Elapsed time: MVI_40855 : 218.62636268685716 millisecond per image\n",
      "FPS: MVI_40855 :  4.574013800121258\n"
     ]
    },
    {
     "data": {
      "application/vnd.jupyter.widget-view+json": {
       "model_id": "1edf0721d6b04a7caa53dd6bb6a4e914",
       "version_major": 2,
       "version_minor": 0
      },
      "text/plain": [
       "  0%|          | 0/1670 [00:00<?, ?it/s]"
      ]
     },
     "metadata": {},
     "output_type": "display_data"
    },
    {
     "name": "stdout",
     "output_type": "stream",
     "text": [
      "Elapsed time: MVI_40863 : 223.44827437829116 millisecond per image\n",
      "FPS: MVI_40863 :  4.475308671692986\n"
     ]
    },
    {
     "data": {
      "application/vnd.jupyter.widget-view+json": {
       "model_id": "5321a7ebc4cf413d94de2a5fe99060c8",
       "version_major": 2,
       "version_minor": 0
      },
      "text/plain": [
       "  0%|          | 0/1515 [00:00<?, ?it/s]"
      ]
     },
     "metadata": {},
     "output_type": "display_data"
    },
    {
     "name": "stdout",
     "output_type": "stream",
     "text": [
      "Elapsed time: MVI_40864 : 220.91513592811307 millisecond per image\n",
      "FPS: MVI_40864 :  4.526625103340159\n"
     ]
    },
    {
     "data": {
      "application/vnd.jupyter.widget-view+json": {
       "model_id": "e3ed338829c94d18a23b0af7c4d94177",
       "version_major": 2,
       "version_minor": 0
      },
      "text/plain": [
       "  0%|          | 0/1545 [00:00<?, ?it/s]"
      ]
     },
     "metadata": {},
     "output_type": "display_data"
    },
    {
     "name": "stdout",
     "output_type": "stream",
     "text": [
      "Elapsed time: MVI_40891 : 229.88295184755788 millisecond per image\n",
      "FPS: MVI_40891 :  4.350039844029536\n"
     ]
    },
    {
     "data": {
      "application/vnd.jupyter.widget-view+json": {
       "model_id": "e23c4f20875a48eaafca05abf836fbbd",
       "version_major": 2,
       "version_minor": 0
      },
      "text/plain": [
       "  0%|          | 0/1790 [00:00<?, ?it/s]"
      ]
     },
     "metadata": {},
     "output_type": "display_data"
    },
    {
     "name": "stdout",
     "output_type": "stream",
     "text": [
      "Elapsed time: MVI_40892 : 232.78205501300664 millisecond per image\n",
      "FPS: MVI_40892 :  4.2958637853082156\n"
     ]
    },
    {
     "data": {
      "application/vnd.jupyter.widget-view+json": {
       "model_id": "1c10d54592ce4ae3b5588a470ed6f431",
       "version_major": 2,
       "version_minor": 0
      },
      "text/plain": [
       "  0%|          | 0/1335 [00:00<?, ?it/s]"
      ]
     },
     "metadata": {},
     "output_type": "display_data"
    },
    {
     "name": "stdout",
     "output_type": "stream",
     "text": [
      "Elapsed time: MVI_40901 : 234.8522497027108 millisecond per image\n",
      "FPS: MVI_40901 :  4.257996256224312\n"
     ]
    },
    {
     "data": {
      "application/vnd.jupyter.widget-view+json": {
       "model_id": "e69ad633b9f24affa0f7e4f48ae4161d",
       "version_major": 2,
       "version_minor": 0
      },
      "text/plain": [
       "  0%|          | 0/1005 [00:00<?, ?it/s]"
      ]
     },
     "metadata": {},
     "output_type": "display_data"
    },
    {
     "name": "stdout",
     "output_type": "stream",
     "text": [
      "Elapsed time: MVI_40902 : 228.66466531706092 millisecond per image\n",
      "FPS: MVI_40902 :  4.373216118080264\n"
     ]
    },
    {
     "data": {
      "application/vnd.jupyter.widget-view+json": {
       "model_id": "acec493422b34b1888e0fe0060b50a1c",
       "version_major": 2,
       "version_minor": 0
      },
      "text/plain": [
       "  0%|          | 0/1060 [00:00<?, ?it/s]"
      ]
     },
     "metadata": {},
     "output_type": "display_data"
    },
    {
     "name": "stdout",
     "output_type": "stream",
     "text": [
      "Elapsed time: MVI_40903 : 227.50189574259633 millisecond per image\n",
      "FPS: MVI_40903 :  4.395567767626145\n"
     ]
    },
    {
     "data": {
      "application/vnd.jupyter.widget-view+json": {
       "model_id": "e95682ae671e4372875c600e23c1c6a3",
       "version_major": 2,
       "version_minor": 0
      },
      "text/plain": [
       "  0%|          | 0/1270 [00:00<?, ?it/s]"
      ]
     },
     "metadata": {},
     "output_type": "display_data"
    },
    {
     "name": "stdout",
     "output_type": "stream",
     "text": [
      "Elapsed time: MVI_40904 : 231.29608706226497 millisecond per image\n",
      "FPS: MVI_40904 :  4.323462678081535\n"
     ]
    },
    {
     "data": {
      "application/vnd.jupyter.widget-view+json": {
       "model_id": "08ac37eca9714e7cb879d8b25929daf8",
       "version_major": 2,
       "version_minor": 0
      },
      "text/plain": [
       "  0%|          | 0/1710 [00:00<?, ?it/s]"
      ]
     },
     "metadata": {},
     "output_type": "display_data"
    },
    {
     "name": "stdout",
     "output_type": "stream",
     "text": [
      "Elapsed time: MVI_40905 : 233.40848523970934 millisecond per image\n",
      "FPS: MVI_40905 :  4.284334389013343\n"
     ]
    }
   ],
   "source": [
    "model_name, model_path = models[0]\n",
    "path_write = to_path[0]+ model_name+ to_path[1]\n",
    "if not os.path.exists(path_write):\n",
    "    os.makedirs(path_write)\n",
    "sess = rt.InferenceSession(os.path.join(model_path, \"model.onnx\"), providers=['CUDAExecutionProvider'])\n",
    "outputs = [\"num_detections\", \"detection_boxes\", \"detection_scores\", \"detection_classes\"]\n",
    "\n",
    "for directory in notebook.tqdm(sorted(os.listdir(DETRAC_TEST))):\n",
    "    elapsed = []\n",
    "    if os.path.isdir(os.path.join(DETRAC_TEST, directory)):\n",
    "        importlib.reload(research.object_detection.tracking.deep_sort.deep_sort.tracker)\n",
    "        deep_tracker = Tracker(nn_matching.NearestNeighborDistanceMetric(\"cosine\", 0.3, None))\n",
    "        prediticon_file = open(os.path.join(path_write, directory + \".txt\"), \"w\")\n",
    "        prediticon_np = open(os.path.join(path_write, directory + \".npy\"), \"wb\")\n",
    "        for image in notebook.tqdm(sorted(os.listdir(os.path.join(DETRAC_TEST, directory)))):\n",
    "            image_path = os.path.join(DETRAC_TEST, directory, image)\n",
    "            frame_no = int(image.replace('img', '').replace('.jpg', ''))\n",
    "            img = Image.open(image_path)\n",
    "            image_np = np.asarray(img).reshape(img.size[1], img.size[0], 3).astype(np.uint8)\n",
    "            height, width, _ = image_np.shape\n",
    "            input_tensor = np.expand_dims(image_np, axis=0)\n",
    "            start_time = time.time()\n",
    "            result = sess.run(outputs, {\"input_tensor\": input_tensor})\n",
    "            end_time = time.time()\n",
    "            elapsed.append(end_time - start_time)\n",
    "            num_detections, boxes, scores, classes = result[0][0], result[1][0], result[2][0], result[3][0]\n",
    "            det = []\n",
    "            for f in range(boxes.shape[0]):\n",
    "                box = boxes[f]\n",
    "                if scores[f] > th:\n",
    "                    box_top = int(box[0] * height)\n",
    "                    box_left = int(box[1] * width)\n",
    "                    box_bottom = int(box[2] * height)\n",
    "                    box_right = int(box[3] * width)\n",
    "                    det.append([box_left, box_top, (box_right-box_left), (box_bottom-box_top), scores[f], classes[f]])\n",
    "            if det:\n",
    "                 features = encoder(image_np, np.array(det)[:, 0:4])\n",
    "            else:\n",
    "                features = encoder(image_np, np.array(det))\n",
    "            detections = [Detection((bbox[0], bbox[1], bbox[2], bbox[3]), bbox[4], feature)\n",
    "                                    for bbox, feature in zip(det, features)]\n",
    "            np.save(prediticon_np, detections)\n",
    "            deep_tracker.predict()\n",
    "            deep_tracker.update(detections)\n",
    "            track_bbs_ids = []\n",
    "            for track in deep_tracker.tracks:\n",
    "                if not track.is_confirmed() or track.time_since_update > 1:\n",
    "                    continue\n",
    "                track_bbs_ids.append([*track.to_tlbr(), track.track_id])\n",
    "            for track_pred in track_bbs_ids:\n",
    "                bb_w = track_pred[2] - track_pred[0]\n",
    "                bb_h = track_pred[3] - track_pred[1]\n",
    "                prediticon_file.write(f'{frame_no}, {int(track_pred[4])}, {track_pred[0]:.2f}, {track_pred[1]:.2f}, {bb_w:.2f}, {bb_h:.2f}, 1, -1, -1, -1 \\n')\n",
    "        prediticon_file.close()\n",
    "        prediticon_np.close()\n",
    "        mean_elapsed = sum(elapsed) / float(len(elapsed))\n",
    "        print('Elapsed time: ' +directory+\" : \"+ str(mean_elapsed*1000) + ' millisecond per image')\n",
    "        print(\"FPS: \" +directory+\" : \", 1.0 / mean_elapsed)              "
   ]
  },
  {
   "cell_type": "markdown",
   "id": "c842a73b",
   "metadata": {},
   "source": [
    "## PAE"
   ]
  },
  {
   "cell_type": "code",
   "execution_count": 4,
   "id": "e436ff53",
   "metadata": {},
   "outputs": [
    {
     "data": {
      "application/vnd.jupyter.widget-view+json": {
       "model_id": "908afb511802427883b38b4808336de4",
       "version_major": 2,
       "version_minor": 0
      },
      "text/plain": [
       "  0%|          | 0/40 [00:00<?, ?it/s]"
      ]
     },
     "metadata": {},
     "output_type": "display_data"
    },
    {
     "data": {
      "application/vnd.jupyter.widget-view+json": {
       "model_id": "d1d152211a244a59ba97d84d57173e33",
       "version_major": 2,
       "version_minor": 0
      },
      "text/plain": [
       "  0%|          | 0/1470 [00:00<?, ?it/s]"
      ]
     },
     "metadata": {},
     "output_type": "display_data"
    },
    {
     "name": "stdout",
     "output_type": "stream",
     "text": [
      "Elapsed time: MVI_39031 : 253.7713817998666 millisecond per image\n",
      "FPS: MVI_39031 :  3.940554655562528\n"
     ]
    }
   ],
   "source": [
    "#models = [(\"ssd_final_embeddings\",\"/home/ubuntu/ibrahim/master/training/ssd_mobilenet/final_embeddings/saved_model/\")]\n",
    "#models = [(\"ssd_base_embeddings\",\"/home/ubuntu/ibrahim/master/training/ssd_mobilenet/base_embeddings/saved_model/\")]\n",
    "models = [(\"retina_final_embeddings\",\"/home/ubuntu/ibrahim/master/training/ssd_resnet/final_embeddings/saved_model/\")]\n",
    "#models = [(\"ssd_final_embeddings_skip_training\",\"/home/ubuntu/ibrahim/master/training/ssd_mobilenet/final_embeddings_skip/saved_model/\")]\n",
    "to_path=[\"/home/ubuntu/ibrahim/master/results/\",\"/MOT17-train/data/data/\"]\n",
    "model_name, model_path = models[0]\n",
    "path_write = to_path[0]+ model_name+ to_path[1]\n",
    "if not os.path.exists(path_write):\n",
    "    os.makedirs(path_write)\n",
    "sess = rt.InferenceSession(os.path.join(model_path, \"model.onnx\"), providers=['CUDAExecutionProvider'])\n",
    "outputs = [\"num_detections\", \"detection_boxes\", \"detection_scores\", \"detection_classes\", \"nms_embedding\"]\n",
    "\n",
    "for directory in notebook.tqdm(sorted(os.listdir(DETRAC_TEST))):\n",
    "    elapsed = []\n",
    "    if os.path.isdir(os.path.join(DETRAC_TEST, directory)):\n",
    "        importlib.reload(research.object_detection.tracking.deep_sort.deep_sort.tracker)\n",
    "        deep_tracker = Tracker(nn_matching.NearestNeighborDistanceMetric(\"cosine\", 0.3, None))\n",
    "        prediticon_file = open(os.path.join(path_write, directory + \".txt\"), \"w\")\n",
    "        prediticon_np = open(os.path.join(path_write, directory + \".npy\"), \"wb\")\n",
    "        for image in notebook.tqdm(sorted(os.listdir(os.path.join(DETRAC_TEST, directory)))):\n",
    "            image_path = os.path.join(DETRAC_TEST, directory, image)\n",
    "            frame_no = int(image.replace('img', '').replace('.jpg', ''))\n",
    "            img = Image.open(image_path)\n",
    "            image_np = np.asarray(img).reshape(img.size[1], img.size[0], 3).astype(np.uint8)\n",
    "            height, width, _ = image_np.shape\n",
    "            input_tensor = np.expand_dims(image_np, axis=0)\n",
    "            start_time = time.time()\n",
    "            result = sess.run(outputs, {\"input_tensor\": input_tensor})\n",
    "            end_time = time.time()\n",
    "            elapsed.append(end_time - start_time)\n",
    "            num_detections, boxes, scores, classes, emb = result[0][0], result[1][0], result[2][0], result[3][0], result[4][0]\n",
    "            det = []\n",
    "            features = []\n",
    "            for f in range(boxes.shape[0]):\n",
    "                box = boxes[f]\n",
    "                if scores[f] > th:\n",
    "                    box_top = int(box[0] * height)\n",
    "                    box_left = int(box[1] * width)\n",
    "                    box_bottom = int(box[2] * height)\n",
    "                    box_right = int(box[3] * width)\n",
    "                    det.append([box_left, box_top, (box_right-box_left), (box_bottom-box_top), scores[f], classes[f]])\n",
    "                    features.append(emb[f])\n",
    "           \n",
    "            detections = [Detection((bbox[0], bbox[1], bbox[2], bbox[3]), bbox[4], feature)\n",
    "                                    for bbox, feature in zip(det, features)]\n",
    "            np.save(prediticon_np, detections)\n",
    "            deep_tracker.predict()\n",
    "            deep_tracker.update(detections)\n",
    "            track_bbs_ids = []\n",
    "            for track in deep_tracker.tracks:\n",
    "                if not track.is_confirmed() or track.time_since_update > 1:\n",
    "                    continue\n",
    "                track_bbs_ids.append([*track.to_tlbr(), track.track_id])\n",
    "            for track_pred in track_bbs_ids:\n",
    "                bb_w = track_pred[2] - track_pred[0]\n",
    "                bb_h = track_pred[3] - track_pred[1]\n",
    "                prediticon_file.write(f'{frame_no}, {int(track_pred[4])}, {track_pred[0]:.2f}, {track_pred[1]:.2f}, {bb_w:.2f}, {bb_h:.2f}, 1, -1, -1, -1 \\n')\n",
    "        prediticon_file.close()\n",
    "        prediticon_np.close()\n",
    "        mean_elapsed = sum(elapsed) / float(len(elapsed))\n",
    "        print('Elapsed time: ' +directory+\" : \"+ str(mean_elapsed*1000) + ' millisecond per image')\n",
    "        print(\"FPS: \" +directory+\" : \", 1.0 / mean_elapsed)"
   ]
  },
  {
   "cell_type": "code",
   "execution_count": 3,
   "id": "04792776",
   "metadata": {},
   "outputs": [
    {
     "name": "stdout",
     "output_type": "stream",
     "text": [
      "GPU\n"
     ]
    },
    {
     "data": {
      "text/plain": [
       "['TensorrtExecutionProvider', 'CUDAExecutionProvider', 'CPUExecutionProvider']"
      ]
     },
     "execution_count": 3,
     "metadata": {},
     "output_type": "execute_result"
    }
   ],
   "source": [
    "import onnxruntime as rt\n",
    "print( rt.get_device()  )\n",
    "rt.get_available_providers()\n"
   ]
  },
  {
   "cell_type": "code",
   "execution_count": 6,
   "id": "0d9dc770",
   "metadata": {},
   "outputs": [
    {
     "name": "stdout",
     "output_type": "stream",
     "text": [
      "Collecting onnxruntime-gpu\n",
      "  Using cached onnxruntime_gpu-1.10.0-cp37-cp37m-manylinux_2_17_x86_64.manylinux2014_x86_64.whl (104.8 MB)\n",
      "Requirement already satisfied: protobuf in /home/ubuntu/ibrahim/master/models/env/lib/python3.7/site-packages (from onnxruntime-gpu) (3.19.1)\n",
      "Requirement already satisfied: flatbuffers in /home/ubuntu/ibrahim/master/models/env/lib/python3.7/site-packages (from onnxruntime-gpu) (1.12)\n",
      "Requirement already satisfied: numpy>=1.16.6 in /home/ubuntu/ibrahim/master/models/env/lib/python3.7/site-packages (from onnxruntime-gpu) (1.21.5)\n",
      "Installing collected packages: onnxruntime-gpu\n",
      "Successfully installed onnxruntime-gpu-1.10.0\n",
      "\u001b[33mWARNING: You are using pip version 21.3.1; however, version 22.0.3 is available.\n",
      "You should consider upgrading via the '/home/ubuntu/ibrahim/master/models/env/bin/python3.7 -m pip install --upgrade pip' command.\u001b[0m\n"
     ]
    }
   ],
   "source": [
    "!pip install onnxruntime-gpu"
   ]
  },
  {
   "cell_type": "markdown",
   "id": "b21bc0be",
   "metadata": {},
   "source": [
    "## HyperPram"
   ]
  },
  {
   "cell_type": "code",
   "execution_count": 13,
   "id": "06f1028a",
   "metadata": {},
   "outputs": [
    {
     "data": {
      "application/vnd.jupyter.widget-view+json": {
       "model_id": "e248d260338842c4841f69b47493b36e",
       "version_major": 2,
       "version_minor": 0
      },
      "text/plain": [
       "  0%|          | 0/80 [00:00<?, ?it/s]"
      ]
     },
     "metadata": {},
     "output_type": "display_data"
    }
   ],
   "source": [
    "model_name=\"retina_final_embeddings_optuna\"\n",
    "to_path=[\"/home/ubuntu/ibrahim/master/results/\",\"/MOT17-train/data/data/\"]\n",
    "npy_path = to_path[0]+ \"retina_final_embeddings\"+ to_path[1]\n",
    "path_write = to_path[0]+ model_name+ to_path[1]\n",
    "if not os.path.exists(path_write):\n",
    "    os.makedirs(path_write)\n",
    "for directory in notebook.tqdm(sorted(os.listdir(npy_path))):\n",
    "    if directory.endswith(\".npy\"):\n",
    "        importlib.reload(research.object_detection.tracking.deep_sort.deep_sort.tracker)\n",
    "        matching = nn_matching.NearestNeighborDistanceMetric(\"cosine\", 0.77, 4)\n",
    "        deep_tracker = Tracker(matching, 0.74, 26, 5, 11, 241)\n",
    "        prediticon_file = open(os.path.join(path_write, directory[:-3] + \"txt\"), \"w\")\n",
    "        with open(npy_path+directory,  \"rb\") as prediticon_np:\n",
    "            i=1\n",
    "            while True:\n",
    "                try:\n",
    "                    detections = np.load(prediticon_np, allow_pickle=True)\n",
    "                except:\n",
    "                    break\n",
    "                deep_tracker.predict()\n",
    "                deep_tracker.update(detections)\n",
    "                track_bbs_ids = []\n",
    "                for track in deep_tracker.tracks:\n",
    "                    if not track.is_confirmed() or track.time_since_update > 1:\n",
    "                        continue\n",
    "                    track_bbs_ids.append([*track.to_tlbr(), track.track_id])\n",
    "                for track_pred in track_bbs_ids:\n",
    "                    bb_w = track_pred[2] - track_pred[0]\n",
    "                    bb_h = track_pred[3] - track_pred[1]\n",
    "                    prediticon_file.write(f'{i}, {int(track_pred[4])}, {track_pred[0]:.2f}, {track_pred[1]:.2f}, {bb_w:.2f}, {bb_h:.2f}, 1, -1, -1, -1 \\n')\n",
    "                i+=1\n",
    "        prediticon_file.close()"
   ]
  },
  {
   "cell_type": "code",
   "execution_count": null,
   "id": "afdb938b",
   "metadata": {},
   "outputs": [],
   "source": []
  }
 ],
 "metadata": {
  "kernelspec": {
   "display_name": "env",
   "language": "python",
   "name": "env"
  },
  "language_info": {
   "codemirror_mode": {
    "name": "ipython",
    "version": 3
   },
   "file_extension": ".py",
   "mimetype": "text/x-python",
   "name": "python",
   "nbconvert_exporter": "python",
   "pygments_lexer": "ipython3",
   "version": "3.7.10"
  }
 },
 "nbformat": 4,
 "nbformat_minor": 5
}
